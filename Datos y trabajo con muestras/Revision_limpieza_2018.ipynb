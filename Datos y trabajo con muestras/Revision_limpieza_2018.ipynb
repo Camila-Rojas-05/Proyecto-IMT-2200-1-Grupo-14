{
 "cells": [
  {
   "cell_type": "markdown",
   "id": "431979e9-220d-4a69-9a3a-f1e3ba884633",
   "metadata": {},
   "source": [
    "# Revisión de datos de los archivos csv de Open Contracting Partnership. Data Set del 2018."
   ]
  },
  {
   "cell_type": "markdown",
   "id": "2a9e2f7f-d9e7-49d1-a599-bd9d10167221",
   "metadata": {},
   "source": [
    "Usando el buscador de OpenContracting se buscaron datos sobre Chile (buscador: https://data.open-contracting.org/es/search/). Se decidió descargarlos archivos de los años 2018 y 2021, para tener una muestra de datos que contenga información sobre licitaciones en un rango de tiempo cercano a estas fechas."
   ]
  },
  {
   "cell_type": "code",
   "execution_count": 1,
   "id": "ce4d796d",
   "metadata": {},
   "outputs": [],
   "source": [
    "import pandas as pd\n",
    "import numpy as np\n",
    "import datetime"
   ]
  },
  {
   "cell_type": "code",
   "execution_count": 2,
   "id": "611fd2cb-ec81-41c0-9e36-df07f432203b",
   "metadata": {},
   "outputs": [
    {
     "name": "stdout",
     "output_type": "stream",
     "text": [
      "c:\\Users\\camil\\OneDrive\\Documentos\\GitHub\\Proyecto-IMT-2200-1-Grupo-14\\Datos y trabajo con muestras\\Chile\n",
      "c:\\Users\\camil\\OneDrive\\Documentos\\GitHub\\Proyecto-IMT-2200-1-Grupo-14\\Datos y trabajo con muestras\\Chile\\2018\n",
      " El volumen de la unidad C es OS\n",
      " El n�mero de serie del volumen es: 240D-CD63\n",
      "\n",
      " Directorio de c:\\Users\\camil\\OneDrive\\Documentos\\GitHub\\Proyecto-IMT-2200-1-Grupo-14\\Datos y trabajo con muestras\\Chile\\2018\n",
      "\n",
      "18-11-2024  15:43    <DIR>          .\n",
      "18-11-2024  15:05    <DIR>          ..\n",
      "18-11-2024  15:43        64.571.337 awards.csv\n",
      "18-11-2024  15:29       137.878.898 awards_documents.csv\n",
      "18-11-2024  15:29       172.974.592 awards_items.csv\n",
      "18-11-2024  15:26        30.901.082 awards_suppliers.csv\n",
      "18-11-2024  15:29       165.819.300 main.csv\n",
      "18-11-2024  15:31       370.417.597 parties.csv\n",
      "18-11-2024  15:30       243.504.970 parties_additionalIdentifiers.csv\n",
      "18-11-2024  15:30       287.507.728 tender_items.csv\n",
      "18-11-2024  15:27       103.927.462 tender_tenderers.csv\n",
      "               9 archivos  1.577.502.966 bytes\n",
      "               2 dirs  257.856.249.856 bytes libres\n",
      "c:\\Users\\camil\\OneDrive\\Documentos\\GitHub\\Proyecto-IMT-2200-1-Grupo-14\\Datos y trabajo con muestras\\Chile\n",
      "c:\\Users\\camil\\OneDrive\\Documentos\\GitHub\\Proyecto-IMT-2200-1-Grupo-14\\Datos y trabajo con muestras\n"
     ]
    }
   ],
   "source": [
    "%cd Chile\n",
    "%cd 2018\n",
    "%ls\n",
    "%cd ..\n",
    "%cd .."
   ]
  },
  {
   "cell_type": "markdown",
   "id": "9830d178",
   "metadata": {},
   "source": [
    "## Revision de main.csv"
   ]
  },
  {
   "cell_type": "code",
   "execution_count": 3,
   "id": "628dde2b-0089-492a-9c8f-11d720dc769e",
   "metadata": {},
   "outputs": [],
   "source": [
    "from os import path\n",
    "import pandas as pd\n",
    "\n",
    "camino = path.join(\"Chile\",\"2018\",\"main.csv\")\n",
    "df_main = pd.read_csv(camino, delimiter=\",\")"
   ]
  },
  {
   "cell_type": "code",
   "execution_count": 4,
   "id": "f6ef6b40",
   "metadata": {},
   "outputs": [
    {
     "data": {
      "text/html": [
       "<div>\n",
       "<style scoped>\n",
       "    .dataframe tbody tr th:only-of-type {\n",
       "        vertical-align: middle;\n",
       "    }\n",
       "\n",
       "    .dataframe tbody tr th {\n",
       "        vertical-align: top;\n",
       "    }\n",
       "\n",
       "    .dataframe thead th {\n",
       "        text-align: right;\n",
       "    }\n",
       "</style>\n",
       "<table border=\"1\" class=\"dataframe\">\n",
       "  <thead>\n",
       "    <tr style=\"text-align: right;\">\n",
       "      <th></th>\n",
       "      <th>_link</th>\n",
       "      <th>id</th>\n",
       "      <th>tag</th>\n",
       "      <th>date</th>\n",
       "      <th>ocid</th>\n",
       "      <th>language</th>\n",
       "      <th>initiationType</th>\n",
       "      <th>buyer_id</th>\n",
       "      <th>buyer_name</th>\n",
       "      <th>tender_id</th>\n",
       "      <th>...</th>\n",
       "      <th>tender_tenderPeriod_startDate</th>\n",
       "      <th>tender_tenderPeriod_durationInDays</th>\n",
       "      <th>tender_enquiryPeriod_endDate</th>\n",
       "      <th>tender_enquiryPeriod_startDate</th>\n",
       "      <th>tender_enquiryPeriod_durationInDays</th>\n",
       "      <th>tender_procuringEntity_id</th>\n",
       "      <th>tender_procuringEntity_name</th>\n",
       "      <th>tender_value_amount</th>\n",
       "      <th>tender_value_currency</th>\n",
       "      <th>tender_value_unitOfAccount</th>\n",
       "    </tr>\n",
       "  </thead>\n",
       "  <tbody>\n",
       "    <tr>\n",
       "      <th>0</th>\n",
       "      <td>id-0.0</td>\n",
       "      <td>ocds-70d2nz-4548-142-L117-2018-12-31T11:27:18Z</td>\n",
       "      <td>compiled</td>\n",
       "      <td>2018-12-31T11:27:18Z</td>\n",
       "      <td>ocds-70d2nz-4548-142-L117</td>\n",
       "      <td>es</td>\n",
       "      <td>tender</td>\n",
       "      <td>CL-MP-5464</td>\n",
       "      <td>Ilustre Municipalidad de Quintero | UNIDAD NORMAL</td>\n",
       "      <td>4548-142-L117</td>\n",
       "      <td>...</td>\n",
       "      <td>2017-12-07T16:17:35Z</td>\n",
       "      <td>6.0</td>\n",
       "      <td>2017-12-10T20:04:00Z</td>\n",
       "      <td>2017-12-07T20:04:00Z</td>\n",
       "      <td>3.0</td>\n",
       "      <td>CL-MP-5464</td>\n",
       "      <td>Ilustre Municipalidad de Quintero | UNIDAD NORMAL</td>\n",
       "      <td>NaN</td>\n",
       "      <td>NaN</td>\n",
       "      <td>NaN</td>\n",
       "    </tr>\n",
       "    <tr>\n",
       "      <th>1</th>\n",
       "      <td>id-0.1</td>\n",
       "      <td>ocds-70d2nz-2409-1129-L117-2018-12-31T11:28:26Z</td>\n",
       "      <td>compiled</td>\n",
       "      <td>2018-12-31T11:28:26Z</td>\n",
       "      <td>ocds-70d2nz-2409-1129-L117</td>\n",
       "      <td>es</td>\n",
       "      <td>tender</td>\n",
       "      <td>CL-MP-3401</td>\n",
       "      <td>Municipalidad de Los Angeles | MUNICIPALIDAD D...</td>\n",
       "      <td>2409-1129-L117</td>\n",
       "      <td>...</td>\n",
       "      <td>2017-12-18T17:58:24Z</td>\n",
       "      <td>8.0</td>\n",
       "      <td>2017-12-20T14:30:00Z</td>\n",
       "      <td>2017-12-18T19:01:00Z</td>\n",
       "      <td>2.0</td>\n",
       "      <td>CL-MP-3401</td>\n",
       "      <td>Municipalidad de Los Angeles | MUNICIPALIDAD D...</td>\n",
       "      <td>300000.0</td>\n",
       "      <td>CLP</td>\n",
       "      <td>NaN</td>\n",
       "    </tr>\n",
       "    <tr>\n",
       "      <th>2</th>\n",
       "      <td>id-0.2</td>\n",
       "      <td>ocds-70d2nz-2961-811-L117-2018-12-31T11:29:05Z</td>\n",
       "      <td>compiled</td>\n",
       "      <td>2018-12-31T11:29:05Z</td>\n",
       "      <td>ocds-70d2nz-2961-811-L117</td>\n",
       "      <td>es</td>\n",
       "      <td>tender</td>\n",
       "      <td>CL-MP-3939</td>\n",
       "      <td>ILUSTRE MUNICIPALIDAD DE LA GRANJA | Adquisici...</td>\n",
       "      <td>2961-811-L117</td>\n",
       "      <td>...</td>\n",
       "      <td>2017-12-19T13:02:43Z</td>\n",
       "      <td>14.0</td>\n",
       "      <td>2017-12-28T17:00:00Z</td>\n",
       "      <td>2017-12-20T09:00:00Z</td>\n",
       "      <td>8.0</td>\n",
       "      <td>CL-MP-3939</td>\n",
       "      <td>ILUSTRE MUNICIPALIDAD DE LA GRANJA | Adquisici...</td>\n",
       "      <td>1452000.0</td>\n",
       "      <td>CLP</td>\n",
       "      <td>NaN</td>\n",
       "    </tr>\n",
       "    <tr>\n",
       "      <th>3</th>\n",
       "      <td>id-0.3</td>\n",
       "      <td>ocds-70d2nz-4858-195-L117-2018-12-31T11:21:15Z</td>\n",
       "      <td>compiled</td>\n",
       "      <td>2018-12-31T11:21:15Z</td>\n",
       "      <td>ocds-70d2nz-4858-195-L117</td>\n",
       "      <td>es</td>\n",
       "      <td>tender</td>\n",
       "      <td>CL-MP-5772</td>\n",
       "      <td>Municipalidad de Tirúa | Ilustre Municipalidad...</td>\n",
       "      <td>4858-195-L117</td>\n",
       "      <td>...</td>\n",
       "      <td>2017-12-15T12:23:25Z</td>\n",
       "      <td>6.0</td>\n",
       "      <td>2017-12-18T15:01:00Z</td>\n",
       "      <td>2017-12-15T15:52:00Z</td>\n",
       "      <td>3.0</td>\n",
       "      <td>CL-MP-5772</td>\n",
       "      <td>Municipalidad de Tirúa | Ilustre Municipalidad...</td>\n",
       "      <td>900000.0</td>\n",
       "      <td>CLP</td>\n",
       "      <td>NaN</td>\n",
       "    </tr>\n",
       "    <tr>\n",
       "      <th>4</th>\n",
       "      <td>id-0.4</td>\n",
       "      <td>ocds-70d2nz-2409-975-LE17-2018-12-31T11:20:54Z</td>\n",
       "      <td>compiled</td>\n",
       "      <td>2018-12-31T11:20:54Z</td>\n",
       "      <td>ocds-70d2nz-2409-975-LE17</td>\n",
       "      <td>es</td>\n",
       "      <td>tender</td>\n",
       "      <td>CL-MP-3401</td>\n",
       "      <td>Municipalidad de Los Angeles | MUNICIPALIDAD D...</td>\n",
       "      <td>2409-975-LE17</td>\n",
       "      <td>...</td>\n",
       "      <td>2017-12-05T17:11:36Z</td>\n",
       "      <td>6.0</td>\n",
       "      <td>2017-12-06T17:30:00Z</td>\n",
       "      <td>2017-12-05T17:15:00Z</td>\n",
       "      <td>1.0</td>\n",
       "      <td>CL-MP-3401</td>\n",
       "      <td>Municipalidad de Los Angeles | MUNICIPALIDAD D...</td>\n",
       "      <td>6000000.0</td>\n",
       "      <td>CLP</td>\n",
       "      <td>NaN</td>\n",
       "    </tr>\n",
       "  </tbody>\n",
       "</table>\n",
       "<p>5 rows × 30 columns</p>\n",
       "</div>"
      ],
      "text/plain": [
       "    _link                                               id       tag  \\\n",
       "0  id-0.0   ocds-70d2nz-4548-142-L117-2018-12-31T11:27:18Z  compiled   \n",
       "1  id-0.1  ocds-70d2nz-2409-1129-L117-2018-12-31T11:28:26Z  compiled   \n",
       "2  id-0.2   ocds-70d2nz-2961-811-L117-2018-12-31T11:29:05Z  compiled   \n",
       "3  id-0.3   ocds-70d2nz-4858-195-L117-2018-12-31T11:21:15Z  compiled   \n",
       "4  id-0.4   ocds-70d2nz-2409-975-LE17-2018-12-31T11:20:54Z  compiled   \n",
       "\n",
       "                   date                        ocid language initiationType  \\\n",
       "0  2018-12-31T11:27:18Z   ocds-70d2nz-4548-142-L117       es         tender   \n",
       "1  2018-12-31T11:28:26Z  ocds-70d2nz-2409-1129-L117       es         tender   \n",
       "2  2018-12-31T11:29:05Z   ocds-70d2nz-2961-811-L117       es         tender   \n",
       "3  2018-12-31T11:21:15Z   ocds-70d2nz-4858-195-L117       es         tender   \n",
       "4  2018-12-31T11:20:54Z   ocds-70d2nz-2409-975-LE17       es         tender   \n",
       "\n",
       "     buyer_id                                         buyer_name  \\\n",
       "0  CL-MP-5464  Ilustre Municipalidad de Quintero | UNIDAD NORMAL   \n",
       "1  CL-MP-3401  Municipalidad de Los Angeles | MUNICIPALIDAD D...   \n",
       "2  CL-MP-3939  ILUSTRE MUNICIPALIDAD DE LA GRANJA | Adquisici...   \n",
       "3  CL-MP-5772  Municipalidad de Tirúa | Ilustre Municipalidad...   \n",
       "4  CL-MP-3401  Municipalidad de Los Angeles | MUNICIPALIDAD D...   \n",
       "\n",
       "        tender_id  ... tender_tenderPeriod_startDate  \\\n",
       "0   4548-142-L117  ...          2017-12-07T16:17:35Z   \n",
       "1  2409-1129-L117  ...          2017-12-18T17:58:24Z   \n",
       "2   2961-811-L117  ...          2017-12-19T13:02:43Z   \n",
       "3   4858-195-L117  ...          2017-12-15T12:23:25Z   \n",
       "4   2409-975-LE17  ...          2017-12-05T17:11:36Z   \n",
       "\n",
       "  tender_tenderPeriod_durationInDays tender_enquiryPeriod_endDate  \\\n",
       "0                                6.0         2017-12-10T20:04:00Z   \n",
       "1                                8.0         2017-12-20T14:30:00Z   \n",
       "2                               14.0         2017-12-28T17:00:00Z   \n",
       "3                                6.0         2017-12-18T15:01:00Z   \n",
       "4                                6.0         2017-12-06T17:30:00Z   \n",
       "\n",
       "  tender_enquiryPeriod_startDate  tender_enquiryPeriod_durationInDays  \\\n",
       "0           2017-12-07T20:04:00Z                                  3.0   \n",
       "1           2017-12-18T19:01:00Z                                  2.0   \n",
       "2           2017-12-20T09:00:00Z                                  8.0   \n",
       "3           2017-12-15T15:52:00Z                                  3.0   \n",
       "4           2017-12-05T17:15:00Z                                  1.0   \n",
       "\n",
       "  tender_procuringEntity_id  \\\n",
       "0                CL-MP-5464   \n",
       "1                CL-MP-3401   \n",
       "2                CL-MP-3939   \n",
       "3                CL-MP-5772   \n",
       "4                CL-MP-3401   \n",
       "\n",
       "                         tender_procuringEntity_name tender_value_amount  \\\n",
       "0  Ilustre Municipalidad de Quintero | UNIDAD NORMAL                 NaN   \n",
       "1  Municipalidad de Los Angeles | MUNICIPALIDAD D...            300000.0   \n",
       "2  ILUSTRE MUNICIPALIDAD DE LA GRANJA | Adquisici...           1452000.0   \n",
       "3  Municipalidad de Tirúa | Ilustre Municipalidad...            900000.0   \n",
       "4  Municipalidad de Los Angeles | MUNICIPALIDAD D...           6000000.0   \n",
       "\n",
       "   tender_value_currency tender_value_unitOfAccount  \n",
       "0                    NaN                        NaN  \n",
       "1                    CLP                        NaN  \n",
       "2                    CLP                        NaN  \n",
       "3                    CLP                        NaN  \n",
       "4                    CLP                        NaN  \n",
       "\n",
       "[5 rows x 30 columns]"
      ]
     },
     "execution_count": 4,
     "metadata": {},
     "output_type": "execute_result"
    }
   ],
   "source": [
    "df_main.head()"
   ]
  },
  {
   "cell_type": "code",
   "execution_count": 5,
   "id": "372f365c",
   "metadata": {},
   "outputs": [
    {
     "data": {
      "text/plain": [
       "Index(['_link', 'id', 'tag', 'date', 'ocid', 'language', 'initiationType',\n",
       "       'buyer_id', 'buyer_name', 'tender_id',\n",
       "       'tender_procurementMethodDetails', 'tender_title', 'tender_status',\n",
       "       'tender_procurementMethod', 'tender_hasEnquiries', 'tender_description',\n",
       "       'tender_awardPeriod_endDate', 'tender_awardPeriod_startDate',\n",
       "       'tender_awardPeriod_durationInDays', 'tender_tenderPeriod_endDate',\n",
       "       'tender_tenderPeriod_startDate', 'tender_tenderPeriod_durationInDays',\n",
       "       'tender_enquiryPeriod_endDate', 'tender_enquiryPeriod_startDate',\n",
       "       'tender_enquiryPeriod_durationInDays', 'tender_procuringEntity_id',\n",
       "       'tender_procuringEntity_name', 'tender_value_amount',\n",
       "       'tender_value_currency', 'tender_value_unitOfAccount'],\n",
       "      dtype='object')"
      ]
     },
     "execution_count": 5,
     "metadata": {},
     "output_type": "execute_result"
    }
   ],
   "source": [
    "df_main.columns"
   ]
  },
  {
   "cell_type": "code",
   "execution_count": 6,
   "id": "31f7ca01",
   "metadata": {},
   "outputs": [
    {
     "data": {
      "text/plain": [
       "0              Licitación Pública Menor a 100 UTM (L1)\n",
       "1              Licitación Pública Menor a 100 UTM (L1)\n",
       "2              Licitación Pública Menor a 100 UTM (L1)\n",
       "3              Licitación Pública Menor a 100 UTM (L1)\n",
       "4         Licitación Pública Entre 100 y 1000 UTM (LE)\n",
       "                              ...                     \n",
       "244869         Licitación Pública Menor a 100 UTM (L1)\n",
       "244870         Licitación Pública Menor a 100 UTM (L1)\n",
       "244871         Licitación Pública Menor a 100 UTM (L1)\n",
       "244872    Licitación Pública Entre 100 y 1000 UTM (LE)\n",
       "244873         Licitación Pública Menor a 100 UTM (L1)\n",
       "Name: tender_procurementMethodDetails, Length: 244874, dtype: object"
      ]
     },
     "execution_count": 6,
     "metadata": {},
     "output_type": "execute_result"
    }
   ],
   "source": [
    "df_main[\"tender_procurementMethodDetails\"]"
   ]
  },
  {
   "cell_type": "markdown",
   "id": "7accc393",
   "metadata": {},
   "source": [
    "Se utilizan la pagina <<https://api.mercadopublico.cl/modules/Licitacion.aspx>> para crear el diccionario."
   ]
  },
  {
   "cell_type": "code",
   "execution_count": 7,
   "id": "51dbf92f",
   "metadata": {},
   "outputs": [],
   "source": [
    "\n",
    "tipos_licitaciones ={'Licitación Pública Menor a 100 UTM (L1)': \"L1\",\n",
    "       'Licitación Pública Entre 100 y 1000 UTM (LE)': \"LE\",\n",
    "       'Licitación Pública Mayor 1000 UTM (LP)': \"LP\",\n",
    "       'Licitación Pública entre a 2000 y 5000 UTM (LQ)':\"LQ\",\n",
    "       'Licitación Pública Mayor a 5000 (LR)' :\"LR\",\n",
    "       'Licitación Privada entre a 2000 y 5000 UTM (H2)':\"H2\",\n",
    "       'Licitación Pública Servicios personales especializados (LS)':\"LS\",\n",
    "       \"Licitación Privada por Licitación Pública anterior sin oferentes (A1)\" : \"A1\",\n",
    "       \"Licitación Privada por Remanente de Contrato anterior (B1)\": \"B1\",\n",
    "       \"Licitación Privada por Convenios con Personas Jurídicas Extranjeras fuera del Territorio Nacional (E1)\": \"E1\",\n",
    "       \"Licitación Privada por Servicios de Naturaleza Confidencial (F1)\": \"F1\",\n",
    "       \"Licitación Privada por otras causales, excluidas de la ley de Compras (J1)\": \"J1\",\n",
    "       \"Licitación Privada entre 100 y 1000 UTM\" :\"CO\", \"Licitación Privada Mayor a 1000 UTM\": \"B2\",\n",
    "       \"Trato Directo por Producto de Licitación Privada anterior sin oferentes o desierta\": \"A2\",\n",
    "       \"Trato Directo por Proveedor Único (D1)\": \"D1\",\"Licitación Privada Menor a 100 UTM\" : \"E2\", \"Trato Directo (Cotización) (C2)\" : \"C2\",\n",
    "       \"Compra Directa (Orden de compra) (C1)\" : \"C1\", \"Trato Directo (Cotización) (F2)\" :\"F2\", \"Compra Directa (Orden de compra) (F3)\" : \"F3\",\n",
    "       \"Directo (Cotización) (G2)\" : \"G2\", \"Compra Directa (Orden de compra) (G1)\" : \"G1\",\n",
    "       \"Orden de Compra menor a 3 UTM (R1)\" : \"R1\", \"Orden de Compra sin Resolución (CA)\" : \"CA\", \n",
    "       \"Orden de Compra proveniente de adquisición sin emisión automática de OC (SE)\" : \"SE\"}\n",
    "\n",
    "\n",
    "df_main[\"tender_procurementMethodDetails\"] = df_main[\"tender_procurementMethodDetails\"].map(tipos_licitaciones)\n",
    "df_main[\"tender_procurementMethodDetails\"] = df_main[\"tender_procurementMethodDetails\"].astype(\"category\")"
   ]
  },
  {
   "cell_type": "code",
   "execution_count": 8,
   "id": "2327727a",
   "metadata": {},
   "outputs": [
    {
     "data": {
      "text/plain": [
       "array(['DIDECO - NAVIDAD COMUNAL - JUEGOS INFLABLES\\nCORRELATIVO GENERAL N° 1721 \\nSOLICITUD N° 600 \\nDE FECHA 29-11-2017',\n",
       "       'CONFECCIÓN E INSTALACIÓN DE PROTECCIONES METALICAS EN PUERTAS ESCUELA F-881.\\nÍTEM 22.06.001\\n\\n',\n",
       "       'sm80 sp3565 servicios generales', ...,\n",
       "       'Compra de materiales con el cual se hará mantención de alumbrado publico en la comuna.-',\n",
       "       'Adquisición de Materiales de Construcción',\n",
       "       'Asesoría Técnica de la Obra para la supervisión de la Ejecución de las obras del\\nproyecto denominado Construcción Alcantarillado Sector Pachacamita La Calera.'],\n",
       "      dtype=object)"
      ]
     },
     "execution_count": 8,
     "metadata": {},
     "output_type": "execute_result"
    }
   ],
   "source": [
    "df_main[\"tender_description\"].unique()"
   ]
  },
  {
   "cell_type": "code",
   "execution_count": 9,
   "id": "91424abf",
   "metadata": {},
   "outputs": [
    {
     "data": {
      "text/plain": [
       "array(['complete', 'unsuccessful', 'active', 'cancelled', 'planned'],\n",
       "      dtype=object)"
      ]
     },
     "execution_count": 9,
     "metadata": {},
     "output_type": "execute_result"
    }
   ],
   "source": [
    "df_main[\"tender_status\"].unique()"
   ]
  },
  {
   "cell_type": "code",
   "execution_count": 10,
   "id": "e17ad702",
   "metadata": {},
   "outputs": [],
   "source": [
    "df_main[\"tender_status\"] = df_main[\"tender_status\"].astype(\"category\")"
   ]
  },
  {
   "cell_type": "code",
   "execution_count": 11,
   "id": "38febaaa",
   "metadata": {},
   "outputs": [
    {
     "data": {
      "text/plain": [
       "array(['DIDECO - NAVIDAD COMUNAL - JUEGOS INFLABLES',\n",
       "       'CONFECCIÓN E INSTALACIÓN DE PROTECCIONES METÁLICAS EN PUERTAS ESCUELA F-881 ',\n",
       "       'Reparacion de mamparas', ...,\n",
       "       'Adquisición de materiales para Canil',\n",
       "       'MATERIALES PARA MANTENIMIENTO ALUMBRADO PUBLICO.-',\n",
       "       'ASESORÍA TÉCNICA OBRA ALCANTARILLADO PACHACAMITA'], dtype=object)"
      ]
     },
     "execution_count": 11,
     "metadata": {},
     "output_type": "execute_result"
    }
   ],
   "source": [
    "df_main[\"tender_title\"].unique()"
   ]
  },
  {
   "cell_type": "code",
   "execution_count": 12,
   "id": "b1f1e7c8",
   "metadata": {},
   "outputs": [],
   "source": [
    "df_main.drop(columns=['id', 'tag', 'date', 'ocid', 'language', 'buyer_name', 'tender_id', 'tender_title', 'tender_description', 'tender_procuringEntity_id'], inplace=True)"
   ]
  },
  {
   "cell_type": "markdown",
   "id": "774543f1",
   "metadata": {},
   "source": [
    "### Transformación de datos."
   ]
  },
  {
   "cell_type": "code",
   "execution_count": 13,
   "id": "e1727713",
   "metadata": {},
   "outputs": [],
   "source": [
    "df_main[\"tender_enquiryPeriod_startDate\"] = pd.to_datetime(df_main['tender_enquiryPeriod_startDate'], format='%Y-%m-%dT%H:%M:%SZ')\n",
    "df_main[\"tender_enquiryPeriod_endDate\"] = pd.to_datetime(df_main['tender_enquiryPeriod_endDate'], format='%Y-%m-%dT%H:%M:%SZ')\n",
    "df_main['tender_tenderPeriod_startDate'] = pd.to_datetime(df_main['tender_tenderPeriod_startDate'], format='%Y-%m-%dT%H:%M:%SZ')"
   ]
  },
  {
   "cell_type": "markdown",
   "id": "4382eae1",
   "metadata": {},
   "source": [
    "Al parecer hay un error, una de las filas tiene por valor a en esta columna, eliminemosla."
   ]
  },
  {
   "cell_type": "code",
   "execution_count": 14,
   "id": "8ff97196",
   "metadata": {},
   "outputs": [],
   "source": [
    "df_main = df_main.drop(df_main[df_main[\"tender_tenderPeriod_endDate\"] == \"a\"].index)\n",
    "df_main[\"tender_tenderPeriod_endDate\"] = pd.to_datetime(df_main['tender_tenderPeriod_endDate'], format='%Y-%m-%dT%H:%M:%SZ')\n",
    "df_main['tender_awardPeriod_startDate'] = pd.to_datetime(df_main['tender_awardPeriod_startDate'], format='%Y-%m-%dT%H:%M:%SZ')"
   ]
  },
  {
   "cell_type": "markdown",
   "id": "a38e1288",
   "metadata": {},
   "source": [
    "Hay un error en el formato de una fila con contenido <5017-05-05T17:00:00Z>, se eliminará."
   ]
  },
  {
   "cell_type": "code",
   "execution_count": 15,
   "id": "fd592ac4",
   "metadata": {},
   "outputs": [],
   "source": [
    "df_main.drop(df_main[df_main[\"tender_awardPeriod_endDate\"] == \"5017-05-05T17:00:00Z\"].index, axis=0, inplace=True)\n",
    "df_main['tender_awardPeriod_endDate'] = pd.to_datetime(df_main['tender_awardPeriod_endDate'], format='%Y-%m-%dT%H:%M:%SZ')"
   ]
  },
  {
   "cell_type": "code",
   "execution_count": 16,
   "id": "6116f454",
   "metadata": {},
   "outputs": [],
   "source": [
    "df_main['tender_enquiryPeriod_durationInDays'] = df_main['tender_enquiryPeriod_endDate'] - df_main['tender_enquiryPeriod_startDate']\n",
    "df_main['tender_awardPeriod_durationInDays'] = df_main['tender_awardPeriod_endDate'] - df_main['tender_awardPeriod_startDate']\n",
    "df_main['tender_tenderPeriod_durationInDays'] = df_main['tender_tenderPeriod_endDate'] - df_main['tender_tenderPeriod_startDate']"
   ]
  },
  {
   "cell_type": "markdown",
   "id": "f1bcaf8c",
   "metadata": {},
   "source": [
    "### Filtro según fecha"
   ]
  },
  {
   "cell_type": "markdown",
   "id": "d0026a0b",
   "metadata": {},
   "source": [
    "Aqui realizaremos un filtro de las licitaciones en base a cuando se iniciaron y cuando terminaron respecto a lo relacionado al 2018. En este caso seleccionaremos las licitaciones cuyo periodo de envio de aplicaciones para determinar la adjudicación comenzó despúes que el 01/09/2017 y la finalización del proceso de adjudicación antes del 01/01/2019."
   ]
  },
  {
   "cell_type": "code",
   "execution_count": 17,
   "id": "8101dfb3",
   "metadata": {},
   "outputs": [],
   "source": [
    "fecha_filtro = '2017-09-01'\n",
    "df_filtrado = df_main.loc[df_main['tender_tenderPeriod_startDate'] >= fecha_filtro]\n",
    "fecha_filtro = '2019-01-01'\n",
    "df_filtrado = df_filtrado.loc[df_filtrado['tender_awardPeriod_endDate'] < fecha_filtro]"
   ]
  },
  {
   "cell_type": "code",
   "execution_count": 18,
   "id": "d502e865",
   "metadata": {},
   "outputs": [
    {
     "data": {
      "text/html": [
       "<div>\n",
       "<style scoped>\n",
       "    .dataframe tbody tr th:only-of-type {\n",
       "        vertical-align: middle;\n",
       "    }\n",
       "\n",
       "    .dataframe tbody tr th {\n",
       "        vertical-align: top;\n",
       "    }\n",
       "\n",
       "    .dataframe thead th {\n",
       "        text-align: right;\n",
       "    }\n",
       "</style>\n",
       "<table border=\"1\" class=\"dataframe\">\n",
       "  <thead>\n",
       "    <tr style=\"text-align: right;\">\n",
       "      <th></th>\n",
       "      <th>_link</th>\n",
       "      <th>initiationType</th>\n",
       "      <th>buyer_id</th>\n",
       "      <th>tender_procurementMethodDetails</th>\n",
       "      <th>tender_status</th>\n",
       "      <th>tender_procurementMethod</th>\n",
       "      <th>tender_hasEnquiries</th>\n",
       "      <th>tender_awardPeriod_endDate</th>\n",
       "      <th>tender_awardPeriod_startDate</th>\n",
       "      <th>tender_awardPeriod_durationInDays</th>\n",
       "      <th>tender_tenderPeriod_endDate</th>\n",
       "      <th>tender_tenderPeriod_startDate</th>\n",
       "      <th>tender_tenderPeriod_durationInDays</th>\n",
       "      <th>tender_enquiryPeriod_endDate</th>\n",
       "      <th>tender_enquiryPeriod_startDate</th>\n",
       "      <th>tender_enquiryPeriod_durationInDays</th>\n",
       "      <th>tender_procuringEntity_name</th>\n",
       "      <th>tender_value_amount</th>\n",
       "      <th>tender_value_currency</th>\n",
       "      <th>tender_value_unitOfAccount</th>\n",
       "    </tr>\n",
       "  </thead>\n",
       "  <tbody>\n",
       "    <tr>\n",
       "      <th>0</th>\n",
       "      <td>id-0.0</td>\n",
       "      <td>tender</td>\n",
       "      <td>CL-MP-5464</td>\n",
       "      <td>L1</td>\n",
       "      <td>complete</td>\n",
       "      <td>open</td>\n",
       "      <td>False</td>\n",
       "      <td>2017-12-15 18:05:00</td>\n",
       "      <td>2017-12-13 09:03:00</td>\n",
       "      <td>2 days 09:02:00</td>\n",
       "      <td>2017-12-13 09:02:00</td>\n",
       "      <td>2017-12-07 16:17:35</td>\n",
       "      <td>5 days 16:44:25</td>\n",
       "      <td>2017-12-10 20:04:00</td>\n",
       "      <td>2017-12-07 20:04:00</td>\n",
       "      <td>3 days 00:00:00</td>\n",
       "      <td>Ilustre Municipalidad de Quintero | UNIDAD NORMAL</td>\n",
       "      <td>NaN</td>\n",
       "      <td>NaN</td>\n",
       "      <td>NaN</td>\n",
       "    </tr>\n",
       "    <tr>\n",
       "      <th>1</th>\n",
       "      <td>id-0.1</td>\n",
       "      <td>tender</td>\n",
       "      <td>CL-MP-3401</td>\n",
       "      <td>L1</td>\n",
       "      <td>unsuccessful</td>\n",
       "      <td>open</td>\n",
       "      <td>False</td>\n",
       "      <td>2018-01-25 11:35:00</td>\n",
       "      <td>2017-12-26 15:31:00</td>\n",
       "      <td>29 days 20:04:00</td>\n",
       "      <td>2017-12-26 15:30:00</td>\n",
       "      <td>2017-12-18 17:58:24</td>\n",
       "      <td>7 days 21:31:36</td>\n",
       "      <td>2017-12-20 14:30:00</td>\n",
       "      <td>2017-12-18 19:01:00</td>\n",
       "      <td>1 days 19:29:00</td>\n",
       "      <td>Municipalidad de Los Angeles | MUNICIPALIDAD D...</td>\n",
       "      <td>300000.0</td>\n",
       "      <td>CLP</td>\n",
       "      <td>NaN</td>\n",
       "    </tr>\n",
       "    <tr>\n",
       "      <th>2</th>\n",
       "      <td>id-0.3</td>\n",
       "      <td>tender</td>\n",
       "      <td>CL-MP-5772</td>\n",
       "      <td>L1</td>\n",
       "      <td>unsuccessful</td>\n",
       "      <td>open</td>\n",
       "      <td>False</td>\n",
       "      <td>2017-12-26 15:53:00</td>\n",
       "      <td>2017-12-21 10:03:00</td>\n",
       "      <td>5 days 05:50:00</td>\n",
       "      <td>2017-12-21 10:02:00</td>\n",
       "      <td>2017-12-15 12:23:25</td>\n",
       "      <td>5 days 21:38:35</td>\n",
       "      <td>2017-12-18 15:01:00</td>\n",
       "      <td>2017-12-15 15:52:00</td>\n",
       "      <td>2 days 23:09:00</td>\n",
       "      <td>Municipalidad de Tirúa | Ilustre Municipalidad...</td>\n",
       "      <td>900000.0</td>\n",
       "      <td>CLP</td>\n",
       "      <td>NaN</td>\n",
       "    </tr>\n",
       "    <tr>\n",
       "      <th>3</th>\n",
       "      <td>id-0.4</td>\n",
       "      <td>tender</td>\n",
       "      <td>CL-MP-3401</td>\n",
       "      <td>LE</td>\n",
       "      <td>complete</td>\n",
       "      <td>open</td>\n",
       "      <td>True</td>\n",
       "      <td>2017-12-14 16:55:00</td>\n",
       "      <td>2017-12-11 16:30:00</td>\n",
       "      <td>3 days 00:25:00</td>\n",
       "      <td>2017-12-11 16:00:00</td>\n",
       "      <td>2017-12-05 17:11:36</td>\n",
       "      <td>5 days 22:48:24</td>\n",
       "      <td>2017-12-06 17:30:00</td>\n",
       "      <td>2017-12-05 17:15:00</td>\n",
       "      <td>1 days 00:15:00</td>\n",
       "      <td>Municipalidad de Los Angeles | MUNICIPALIDAD D...</td>\n",
       "      <td>6000000.0</td>\n",
       "      <td>CLP</td>\n",
       "      <td>NaN</td>\n",
       "    </tr>\n",
       "    <tr>\n",
       "      <th>4</th>\n",
       "      <td>id-0.5</td>\n",
       "      <td>tender</td>\n",
       "      <td>CL-MP-5748</td>\n",
       "      <td>L1</td>\n",
       "      <td>complete</td>\n",
       "      <td>open</td>\n",
       "      <td>True</td>\n",
       "      <td>2017-12-29 16:00:00</td>\n",
       "      <td>2017-12-28 12:02:00</td>\n",
       "      <td>1 days 03:58:00</td>\n",
       "      <td>2017-12-28 12:00:00</td>\n",
       "      <td>2017-12-21 16:27:16</td>\n",
       "      <td>6 days 19:32:44</td>\n",
       "      <td>2017-12-26 12:00:00</td>\n",
       "      <td>2017-12-22 19:00:00</td>\n",
       "      <td>3 days 17:00:00</td>\n",
       "      <td>Ilustre Municipalidad de Cochamo | Ilustre Mun...</td>\n",
       "      <td>NaN</td>\n",
       "      <td>NaN</td>\n",
       "      <td>NaN</td>\n",
       "    </tr>\n",
       "  </tbody>\n",
       "</table>\n",
       "</div>"
      ],
      "text/plain": [
       "    _link initiationType    buyer_id tender_procurementMethodDetails  \\\n",
       "0  id-0.0         tender  CL-MP-5464                              L1   \n",
       "1  id-0.1         tender  CL-MP-3401                              L1   \n",
       "2  id-0.3         tender  CL-MP-5772                              L1   \n",
       "3  id-0.4         tender  CL-MP-3401                              LE   \n",
       "4  id-0.5         tender  CL-MP-5748                              L1   \n",
       "\n",
       "  tender_status tender_procurementMethod  tender_hasEnquiries  \\\n",
       "0      complete                     open                False   \n",
       "1  unsuccessful                     open                False   \n",
       "2  unsuccessful                     open                False   \n",
       "3      complete                     open                 True   \n",
       "4      complete                     open                 True   \n",
       "\n",
       "  tender_awardPeriod_endDate tender_awardPeriod_startDate  \\\n",
       "0        2017-12-15 18:05:00          2017-12-13 09:03:00   \n",
       "1        2018-01-25 11:35:00          2017-12-26 15:31:00   \n",
       "2        2017-12-26 15:53:00          2017-12-21 10:03:00   \n",
       "3        2017-12-14 16:55:00          2017-12-11 16:30:00   \n",
       "4        2017-12-29 16:00:00          2017-12-28 12:02:00   \n",
       "\n",
       "  tender_awardPeriod_durationInDays tender_tenderPeriod_endDate  \\\n",
       "0                   2 days 09:02:00         2017-12-13 09:02:00   \n",
       "1                  29 days 20:04:00         2017-12-26 15:30:00   \n",
       "2                   5 days 05:50:00         2017-12-21 10:02:00   \n",
       "3                   3 days 00:25:00         2017-12-11 16:00:00   \n",
       "4                   1 days 03:58:00         2017-12-28 12:00:00   \n",
       "\n",
       "  tender_tenderPeriod_startDate tender_tenderPeriod_durationInDays  \\\n",
       "0           2017-12-07 16:17:35                    5 days 16:44:25   \n",
       "1           2017-12-18 17:58:24                    7 days 21:31:36   \n",
       "2           2017-12-15 12:23:25                    5 days 21:38:35   \n",
       "3           2017-12-05 17:11:36                    5 days 22:48:24   \n",
       "4           2017-12-21 16:27:16                    6 days 19:32:44   \n",
       "\n",
       "  tender_enquiryPeriod_endDate tender_enquiryPeriod_startDate  \\\n",
       "0          2017-12-10 20:04:00            2017-12-07 20:04:00   \n",
       "1          2017-12-20 14:30:00            2017-12-18 19:01:00   \n",
       "2          2017-12-18 15:01:00            2017-12-15 15:52:00   \n",
       "3          2017-12-06 17:30:00            2017-12-05 17:15:00   \n",
       "4          2017-12-26 12:00:00            2017-12-22 19:00:00   \n",
       "\n",
       "  tender_enquiryPeriod_durationInDays  \\\n",
       "0                     3 days 00:00:00   \n",
       "1                     1 days 19:29:00   \n",
       "2                     2 days 23:09:00   \n",
       "3                     1 days 00:15:00   \n",
       "4                     3 days 17:00:00   \n",
       "\n",
       "                         tender_procuringEntity_name  tender_value_amount  \\\n",
       "0  Ilustre Municipalidad de Quintero | UNIDAD NORMAL                  NaN   \n",
       "1  Municipalidad de Los Angeles | MUNICIPALIDAD D...             300000.0   \n",
       "2  Municipalidad de Tirúa | Ilustre Municipalidad...             900000.0   \n",
       "3  Municipalidad de Los Angeles | MUNICIPALIDAD D...            6000000.0   \n",
       "4  Ilustre Municipalidad de Cochamo | Ilustre Mun...                  NaN   \n",
       "\n",
       "  tender_value_currency tender_value_unitOfAccount  \n",
       "0                   NaN                        NaN  \n",
       "1                   CLP                        NaN  \n",
       "2                   CLP                        NaN  \n",
       "3                   CLP                        NaN  \n",
       "4                   NaN                        NaN  "
      ]
     },
     "execution_count": 18,
     "metadata": {},
     "output_type": "execute_result"
    }
   ],
   "source": [
    "df_filtrado.reset_index(drop=True, inplace=True)\n",
    "df_filtrado.head()"
   ]
  },
  {
   "cell_type": "code",
   "execution_count": 19,
   "id": "63613c6e",
   "metadata": {},
   "outputs": [],
   "source": [
    "df_filtrado.rename(columns={\"tender_value_amount\":\"max_estimated_cost\", \"tender_value_currency\": \"max_estimated_cost_currency\", \"tender_value_unitOfAccount\": \"max_estimated_cost_unitOfAccount\"}, inplace=True )"
   ]
  },
  {
   "cell_type": "code",
   "execution_count": 20,
   "id": "c2d4fb7f",
   "metadata": {},
   "outputs": [
    {
     "name": "stdout",
     "output_type": "stream",
     "text": [
      "<class 'pandas.core.frame.DataFrame'>\n",
      "RangeIndex: 31067 entries, 0 to 31066\n",
      "Data columns (total 20 columns):\n",
      " #   Column                               Non-Null Count  Dtype          \n",
      "---  ------                               --------------  -----          \n",
      " 0   _link                                31067 non-null  object         \n",
      " 1   initiationType                       31067 non-null  object         \n",
      " 2   buyer_id                             31067 non-null  object         \n",
      " 3   tender_procurementMethodDetails      30762 non-null  category       \n",
      " 4   tender_status                        31067 non-null  category       \n",
      " 5   tender_procurementMethod             31067 non-null  object         \n",
      " 6   tender_hasEnquiries                  31067 non-null  bool           \n",
      " 7   tender_awardPeriod_endDate           31067 non-null  datetime64[ns] \n",
      " 8   tender_awardPeriod_startDate         31067 non-null  datetime64[ns] \n",
      " 9   tender_awardPeriod_durationInDays    31067 non-null  timedelta64[ns]\n",
      " 10  tender_tenderPeriod_endDate          31067 non-null  datetime64[ns] \n",
      " 11  tender_tenderPeriod_startDate        31067 non-null  datetime64[ns] \n",
      " 12  tender_tenderPeriod_durationInDays   31067 non-null  timedelta64[ns]\n",
      " 13  tender_enquiryPeriod_endDate         31067 non-null  datetime64[ns] \n",
      " 14  tender_enquiryPeriod_startDate       31067 non-null  datetime64[ns] \n",
      " 15  tender_enquiryPeriod_durationInDays  31067 non-null  timedelta64[ns]\n",
      " 16  tender_procuringEntity_name          31067 non-null  object         \n",
      " 17  max_estimated_cost                   13824 non-null  float64        \n",
      " 18  max_estimated_cost_currency          13822 non-null  object         \n",
      " 19  max_estimated_cost_unitOfAccount     2 non-null      object         \n",
      "dtypes: bool(1), category(2), datetime64[ns](6), float64(1), object(7), timedelta64[ns](3)\n",
      "memory usage: 4.1+ MB\n"
     ]
    }
   ],
   "source": [
    "df_filtrado.info()"
   ]
  },
  {
   "cell_type": "code",
   "execution_count": 21,
   "id": "61d6fa6f",
   "metadata": {},
   "outputs": [
    {
     "ename": "KeyError",
     "evalue": "'tender_value_amount'",
     "output_type": "error",
     "traceback": [
      "\u001b[1;31m---------------------------------------------------------------------------\u001b[0m",
      "\u001b[1;31mKeyError\u001b[0m                                  Traceback (most recent call last)",
      "File \u001b[1;32mc:\\Users\\camil\\anaconda3\\Lib\\site-packages\\pandas\\core\\indexes\\base.py:3805\u001b[0m, in \u001b[0;36mIndex.get_loc\u001b[1;34m(self, key)\u001b[0m\n\u001b[0;32m   3804\u001b[0m \u001b[38;5;28;01mtry\u001b[39;00m:\n\u001b[1;32m-> 3805\u001b[0m     \u001b[38;5;28;01mreturn\u001b[39;00m \u001b[38;5;28mself\u001b[39m\u001b[38;5;241m.\u001b[39m_engine\u001b[38;5;241m.\u001b[39mget_loc(casted_key)\n\u001b[0;32m   3806\u001b[0m \u001b[38;5;28;01mexcept\u001b[39;00m \u001b[38;5;167;01mKeyError\u001b[39;00m \u001b[38;5;28;01mas\u001b[39;00m err:\n",
      "File \u001b[1;32mindex.pyx:167\u001b[0m, in \u001b[0;36mpandas._libs.index.IndexEngine.get_loc\u001b[1;34m()\u001b[0m\n",
      "File \u001b[1;32mindex.pyx:196\u001b[0m, in \u001b[0;36mpandas._libs.index.IndexEngine.get_loc\u001b[1;34m()\u001b[0m\n",
      "File \u001b[1;32mpandas\\\\_libs\\\\hashtable_class_helper.pxi:7081\u001b[0m, in \u001b[0;36mpandas._libs.hashtable.PyObjectHashTable.get_item\u001b[1;34m()\u001b[0m\n",
      "File \u001b[1;32mpandas\\\\_libs\\\\hashtable_class_helper.pxi:7089\u001b[0m, in \u001b[0;36mpandas._libs.hashtable.PyObjectHashTable.get_item\u001b[1;34m()\u001b[0m\n",
      "\u001b[1;31mKeyError\u001b[0m: 'tender_value_amount'",
      "\nThe above exception was the direct cause of the following exception:\n",
      "\u001b[1;31mKeyError\u001b[0m                                  Traceback (most recent call last)",
      "Cell \u001b[1;32mIn[21], line 1\u001b[0m\n\u001b[1;32m----> 1\u001b[0m df_filtrado\u001b[38;5;241m.\u001b[39mloc[df_filtrado[\u001b[38;5;124m\"\u001b[39m\u001b[38;5;124mtender_value_amount\u001b[39m\u001b[38;5;124m\"\u001b[39m]\u001b[38;5;241m.\u001b[39misna()]\u001b[38;5;241m.\u001b[39minfo()\n",
      "File \u001b[1;32mc:\\Users\\camil\\anaconda3\\Lib\\site-packages\\pandas\\core\\frame.py:4102\u001b[0m, in \u001b[0;36mDataFrame.__getitem__\u001b[1;34m(self, key)\u001b[0m\n\u001b[0;32m   4100\u001b[0m \u001b[38;5;28;01mif\u001b[39;00m \u001b[38;5;28mself\u001b[39m\u001b[38;5;241m.\u001b[39mcolumns\u001b[38;5;241m.\u001b[39mnlevels \u001b[38;5;241m>\u001b[39m \u001b[38;5;241m1\u001b[39m:\n\u001b[0;32m   4101\u001b[0m     \u001b[38;5;28;01mreturn\u001b[39;00m \u001b[38;5;28mself\u001b[39m\u001b[38;5;241m.\u001b[39m_getitem_multilevel(key)\n\u001b[1;32m-> 4102\u001b[0m indexer \u001b[38;5;241m=\u001b[39m \u001b[38;5;28mself\u001b[39m\u001b[38;5;241m.\u001b[39mcolumns\u001b[38;5;241m.\u001b[39mget_loc(key)\n\u001b[0;32m   4103\u001b[0m \u001b[38;5;28;01mif\u001b[39;00m is_integer(indexer):\n\u001b[0;32m   4104\u001b[0m     indexer \u001b[38;5;241m=\u001b[39m [indexer]\n",
      "File \u001b[1;32mc:\\Users\\camil\\anaconda3\\Lib\\site-packages\\pandas\\core\\indexes\\base.py:3812\u001b[0m, in \u001b[0;36mIndex.get_loc\u001b[1;34m(self, key)\u001b[0m\n\u001b[0;32m   3807\u001b[0m     \u001b[38;5;28;01mif\u001b[39;00m \u001b[38;5;28misinstance\u001b[39m(casted_key, \u001b[38;5;28mslice\u001b[39m) \u001b[38;5;129;01mor\u001b[39;00m (\n\u001b[0;32m   3808\u001b[0m         \u001b[38;5;28misinstance\u001b[39m(casted_key, abc\u001b[38;5;241m.\u001b[39mIterable)\n\u001b[0;32m   3809\u001b[0m         \u001b[38;5;129;01mand\u001b[39;00m \u001b[38;5;28many\u001b[39m(\u001b[38;5;28misinstance\u001b[39m(x, \u001b[38;5;28mslice\u001b[39m) \u001b[38;5;28;01mfor\u001b[39;00m x \u001b[38;5;129;01min\u001b[39;00m casted_key)\n\u001b[0;32m   3810\u001b[0m     ):\n\u001b[0;32m   3811\u001b[0m         \u001b[38;5;28;01mraise\u001b[39;00m InvalidIndexError(key)\n\u001b[1;32m-> 3812\u001b[0m     \u001b[38;5;28;01mraise\u001b[39;00m \u001b[38;5;167;01mKeyError\u001b[39;00m(key) \u001b[38;5;28;01mfrom\u001b[39;00m \u001b[38;5;21;01merr\u001b[39;00m\n\u001b[0;32m   3813\u001b[0m \u001b[38;5;28;01mexcept\u001b[39;00m \u001b[38;5;167;01mTypeError\u001b[39;00m:\n\u001b[0;32m   3814\u001b[0m     \u001b[38;5;66;03m# If we have a listlike key, _check_indexing_error will raise\u001b[39;00m\n\u001b[0;32m   3815\u001b[0m     \u001b[38;5;66;03m#  InvalidIndexError. Otherwise we fall through and re-raise\u001b[39;00m\n\u001b[0;32m   3816\u001b[0m     \u001b[38;5;66;03m#  the TypeError.\u001b[39;00m\n\u001b[0;32m   3817\u001b[0m     \u001b[38;5;28mself\u001b[39m\u001b[38;5;241m.\u001b[39m_check_indexing_error(key)\n",
      "\u001b[1;31mKeyError\u001b[0m: 'tender_value_amount'"
     ]
    }
   ],
   "source": [
    "df_filtrado.loc[df_filtrado[\"tender_value_amount\"].isna()].info()"
   ]
  },
  {
   "cell_type": "code",
   "execution_count": null,
   "id": "fb427b90",
   "metadata": {},
   "outputs": [],
   "source": [
    "def crear_unit_value_monetary_unit(indice:int, comparador=np.nan) -> str:\n",
    "    if df_filtrado.iloc[indice][\"tender_value_currency\"] == comparador:\n",
    "        if (df_filtrado.iloc[indice][\"tender_status\"] == 'unsuccessful') or (df_filtrado.iloc[indice][\"tender_status\"] ==  'cancelled') or (df_filtrado.iloc[indice][\"tender_status\"] == 'pending'):\n",
    "            return (\"No aplica\")\n",
    "        return df_filtrado.iloc[indice][\"tender_value_unitOfAccount\"]\n",
    "    return df_filtrado.iloc[indice][\"tender_value_currency\"]"
   ]
  },
  {
   "cell_type": "markdown",
   "id": "52755cce",
   "metadata": {},
   "source": [
    "## Revision awards.csv"
   ]
  },
  {
   "cell_type": "code",
   "execution_count": null,
   "id": "5bd79981",
   "metadata": {},
   "outputs": [],
   "source": [
    "camino = path.join(\"Chile\",\"2018\",\"awards.csv\")\n",
    "df_awards = pd.read_csv(camino, delimiter=\",\")"
   ]
  },
  {
   "cell_type": "code",
   "execution_count": null,
   "id": "49a136b9",
   "metadata": {},
   "outputs": [
    {
     "data": {
      "text/html": [
       "<div>\n",
       "<style scoped>\n",
       "    .dataframe tbody tr th:only-of-type {\n",
       "        vertical-align: middle;\n",
       "    }\n",
       "\n",
       "    .dataframe tbody tr th {\n",
       "        vertical-align: top;\n",
       "    }\n",
       "\n",
       "    .dataframe thead th {\n",
       "        text-align: right;\n",
       "    }\n",
       "</style>\n",
       "<table border=\"1\" class=\"dataframe\">\n",
       "  <thead>\n",
       "    <tr style=\"text-align: right;\">\n",
       "      <th></th>\n",
       "      <th>_link</th>\n",
       "      <th>_link_main</th>\n",
       "      <th>id</th>\n",
       "      <th>date</th>\n",
       "      <th>description</th>\n",
       "      <th>title</th>\n",
       "      <th>status</th>\n",
       "      <th>value_amount</th>\n",
       "      <th>value_currency</th>\n",
       "      <th>value_unitOfAccount</th>\n",
       "    </tr>\n",
       "  </thead>\n",
       "  <tbody>\n",
       "    <tr>\n",
       "      <th>0</th>\n",
       "      <td>id-0.0.awards.0</td>\n",
       "      <td>id-0.0</td>\n",
       "      <td>8270925</td>\n",
       "      <td>2017-12-23T13:23:24Z</td>\n",
       "      <td>DIDECO - NAVIDAD COMUNAL - JUEGOS INFLABLES\\r\\...</td>\n",
       "      <td>DIDECO - NAVIDAD COMUNAL - JUEGOS INFLABLES</td>\n",
       "      <td>active</td>\n",
       "      <td>690000.0</td>\n",
       "      <td>CLP</td>\n",
       "      <td>NaN</td>\n",
       "    </tr>\n",
       "    <tr>\n",
       "      <th>1</th>\n",
       "      <td>id-0.1.awards.0</td>\n",
       "      <td>id-0.1</td>\n",
       "      <td>8274205</td>\n",
       "      <td>NaN</td>\n",
       "      <td>CONFECCIÓN E INSTALACIÓN DE PROTECCIONES METAL...</td>\n",
       "      <td>CONFECCIÓN E INSTALACIÓN DE PROTECCIONES METÁL...</td>\n",
       "      <td>unsuccessful</td>\n",
       "      <td>NaN</td>\n",
       "      <td>NaN</td>\n",
       "      <td>NaN</td>\n",
       "    </tr>\n",
       "    <tr>\n",
       "      <th>2</th>\n",
       "      <td>id-0.2.awards.0</td>\n",
       "      <td>id-0.2</td>\n",
       "      <td>8275841</td>\n",
       "      <td>2018-02-02T11:16:54Z</td>\n",
       "      <td>sm80 sp3565 servicios generales</td>\n",
       "      <td>Reparacion de mamparas</td>\n",
       "      <td>active</td>\n",
       "      <td>870000.0</td>\n",
       "      <td>CLP</td>\n",
       "      <td>NaN</td>\n",
       "    </tr>\n",
       "    <tr>\n",
       "      <th>3</th>\n",
       "      <td>id-0.3.awards.0</td>\n",
       "      <td>id-0.3</td>\n",
       "      <td>8254526</td>\n",
       "      <td>2017-12-26T18:19:33Z</td>\n",
       "      <td>VISITA A HUERTO ORGANICO DE BERRIES HUBICADO E...</td>\n",
       "      <td>VISTA A HUERTO ORGANICO DE BERRIES HUBICADO EN...</td>\n",
       "      <td>unsuccessful</td>\n",
       "      <td>NaN</td>\n",
       "      <td>NaN</td>\n",
       "      <td>NaN</td>\n",
       "    </tr>\n",
       "    <tr>\n",
       "      <th>4</th>\n",
       "      <td>id-0.4.awards.0</td>\n",
       "      <td>id-0.4</td>\n",
       "      <td>8253535</td>\n",
       "      <td>2017-12-21T18:17:23Z</td>\n",
       "      <td>CAPACITACIÓN PARA DOCENTES DE LA ESC. F-929 - ...</td>\n",
       "      <td>CAPACITACIÓN PARA DOCENTES DE LA ESC. F-929 - ...</td>\n",
       "      <td>active</td>\n",
       "      <td>6000000.0</td>\n",
       "      <td>CLP</td>\n",
       "      <td>NaN</td>\n",
       "    </tr>\n",
       "  </tbody>\n",
       "</table>\n",
       "</div>"
      ],
      "text/plain": [
       "             _link _link_main       id                  date  \\\n",
       "0  id-0.0.awards.0     id-0.0  8270925  2017-12-23T13:23:24Z   \n",
       "1  id-0.1.awards.0     id-0.1  8274205                   NaN   \n",
       "2  id-0.2.awards.0     id-0.2  8275841  2018-02-02T11:16:54Z   \n",
       "3  id-0.3.awards.0     id-0.3  8254526  2017-12-26T18:19:33Z   \n",
       "4  id-0.4.awards.0     id-0.4  8253535  2017-12-21T18:17:23Z   \n",
       "\n",
       "                                         description  \\\n",
       "0  DIDECO - NAVIDAD COMUNAL - JUEGOS INFLABLES\\r\\...   \n",
       "1  CONFECCIÓN E INSTALACIÓN DE PROTECCIONES METAL...   \n",
       "2                    sm80 sp3565 servicios generales   \n",
       "3  VISITA A HUERTO ORGANICO DE BERRIES HUBICADO E...   \n",
       "4  CAPACITACIÓN PARA DOCENTES DE LA ESC. F-929 - ...   \n",
       "\n",
       "                                               title        status  \\\n",
       "0        DIDECO - NAVIDAD COMUNAL - JUEGOS INFLABLES        active   \n",
       "1  CONFECCIÓN E INSTALACIÓN DE PROTECCIONES METÁL...  unsuccessful   \n",
       "2                             Reparacion de mamparas        active   \n",
       "3  VISTA A HUERTO ORGANICO DE BERRIES HUBICADO EN...  unsuccessful   \n",
       "4  CAPACITACIÓN PARA DOCENTES DE LA ESC. F-929 - ...        active   \n",
       "\n",
       "   value_amount value_currency value_unitOfAccount  \n",
       "0      690000.0            CLP                 NaN  \n",
       "1           NaN            NaN                 NaN  \n",
       "2      870000.0            CLP                 NaN  \n",
       "3           NaN            NaN                 NaN  \n",
       "4     6000000.0            CLP                 NaN  "
      ]
     },
     "execution_count": 20,
     "metadata": {},
     "output_type": "execute_result"
    }
   ],
   "source": [
    "df_awards.head()"
   ]
  },
  {
   "cell_type": "code",
   "execution_count": null,
   "id": "03a9fcb5",
   "metadata": {},
   "outputs": [
    {
     "name": "stdout",
     "output_type": "stream",
     "text": [
      "_link\n",
      "#####################################################################\n",
      "['id-0.0.awards.0' 'id-0.1.awards.0' 'id-0.2.awards.0' ...\n",
      " 'id-15.15078.awards.0' 'id-15.15079.awards.0' 'id-15.15080.awards.0']\n",
      "_link_main\n",
      "#####################################################################\n",
      "['id-0.0' 'id-0.1' 'id-0.2' ... 'id-15.15078' 'id-15.15079' 'id-15.15080']\n",
      "id\n",
      "#####################################################################\n",
      "[8270925 8274205 8275841 ... 7874241 7880005 7879330]\n",
      "date\n",
      "#####################################################################\n",
      "['2017-12-23T13:23:24Z' nan '2018-02-02T11:16:54Z' ...\n",
      " '2016-03-21T15:44:13Z' '2016-05-30T19:57:32Z' '2016-02-19T16:06:59Z']\n",
      "description\n",
      "#####################################################################\n",
      "['DIDECO - NAVIDAD COMUNAL - JUEGOS INFLABLES\\r\\nCORRELATIVO GENERAL N° 1721 \\r\\nSOLICITUD N° 600 \\r\\nDE FECHA 29-11-2017'\n",
      " 'CONFECCIÓN E INSTALACIÓN DE PROTECCIONES METALICAS EN PUERTAS ESCUELA F-881.\\r\\nÍTEM 22.06.001\\r\\n\\r\\n'\n",
      " 'sm80 sp3565 servicios generales' ...\n",
      " 'Compra de materiales con el cual se hará mantención de alumbrado publico en la comuna.-'\n",
      " 'Adquisición de Materiales de Construcción'\n",
      " 'Asesoría Técnica de la Obra para la supervisión de la Ejecución de las obras del\\r\\nproyecto denominado Construcción Alcantarillado Sector Pachacamita La Calera.']\n",
      "title\n",
      "#####################################################################\n",
      "['DIDECO - NAVIDAD COMUNAL - JUEGOS INFLABLES'\n",
      " 'CONFECCIÓN E INSTALACIÓN DE PROTECCIONES METÁLICAS EN PUERTAS ESCUELA F-881 '\n",
      " 'Reparacion de mamparas' ... 'Adquisición de materiales para Canil'\n",
      " 'MATERIALES PARA MANTENIMIENTO ALUMBRADO PUBLICO.-'\n",
      " 'ASESORÍA TÉCNICA OBRA ALCANTARILLADO PACHACAMITA']\n",
      "status\n",
      "#####################################################################\n",
      "['active' 'unsuccessful' 'cancelled' 'pending']\n",
      "value_amount\n",
      "#####################################################################\n",
      "[ 690000.      nan  870000. ... 1902475.  135070. 1103810.]\n",
      "value_currency\n",
      "#####################################################################\n",
      "['CLP' nan 'CLF' 'USD' 'EUR']\n",
      "value_unitOfAccount\n",
      "#####################################################################\n",
      "[nan 'UTM']\n"
     ]
    }
   ],
   "source": [
    "for columna in df_awards.columns:\n",
    "    print(columna)\n",
    "    print(\"#####################################################################\")\n",
    "    print(df_awards[columna].unique())"
   ]
  },
  {
   "cell_type": "code",
   "execution_count": null,
   "id": "0d15b39f",
   "metadata": {},
   "outputs": [],
   "source": [
    "df_no_nan_un_ac = df_awards.dropna(subset=[\"value_unitOfAccount\"])[[\"value_currency\", \"value_unitOfAccount\", \"status\"]]\n",
    "df_unit_of_account = df_awards.loc[df_awards[\"value_currency\"].isna()][[\"value_currency\", \"value_unitOfAccount\", \"status\"]]"
   ]
  },
  {
   "cell_type": "code",
   "execution_count": null,
   "id": "05f36158",
   "metadata": {},
   "outputs": [
    {
     "data": {
      "text/plain": [
       "count      83\n",
       "unique      1\n",
       "top       UTM\n",
       "freq       83\n",
       "Name: value_unitOfAccount, dtype: object"
      ]
     },
     "execution_count": 23,
     "metadata": {},
     "output_type": "execute_result"
    }
   ],
   "source": [
    "df_unit_of_account[\"value_unitOfAccount\"].describe()"
   ]
  },
  {
   "cell_type": "code",
   "execution_count": null,
   "id": "d02b5540",
   "metadata": {},
   "outputs": [
    {
     "data": {
      "text/plain": [
       "count      83\n",
       "unique      1\n",
       "top       UTM\n",
       "freq       83\n",
       "Name: value_unitOfAccount, dtype: object"
      ]
     },
     "execution_count": 24,
     "metadata": {},
     "output_type": "execute_result"
    }
   ],
   "source": [
    "df_no_nan_un_ac[\"value_unitOfAccount\"].describe()"
   ]
  },
  {
   "cell_type": "code",
   "execution_count": null,
   "id": "2236826b",
   "metadata": {},
   "outputs": [
    {
     "name": "stdout",
     "output_type": "stream",
     "text": [
      "62653 83\n"
     ]
    }
   ],
   "source": [
    "print(len(df_unit_of_account), len(df_no_nan_un_ac))"
   ]
  },
  {
   "cell_type": "code",
   "execution_count": null,
   "id": "8833d176",
   "metadata": {},
   "outputs": [],
   "source": [
    "df_awards[\"value_monetary_unit\"] = [crear_unit_value_monetary_unit(indice) for indice in df_awards.index]"
   ]
  },
  {
   "cell_type": "code",
   "execution_count": null,
   "id": "437b829b",
   "metadata": {},
   "outputs": [
    {
     "data": {
      "text/plain": [
       "array(['CLP', nan, 'CLF', 'USD', 'EUR'], dtype=object)"
      ]
     },
     "execution_count": 27,
     "metadata": {},
     "output_type": "execute_result"
    }
   ],
   "source": [
    "df_awards[\"value_monetary_unit\"].unique()"
   ]
  },
  {
   "cell_type": "code",
   "execution_count": null,
   "id": "16e471b0",
   "metadata": {},
   "outputs": [
    {
     "data": {
      "text/html": [
       "<div>\n",
       "<style scoped>\n",
       "    .dataframe tbody tr th:only-of-type {\n",
       "        vertical-align: middle;\n",
       "    }\n",
       "\n",
       "    .dataframe tbody tr th {\n",
       "        vertical-align: top;\n",
       "    }\n",
       "\n",
       "    .dataframe thead th {\n",
       "        text-align: right;\n",
       "    }\n",
       "</style>\n",
       "<table border=\"1\" class=\"dataframe\">\n",
       "  <thead>\n",
       "    <tr style=\"text-align: right;\">\n",
       "      <th></th>\n",
       "      <th>_link</th>\n",
       "      <th>_link_main</th>\n",
       "      <th>id</th>\n",
       "      <th>date</th>\n",
       "      <th>description</th>\n",
       "      <th>title</th>\n",
       "      <th>status</th>\n",
       "      <th>value_amount</th>\n",
       "      <th>value_currency</th>\n",
       "      <th>value_unitOfAccount</th>\n",
       "      <th>value_monetary_unit</th>\n",
       "    </tr>\n",
       "  </thead>\n",
       "  <tbody>\n",
       "    <tr>\n",
       "      <th>1</th>\n",
       "      <td>id-0.1.awards.0</td>\n",
       "      <td>id-0.1</td>\n",
       "      <td>8274205</td>\n",
       "      <td>NaN</td>\n",
       "      <td>CONFECCIÓN E INSTALACIÓN DE PROTECCIONES METAL...</td>\n",
       "      <td>CONFECCIÓN E INSTALACIÓN DE PROTECCIONES METÁL...</td>\n",
       "      <td>unsuccessful</td>\n",
       "      <td>NaN</td>\n",
       "      <td>NaN</td>\n",
       "      <td>NaN</td>\n",
       "      <td>NaN</td>\n",
       "    </tr>\n",
       "    <tr>\n",
       "      <th>3</th>\n",
       "      <td>id-0.3.awards.0</td>\n",
       "      <td>id-0.3</td>\n",
       "      <td>8254526</td>\n",
       "      <td>2017-12-26T18:19:33Z</td>\n",
       "      <td>VISITA A HUERTO ORGANICO DE BERRIES HUBICADO E...</td>\n",
       "      <td>VISTA A HUERTO ORGANICO DE BERRIES HUBICADO EN...</td>\n",
       "      <td>unsuccessful</td>\n",
       "      <td>NaN</td>\n",
       "      <td>NaN</td>\n",
       "      <td>NaN</td>\n",
       "      <td>NaN</td>\n",
       "    </tr>\n",
       "    <tr>\n",
       "      <th>8</th>\n",
       "      <td>id-0.8.awards.0</td>\n",
       "      <td>id-0.8</td>\n",
       "      <td>8257363</td>\n",
       "      <td>NaN</td>\n",
       "      <td>CONTRATO DE BUS PARA GIRA DE ESTUDIOS DE ESCUE...</td>\n",
       "      <td>CONTRATO BUS GIRA DE ESTUDIOS ESCUELA G-150</td>\n",
       "      <td>unsuccessful</td>\n",
       "      <td>NaN</td>\n",
       "      <td>NaN</td>\n",
       "      <td>NaN</td>\n",
       "      <td>NaN</td>\n",
       "    </tr>\n",
       "    <tr>\n",
       "      <th>9</th>\n",
       "      <td>id-0.9.awards.0</td>\n",
       "      <td>id-0.9</td>\n",
       "      <td>8259052</td>\n",
       "      <td>2018-01-30T11:15:26Z</td>\n",
       "      <td>MEGAFONOS 25 UNID. PREVENCIONISTA M:114</td>\n",
       "      <td>MEGAFONOS 25 UNID. PREVENCIONISTA M:114</td>\n",
       "      <td>unsuccessful</td>\n",
       "      <td>NaN</td>\n",
       "      <td>NaN</td>\n",
       "      <td>NaN</td>\n",
       "      <td>NaN</td>\n",
       "    </tr>\n",
       "    <tr>\n",
       "      <th>16</th>\n",
       "      <td>id-0.16.awards.0</td>\n",
       "      <td>id-0.16</td>\n",
       "      <td>8274557</td>\n",
       "      <td>2018-02-02T14:55:54Z</td>\n",
       "      <td>Compra de Servicios de Transporte Para Pacient...</td>\n",
       "      <td>TRANSPORTE PARA PACIENTES Y FUNCIONARIOS</td>\n",
       "      <td>unsuccessful</td>\n",
       "      <td>NaN</td>\n",
       "      <td>NaN</td>\n",
       "      <td>NaN</td>\n",
       "      <td>NaN</td>\n",
       "    </tr>\n",
       "    <tr>\n",
       "      <th>...</th>\n",
       "      <td>...</td>\n",
       "      <td>...</td>\n",
       "      <td>...</td>\n",
       "      <td>...</td>\n",
       "      <td>...</td>\n",
       "      <td>...</td>\n",
       "      <td>...</td>\n",
       "      <td>...</td>\n",
       "      <td>...</td>\n",
       "      <td>...</td>\n",
       "      <td>...</td>\n",
       "    </tr>\n",
       "    <tr>\n",
       "      <th>239975</th>\n",
       "      <td>id-15.15035.awards.0</td>\n",
       "      <td>id-15.15035</td>\n",
       "      <td>7874833</td>\n",
       "      <td>2016-03-28T13:12:59Z</td>\n",
       "      <td>“EL HOSPITAL”, llama a licitación pública para...</td>\n",
       "      <td>ADQUISICIÓN DE INSUMOS MÉDICOS PARA TERAPÍA OC...</td>\n",
       "      <td>unsuccessful</td>\n",
       "      <td>NaN</td>\n",
       "      <td>NaN</td>\n",
       "      <td>NaN</td>\n",
       "      <td>NaN</td>\n",
       "    </tr>\n",
       "    <tr>\n",
       "      <th>239984</th>\n",
       "      <td>id-15.15044.awards.0</td>\n",
       "      <td>id-15.15044</td>\n",
       "      <td>7843245</td>\n",
       "      <td>NaN</td>\n",
       "      <td>contar con los insumos necesarios para la pron...</td>\n",
       "      <td>CONVENIO ANUAL SISTEMA DE EXTRACCION DE ARTERI...</td>\n",
       "      <td>unsuccessful</td>\n",
       "      <td>NaN</td>\n",
       "      <td>NaN</td>\n",
       "      <td>NaN</td>\n",
       "      <td>NaN</td>\n",
       "    </tr>\n",
       "    <tr>\n",
       "      <th>239991</th>\n",
       "      <td>id-15.15051.awards.0</td>\n",
       "      <td>id-15.15051</td>\n",
       "      <td>7884964</td>\n",
       "      <td>NaN</td>\n",
       "      <td>LA NECESIDAD DE LICITAR LA CONTRATACIÓN DE SER...</td>\n",
       "      <td>SERVICIO DE TRASLADO ALUMNOS - ESCUELA ITALIA.</td>\n",
       "      <td>unsuccessful</td>\n",
       "      <td>NaN</td>\n",
       "      <td>NaN</td>\n",
       "      <td>NaN</td>\n",
       "      <td>NaN</td>\n",
       "    </tr>\n",
       "    <tr>\n",
       "      <th>239998</th>\n",
       "      <td>id-15.15058.awards.0</td>\n",
       "      <td>id-15.15058</td>\n",
       "      <td>7874802</td>\n",
       "      <td>NaN</td>\n",
       "      <td>Segun correo de la Jefa enfermera SAMU, solici...</td>\n",
       "      <td>Solicita entrega de almuerzos y cenas</td>\n",
       "      <td>unsuccessful</td>\n",
       "      <td>NaN</td>\n",
       "      <td>NaN</td>\n",
       "      <td>NaN</td>\n",
       "      <td>NaN</td>\n",
       "    </tr>\n",
       "    <tr>\n",
       "      <th>240006</th>\n",
       "      <td>id-15.15066.awards.0</td>\n",
       "      <td>id-15.15066</td>\n",
       "      <td>7876222</td>\n",
       "      <td>2016-02-29T16:41:19Z</td>\n",
       "      <td>sc 173 - sp 339  CCR VIDA BUENA</td>\n",
       "      <td>cuñas estimulacion</td>\n",
       "      <td>unsuccessful</td>\n",
       "      <td>NaN</td>\n",
       "      <td>NaN</td>\n",
       "      <td>NaN</td>\n",
       "      <td>NaN</td>\n",
       "    </tr>\n",
       "  </tbody>\n",
       "</table>\n",
       "<p>55137 rows × 11 columns</p>\n",
       "</div>"
      ],
      "text/plain": [
       "                       _link   _link_main       id                  date  \\\n",
       "1            id-0.1.awards.0       id-0.1  8274205                   NaN   \n",
       "3            id-0.3.awards.0       id-0.3  8254526  2017-12-26T18:19:33Z   \n",
       "8            id-0.8.awards.0       id-0.8  8257363                   NaN   \n",
       "9            id-0.9.awards.0       id-0.9  8259052  2018-01-30T11:15:26Z   \n",
       "16          id-0.16.awards.0      id-0.16  8274557  2018-02-02T14:55:54Z   \n",
       "...                      ...          ...      ...                   ...   \n",
       "239975  id-15.15035.awards.0  id-15.15035  7874833  2016-03-28T13:12:59Z   \n",
       "239984  id-15.15044.awards.0  id-15.15044  7843245                   NaN   \n",
       "239991  id-15.15051.awards.0  id-15.15051  7884964                   NaN   \n",
       "239998  id-15.15058.awards.0  id-15.15058  7874802                   NaN   \n",
       "240006  id-15.15066.awards.0  id-15.15066  7876222  2016-02-29T16:41:19Z   \n",
       "\n",
       "                                              description  \\\n",
       "1       CONFECCIÓN E INSTALACIÓN DE PROTECCIONES METAL...   \n",
       "3       VISITA A HUERTO ORGANICO DE BERRIES HUBICADO E...   \n",
       "8       CONTRATO DE BUS PARA GIRA DE ESTUDIOS DE ESCUE...   \n",
       "9                 MEGAFONOS 25 UNID. PREVENCIONISTA M:114   \n",
       "16      Compra de Servicios de Transporte Para Pacient...   \n",
       "...                                                   ...   \n",
       "239975  “EL HOSPITAL”, llama a licitación pública para...   \n",
       "239984  contar con los insumos necesarios para la pron...   \n",
       "239991  LA NECESIDAD DE LICITAR LA CONTRATACIÓN DE SER...   \n",
       "239998  Segun correo de la Jefa enfermera SAMU, solici...   \n",
       "240006                    sc 173 - sp 339  CCR VIDA BUENA   \n",
       "\n",
       "                                                    title        status  \\\n",
       "1       CONFECCIÓN E INSTALACIÓN DE PROTECCIONES METÁL...  unsuccessful   \n",
       "3       VISTA A HUERTO ORGANICO DE BERRIES HUBICADO EN...  unsuccessful   \n",
       "8             CONTRATO BUS GIRA DE ESTUDIOS ESCUELA G-150  unsuccessful   \n",
       "9                 MEGAFONOS 25 UNID. PREVENCIONISTA M:114  unsuccessful   \n",
       "16               TRANSPORTE PARA PACIENTES Y FUNCIONARIOS  unsuccessful   \n",
       "...                                                   ...           ...   \n",
       "239975  ADQUISICIÓN DE INSUMOS MÉDICOS PARA TERAPÍA OC...  unsuccessful   \n",
       "239984  CONVENIO ANUAL SISTEMA DE EXTRACCION DE ARTERI...  unsuccessful   \n",
       "239991     SERVICIO DE TRASLADO ALUMNOS - ESCUELA ITALIA.  unsuccessful   \n",
       "239998              Solicita entrega de almuerzos y cenas  unsuccessful   \n",
       "240006                                 cuñas estimulacion  unsuccessful   \n",
       "\n",
       "        value_amount value_currency value_unitOfAccount value_monetary_unit  \n",
       "1                NaN            NaN                 NaN                 NaN  \n",
       "3                NaN            NaN                 NaN                 NaN  \n",
       "8                NaN            NaN                 NaN                 NaN  \n",
       "9                NaN            NaN                 NaN                 NaN  \n",
       "16               NaN            NaN                 NaN                 NaN  \n",
       "...              ...            ...                 ...                 ...  \n",
       "239975           NaN            NaN                 NaN                 NaN  \n",
       "239984           NaN            NaN                 NaN                 NaN  \n",
       "239991           NaN            NaN                 NaN                 NaN  \n",
       "239998           NaN            NaN                 NaN                 NaN  \n",
       "240006           NaN            NaN                 NaN                 NaN  \n",
       "\n",
       "[55137 rows x 11 columns]"
      ]
     },
     "execution_count": 28,
     "metadata": {},
     "output_type": "execute_result"
    }
   ],
   "source": [
    "df_awards.loc[df_awards[\"status\"] == \"unsuccessful\"]"
   ]
  },
  {
   "cell_type": "code",
   "execution_count": null,
   "id": "f61ce30b",
   "metadata": {},
   "outputs": [],
   "source": [
    "df_awards.drop(columns=['id', 'description', 'title', \"value_unitOfAccount\", \"value_currency\", \"date\"],inplace=True)"
   ]
  },
  {
   "cell_type": "markdown",
   "id": "bbb18c56",
   "metadata": {},
   "source": [
    "## Revisión de awards_items.csv"
   ]
  },
  {
   "cell_type": "code",
   "execution_count": null,
   "id": "0a387db4",
   "metadata": {},
   "outputs": [],
   "source": [
    "camino = path.join(\"Chile\",\"2018\",\"awards_items.csv\") \n",
    "df_awards_items = pd.read_csv(camino, delimiter=\",\")"
   ]
  },
  {
   "cell_type": "code",
   "execution_count": null,
   "id": "26bb95a8",
   "metadata": {},
   "outputs": [],
   "source": [
    "df_awards_items.columns"
   ]
  },
  {
   "cell_type": "code",
   "execution_count": null,
   "id": "8030c12a",
   "metadata": {},
   "outputs": [],
   "source": [
    "df_awards_items.info()"
   ]
  },
  {
   "cell_type": "code",
   "execution_count": null,
   "id": "af40986c",
   "metadata": {},
   "outputs": [],
   "source": [
    "df_awards_items[\"unit_value_unitOfAccount\"].describe()"
   ]
  },
  {
   "cell_type": "code",
   "execution_count": null,
   "id": "b3eabf59",
   "metadata": {},
   "outputs": [],
   "source": [
    "df_awards_items.loc[df_awards_items[\"unit_value_unitOfAccount\"] == \"UTM\"][[\"unit_value_unitOfAccount\",\"unit_value_currency\"]]"
   ]
  },
  {
   "cell_type": "code",
   "execution_count": null,
   "id": "e144eca1",
   "metadata": {},
   "outputs": [],
   "source": [
    "df_unit_of_account = df_awards_items.loc[df_awards_items[\"unit_value_currency\"].isna()][[\"unit_value_currency\", \"unit_value_unitOfAccount\"]]\n",
    "df_no_nan_un_ac = df_awards_items.dropna(subset=[\"unit_value_unitOfAccount\"])[[\"unit_value_currency\", \"unit_value_unitOfAccount\"]]"
   ]
  },
  {
   "cell_type": "code",
   "execution_count": null,
   "id": "bc516a00",
   "metadata": {},
   "outputs": [],
   "source": [
    "print(df_no_nan_un_ac.index == df_unit_of_account.index)"
   ]
  },
  {
   "cell_type": "markdown",
   "id": "812fdd63",
   "metadata": {},
   "source": [
    "Podemos observar que para los valores de <unit_value_currency> que son NaN existe un dato en <unit_value_unitOfAccount>, por lo que crearemos una nueva columna llamada <unit_value_monetary_unit> que tenga los valores de ambas columna según correspondan."
   ]
  },
  {
   "cell_type": "code",
   "execution_count": null,
   "id": "6f42e57d",
   "metadata": {},
   "outputs": [],
   "source": [
    "def crear_unit_value_monetary_unit(indice:int, comparador=np.nan) -> str:\n",
    "    if df_awards_items.iloc[indice][\"unit_value_currency\"] == comparador:\n",
    "        return df_awards_items.iloc[indice][\"unit_value_unitOfAccount\"]\n",
    "    return df_awards_items.iloc[indice][\"unit_value_currency\"]"
   ]
  },
  {
   "cell_type": "code",
   "execution_count": null,
   "id": "60718adc",
   "metadata": {},
   "outputs": [],
   "source": [
    "df_awards_items[\"unit_value_monetary_unit\"] = [crear_unit_value_monetary_unit(indice) for indice in df_awards_items.index]"
   ]
  },
  {
   "cell_type": "code",
   "execution_count": null,
   "id": "92b39190",
   "metadata": {},
   "outputs": [],
   "source": [
    "df_awards_items[\"unit_value_monetary_unit\"].describe()"
   ]
  },
  {
   "cell_type": "code",
   "execution_count": null,
   "id": "c22475c8",
   "metadata": {},
   "outputs": [],
   "source": [
    "df_awards_items.drop(columns=['classification_uri', 'classification_scheme','unit_value_unitOfAccount', \"unit_value_currency\" ], inplace=True)"
   ]
  },
  {
   "cell_type": "code",
   "execution_count": null,
   "id": "38433a76",
   "metadata": {},
   "outputs": [],
   "source": [
    "df_award_and_items = df_awards.merge(df_awards_items, left_on=\"_link\", right_on=\"_link_awards\")\n",
    "df_awards_items.head()"
   ]
  },
  {
   "cell_type": "markdown",
   "id": "e200b90f",
   "metadata": {},
   "source": [
    "## Revisión de awards_suppliers.csv"
   ]
  },
  {
   "cell_type": "code",
   "execution_count": null,
   "id": "341330f0",
   "metadata": {},
   "outputs": [],
   "source": [
    "camino = path.join(\"Chile\",\"2018\",\"awards_suppliers.csv\")\n",
    "df_awards_supplier = pd.read_csv(camino, delimiter=\",\")"
   ]
  },
  {
   "cell_type": "code",
   "execution_count": null,
   "id": "a21b8632",
   "metadata": {},
   "outputs": [],
   "source": [
    "df_awards_supplier.info()"
   ]
  },
  {
   "cell_type": "code",
   "execution_count": null,
   "id": "3ef8656b",
   "metadata": {},
   "outputs": [],
   "source": [
    "df_awards_supplier"
   ]
  },
  {
   "cell_type": "code",
   "execution_count": null,
   "id": "21780519",
   "metadata": {},
   "outputs": [],
   "source": [
    "df_award_and_supplier = df_awards.merge(df_awards_supplier, left_on=\"_link\", right_on=\"_link_awards\")\n",
    "df_award_and_supplier.head()"
   ]
  },
  {
   "cell_type": "markdown",
   "id": "ea0aa99c",
   "metadata": {},
   "source": [
    "## Revisión de awards_documents.csv"
   ]
  },
  {
   "cell_type": "code",
   "execution_count": null,
   "id": "312114a9",
   "metadata": {},
   "outputs": [],
   "source": [
    "camino = path.join(\"Chile\",\"2018\", \"awards_documents.csv\")\n",
    "df_award_documents = pd.read_csv(camino, sep=\",\")\n",
    "df_award_documents.head()"
   ]
  },
  {
   "cell_type": "code",
   "execution_count": null,
   "id": "13c3fb91",
   "metadata": {},
   "outputs": [],
   "source": [
    "df_award_documents.info()"
   ]
  },
  {
   "cell_type": "markdown",
   "id": "af711985",
   "metadata": {},
   "source": [
    "No se utilizará este DataFrame, puesto que no contiene información relevante para lo que se busca resolver."
   ]
  },
  {
   "cell_type": "markdown",
   "id": "4678c0dc",
   "metadata": {},
   "source": [
    "## Revisión de parties.csv"
   ]
  },
  {
   "cell_type": "code",
   "execution_count": null,
   "id": "42bc6bc8",
   "metadata": {},
   "outputs": [],
   "source": [
    "camino = path.join(\"Chile\",\"2018\", \"parties.csv\")\n",
    "df_parties = pd.read_csv(camino, sep=\",\")\n",
    "df_parties.head()"
   ]
  },
  {
   "cell_type": "code",
   "execution_count": null,
   "id": "c20862c3",
   "metadata": {},
   "outputs": [],
   "source": [
    "df_parties.info()"
   ]
  },
  {
   "cell_type": "code",
   "execution_count": null,
   "id": "d07a9ef8",
   "metadata": {},
   "outputs": [],
   "source": [
    "df_parties.columns"
   ]
  },
  {
   "cell_type": "code",
   "execution_count": null,
   "id": "f37d9deb",
   "metadata": {},
   "outputs": [],
   "source": [
    "df_parties.drop(columns=['address_streetAddress', \"identifier_id\", 'identifier_scheme','identifier_legalName', 'contactPoint_name', 'contactPoint_email','contactPoint_telephone', 'contactPoint_faxNumber'], inplace=True)"
   ]
  },
  {
   "cell_type": "markdown",
   "id": "62143ca9",
   "metadata": {},
   "source": [
    "Se eliminan estas columnas porque ofrecen información que no es de interes, ni se puede utilizar para obtener información en alguna de las paginas relacionadas al dataset."
   ]
  },
  {
   "cell_type": "code",
   "execution_count": null,
   "id": "ad0eee6d",
   "metadata": {},
   "outputs": [],
   "source": [
    "df_parties.info()"
   ]
  },
  {
   "cell_type": "markdown",
   "id": "5f95fd59",
   "metadata": {},
   "source": [
    "## Revisión de parties_additionalIdentifiers.csv"
   ]
  },
  {
   "cell_type": "code",
   "execution_count": null,
   "id": "4421483a",
   "metadata": {},
   "outputs": [],
   "source": [
    "camino = path.join(\"Chile\",\"2018\", \"parties_additionalIdentifiers.csv\")\n",
    "df_parties_add = pd.read_csv(camino, sep=\",\")\n",
    "df_parties_add.head()"
   ]
  },
  {
   "cell_type": "code",
   "execution_count": null,
   "id": "ed64799e",
   "metadata": {},
   "outputs": [],
   "source": [
    "df_parties_add.iloc[3][\"uri\"]"
   ]
  },
  {
   "cell_type": "markdown",
   "id": "0a517191",
   "metadata": {},
   "source": [
    "No se realizará merge, puesto que no tiene información adicional que sea relevante y no se puede utilizar"
   ]
  },
  {
   "cell_type": "markdown",
   "id": "fea66160",
   "metadata": {},
   "source": [
    "### Revisión de tender_items.csv"
   ]
  },
  {
   "cell_type": "code",
   "execution_count": null,
   "id": "adb9fd52",
   "metadata": {},
   "outputs": [],
   "source": [
    "camino = path.join(\"Chile\",\"2018\", \"tender_items.csv\")\n",
    "df_tender_item = pd.read_csv(camino, sep=\",\")\n",
    "df_tender_item.head()"
   ]
  },
  {
   "cell_type": "code",
   "execution_count": null,
   "id": "eba2b7a5",
   "metadata": {},
   "outputs": [],
   "source": [
    "df_tender_item.info()"
   ]
  },
  {
   "cell_type": "markdown",
   "id": "542c63a3",
   "metadata": {},
   "source": [
    "No se utilizara este dataframe en un merge, porque ya se tiene un dataframe más completo para obtenerla información que no se tiene en el df_filtrado   "
   ]
  },
  {
   "cell_type": "markdown",
   "id": "ee67b401",
   "metadata": {},
   "source": [
    "### Revisión de tender_tenderers.csv"
   ]
  },
  {
   "cell_type": "code",
   "execution_count": null,
   "id": "b108eded",
   "metadata": {},
   "outputs": [],
   "source": [
    "camino = path.join(\"Chile\",\"2018\", \"tender_tenderers.csv\")\n",
    "df_tender_tenderers = pd.read_csv(camino, sep=\",\")"
   ]
  },
  {
   "cell_type": "code",
   "execution_count": null,
   "id": "447ad87e",
   "metadata": {},
   "outputs": [],
   "source": [
    "df_tender_tenderers.head()"
   ]
  },
  {
   "cell_type": "code",
   "execution_count": null,
   "id": "e85cb147",
   "metadata": {},
   "outputs": [],
   "source": [
    "df_tender_tenderers.info()"
   ]
  },
  {
   "cell_type": "markdown",
   "id": "efa2d850",
   "metadata": {},
   "source": [
    "No se utilizará este dataframe, puesto que ya se tiene toda la información que entrega"
   ]
  },
  {
   "cell_type": "markdown",
   "id": "de95fa3f",
   "metadata": {},
   "source": [
    "### Clasificación con UNSPCS."
   ]
  },
  {
   "cell_type": "code",
   "execution_count": null,
   "id": "9223ed12",
   "metadata": {},
   "outputs": [],
   "source": [
    "df_clasificaciones = pd.read_excel(\"unspcs-clasificador-de-bienes-y-servicios-de-naciones-unidas-en-espanol.xlsx\", skiprows=5)\n",
    "df_clasificaciones.head(10)"
   ]
  },
  {
   "cell_type": "markdown",
   "id": "13e1714e",
   "metadata": {},
   "source": [
    "El dataframe df_clasificaciones corresponde a un conjunto de datos que posee el significado de cada objeto solicitados según la codificación UNSPSC, por lo que se hara merge con el df_main para saber que se esta comprando en cada licitación, se desecharán algunas de las columnas de df_clasificaciones para esto."
   ]
  },
  {
   "cell_type": "code",
   "execution_count": null,
   "id": "ee363d9f",
   "metadata": {},
   "outputs": [],
   "source": [
    "df_clasificaciones.drop(columns=[\"Código segmento\",\"Código Familia\",\"Nombre Familia\",\"Nombre Clase\",\"Código Clase\"], inplace=True)"
   ]
  },
  {
   "cell_type": "code",
   "execution_count": null,
   "id": "9aaacc30",
   "metadata": {},
   "outputs": [],
   "source": []
  },
  {
   "cell_type": "code",
   "execution_count": null,
   "id": "c40f4551",
   "metadata": {},
   "outputs": [],
   "source": []
  },
  {
   "cell_type": "code",
   "execution_count": null,
   "id": "f7238dc0",
   "metadata": {},
   "outputs": [],
   "source": []
  },
  {
   "cell_type": "code",
   "execution_count": null,
   "id": "80b05fc9",
   "metadata": {},
   "outputs": [],
   "source": [
    "df_2018 = df_main"
   ]
  },
  {
   "cell_type": "code",
   "execution_count": null,
   "id": "52d320ab",
   "metadata": {},
   "outputs": [],
   "source": [
    "df_2018.columns"
   ]
  },
  {
   "cell_type": "markdown",
   "id": "dea99784",
   "metadata": {},
   "source": [
    "Se revisarán que las filas no posean solo un dato, si sucede, se eliminarán. (Se ignorarán las filas que evidentemente poseen más de un dato)."
   ]
  },
  {
   "cell_type": "code",
   "execution_count": null,
   "id": "0492687b",
   "metadata": {},
   "outputs": [],
   "source": [
    "df_iguales = pd.DataFrame(df_2018[\"tender_value_amount\"] == df_2018[\"value_amount\"])\n",
    "df_iguales.head()"
   ]
  },
  {
   "cell_type": "code",
   "execution_count": null,
   "id": "e456c1b6",
   "metadata": {},
   "outputs": [],
   "source": [
    "df_iguales.rename(columns={0: \"tender_value_amount == value_amount\"}, inplace=True)"
   ]
  },
  {
   "cell_type": "code",
   "execution_count": null,
   "id": "89b163a3",
   "metadata": {},
   "outputs": [],
   "source": [
    "df_iguales[\"tender_value_amount == unit_value_amount\"] = df_2018[\"tender_value_amount\"] == df_2018[\"unit_value_amount\"]\n",
    "df_iguales[\"value_amount == unit_value_amount\"] = df_2018[\"value_amount\"] == df_2018[\"unit_value_amount\"]\n",
    "\n",
    "df_iguales[\"tender_value_currency == value_currency\"] = df_2018[\"tender_value_currency\"] == df_2018[\"value_currency\"]\n",
    "df_iguales[\"tender_value_currency == unit_value_currency\"] = df_2018[\"tender_value_currency\"] == df_2018[\"unit_value_currency\"]\n",
    "df_iguales[\"unit_value_currency == value_currency\"] = df_2018[\"unit_value_currency\"] == df_2018[\"value_currency\"]\n",
    "df_iguales[\"buyer == procuring_entity\"] = df_2018[\"buyer_name\"] == df_2018[\"tender_procuringEntity_name\"]"
   ]
  },
  {
   "cell_type": "code",
   "execution_count": null,
   "id": "d6091532",
   "metadata": {},
   "outputs": [],
   "source": [
    "for columna in df_iguales.columns:\n",
    "    print(columna, df_iguales[columna].unique())"
   ]
  },
  {
   "cell_type": "code",
   "execution_count": null,
   "id": "eeeac003",
   "metadata": {},
   "outputs": [],
   "source": [
    "df_2018.drop(columns=[\"buyer_name\"], inplace=True)"
   ]
  },
  {
   "cell_type": "markdown",
   "id": "b83fe6c4",
   "metadata": {},
   "source": [
    "Se observa que solo las columnas buyer y procuring_entity son iguales entre si, por lo que se eliminará buyer_name."
   ]
  },
  {
   "cell_type": "code",
   "execution_count": null,
   "id": "ca4c3d1f",
   "metadata": {},
   "outputs": [],
   "source": [
    "duplicates = df_2018.duplicated(keep=False)\n",
    "dups = df_2018[duplicates]\n",
    "dups.head(10)"
   ]
  },
  {
   "cell_type": "markdown",
   "id": "6496eba5-c370-41c7-b02c-8aefde550dfe",
   "metadata": {},
   "source": [
    "Se tiene en consideración que dentro de un mismo proceso de licitación pueden existir diferentes entidades que ofrecen cubrir las necesidades planteadas al publicar la licitación, por lo que se mantendran los duplicados."
   ]
  },
  {
   "cell_type": "markdown",
   "id": "560175c1",
   "metadata": {},
   "source": [
    "Se cambiarán algunas columnas a category."
   ]
  },
  {
   "cell_type": "code",
   "execution_count": null,
   "id": "a65c74d0",
   "metadata": {},
   "outputs": [],
   "source": [
    "for columna in df_2018.columns:\n",
    "    print(\"\\n\")\n",
    "    print(columna)\n",
    "    print(\"\\n\")\n",
    "    print(df_2018[columna].unique())\n",
    "    print(\"\\n\")\n",
    "    print(\"########################################################################################\")"
   ]
  },
  {
   "cell_type": "markdown",
   "id": "4e0fc2b3",
   "metadata": {},
   "source": [
    "## Limpieza de datos nulos"
   ]
  },
  {
   "cell_type": "markdown",
   "id": "fbdcb75b",
   "metadata": {},
   "source": [
    "Se revisan filas con valores nulos."
   ]
  },
  {
   "cell_type": "code",
   "execution_count": null,
   "id": "5a695abc",
   "metadata": {},
   "outputs": [],
   "source": [
    "Datos_with_NaN = df_filtrado.loc[:, df_filtrado.isna().any()]"
   ]
  },
  {
   "cell_type": "code",
   "execution_count": null,
   "id": "70154f89",
   "metadata": {},
   "outputs": [],
   "source": [
    "print(f\"La cantidad de datos NaN es de: {len(Datos_with_NaN[Datos_with_NaN.isna().any(axis=1)])} en todo el dataframe de {len(df_filtrado)}\")"
   ]
  },
  {
   "cell_type": "code",
   "execution_count": null,
   "id": "bc1d82b7",
   "metadata": {},
   "outputs": [],
   "source": [
    "df_filtrado[['tender_value_amount','tender_value_currency', 'value_amount', 'value_currency', 'quantity','unit_name', 'unit_value_amount', 'unit_value_currency']].info()\n"
   ]
  },
  {
   "cell_type": "code",
   "execution_count": null,
   "id": "34a1b768",
   "metadata": {},
   "outputs": [],
   "source": [
    "nan_tender_v = df_filtrado[df_filtrado['value_currency'].isna()]\n",
    "nan_tender_v[[\"value_currency\", \"value_amount\",\"unit_value_currency\", \"unit_value_amount\",\"tender_value_amount\", \"tender_value_currency\", \"status\", \"tender_hasEnquiries\"]]"
   ]
  },
  {
   "cell_type": "code",
   "execution_count": null,
   "id": "ae168050",
   "metadata": {},
   "outputs": [],
   "source": [
    "nan_tender_v[\"status\"].unique()"
   ]
  },
  {
   "cell_type": "code",
   "execution_count": null,
   "id": "ec696eb8",
   "metadata": {},
   "outputs": [],
   "source": [
    "non_nan_t= df_filtrado.loc[df_filtrado.dropna(subset=\"value_currency\").index]\n",
    "non_nan_t[[\"value_currency\", \"value_amount\",\"unit_value_currency\", \"unit_value_amount\",\"tender_value_amount\", \"tender_value_currency\", \"status\", \"tender_hasEnquiries\"]].head()"
   ]
  },
  {
   "cell_type": "code",
   "execution_count": null,
   "id": "1aee1663",
   "metadata": {},
   "outputs": [],
   "source": [
    "non_nan_t[\"status\"].unique()"
   ]
  },
  {
   "cell_type": "markdown",
   "id": "4040421f",
   "metadata": {},
   "source": [
    "Como se puede observar los casos con valores NaN en valores pertinentes al costo de la licitación se ven relacionados a que el status de la licitación <unsuccessful> por lo que se cambiara el valor NaN para estos casos por \"Licitación no completada\", para no tener problemas en eliminar otras filas."
   ]
  },
  {
   "cell_type": "code",
   "execution_count": null,
   "id": "9c0c3135",
   "metadata": {},
   "outputs": [],
   "source": [
    "df_filtrado[\"value_currency\"] = df_filtrado[\"value_currency\"].replace(np.nan, \"No aplica\")\n",
    "df_filtrado[\"unit_value_currency\"] = df_filtrado[\"unit_value_currency\"].replace(np.nan, \"No aplica\")\n",
    "df_filtrado[\"unit_value_amount\"] = df_filtrado[\"unit_value_amount\"].replace(np.nan, \"No aplica\")\n",
    "df_filtrado[\"value_amount\"] = df_filtrado[\"value_amount\"].replace(np.nan, \"No aplica\")\n",
    "df_filtrado[\"tender_value_currency\"] = df_filtrado[\"tender_value_currency\"].replace(np.nan, \"No aplica\")\n",
    "df_filtrado[\"tender_value_amount\"] = df_filtrado[\"tender_value_amount\"].replace(np.nan, \"No aplica\")\n",
    "df_filtrado[\"Award_supplier_name\"] = df_filtrado[\"Award_supplier_name\"]"
   ]
  },
  {
   "cell_type": "code",
   "execution_count": null,
   "id": "530c7b0e",
   "metadata": {},
   "outputs": [],
   "source": [
    "df_filtrado[\"value_currency\"] = df_filtrado[\"value_currency\"].astype(\"category\")\n",
    "df_filtrado[\"unit_value_currency\"] = df_filtrado[\"unit_value_currency\"].astype(\"category\")\n",
    "df_filtrado[\"tender_value_currency\"] = df_filtrado[\"tender_value_currency\"].astype(\"category\")"
   ]
  },
  {
   "cell_type": "markdown",
   "id": "a32585d6",
   "metadata": {},
   "source": [
    "En base a esta información se vera según casos los valores NaN."
   ]
  },
  {
   "cell_type": "code",
   "execution_count": null,
   "id": "80b06e74",
   "metadata": {},
   "outputs": [],
   "source": [
    "df_filtrado[[\"tender_tenderPeriod_durationInDays\", \"tender_awardPeriod_durationInDays\", \"tender_enquiryPeriod_durationInDays\"]].info()"
   ]
  },
  {
   "cell_type": "code",
   "execution_count": null,
   "id": "d2b97581",
   "metadata": {},
   "outputs": [],
   "source": [
    "df_filtrado.info()"
   ]
  },
  {
   "cell_type": "markdown",
   "id": "9cdcd717",
   "metadata": {},
   "source": [
    "Teniendo en cuenta que ya resolvimos los problemas que pueden causar las licitaciones no completadas, podemos realizar un dropna."
   ]
  },
  {
   "cell_type": "code",
   "execution_count": null,
   "id": "cd7f48c5",
   "metadata": {},
   "outputs": [],
   "source": [
    "df_filt_2018 = df_filtrado.dropna(subset=[\"status\"])\n",
    "df_filt_2018.info()"
   ]
  },
  {
   "cell_type": "code",
   "execution_count": null,
   "id": "0c1da3c7",
   "metadata": {},
   "outputs": [],
   "source": [
    "df_filtrado.loc[df_filtrado[\"link\"].isna().index].info()"
   ]
  },
  {
   "cell_type": "code",
   "execution_count": null,
   "id": "dc69f8dd",
   "metadata": {},
   "outputs": [],
   "source": []
  },
  {
   "cell_type": "code",
   "execution_count": null,
   "id": "c88565cb",
   "metadata": {},
   "outputs": [],
   "source": []
  }
 ],
 "metadata": {
  "kernelspec": {
   "display_name": "base",
   "language": "python",
   "name": "python3"
  },
  "language_info": {
   "codemirror_mode": {
    "name": "ipython",
    "version": 3
   },
   "file_extension": ".py",
   "mimetype": "text/x-python",
   "name": "python",
   "nbconvert_exporter": "python",
   "pygments_lexer": "ipython3",
   "version": "3.12.4"
  }
 },
 "nbformat": 4,
 "nbformat_minor": 5
}
