{
 "cells": [
  {
   "cell_type": "markdown",
   "id": "431979e9-220d-4a69-9a3a-f1e3ba884633",
   "metadata": {},
   "source": [
    "# Revisión de datos de los archivos csv de Open Contracting Partnership. Data Set del 2018."
   ]
  },
  {
   "cell_type": "markdown",
   "id": "2a9e2f7f-d9e7-49d1-a599-bd9d10167221",
   "metadata": {},
   "source": [
    "Usando el buscador de OpenContracting se buscaron datos sobre Chile (buscador: https://data.open-contracting.org/es/search/). Se decidió descargarlos archivos de los años 2018 y 2021, para tener una muestra de datos que contenga información sobre licitaciones en un rango de tiempo cercano a estas fechas."
   ]
  },
  {
   "cell_type": "code",
   "execution_count": 2,
   "id": "ce4d796d",
   "metadata": {},
   "outputs": [],
   "source": [
    "import pandas as pd\n",
    "import numpy as np\n",
    "import datetime"
   ]
  },
  {
   "cell_type": "code",
   "execution_count": 3,
   "id": "611fd2cb-ec81-41c0-9e36-df07f432203b",
   "metadata": {},
   "outputs": [
    {
     "name": "stdout",
     "output_type": "stream",
     "text": [
      "c:\\Users\\camil\\OneDrive\\Documentos\\GitHub\\Proyecto-IMT-2200-1-Grupo-14\\Datos y trabajo con muestras\\Chile\n",
      "c:\\Users\\camil\\OneDrive\\Documentos\\GitHub\\Proyecto-IMT-2200-1-Grupo-14\\Datos y trabajo con muestras\\Chile\\2018\n",
      " El volumen de la unidad C es OS\n",
      " El n�mero de serie del volumen es: 240D-CD63\n",
      "\n",
      " Directorio de c:\\Users\\camil\\OneDrive\\Documentos\\GitHub\\Proyecto-IMT-2200-1-Grupo-14\\Datos y trabajo con muestras\\Chile\\2018\n",
      "\n",
      "18-11-2024  15:43    <DIR>          .\n",
      "18-11-2024  15:05    <DIR>          ..\n",
      "18-11-2024  15:43        64.571.337 awards.csv\n",
      "18-11-2024  15:29       137.878.898 awards_documents.csv\n",
      "18-11-2024  15:29       172.974.592 awards_items.csv\n",
      "18-11-2024  15:26        30.901.082 awards_suppliers.csv\n",
      "18-11-2024  15:29       165.819.300 main.csv\n",
      "18-11-2024  15:31       370.417.597 parties.csv\n",
      "18-11-2024  15:30       243.504.970 parties_additionalIdentifiers.csv\n",
      "18-11-2024  15:30       287.507.728 tender_items.csv\n",
      "18-11-2024  15:27       103.927.462 tender_tenderers.csv\n",
      "               9 archivos  1.577.502.966 bytes\n",
      "               2 dirs  257.819.799.552 bytes libres\n",
      "c:\\Users\\camil\\OneDrive\\Documentos\\GitHub\\Proyecto-IMT-2200-1-Grupo-14\\Datos y trabajo con muestras\\Chile\n",
      "c:\\Users\\camil\\OneDrive\\Documentos\\GitHub\\Proyecto-IMT-2200-1-Grupo-14\\Datos y trabajo con muestras\n"
     ]
    }
   ],
   "source": [
    "%cd Chile\n",
    "%cd 2018\n",
    "%ls\n",
    "%cd ..\n",
    "%cd .."
   ]
  },
  {
   "cell_type": "code",
   "execution_count": 4,
   "id": "628dde2b-0089-492a-9c8f-11d720dc769e",
   "metadata": {},
   "outputs": [],
   "source": [
    "from os import path\n",
    "import pandas as pd\n",
    "\n",
    "camino = path.join(\"Chile\",\"2018\",\"main.csv\")\n",
    "df_main = pd.read_csv(camino, delimiter=\",\")\n",
    "\n",
    "\n",
    "camino = path.join(\"Chile\",\"2018\",\"awards.csv\")\n",
    "df_awards = pd.read_csv(camino, delimiter=\",\")\n",
    "\n",
    "camino = path.join(\"Chile\",\"2018\",\"awards_items.csv\")\n",
    "df_awards_items = pd.read_csv(camino, delimiter=\",\")\n",
    "\n",
    "camino = path.join(\"Chile\",\"2018\",\"awards_suppliers.csv\")\n",
    "df_awards_supplier = pd.read_csv(camino, delimiter=\",\")"
   ]
  },
  {
   "cell_type": "code",
   "execution_count": 5,
   "id": "f6ef6b40",
   "metadata": {},
   "outputs": [
    {
     "data": {
      "text/html": [
       "<div>\n",
       "<style scoped>\n",
       "    .dataframe tbody tr th:only-of-type {\n",
       "        vertical-align: middle;\n",
       "    }\n",
       "\n",
       "    .dataframe tbody tr th {\n",
       "        vertical-align: top;\n",
       "    }\n",
       "\n",
       "    .dataframe thead th {\n",
       "        text-align: right;\n",
       "    }\n",
       "</style>\n",
       "<table border=\"1\" class=\"dataframe\">\n",
       "  <thead>\n",
       "    <tr style=\"text-align: right;\">\n",
       "      <th></th>\n",
       "      <th>_link</th>\n",
       "      <th>id</th>\n",
       "      <th>tag</th>\n",
       "      <th>date</th>\n",
       "      <th>ocid</th>\n",
       "      <th>language</th>\n",
       "      <th>initiationType</th>\n",
       "      <th>buyer_id</th>\n",
       "      <th>buyer_name</th>\n",
       "      <th>tender_id</th>\n",
       "      <th>...</th>\n",
       "      <th>tender_tenderPeriod_startDate</th>\n",
       "      <th>tender_tenderPeriod_durationInDays</th>\n",
       "      <th>tender_enquiryPeriod_endDate</th>\n",
       "      <th>tender_enquiryPeriod_startDate</th>\n",
       "      <th>tender_enquiryPeriod_durationInDays</th>\n",
       "      <th>tender_procuringEntity_id</th>\n",
       "      <th>tender_procuringEntity_name</th>\n",
       "      <th>tender_value_amount</th>\n",
       "      <th>tender_value_currency</th>\n",
       "      <th>tender_value_unitOfAccount</th>\n",
       "    </tr>\n",
       "  </thead>\n",
       "  <tbody>\n",
       "    <tr>\n",
       "      <th>0</th>\n",
       "      <td>id-0.0</td>\n",
       "      <td>ocds-70d2nz-4548-142-L117-2018-12-31T11:27:18Z</td>\n",
       "      <td>compiled</td>\n",
       "      <td>2018-12-31T11:27:18Z</td>\n",
       "      <td>ocds-70d2nz-4548-142-L117</td>\n",
       "      <td>es</td>\n",
       "      <td>tender</td>\n",
       "      <td>CL-MP-5464</td>\n",
       "      <td>Ilustre Municipalidad de Quintero | UNIDAD NORMAL</td>\n",
       "      <td>4548-142-L117</td>\n",
       "      <td>...</td>\n",
       "      <td>2017-12-07T16:17:35Z</td>\n",
       "      <td>6.0</td>\n",
       "      <td>2017-12-10T20:04:00Z</td>\n",
       "      <td>2017-12-07T20:04:00Z</td>\n",
       "      <td>3.0</td>\n",
       "      <td>CL-MP-5464</td>\n",
       "      <td>Ilustre Municipalidad de Quintero | UNIDAD NORMAL</td>\n",
       "      <td>NaN</td>\n",
       "      <td>NaN</td>\n",
       "      <td>NaN</td>\n",
       "    </tr>\n",
       "    <tr>\n",
       "      <th>1</th>\n",
       "      <td>id-0.1</td>\n",
       "      <td>ocds-70d2nz-2409-1129-L117-2018-12-31T11:28:26Z</td>\n",
       "      <td>compiled</td>\n",
       "      <td>2018-12-31T11:28:26Z</td>\n",
       "      <td>ocds-70d2nz-2409-1129-L117</td>\n",
       "      <td>es</td>\n",
       "      <td>tender</td>\n",
       "      <td>CL-MP-3401</td>\n",
       "      <td>Municipalidad de Los Angeles | MUNICIPALIDAD D...</td>\n",
       "      <td>2409-1129-L117</td>\n",
       "      <td>...</td>\n",
       "      <td>2017-12-18T17:58:24Z</td>\n",
       "      <td>8.0</td>\n",
       "      <td>2017-12-20T14:30:00Z</td>\n",
       "      <td>2017-12-18T19:01:00Z</td>\n",
       "      <td>2.0</td>\n",
       "      <td>CL-MP-3401</td>\n",
       "      <td>Municipalidad de Los Angeles | MUNICIPALIDAD D...</td>\n",
       "      <td>300000.0</td>\n",
       "      <td>CLP</td>\n",
       "      <td>NaN</td>\n",
       "    </tr>\n",
       "    <tr>\n",
       "      <th>2</th>\n",
       "      <td>id-0.2</td>\n",
       "      <td>ocds-70d2nz-2961-811-L117-2018-12-31T11:29:05Z</td>\n",
       "      <td>compiled</td>\n",
       "      <td>2018-12-31T11:29:05Z</td>\n",
       "      <td>ocds-70d2nz-2961-811-L117</td>\n",
       "      <td>es</td>\n",
       "      <td>tender</td>\n",
       "      <td>CL-MP-3939</td>\n",
       "      <td>ILUSTRE MUNICIPALIDAD DE LA GRANJA | Adquisici...</td>\n",
       "      <td>2961-811-L117</td>\n",
       "      <td>...</td>\n",
       "      <td>2017-12-19T13:02:43Z</td>\n",
       "      <td>14.0</td>\n",
       "      <td>2017-12-28T17:00:00Z</td>\n",
       "      <td>2017-12-20T09:00:00Z</td>\n",
       "      <td>8.0</td>\n",
       "      <td>CL-MP-3939</td>\n",
       "      <td>ILUSTRE MUNICIPALIDAD DE LA GRANJA | Adquisici...</td>\n",
       "      <td>1452000.0</td>\n",
       "      <td>CLP</td>\n",
       "      <td>NaN</td>\n",
       "    </tr>\n",
       "    <tr>\n",
       "      <th>3</th>\n",
       "      <td>id-0.3</td>\n",
       "      <td>ocds-70d2nz-4858-195-L117-2018-12-31T11:21:15Z</td>\n",
       "      <td>compiled</td>\n",
       "      <td>2018-12-31T11:21:15Z</td>\n",
       "      <td>ocds-70d2nz-4858-195-L117</td>\n",
       "      <td>es</td>\n",
       "      <td>tender</td>\n",
       "      <td>CL-MP-5772</td>\n",
       "      <td>Municipalidad de Tirúa | Ilustre Municipalidad...</td>\n",
       "      <td>4858-195-L117</td>\n",
       "      <td>...</td>\n",
       "      <td>2017-12-15T12:23:25Z</td>\n",
       "      <td>6.0</td>\n",
       "      <td>2017-12-18T15:01:00Z</td>\n",
       "      <td>2017-12-15T15:52:00Z</td>\n",
       "      <td>3.0</td>\n",
       "      <td>CL-MP-5772</td>\n",
       "      <td>Municipalidad de Tirúa | Ilustre Municipalidad...</td>\n",
       "      <td>900000.0</td>\n",
       "      <td>CLP</td>\n",
       "      <td>NaN</td>\n",
       "    </tr>\n",
       "    <tr>\n",
       "      <th>4</th>\n",
       "      <td>id-0.4</td>\n",
       "      <td>ocds-70d2nz-2409-975-LE17-2018-12-31T11:20:54Z</td>\n",
       "      <td>compiled</td>\n",
       "      <td>2018-12-31T11:20:54Z</td>\n",
       "      <td>ocds-70d2nz-2409-975-LE17</td>\n",
       "      <td>es</td>\n",
       "      <td>tender</td>\n",
       "      <td>CL-MP-3401</td>\n",
       "      <td>Municipalidad de Los Angeles | MUNICIPALIDAD D...</td>\n",
       "      <td>2409-975-LE17</td>\n",
       "      <td>...</td>\n",
       "      <td>2017-12-05T17:11:36Z</td>\n",
       "      <td>6.0</td>\n",
       "      <td>2017-12-06T17:30:00Z</td>\n",
       "      <td>2017-12-05T17:15:00Z</td>\n",
       "      <td>1.0</td>\n",
       "      <td>CL-MP-3401</td>\n",
       "      <td>Municipalidad de Los Angeles | MUNICIPALIDAD D...</td>\n",
       "      <td>6000000.0</td>\n",
       "      <td>CLP</td>\n",
       "      <td>NaN</td>\n",
       "    </tr>\n",
       "  </tbody>\n",
       "</table>\n",
       "<p>5 rows × 30 columns</p>\n",
       "</div>"
      ],
      "text/plain": [
       "    _link                                               id       tag  \\\n",
       "0  id-0.0   ocds-70d2nz-4548-142-L117-2018-12-31T11:27:18Z  compiled   \n",
       "1  id-0.1  ocds-70d2nz-2409-1129-L117-2018-12-31T11:28:26Z  compiled   \n",
       "2  id-0.2   ocds-70d2nz-2961-811-L117-2018-12-31T11:29:05Z  compiled   \n",
       "3  id-0.3   ocds-70d2nz-4858-195-L117-2018-12-31T11:21:15Z  compiled   \n",
       "4  id-0.4   ocds-70d2nz-2409-975-LE17-2018-12-31T11:20:54Z  compiled   \n",
       "\n",
       "                   date                        ocid language initiationType  \\\n",
       "0  2018-12-31T11:27:18Z   ocds-70d2nz-4548-142-L117       es         tender   \n",
       "1  2018-12-31T11:28:26Z  ocds-70d2nz-2409-1129-L117       es         tender   \n",
       "2  2018-12-31T11:29:05Z   ocds-70d2nz-2961-811-L117       es         tender   \n",
       "3  2018-12-31T11:21:15Z   ocds-70d2nz-4858-195-L117       es         tender   \n",
       "4  2018-12-31T11:20:54Z   ocds-70d2nz-2409-975-LE17       es         tender   \n",
       "\n",
       "     buyer_id                                         buyer_name  \\\n",
       "0  CL-MP-5464  Ilustre Municipalidad de Quintero | UNIDAD NORMAL   \n",
       "1  CL-MP-3401  Municipalidad de Los Angeles | MUNICIPALIDAD D...   \n",
       "2  CL-MP-3939  ILUSTRE MUNICIPALIDAD DE LA GRANJA | Adquisici...   \n",
       "3  CL-MP-5772  Municipalidad de Tirúa | Ilustre Municipalidad...   \n",
       "4  CL-MP-3401  Municipalidad de Los Angeles | MUNICIPALIDAD D...   \n",
       "\n",
       "        tender_id  ... tender_tenderPeriod_startDate  \\\n",
       "0   4548-142-L117  ...          2017-12-07T16:17:35Z   \n",
       "1  2409-1129-L117  ...          2017-12-18T17:58:24Z   \n",
       "2   2961-811-L117  ...          2017-12-19T13:02:43Z   \n",
       "3   4858-195-L117  ...          2017-12-15T12:23:25Z   \n",
       "4   2409-975-LE17  ...          2017-12-05T17:11:36Z   \n",
       "\n",
       "  tender_tenderPeriod_durationInDays tender_enquiryPeriod_endDate  \\\n",
       "0                                6.0         2017-12-10T20:04:00Z   \n",
       "1                                8.0         2017-12-20T14:30:00Z   \n",
       "2                               14.0         2017-12-28T17:00:00Z   \n",
       "3                                6.0         2017-12-18T15:01:00Z   \n",
       "4                                6.0         2017-12-06T17:30:00Z   \n",
       "\n",
       "  tender_enquiryPeriod_startDate  tender_enquiryPeriod_durationInDays  \\\n",
       "0           2017-12-07T20:04:00Z                                  3.0   \n",
       "1           2017-12-18T19:01:00Z                                  2.0   \n",
       "2           2017-12-20T09:00:00Z                                  8.0   \n",
       "3           2017-12-15T15:52:00Z                                  3.0   \n",
       "4           2017-12-05T17:15:00Z                                  1.0   \n",
       "\n",
       "  tender_procuringEntity_id  \\\n",
       "0                CL-MP-5464   \n",
       "1                CL-MP-3401   \n",
       "2                CL-MP-3939   \n",
       "3                CL-MP-5772   \n",
       "4                CL-MP-3401   \n",
       "\n",
       "                         tender_procuringEntity_name tender_value_amount  \\\n",
       "0  Ilustre Municipalidad de Quintero | UNIDAD NORMAL                 NaN   \n",
       "1  Municipalidad de Los Angeles | MUNICIPALIDAD D...            300000.0   \n",
       "2  ILUSTRE MUNICIPALIDAD DE LA GRANJA | Adquisici...           1452000.0   \n",
       "3  Municipalidad de Tirúa | Ilustre Municipalidad...            900000.0   \n",
       "4  Municipalidad de Los Angeles | MUNICIPALIDAD D...           6000000.0   \n",
       "\n",
       "   tender_value_currency tender_value_unitOfAccount  \n",
       "0                    NaN                        NaN  \n",
       "1                    CLP                        NaN  \n",
       "2                    CLP                        NaN  \n",
       "3                    CLP                        NaN  \n",
       "4                    CLP                        NaN  \n",
       "\n",
       "[5 rows x 30 columns]"
      ]
     },
     "execution_count": 5,
     "metadata": {},
     "output_type": "execute_result"
    }
   ],
   "source": [
    "df_main.head()"
   ]
  },
  {
   "cell_type": "code",
   "execution_count": 6,
   "id": "10efe513",
   "metadata": {},
   "outputs": [
    {
     "data": {
      "text/html": [
       "<div>\n",
       "<style scoped>\n",
       "    .dataframe tbody tr th:only-of-type {\n",
       "        vertical-align: middle;\n",
       "    }\n",
       "\n",
       "    .dataframe tbody tr th {\n",
       "        vertical-align: top;\n",
       "    }\n",
       "\n",
       "    .dataframe thead th {\n",
       "        text-align: right;\n",
       "    }\n",
       "</style>\n",
       "<table border=\"1\" class=\"dataframe\">\n",
       "  <thead>\n",
       "    <tr style=\"text-align: right;\">\n",
       "      <th></th>\n",
       "      <th>_link</th>\n",
       "      <th>_link_awards</th>\n",
       "      <th>_link_main</th>\n",
       "      <th>id</th>\n",
       "      <th>description</th>\n",
       "      <th>quantity</th>\n",
       "      <th>unit_name</th>\n",
       "      <th>unit_value_amount</th>\n",
       "      <th>unit_value_currency</th>\n",
       "      <th>classification_id</th>\n",
       "      <th>classification_uri</th>\n",
       "      <th>classification_scheme</th>\n",
       "      <th>unit_value_unitOfAccount</th>\n",
       "    </tr>\n",
       "  </thead>\n",
       "  <tbody>\n",
       "    <tr>\n",
       "      <th>0</th>\n",
       "      <td>id-0.0.awards.0.items.0</td>\n",
       "      <td>id-0.0.awards.0</td>\n",
       "      <td>id-0.0</td>\n",
       "      <td>36425198</td>\n",
       "      <td>SE ADJUNTA DETALLE CON REQUERIMIENTOS DE JUEGO...</td>\n",
       "      <td>1.0</td>\n",
       "      <td>Unidad</td>\n",
       "      <td>690000.0</td>\n",
       "      <td>CLP</td>\n",
       "      <td>60141012</td>\n",
       "      <td>https://apis.mercadopublico.cl/OCDS/data/produ...</td>\n",
       "      <td>UNSPSC</td>\n",
       "      <td>NaN</td>\n",
       "    </tr>\n",
       "    <tr>\n",
       "      <th>1</th>\n",
       "      <td>id-0.2.awards.0.items.0</td>\n",
       "      <td>id-0.2.awards.0</td>\n",
       "      <td>id-0.2</td>\n",
       "      <td>36451829</td>\n",
       "      <td>MAMPARAS SE ADJUNTA ANEXO CON ESPECIFICACIONES...</td>\n",
       "      <td>1.0</td>\n",
       "      <td>Unidad</td>\n",
       "      <td>870000.0</td>\n",
       "      <td>CLP</td>\n",
       "      <td>30171501</td>\n",
       "      <td>https://apis.mercadopublico.cl/OCDS/data/produ...</td>\n",
       "      <td>UNSPSC</td>\n",
       "      <td>NaN</td>\n",
       "    </tr>\n",
       "    <tr>\n",
       "      <th>2</th>\n",
       "      <td>id-0.4.awards.0.items.0</td>\n",
       "      <td>id-0.4.awards.0</td>\n",
       "      <td>id-0.4</td>\n",
       "      <td>36342031</td>\n",
       "      <td>SE REQUIERE SERVICIO DE CAPACITACIÓN TEMA \"ENS...</td>\n",
       "      <td>1.0</td>\n",
       "      <td>Unidad</td>\n",
       "      <td>6000000.0</td>\n",
       "      <td>CLP</td>\n",
       "      <td>86141501</td>\n",
       "      <td>https://apis.mercadopublico.cl/OCDS/data/produ...</td>\n",
       "      <td>UNSPSC</td>\n",
       "      <td>NaN</td>\n",
       "    </tr>\n",
       "    <tr>\n",
       "      <th>3</th>\n",
       "      <td>id-0.5.awards.0.items.0</td>\n",
       "      <td>id-0.5.awards.0</td>\n",
       "      <td>id-0.5</td>\n",
       "      <td>36460630</td>\n",
       "      <td>platina de fierro,barra de fierro, 20 mm de an...</td>\n",
       "      <td>4.0</td>\n",
       "      <td>Unidad</td>\n",
       "      <td>4995.0</td>\n",
       "      <td>CLP</td>\n",
       "      <td>30102201</td>\n",
       "      <td>https://apis.mercadopublico.cl/OCDS/data/produ...</td>\n",
       "      <td>UNSPSC</td>\n",
       "      <td>NaN</td>\n",
       "    </tr>\n",
       "    <tr>\n",
       "      <th>4</th>\n",
       "      <td>id-0.5.awards.0.items.1</td>\n",
       "      <td>id-0.5.awards.0</td>\n",
       "      <td>id-0.5</td>\n",
       "      <td>36460632</td>\n",
       "      <td>set de 3 pelotas de tenis</td>\n",
       "      <td>4.0</td>\n",
       "      <td>Kit</td>\n",
       "      <td>4538.0</td>\n",
       "      <td>CLP</td>\n",
       "      <td>49161604</td>\n",
       "      <td>https://apis.mercadopublico.cl/OCDS/data/produ...</td>\n",
       "      <td>UNSPSC</td>\n",
       "      <td>NaN</td>\n",
       "    </tr>\n",
       "  </tbody>\n",
       "</table>\n",
       "</div>"
      ],
      "text/plain": [
       "                     _link     _link_awards _link_main        id  \\\n",
       "0  id-0.0.awards.0.items.0  id-0.0.awards.0     id-0.0  36425198   \n",
       "1  id-0.2.awards.0.items.0  id-0.2.awards.0     id-0.2  36451829   \n",
       "2  id-0.4.awards.0.items.0  id-0.4.awards.0     id-0.4  36342031   \n",
       "3  id-0.5.awards.0.items.0  id-0.5.awards.0     id-0.5  36460630   \n",
       "4  id-0.5.awards.0.items.1  id-0.5.awards.0     id-0.5  36460632   \n",
       "\n",
       "                                         description  quantity unit_name  \\\n",
       "0  SE ADJUNTA DETALLE CON REQUERIMIENTOS DE JUEGO...       1.0    Unidad   \n",
       "1  MAMPARAS SE ADJUNTA ANEXO CON ESPECIFICACIONES...       1.0    Unidad   \n",
       "2  SE REQUIERE SERVICIO DE CAPACITACIÓN TEMA \"ENS...       1.0    Unidad   \n",
       "3  platina de fierro,barra de fierro, 20 mm de an...       4.0    Unidad   \n",
       "4                          set de 3 pelotas de tenis       4.0       Kit   \n",
       "\n",
       "   unit_value_amount unit_value_currency  classification_id  \\\n",
       "0           690000.0                 CLP           60141012   \n",
       "1           870000.0                 CLP           30171501   \n",
       "2          6000000.0                 CLP           86141501   \n",
       "3             4995.0                 CLP           30102201   \n",
       "4             4538.0                 CLP           49161604   \n",
       "\n",
       "                                  classification_uri classification_scheme  \\\n",
       "0  https://apis.mercadopublico.cl/OCDS/data/produ...                UNSPSC   \n",
       "1  https://apis.mercadopublico.cl/OCDS/data/produ...                UNSPSC   \n",
       "2  https://apis.mercadopublico.cl/OCDS/data/produ...                UNSPSC   \n",
       "3  https://apis.mercadopublico.cl/OCDS/data/produ...                UNSPSC   \n",
       "4  https://apis.mercadopublico.cl/OCDS/data/produ...                UNSPSC   \n",
       "\n",
       "  unit_value_unitOfAccount  \n",
       "0                      NaN  \n",
       "1                      NaN  \n",
       "2                      NaN  \n",
       "3                      NaN  \n",
       "4                      NaN  "
      ]
     },
     "execution_count": 6,
     "metadata": {},
     "output_type": "execute_result"
    }
   ],
   "source": [
    "df_awards_items.head()"
   ]
  },
  {
   "cell_type": "code",
   "execution_count": 7,
   "id": "9909ac27",
   "metadata": {},
   "outputs": [
    {
     "data": {
      "text/html": [
       "<div>\n",
       "<style scoped>\n",
       "    .dataframe tbody tr th:only-of-type {\n",
       "        vertical-align: middle;\n",
       "    }\n",
       "\n",
       "    .dataframe tbody tr th {\n",
       "        vertical-align: top;\n",
       "    }\n",
       "\n",
       "    .dataframe thead th {\n",
       "        text-align: right;\n",
       "    }\n",
       "</style>\n",
       "<table border=\"1\" class=\"dataframe\">\n",
       "  <thead>\n",
       "    <tr style=\"text-align: right;\">\n",
       "      <th></th>\n",
       "      <th>_link</th>\n",
       "      <th>_link_awards</th>\n",
       "      <th>_link_main</th>\n",
       "      <th>id</th>\n",
       "      <th>name</th>\n",
       "    </tr>\n",
       "  </thead>\n",
       "  <tbody>\n",
       "    <tr>\n",
       "      <th>0</th>\n",
       "      <td>id-0.0.awards.0.suppliers.0</td>\n",
       "      <td>id-0.0.awards.0</td>\n",
       "      <td>id-0.0</td>\n",
       "      <td>CL-MP-836904</td>\n",
       "      <td>JOSÉ MIGUEL  | JOSÉ MIGUEL</td>\n",
       "    </tr>\n",
       "    <tr>\n",
       "      <th>1</th>\n",
       "      <td>id-0.2.awards.0.suppliers.0</td>\n",
       "      <td>id-0.2.awards.0</td>\n",
       "      <td>id-0.2</td>\n",
       "      <td>CL-MP-200536</td>\n",
       "      <td>Todovidrios | Vidrieria las condes 7002</td>\n",
       "    </tr>\n",
       "    <tr>\n",
       "      <th>2</th>\n",
       "      <td>id-0.4.awards.0.suppliers.0</td>\n",
       "      <td>id-0.4.awards.0</td>\n",
       "      <td>id-0.4</td>\n",
       "      <td>CL-MP-909666</td>\n",
       "      <td>Jorge Alejandro | Jorge Alejandro</td>\n",
       "    </tr>\n",
       "    <tr>\n",
       "      <th>3</th>\n",
       "      <td>id-0.5.awards.0.suppliers.0</td>\n",
       "      <td>id-0.5.awards.0</td>\n",
       "      <td>id-0.5</td>\n",
       "      <td>CL-MP-24062</td>\n",
       "      <td>INSTITUTO ORTOPEDICO Y DE REHABILITACION IOR L...</td>\n",
       "    </tr>\n",
       "    <tr>\n",
       "      <th>4</th>\n",
       "      <td>id-0.5.awards.0.suppliers.1</td>\n",
       "      <td>id-0.5.awards.0</td>\n",
       "      <td>id-0.5</td>\n",
       "      <td>CL-MP-69821</td>\n",
       "      <td>RICARDO RODRIGUEZ Y CIA. LTDA. | RICARDO RODRI...</td>\n",
       "    </tr>\n",
       "  </tbody>\n",
       "</table>\n",
       "</div>"
      ],
      "text/plain": [
       "                         _link     _link_awards _link_main            id  \\\n",
       "0  id-0.0.awards.0.suppliers.0  id-0.0.awards.0     id-0.0  CL-MP-836904   \n",
       "1  id-0.2.awards.0.suppliers.0  id-0.2.awards.0     id-0.2  CL-MP-200536   \n",
       "2  id-0.4.awards.0.suppliers.0  id-0.4.awards.0     id-0.4  CL-MP-909666   \n",
       "3  id-0.5.awards.0.suppliers.0  id-0.5.awards.0     id-0.5   CL-MP-24062   \n",
       "4  id-0.5.awards.0.suppliers.1  id-0.5.awards.0     id-0.5   CL-MP-69821   \n",
       "\n",
       "                                                name  \n",
       "0                        JOSÉ MIGUEL  | JOSÉ MIGUEL   \n",
       "1            Todovidrios | Vidrieria las condes 7002  \n",
       "2                  Jorge Alejandro | Jorge Alejandro  \n",
       "3  INSTITUTO ORTOPEDICO Y DE REHABILITACION IOR L...  \n",
       "4  RICARDO RODRIGUEZ Y CIA. LTDA. | RICARDO RODRI...  "
      ]
     },
     "execution_count": 7,
     "metadata": {},
     "output_type": "execute_result"
    }
   ],
   "source": [
    "df_awards_supplier.head()"
   ]
  },
  {
   "cell_type": "code",
   "execution_count": 8,
   "id": "d19a31a6",
   "metadata": {},
   "outputs": [
    {
     "data": {
      "text/html": [
       "<div>\n",
       "<style scoped>\n",
       "    .dataframe tbody tr th:only-of-type {\n",
       "        vertical-align: middle;\n",
       "    }\n",
       "\n",
       "    .dataframe tbody tr th {\n",
       "        vertical-align: top;\n",
       "    }\n",
       "\n",
       "    .dataframe thead th {\n",
       "        text-align: right;\n",
       "    }\n",
       "</style>\n",
       "<table border=\"1\" class=\"dataframe\">\n",
       "  <thead>\n",
       "    <tr style=\"text-align: right;\">\n",
       "      <th></th>\n",
       "      <th>_link</th>\n",
       "      <th>_link_main</th>\n",
       "      <th>id</th>\n",
       "      <th>date</th>\n",
       "      <th>description</th>\n",
       "      <th>title</th>\n",
       "      <th>status</th>\n",
       "      <th>value_amount</th>\n",
       "      <th>value_currency</th>\n",
       "      <th>value_unitOfAccount</th>\n",
       "    </tr>\n",
       "  </thead>\n",
       "  <tbody>\n",
       "    <tr>\n",
       "      <th>0</th>\n",
       "      <td>id-0.0.awards.0</td>\n",
       "      <td>id-0.0</td>\n",
       "      <td>8270925</td>\n",
       "      <td>2017-12-23T13:23:24Z</td>\n",
       "      <td>DIDECO - NAVIDAD COMUNAL - JUEGOS INFLABLES\\r\\...</td>\n",
       "      <td>DIDECO - NAVIDAD COMUNAL - JUEGOS INFLABLES</td>\n",
       "      <td>active</td>\n",
       "      <td>690000.0</td>\n",
       "      <td>CLP</td>\n",
       "      <td>NaN</td>\n",
       "    </tr>\n",
       "    <tr>\n",
       "      <th>1</th>\n",
       "      <td>id-0.1.awards.0</td>\n",
       "      <td>id-0.1</td>\n",
       "      <td>8274205</td>\n",
       "      <td>NaN</td>\n",
       "      <td>CONFECCIÓN E INSTALACIÓN DE PROTECCIONES METAL...</td>\n",
       "      <td>CONFECCIÓN E INSTALACIÓN DE PROTECCIONES METÁL...</td>\n",
       "      <td>unsuccessful</td>\n",
       "      <td>NaN</td>\n",
       "      <td>NaN</td>\n",
       "      <td>NaN</td>\n",
       "    </tr>\n",
       "    <tr>\n",
       "      <th>2</th>\n",
       "      <td>id-0.2.awards.0</td>\n",
       "      <td>id-0.2</td>\n",
       "      <td>8275841</td>\n",
       "      <td>2018-02-02T11:16:54Z</td>\n",
       "      <td>sm80 sp3565 servicios generales</td>\n",
       "      <td>Reparacion de mamparas</td>\n",
       "      <td>active</td>\n",
       "      <td>870000.0</td>\n",
       "      <td>CLP</td>\n",
       "      <td>NaN</td>\n",
       "    </tr>\n",
       "    <tr>\n",
       "      <th>3</th>\n",
       "      <td>id-0.3.awards.0</td>\n",
       "      <td>id-0.3</td>\n",
       "      <td>8254526</td>\n",
       "      <td>2017-12-26T18:19:33Z</td>\n",
       "      <td>VISITA A HUERTO ORGANICO DE BERRIES HUBICADO E...</td>\n",
       "      <td>VISTA A HUERTO ORGANICO DE BERRIES HUBICADO EN...</td>\n",
       "      <td>unsuccessful</td>\n",
       "      <td>NaN</td>\n",
       "      <td>NaN</td>\n",
       "      <td>NaN</td>\n",
       "    </tr>\n",
       "    <tr>\n",
       "      <th>4</th>\n",
       "      <td>id-0.4.awards.0</td>\n",
       "      <td>id-0.4</td>\n",
       "      <td>8253535</td>\n",
       "      <td>2017-12-21T18:17:23Z</td>\n",
       "      <td>CAPACITACIÓN PARA DOCENTES DE LA ESC. F-929 - ...</td>\n",
       "      <td>CAPACITACIÓN PARA DOCENTES DE LA ESC. F-929 - ...</td>\n",
       "      <td>active</td>\n",
       "      <td>6000000.0</td>\n",
       "      <td>CLP</td>\n",
       "      <td>NaN</td>\n",
       "    </tr>\n",
       "  </tbody>\n",
       "</table>\n",
       "</div>"
      ],
      "text/plain": [
       "             _link _link_main       id                  date  \\\n",
       "0  id-0.0.awards.0     id-0.0  8270925  2017-12-23T13:23:24Z   \n",
       "1  id-0.1.awards.0     id-0.1  8274205                   NaN   \n",
       "2  id-0.2.awards.0     id-0.2  8275841  2018-02-02T11:16:54Z   \n",
       "3  id-0.3.awards.0     id-0.3  8254526  2017-12-26T18:19:33Z   \n",
       "4  id-0.4.awards.0     id-0.4  8253535  2017-12-21T18:17:23Z   \n",
       "\n",
       "                                         description  \\\n",
       "0  DIDECO - NAVIDAD COMUNAL - JUEGOS INFLABLES\\r\\...   \n",
       "1  CONFECCIÓN E INSTALACIÓN DE PROTECCIONES METAL...   \n",
       "2                    sm80 sp3565 servicios generales   \n",
       "3  VISITA A HUERTO ORGANICO DE BERRIES HUBICADO E...   \n",
       "4  CAPACITACIÓN PARA DOCENTES DE LA ESC. F-929 - ...   \n",
       "\n",
       "                                               title        status  \\\n",
       "0        DIDECO - NAVIDAD COMUNAL - JUEGOS INFLABLES        active   \n",
       "1  CONFECCIÓN E INSTALACIÓN DE PROTECCIONES METÁL...  unsuccessful   \n",
       "2                             Reparacion de mamparas        active   \n",
       "3  VISTA A HUERTO ORGANICO DE BERRIES HUBICADO EN...  unsuccessful   \n",
       "4  CAPACITACIÓN PARA DOCENTES DE LA ESC. F-929 - ...        active   \n",
       "\n",
       "   value_amount value_currency value_unitOfAccount  \n",
       "0      690000.0            CLP                 NaN  \n",
       "1           NaN            NaN                 NaN  \n",
       "2      870000.0            CLP                 NaN  \n",
       "3           NaN            NaN                 NaN  \n",
       "4     6000000.0            CLP                 NaN  "
      ]
     },
     "execution_count": 8,
     "metadata": {},
     "output_type": "execute_result"
    }
   ],
   "source": [
    "df_awards.head()"
   ]
  },
  {
   "cell_type": "code",
   "execution_count": 9,
   "id": "372f365c",
   "metadata": {},
   "outputs": [
    {
     "data": {
      "text/plain": [
       "Index(['_link', 'id', 'tag', 'date', 'ocid', 'language', 'initiationType',\n",
       "       'buyer_id', 'buyer_name', 'tender_id',\n",
       "       'tender_procurementMethodDetails', 'tender_title', 'tender_status',\n",
       "       'tender_procurementMethod', 'tender_hasEnquiries', 'tender_description',\n",
       "       'tender_awardPeriod_endDate', 'tender_awardPeriod_startDate',\n",
       "       'tender_awardPeriod_durationInDays', 'tender_tenderPeriod_endDate',\n",
       "       'tender_tenderPeriod_startDate', 'tender_tenderPeriod_durationInDays',\n",
       "       'tender_enquiryPeriod_endDate', 'tender_enquiryPeriod_startDate',\n",
       "       'tender_enquiryPeriod_durationInDays', 'tender_procuringEntity_id',\n",
       "       'tender_procuringEntity_name', 'tender_value_amount',\n",
       "       'tender_value_currency', 'tender_value_unitOfAccount'],\n",
       "      dtype='object')"
      ]
     },
     "execution_count": 9,
     "metadata": {},
     "output_type": "execute_result"
    }
   ],
   "source": [
    "df_main.columns"
   ]
  },
  {
   "cell_type": "code",
   "execution_count": 10,
   "id": "31f7ca01",
   "metadata": {},
   "outputs": [
    {
     "data": {
      "text/plain": [
       "0              Licitación Pública Menor a 100 UTM (L1)\n",
       "1              Licitación Pública Menor a 100 UTM (L1)\n",
       "2              Licitación Pública Menor a 100 UTM (L1)\n",
       "3              Licitación Pública Menor a 100 UTM (L1)\n",
       "4         Licitación Pública Entre 100 y 1000 UTM (LE)\n",
       "                              ...                     \n",
       "244869         Licitación Pública Menor a 100 UTM (L1)\n",
       "244870         Licitación Pública Menor a 100 UTM (L1)\n",
       "244871         Licitación Pública Menor a 100 UTM (L1)\n",
       "244872    Licitación Pública Entre 100 y 1000 UTM (LE)\n",
       "244873         Licitación Pública Menor a 100 UTM (L1)\n",
       "Name: tender_procurementMethodDetails, Length: 244874, dtype: object"
      ]
     },
     "execution_count": 10,
     "metadata": {},
     "output_type": "execute_result"
    }
   ],
   "source": [
    "df_main[\"tender_procurementMethodDetails\"]"
   ]
  },
  {
   "cell_type": "code",
   "execution_count": 11,
   "id": "2327727a",
   "metadata": {},
   "outputs": [
    {
     "data": {
      "text/plain": [
       "array(['DIDECO - NAVIDAD COMUNAL - JUEGOS INFLABLES\\nCORRELATIVO GENERAL N° 1721 \\nSOLICITUD N° 600 \\nDE FECHA 29-11-2017',\n",
       "       'CONFECCIÓN E INSTALACIÓN DE PROTECCIONES METALICAS EN PUERTAS ESCUELA F-881.\\nÍTEM 22.06.001\\n\\n',\n",
       "       'sm80 sp3565 servicios generales', ...,\n",
       "       'Compra de materiales con el cual se hará mantención de alumbrado publico en la comuna.-',\n",
       "       'Adquisición de Materiales de Construcción',\n",
       "       'Asesoría Técnica de la Obra para la supervisión de la Ejecución de las obras del\\nproyecto denominado Construcción Alcantarillado Sector Pachacamita La Calera.'],\n",
       "      dtype=object)"
      ]
     },
     "execution_count": 11,
     "metadata": {},
     "output_type": "execute_result"
    }
   ],
   "source": [
    "df_main[\"tender_description\"].unique()"
   ]
  },
  {
   "cell_type": "code",
   "execution_count": 12,
   "id": "91424abf",
   "metadata": {},
   "outputs": [
    {
     "data": {
      "text/plain": [
       "array(['complete', 'unsuccessful', 'active', 'cancelled', 'planned'],\n",
       "      dtype=object)"
      ]
     },
     "execution_count": 12,
     "metadata": {},
     "output_type": "execute_result"
    }
   ],
   "source": [
    "df_main[\"tender_status\"].unique()"
   ]
  },
  {
   "cell_type": "code",
   "execution_count": 13,
   "id": "38febaaa",
   "metadata": {},
   "outputs": [
    {
     "data": {
      "text/plain": [
       "array(['DIDECO - NAVIDAD COMUNAL - JUEGOS INFLABLES',\n",
       "       'CONFECCIÓN E INSTALACIÓN DE PROTECCIONES METÁLICAS EN PUERTAS ESCUELA F-881 ',\n",
       "       'Reparacion de mamparas', ...,\n",
       "       'Adquisición de materiales para Canil',\n",
       "       'MATERIALES PARA MANTENIMIENTO ALUMBRADO PUBLICO.-',\n",
       "       'ASESORÍA TÉCNICA OBRA ALCANTARILLADO PACHACAMITA'], dtype=object)"
      ]
     },
     "execution_count": 13,
     "metadata": {},
     "output_type": "execute_result"
    }
   ],
   "source": [
    "df_main[\"tender_title\"].unique()"
   ]
  },
  {
   "cell_type": "code",
   "execution_count": 14,
   "id": "b1f1e7c8",
   "metadata": {},
   "outputs": [],
   "source": [
    "df_main.drop(columns=['id', 'tag', 'date', 'ocid', 'language', 'buyer_name', 'tender_id', 'tender_title', 'tender_description', 'tender_procuringEntity_id'], inplace=True)"
   ]
  },
  {
   "cell_type": "code",
   "execution_count": 15,
   "id": "49a136b9",
   "metadata": {},
   "outputs": [
    {
     "data": {
      "text/plain": [
       "Index(['_link', '_link_main', 'id', 'date', 'description', 'title', 'status',\n",
       "       'value_amount', 'value_currency', 'value_unitOfAccount'],\n",
       "      dtype='object')"
      ]
     },
     "execution_count": 15,
     "metadata": {},
     "output_type": "execute_result"
    }
   ],
   "source": [
    "df_awards.columns"
   ]
  },
  {
   "cell_type": "code",
   "execution_count": 16,
   "id": "03a9fcb5",
   "metadata": {},
   "outputs": [
    {
     "data": {
      "text/plain": [
       "array(['DIDECO - NAVIDAD COMUNAL - JUEGOS INFLABLES',\n",
       "       'CONFECCIÓN E INSTALACIÓN DE PROTECCIONES METÁLICAS EN PUERTAS ESCUELA F-881 ',\n",
       "       'Reparacion de mamparas', ...,\n",
       "       'Adquisición de materiales para Canil',\n",
       "       'MATERIALES PARA MANTENIMIENTO ALUMBRADO PUBLICO.-',\n",
       "       'ASESORÍA TÉCNICA OBRA ALCANTARILLADO PACHACAMITA'], dtype=object)"
      ]
     },
     "execution_count": 16,
     "metadata": {},
     "output_type": "execute_result"
    }
   ],
   "source": [
    "df_awards[\"title\"].unique()"
   ]
  },
  {
   "cell_type": "code",
   "execution_count": 17,
   "id": "8a4b6fb1",
   "metadata": {},
   "outputs": [
    {
     "data": {
      "text/plain": [
       "array(['active', 'unsuccessful', 'cancelled', 'pending'], dtype=object)"
      ]
     },
     "execution_count": 17,
     "metadata": {},
     "output_type": "execute_result"
    }
   ],
   "source": [
    "df_awards[\"status\"].unique()"
   ]
  },
  {
   "cell_type": "code",
   "execution_count": 18,
   "id": "b590e5df",
   "metadata": {},
   "outputs": [
    {
     "data": {
      "text/plain": [
       "array(['DIDECO - NAVIDAD COMUNAL - JUEGOS INFLABLES\\r\\nCORRELATIVO GENERAL N° 1721 \\r\\nSOLICITUD N° 600 \\r\\nDE FECHA 29-11-2017',\n",
       "       'CONFECCIÓN E INSTALACIÓN DE PROTECCIONES METALICAS EN PUERTAS ESCUELA F-881.\\r\\nÍTEM 22.06.001\\r\\n\\r\\n',\n",
       "       'sm80 sp3565 servicios generales', ...,\n",
       "       'Compra de materiales con el cual se hará mantención de alumbrado publico en la comuna.-',\n",
       "       'Adquisición de Materiales de Construcción',\n",
       "       'Asesoría Técnica de la Obra para la supervisión de la Ejecución de las obras del\\r\\nproyecto denominado Construcción Alcantarillado Sector Pachacamita La Calera.'],\n",
       "      dtype=object)"
      ]
     },
     "execution_count": 18,
     "metadata": {},
     "output_type": "execute_result"
    }
   ],
   "source": [
    "df_awards[\"description\"].unique()"
   ]
  },
  {
   "cell_type": "code",
   "execution_count": 19,
   "id": "f61ce30b",
   "metadata": {},
   "outputs": [
    {
     "data": {
      "text/html": [
       "<div>\n",
       "<style scoped>\n",
       "    .dataframe tbody tr th:only-of-type {\n",
       "        vertical-align: middle;\n",
       "    }\n",
       "\n",
       "    .dataframe tbody tr th {\n",
       "        vertical-align: top;\n",
       "    }\n",
       "\n",
       "    .dataframe thead th {\n",
       "        text-align: right;\n",
       "    }\n",
       "</style>\n",
       "<table border=\"1\" class=\"dataframe\">\n",
       "  <thead>\n",
       "    <tr style=\"text-align: right;\">\n",
       "      <th></th>\n",
       "      <th>_link</th>\n",
       "      <th>_link_main</th>\n",
       "      <th>date</th>\n",
       "      <th>status</th>\n",
       "      <th>value_amount</th>\n",
       "      <th>value_currency</th>\n",
       "      <th>value_unitOfAccount</th>\n",
       "    </tr>\n",
       "  </thead>\n",
       "  <tbody>\n",
       "    <tr>\n",
       "      <th>0</th>\n",
       "      <td>id-0.0.awards.0</td>\n",
       "      <td>id-0.0</td>\n",
       "      <td>2017-12-23T13:23:24Z</td>\n",
       "      <td>active</td>\n",
       "      <td>690000.0</td>\n",
       "      <td>CLP</td>\n",
       "      <td>NaN</td>\n",
       "    </tr>\n",
       "    <tr>\n",
       "      <th>1</th>\n",
       "      <td>id-0.1.awards.0</td>\n",
       "      <td>id-0.1</td>\n",
       "      <td>NaN</td>\n",
       "      <td>unsuccessful</td>\n",
       "      <td>NaN</td>\n",
       "      <td>NaN</td>\n",
       "      <td>NaN</td>\n",
       "    </tr>\n",
       "    <tr>\n",
       "      <th>2</th>\n",
       "      <td>id-0.2.awards.0</td>\n",
       "      <td>id-0.2</td>\n",
       "      <td>2018-02-02T11:16:54Z</td>\n",
       "      <td>active</td>\n",
       "      <td>870000.0</td>\n",
       "      <td>CLP</td>\n",
       "      <td>NaN</td>\n",
       "    </tr>\n",
       "    <tr>\n",
       "      <th>3</th>\n",
       "      <td>id-0.3.awards.0</td>\n",
       "      <td>id-0.3</td>\n",
       "      <td>2017-12-26T18:19:33Z</td>\n",
       "      <td>unsuccessful</td>\n",
       "      <td>NaN</td>\n",
       "      <td>NaN</td>\n",
       "      <td>NaN</td>\n",
       "    </tr>\n",
       "    <tr>\n",
       "      <th>4</th>\n",
       "      <td>id-0.4.awards.0</td>\n",
       "      <td>id-0.4</td>\n",
       "      <td>2017-12-21T18:17:23Z</td>\n",
       "      <td>active</td>\n",
       "      <td>6000000.0</td>\n",
       "      <td>CLP</td>\n",
       "      <td>NaN</td>\n",
       "    </tr>\n",
       "    <tr>\n",
       "      <th>...</th>\n",
       "      <td>...</td>\n",
       "      <td>...</td>\n",
       "      <td>...</td>\n",
       "      <td>...</td>\n",
       "      <td>...</td>\n",
       "      <td>...</td>\n",
       "      <td>...</td>\n",
       "    </tr>\n",
       "    <tr>\n",
       "      <th>240016</th>\n",
       "      <td>id-15.15076.awards.0</td>\n",
       "      <td>id-15.15076</td>\n",
       "      <td>2016-03-14T10:25:23Z</td>\n",
       "      <td>active</td>\n",
       "      <td>150190.0</td>\n",
       "      <td>CLP</td>\n",
       "      <td>NaN</td>\n",
       "    </tr>\n",
       "    <tr>\n",
       "      <th>240017</th>\n",
       "      <td>id-15.15077.awards.0</td>\n",
       "      <td>id-15.15077</td>\n",
       "      <td>2016-03-22T14:01:39Z</td>\n",
       "      <td>active</td>\n",
       "      <td>1902475.0</td>\n",
       "      <td>CLP</td>\n",
       "      <td>NaN</td>\n",
       "    </tr>\n",
       "    <tr>\n",
       "      <th>240018</th>\n",
       "      <td>id-15.15078.awards.0</td>\n",
       "      <td>id-15.15078</td>\n",
       "      <td>2016-03-21T15:44:13Z</td>\n",
       "      <td>active</td>\n",
       "      <td>135070.0</td>\n",
       "      <td>CLP</td>\n",
       "      <td>NaN</td>\n",
       "    </tr>\n",
       "    <tr>\n",
       "      <th>240019</th>\n",
       "      <td>id-15.15079.awards.0</td>\n",
       "      <td>id-15.15079</td>\n",
       "      <td>2016-05-30T19:57:32Z</td>\n",
       "      <td>active</td>\n",
       "      <td>12200000.0</td>\n",
       "      <td>CLP</td>\n",
       "      <td>NaN</td>\n",
       "    </tr>\n",
       "    <tr>\n",
       "      <th>240020</th>\n",
       "      <td>id-15.15080.awards.0</td>\n",
       "      <td>id-15.15080</td>\n",
       "      <td>2016-02-19T16:06:59Z</td>\n",
       "      <td>active</td>\n",
       "      <td>1103810.0</td>\n",
       "      <td>CLP</td>\n",
       "      <td>NaN</td>\n",
       "    </tr>\n",
       "  </tbody>\n",
       "</table>\n",
       "<p>240021 rows × 7 columns</p>\n",
       "</div>"
      ],
      "text/plain": [
       "                       _link   _link_main                  date        status  \\\n",
       "0            id-0.0.awards.0       id-0.0  2017-12-23T13:23:24Z        active   \n",
       "1            id-0.1.awards.0       id-0.1                   NaN  unsuccessful   \n",
       "2            id-0.2.awards.0       id-0.2  2018-02-02T11:16:54Z        active   \n",
       "3            id-0.3.awards.0       id-0.3  2017-12-26T18:19:33Z  unsuccessful   \n",
       "4            id-0.4.awards.0       id-0.4  2017-12-21T18:17:23Z        active   \n",
       "...                      ...          ...                   ...           ...   \n",
       "240016  id-15.15076.awards.0  id-15.15076  2016-03-14T10:25:23Z        active   \n",
       "240017  id-15.15077.awards.0  id-15.15077  2016-03-22T14:01:39Z        active   \n",
       "240018  id-15.15078.awards.0  id-15.15078  2016-03-21T15:44:13Z        active   \n",
       "240019  id-15.15079.awards.0  id-15.15079  2016-05-30T19:57:32Z        active   \n",
       "240020  id-15.15080.awards.0  id-15.15080  2016-02-19T16:06:59Z        active   \n",
       "\n",
       "        value_amount value_currency value_unitOfAccount  \n",
       "0           690000.0            CLP                 NaN  \n",
       "1                NaN            NaN                 NaN  \n",
       "2           870000.0            CLP                 NaN  \n",
       "3                NaN            NaN                 NaN  \n",
       "4          6000000.0            CLP                 NaN  \n",
       "...              ...            ...                 ...  \n",
       "240016      150190.0            CLP                 NaN  \n",
       "240017     1902475.0            CLP                 NaN  \n",
       "240018      135070.0            CLP                 NaN  \n",
       "240019    12200000.0            CLP                 NaN  \n",
       "240020     1103810.0            CLP                 NaN  \n",
       "\n",
       "[240021 rows x 7 columns]"
      ]
     },
     "execution_count": 19,
     "metadata": {},
     "output_type": "execute_result"
    }
   ],
   "source": [
    "df_awards.drop(columns=['id', 'description', 'title'])"
   ]
  },
  {
   "cell_type": "code",
   "execution_count": 20,
   "id": "26bb95a8",
   "metadata": {},
   "outputs": [
    {
     "data": {
      "text/plain": [
       "Index(['_link', '_link_awards', '_link_main', 'id', 'description', 'quantity',\n",
       "       'unit_name', 'unit_value_amount', 'unit_value_currency',\n",
       "       'classification_id', 'classification_uri', 'classification_scheme',\n",
       "       'unit_value_unitOfAccount'],\n",
       "      dtype='object')"
      ]
     },
     "execution_count": 20,
     "metadata": {},
     "output_type": "execute_result"
    }
   ],
   "source": [
    "df_awards_items.columns"
   ]
  },
  {
   "cell_type": "code",
   "execution_count": 21,
   "id": "af40986c",
   "metadata": {},
   "outputs": [
    {
     "data": {
      "text/plain": [
       "count     129\n",
       "unique      1\n",
       "top       UTM\n",
       "freq      129\n",
       "Name: unit_value_unitOfAccount, dtype: object"
      ]
     },
     "execution_count": 21,
     "metadata": {},
     "output_type": "execute_result"
    }
   ],
   "source": [
    "df_awards_items[\"unit_value_unitOfAccount\"].describe()"
   ]
  },
  {
   "cell_type": "code",
   "execution_count": 22,
   "id": "c22475c8",
   "metadata": {},
   "outputs": [],
   "source": [
    "df_awards_items.drop(columns=['classification_uri', 'classification_scheme','unit_value_unitOfAccount'], inplace=True)"
   ]
  },
  {
   "cell_type": "code",
   "execution_count": null,
   "id": "a21b8632",
   "metadata": {},
   "outputs": [],
   "source": []
  },
  {
   "cell_type": "code",
   "execution_count": null,
   "id": "3ef8656b",
   "metadata": {},
   "outputs": [],
   "source": []
  },
  {
   "cell_type": "code",
   "execution_count": null,
   "id": "f7238dc0",
   "metadata": {},
   "outputs": [],
   "source": []
  },
  {
   "cell_type": "markdown",
   "id": "b7116cd1",
   "metadata": {},
   "source": [
    "Se cargan los documentos main, awards, award_items y award_suppliers, a un DataFrame, se limpiaran los datos haciendo drop de columnas irrelevantes y/o repetidas."
   ]
  },
  {
   "cell_type": "code",
   "execution_count": null,
   "id": "80b05fc9",
   "metadata": {},
   "outputs": [],
   "source": [
    "df_2018 = df_main"
   ]
  },
  {
   "cell_type": "code",
   "execution_count": null,
   "id": "52d320ab",
   "metadata": {},
   "outputs": [],
   "source": [
    "df_2018.columns"
   ]
  },
  {
   "cell_type": "code",
   "execution_count": null,
   "id": "d5aef537-d068-4319-9555-3ed88113cb23",
   "metadata": {},
   "outputs": [],
   "source": [
    "df_2018.drop(columns=[\"id\",\"ocid\",\"tender_procuringEntity_id\", \"_link_awards_items.csv\",\"id_awards_items.csv\", \"tender_id\", \"buyer_id\", \"_link_awards_y\", \"_link_awards_x\"], inplace=True)\n",
    "df_2018.drop(columns=[\"classification_uri\", \"_link_awards.csv\", \"id_awards.csv\", \"id_awards_suppliers.csv\", \"unit_value_unitOfAccount\", \"value_unitOfAccount\", \"language\" ], inplace=True)\n",
    "df_2018.columns"
   ]
  },
  {
   "cell_type": "markdown",
   "id": "de23485d",
   "metadata": {},
   "source": [
    "Se eliminan las columnas con datos que permiten la identificación dentro del sistema del que se originan, puesto que no son pertinentes para los analisis a realizarse."
   ]
  },
  {
   "cell_type": "code",
   "execution_count": null,
   "id": "83a78d2f-8422-4915-b436-e8be6729a347",
   "metadata": {},
   "outputs": [],
   "source": [
    "df_2018[[\"date_y\", \"date_x\"]]"
   ]
  },
  {
   "cell_type": "markdown",
   "id": "860bba2a",
   "metadata": {},
   "source": [
    "Se comparan _date_y y _date_x y se observa que son distintas por lo que se mantienen, pero se cambia el nombre."
   ]
  },
  {
   "cell_type": "code",
   "execution_count": null,
   "id": "6840642c-9fc6-4048-99ed-6c674dd96813",
   "metadata": {},
   "outputs": [],
   "source": [
    "df_2018.rename(columns={\"name\": \"Award_supplier_name\", 'date_y': 'date_award', \"date_x\": 'date_main'}, inplace= True)"
   ]
  },
  {
   "cell_type": "markdown",
   "id": "dea99784",
   "metadata": {},
   "source": [
    "Se revisarán que las filas no posean solo un dato, si sucede, se eliminarán. (Se ignorarán las filas que evidentemente poseen más de un dato)."
   ]
  },
  {
   "cell_type": "code",
   "execution_count": null,
   "id": "0492687b",
   "metadata": {},
   "outputs": [],
   "source": [
    "df_iguales = pd.DataFrame(df_2018[\"tender_value_amount\"] == df_2018[\"value_amount\"])\n",
    "df_iguales.head()"
   ]
  },
  {
   "cell_type": "code",
   "execution_count": null,
   "id": "e456c1b6",
   "metadata": {},
   "outputs": [],
   "source": [
    "df_iguales.rename(columns={0: \"tender_value_amount == value_amount\"}, inplace=True)"
   ]
  },
  {
   "cell_type": "code",
   "execution_count": null,
   "id": "89b163a3",
   "metadata": {},
   "outputs": [],
   "source": [
    "df_iguales[\"tender_value_amount == unit_value_amount\"] = df_2018[\"tender_value_amount\"] == df_2018[\"unit_value_amount\"]\n",
    "df_iguales[\"value_amount == unit_value_amount\"] = df_2018[\"value_amount\"] == df_2018[\"unit_value_amount\"]\n",
    "\n",
    "df_iguales[\"tender_value_currency == value_currency\"] = df_2018[\"tender_value_currency\"] == df_2018[\"value_currency\"]\n",
    "df_iguales[\"tender_value_currency == unit_value_currency\"] = df_2018[\"tender_value_currency\"] == df_2018[\"unit_value_currency\"]\n",
    "df_iguales[\"unit_value_currency == value_currency\"] = df_2018[\"unit_value_currency\"] == df_2018[\"value_currency\"]\n",
    "df_iguales[\"buyer == procuring_entity\"] = df_2018[\"buyer_name\"] == df_2018[\"tender_procuringEntity_name\"]"
   ]
  },
  {
   "cell_type": "code",
   "execution_count": null,
   "id": "d6091532",
   "metadata": {},
   "outputs": [],
   "source": [
    "for columna in df_iguales.columns:\n",
    "    print(columna, df_iguales[columna].unique())"
   ]
  },
  {
   "cell_type": "code",
   "execution_count": null,
   "id": "eeeac003",
   "metadata": {},
   "outputs": [],
   "source": [
    "df_2018.drop(columns=[\"buyer_name\"], inplace=True)"
   ]
  },
  {
   "cell_type": "markdown",
   "id": "b83fe6c4",
   "metadata": {},
   "source": [
    "Se observa que solo las columnas buyer y procuring_entity son iguales entre si, por lo que se eliminará buyer_name."
   ]
  },
  {
   "cell_type": "code",
   "execution_count": null,
   "id": "ca4c3d1f",
   "metadata": {},
   "outputs": [],
   "source": [
    "duplicates = df_2018.duplicated(keep=False)\n",
    "dups = df_2018[duplicates]\n",
    "dups.head(10)"
   ]
  },
  {
   "cell_type": "markdown",
   "id": "6496eba5-c370-41c7-b02c-8aefde550dfe",
   "metadata": {},
   "source": [
    "Se tiene en consideración que dentro de un mismo proceso de licitación pueden existir diferentes entidades que ofrecen cubrir las necesidades planteadas al publicar la licitación, por lo que se mantendran los duplicados."
   ]
  },
  {
   "cell_type": "markdown",
   "id": "560175c1",
   "metadata": {},
   "source": [
    "Se cambiarán algunas columnas a category."
   ]
  },
  {
   "cell_type": "code",
   "execution_count": null,
   "id": "a65c74d0",
   "metadata": {},
   "outputs": [],
   "source": [
    "for columna in df_2018.columns:\n",
    "    print(\"\\n\")\n",
    "    print(columna)\n",
    "    print(\"\\n\")\n",
    "    print(df_2018[columna].unique())\n",
    "    print(\"\\n\")\n",
    "    print(\"########################################################################################\")"
   ]
  },
  {
   "cell_type": "markdown",
   "id": "298fd8c4",
   "metadata": {},
   "source": [
    "Se utilizan la pagina <<https://api.mercadopublico.cl/modules/Licitacion.aspx>> para crear el diccionario."
   ]
  },
  {
   "cell_type": "code",
   "execution_count": null,
   "id": "d579f602",
   "metadata": {},
   "outputs": [],
   "source": [
    "\n",
    "tipos_licitaciones ={'Licitación Pública Menor a 100 UTM (L1)': \"L1\",\n",
    "       'Licitación Pública Entre 100 y 1000 UTM (LE)': \"LE\",\n",
    "       'Licitación Pública Mayor 1000 UTM (LP)': \"LP\",\n",
    "       'Licitación Pública entre a 2000 y 5000 UTM (LQ)':\"LQ\",\n",
    "       'Licitación Pública Mayor a 5000 (LR)' :\"LR\",\n",
    "       'Licitación Privada entre a 2000 y 5000 UTM (H2)':\"H2\",\n",
    "       'Licitación Pública Servicios personales especializados (LS)':\"LS\",\n",
    "       \"Licitación Privada por Licitación Pública anterior sin oferentes (A1)\" : \"A1\",\n",
    "       \"Licitación Privada por Remanente de Contrato anterior (B1)\": \"B1\",\n",
    "       \"Licitación Privada por Convenios con Personas Jurídicas Extranjeras fuera del Territorio Nacional (E1)\": \"E1\",\n",
    "       \"Licitación Privada por Servicios de Naturaleza Confidencial (F1)\": \"F1\",\n",
    "       \"Licitación Privada por otras causales, excluidas de la ley de Compras (J1)\": \"J1\",\n",
    "       \"Licitación Privada entre 100 y 1000 UTM\" :\"CO\", \"Licitación Privada Mayor a 1000 UTM\": \"B2\",\n",
    "       \"Trato Directo por Producto de Licitación Privada anterior sin oferentes o desierta\": \"A2\",\n",
    "       \"Trato Directo por Proveedor Único (D1)\": \"D1\",\"Licitación Privada Menor a 100 UTM\" : \"E2\", \"Trato Directo (Cotización) (C2)\" : \"C2\",\n",
    "       \"Compra Directa (Orden de compra) (C1)\" : \"C1\", \"Trato Directo (Cotización) (F2)\" :\"F2\", \"Compra Directa (Orden de compra) (F3)\" : \"F3\",\n",
    "       \"Directo (Cotización) (G2)\" : \"G2\", \"Compra Directa (Orden de compra) (G1)\" : \"G1\",\n",
    "       \"Orden de Compra menor a 3 UTM (R1)\" : \"R1\", \"Orden de Compra sin Resolución (CA)\" : \"CA\", \n",
    "       \"Orden de Compra proveniente de adquisición sin emisión automática de OC (SE)\" : \"SE\"}\n",
    "\n",
    "\n",
    "df_2018[\"tender_procurementMethodDetails\"] = df_2018[\"tender_procurementMethodDetails\"].map(tipos_licitaciones)\n",
    "df_2018[\"tender_procurementMethodDetails\"] = df_2018[\"tender_procurementMethodDetails\"].astype(\"category\")"
   ]
  },
  {
   "cell_type": "code",
   "execution_count": null,
   "id": "df25f9d0",
   "metadata": {},
   "outputs": [],
   "source": [
    "df_2018[\"unit_value_currency\"].isna()"
   ]
  },
  {
   "cell_type": "markdown",
   "id": "c9b4b0f1-117a-4b14-9423-7b03319293e0",
   "metadata": {},
   "source": [
    "Se cambiarán las columnas que contienen información de fechas a objetos de tipo DateTime."
   ]
  },
  {
   "cell_type": "code",
   "execution_count": null,
   "id": "2cfc26e1-bee8-40a0-810e-bc45c2ffa62f",
   "metadata": {},
   "outputs": [],
   "source": [
    "df_2018.columns"
   ]
  },
  {
   "cell_type": "code",
   "execution_count": null,
   "id": "2975a70b-d533-40ff-9a84-e47166bd05ce",
   "metadata": {},
   "outputs": [],
   "source": [
    "df_respaldo_ = df_2018"
   ]
  },
  {
   "cell_type": "code",
   "execution_count": null,
   "id": "8fe1c745",
   "metadata": {},
   "outputs": [],
   "source": [
    "df_2018[\"date_main\"] = pd.to_datetime(df_2018['date_main'], format='%Y-%m-%dT%H:%M:%SZ')"
   ]
  },
  {
   "cell_type": "code",
   "execution_count": null,
   "id": "a5273c47-5ece-409a-a2b7-e7efabc970df",
   "metadata": {},
   "outputs": [],
   "source": [
    "df_2018[\"date_award\"] = pd.to_datetime(df_2018['date_award'], format='%Y-%m-%dT%H:%M:%SZ')"
   ]
  },
  {
   "cell_type": "code",
   "execution_count": null,
   "id": "6899fa8f-cbf3-4ac6-8556-fac140aec093",
   "metadata": {},
   "outputs": [],
   "source": [
    "df_2018[\"tender_enquiryPeriod_startDate\"] = pd.to_datetime(df_2018['tender_enquiryPeriod_startDate'], format='%Y-%m-%dT%H:%M:%SZ')"
   ]
  },
  {
   "cell_type": "code",
   "execution_count": null,
   "id": "51133731",
   "metadata": {},
   "outputs": [],
   "source": [
    "df_2018[\"tender_enquiryPeriod_endDate\"] = pd.to_datetime(df_2018['tender_enquiryPeriod_endDate'], format='%Y-%m-%dT%H:%M:%SZ')"
   ]
  },
  {
   "cell_type": "code",
   "execution_count": null,
   "id": "82cd45cb-18ca-40ac-89e4-eb24030d361f",
   "metadata": {},
   "outputs": [],
   "source": [
    "df_2018['tender_tenderPeriod_startDate'] = pd.to_datetime(df_2018['tender_tenderPeriod_startDate'], format='%Y-%m-%dT%H:%M:%SZ')"
   ]
  },
  {
   "cell_type": "markdown",
   "id": "b66a8775",
   "metadata": {},
   "source": [
    "Al parecer hay un error en la fila 1, eliminemosla."
   ]
  },
  {
   "cell_type": "code",
   "execution_count": null,
   "id": "9517e829",
   "metadata": {},
   "outputs": [],
   "source": [
    "df_2018 = df_2018.drop(df_2018[df_2018[\"tender_tenderPeriod_endDate\"] == \"a\"].index)"
   ]
  },
  {
   "cell_type": "code",
   "execution_count": null,
   "id": "c3cb6cc3",
   "metadata": {},
   "outputs": [],
   "source": [
    "df_2018[\"tender_tenderPeriod_endDate\"]"
   ]
  },
  {
   "cell_type": "code",
   "execution_count": null,
   "id": "eab1355c",
   "metadata": {},
   "outputs": [],
   "source": [
    "df_2018[\"tender_tenderPeriod_endDate\"] = pd.to_datetime(df_2018['tender_tenderPeriod_endDate'], format='%Y-%m-%dT%H:%M:%SZ')"
   ]
  },
  {
   "cell_type": "code",
   "execution_count": null,
   "id": "b3f8d6d9",
   "metadata": {},
   "outputs": [],
   "source": [
    "df_2018['tender_awardPeriod_startDate'] = pd.to_datetime(df_2018['tender_awardPeriod_startDate'], format='%Y-%m-%dT%H:%M:%SZ')"
   ]
  },
  {
   "cell_type": "markdown",
   "id": "0efeb1ae",
   "metadata": {},
   "source": [
    "Hay un error en el formato de una fila con contenido <5017-05-05T17:00:00Z>, se eliminará."
   ]
  },
  {
   "cell_type": "code",
   "execution_count": null,
   "id": "76f5bfc1",
   "metadata": {},
   "outputs": [],
   "source": [
    "df_2018[df_2018[\"tender_awardPeriod_endDate\"] == \"5017-05-05T17:00:00Z\"].index\n"
   ]
  },
  {
   "cell_type": "code",
   "execution_count": null,
   "id": "2e6bbaf5",
   "metadata": {},
   "outputs": [],
   "source": [
    "df_2018.drop(df_2018[df_2018[\"tender_awardPeriod_endDate\"] == \"5017-05-05T17:00:00Z\"].index, axis=0, inplace=True)"
   ]
  },
  {
   "cell_type": "code",
   "execution_count": null,
   "id": "020a63c4",
   "metadata": {},
   "outputs": [],
   "source": [
    "df_2018['tender_awardPeriod_endDate'] = pd.to_datetime(df_2018['tender_awardPeriod_endDate'], format='%Y-%m-%dT%H:%M:%SZ')"
   ]
  },
  {
   "cell_type": "code",
   "execution_count": null,
   "id": "753c7c2a",
   "metadata": {},
   "outputs": [],
   "source": [
    "df_2018['tender_enquiryPeriod_durationInDays'] = df_2018['tender_enquiryPeriod_endDate'] - df_2018['tender_enquiryPeriod_startDate'] "
   ]
  },
  {
   "cell_type": "code",
   "execution_count": null,
   "id": "dda8db1e",
   "metadata": {},
   "outputs": [],
   "source": [
    "df_2018['tender_awardPeriod_durationInDays'] = df_2018['tender_awardPeriod_endDate'] - df_2018['tender_awardPeriod_startDate']"
   ]
  },
  {
   "cell_type": "code",
   "execution_count": null,
   "id": "70388a22",
   "metadata": {},
   "outputs": [],
   "source": [
    "df_2018['tender_tenderPeriod_durationInDays'] = df_2018['tender_tenderPeriod_endDate'] - df_2018['tender_tenderPeriod_startDate']"
   ]
  },
  {
   "cell_type": "markdown",
   "id": "46da75d0",
   "metadata": {},
   "source": [
    "## Filtro según fecha"
   ]
  },
  {
   "cell_type": "markdown",
   "id": "2fc08dd9",
   "metadata": {},
   "source": [
    "Aqui realizaremos un filtro de las licitaciones en base a cuando se iniciaron y cuando terminaron respecto a lo relacionado al 2018. En este caso seleccionaremos las licitaciones cuyo periodo de envio de aplicaciones para determinar la adjudicación comenzó despúes que el 01/09/2017 y la finalización del proceso de adjudicación antes del 01/01/2019."
   ]
  },
  {
   "cell_type": "code",
   "execution_count": null,
   "id": "e0310232",
   "metadata": {},
   "outputs": [],
   "source": [
    "fecha_filtro = '2017-09-01'\n",
    "df_filtrado = df_2018.loc[df_2018['tender_tenderPeriod_startDate'] >= fecha_filtro]"
   ]
  },
  {
   "cell_type": "code",
   "execution_count": null,
   "id": "072a5ecc",
   "metadata": {},
   "outputs": [],
   "source": [
    "fecha_filtro = '2019-01-01'\n",
    "df_filtrado = df_filtrado.loc[df_filtrado['tender_awardPeriod_endDate'] < fecha_filtro]"
   ]
  },
  {
   "cell_type": "code",
   "execution_count": null,
   "id": "a72863e7",
   "metadata": {},
   "outputs": [],
   "source": [
    "df_filtrado.head()"
   ]
  },
  {
   "cell_type": "code",
   "execution_count": null,
   "id": "9fcbd78e",
   "metadata": {},
   "outputs": [],
   "source": [
    "df_filtrado.reset_index(drop=True, inplace=True)"
   ]
  },
  {
   "cell_type": "markdown",
   "id": "4e0fc2b3",
   "metadata": {},
   "source": [
    "## Limpieza de datos nulos"
   ]
  },
  {
   "cell_type": "markdown",
   "id": "fbdcb75b",
   "metadata": {},
   "source": [
    "Se revisan filas con valores nulos."
   ]
  },
  {
   "cell_type": "code",
   "execution_count": null,
   "id": "5a695abc",
   "metadata": {},
   "outputs": [],
   "source": [
    "Datos_with_NaN = df_filtrado.loc[:, df_filtrado.isna().any()]"
   ]
  },
  {
   "cell_type": "code",
   "execution_count": null,
   "id": "70154f89",
   "metadata": {},
   "outputs": [],
   "source": [
    "print(f\"La cantidad de datos NaN es de: {len(Datos_with_NaN[Datos_with_NaN.isna().any(axis=1)])} en todo el dataframe de {len(df_filtrado)}\")"
   ]
  },
  {
   "cell_type": "code",
   "execution_count": null,
   "id": "bc1d82b7",
   "metadata": {},
   "outputs": [],
   "source": [
    "df_filtrado[['tender_value_amount','tender_value_currency', 'value_amount', 'value_currency', 'quantity','unit_name', 'unit_value_amount', 'unit_value_currency']].info()\n"
   ]
  },
  {
   "cell_type": "code",
   "execution_count": null,
   "id": "34a1b768",
   "metadata": {},
   "outputs": [],
   "source": [
    "nan_tender_v = df_filtrado[df_filtrado['value_currency'].isna()]\n",
    "nan_tender_v[[\"value_currency\", \"value_amount\",\"unit_value_currency\", \"unit_value_amount\",\"tender_value_amount\", \"tender_value_currency\", \"status\", \"tender_hasEnquiries\"]]"
   ]
  },
  {
   "cell_type": "code",
   "execution_count": null,
   "id": "ae168050",
   "metadata": {},
   "outputs": [],
   "source": [
    "nan_tender_v[\"status\"].unique()"
   ]
  },
  {
   "cell_type": "code",
   "execution_count": null,
   "id": "ec696eb8",
   "metadata": {},
   "outputs": [],
   "source": [
    "non_nan_t= df_filtrado.loc[df_filtrado.dropna(subset=\"value_currency\").index]\n",
    "non_nan_t[[\"value_currency\", \"value_amount\",\"unit_value_currency\", \"unit_value_amount\",\"tender_value_amount\", \"tender_value_currency\", \"status\", \"tender_hasEnquiries\"]].head()"
   ]
  },
  {
   "cell_type": "code",
   "execution_count": null,
   "id": "1aee1663",
   "metadata": {},
   "outputs": [],
   "source": [
    "non_nan_t[\"status\"].unique()"
   ]
  },
  {
   "cell_type": "markdown",
   "id": "4040421f",
   "metadata": {},
   "source": [
    "Como se puede observar los casos con valores NaN en valores pertinentes al costo de la licitación se ven relacionados a que el status de la licitación <unsuccessful> por lo que se cambiara el valor NaN para estos casos por \"Licitación no completada\", para no tener problemas en eliminar otras filas."
   ]
  },
  {
   "cell_type": "code",
   "execution_count": null,
   "id": "9c0c3135",
   "metadata": {},
   "outputs": [],
   "source": [
    "df_filtrado[\"value_currency\"] = df_filtrado[\"value_currency\"].replace(np.nan, \"No aplica\")\n",
    "df_filtrado[\"unit_value_currency\"] = df_filtrado[\"unit_value_currency\"].replace(np.nan, \"No aplica\")\n",
    "df_filtrado[\"unit_value_amount\"] = df_filtrado[\"unit_value_amount\"].replace(np.nan, \"No aplica\")\n",
    "df_filtrado[\"value_amount\"] = df_filtrado[\"value_amount\"].replace(np.nan, \"No aplica\")\n",
    "df_filtrado[\"tender_value_currency\"] = df_filtrado[\"tender_value_currency\"].replace(np.nan, \"No aplica\")\n",
    "df_filtrado[\"tender_value_amount\"] = df_filtrado[\"tender_value_amount\"].replace(np.nan, \"No aplica\")\n",
    "df_filtrado[\"Award_supplier_name\"] = df_filtrado[\"Award_supplier_name\"]"
   ]
  },
  {
   "cell_type": "code",
   "execution_count": null,
   "id": "530c7b0e",
   "metadata": {},
   "outputs": [],
   "source": [
    "df_filtrado[\"value_currency\"] = df_filtrado[\"value_currency\"].astype(\"category\")\n",
    "df_filtrado[\"unit_value_currency\"] = df_filtrado[\"unit_value_currency\"].astype(\"category\")\n",
    "df_filtrado[\"tender_value_currency\"] = df_filtrado[\"tender_value_currency\"].astype(\"category\")"
   ]
  },
  {
   "cell_type": "markdown",
   "id": "a32585d6",
   "metadata": {},
   "source": [
    "En base a esta información se vera según casos los valores NaN."
   ]
  },
  {
   "cell_type": "code",
   "execution_count": null,
   "id": "80b06e74",
   "metadata": {},
   "outputs": [],
   "source": [
    "df_filtrado[[\"tender_tenderPeriod_durationInDays\", \"tender_awardPeriod_durationInDays\", \"tender_enquiryPeriod_durationInDays\"]].info()"
   ]
  },
  {
   "cell_type": "code",
   "execution_count": null,
   "id": "d2b97581",
   "metadata": {},
   "outputs": [],
   "source": [
    "df_filtrado.info()"
   ]
  },
  {
   "cell_type": "markdown",
   "id": "9cdcd717",
   "metadata": {},
   "source": [
    "Teniendo en cuenta que ya resolvimos los problemas que pueden causar las licitaciones no completadas, podemos realizar un dropna."
   ]
  },
  {
   "cell_type": "code",
   "execution_count": null,
   "id": "cd7f48c5",
   "metadata": {},
   "outputs": [],
   "source": [
    "df_filt_2018 = df_filtrado.dropna(subset=[\"status\"])\n",
    "df_filt_2018.info()"
   ]
  },
  {
   "cell_type": "code",
   "execution_count": null,
   "id": "0c1da3c7",
   "metadata": {},
   "outputs": [],
   "source": [
    "df_filtrado.loc[df_filtrado[\"link\"].isna().index].info()"
   ]
  },
  {
   "cell_type": "code",
   "execution_count": null,
   "id": "dc69f8dd",
   "metadata": {},
   "outputs": [],
   "source": []
  },
  {
   "cell_type": "code",
   "execution_count": null,
   "id": "c88565cb",
   "metadata": {},
   "outputs": [],
   "source": []
  },
  {
   "cell_type": "markdown",
   "id": "7342cda8",
   "metadata": {},
   "source": [
    "## Otros lectura y limpieza de otros DataFrames."
   ]
  },
  {
   "cell_type": "code",
   "execution_count": null,
   "id": "ca49f415",
   "metadata": {},
   "outputs": [],
   "source": [
    "camino = path.join(\"Chile\",\"2018\", \"awards_documents.csv\")\n",
    "df_award_documents = pd.read_csv(camino, sep=\",\")\n",
    "df_award_documents.head()"
   ]
  },
  {
   "cell_type": "code",
   "execution_count": null,
   "id": "f1cd60d0",
   "metadata": {},
   "outputs": [],
   "source": [
    "camino = path.join(\"Chile\",\"2018\", \"parties.csv\")\n",
    "df_parties = pd.read_csv(camino, sep=\",\")\n",
    "df_parties.head()"
   ]
  },
  {
   "cell_type": "code",
   "execution_count": null,
   "id": "d4b52206",
   "metadata": {},
   "outputs": [],
   "source": [
    "df_parties.info()"
   ]
  },
  {
   "cell_type": "code",
   "execution_count": null,
   "id": "133601d8",
   "metadata": {},
   "outputs": [],
   "source": [
    "df_parties.columns"
   ]
  },
  {
   "cell_type": "code",
   "execution_count": null,
   "id": "2c7a86b6",
   "metadata": {},
   "outputs": [],
   "source": [
    "df_parties.drop(columns=['id', 'address_streetAddress', \"identifier_id\", 'identifier_scheme','identifier_legalName', 'contactPoint_name', 'contactPoint_email','contactPoint_telephone', 'contactPoint_faxNumber'], inplace=True)"
   ]
  },
  {
   "cell_type": "markdown",
   "id": "2c4282d9",
   "metadata": {},
   "source": [
    "Se eliminan estas columnas porque ofrecen información que no es de interes, ni se puede utilizar para obtener información en alguna de las paginas relacionadas al dataset."
   ]
  },
  {
   "cell_type": "code",
   "execution_count": null,
   "id": "f7997854",
   "metadata": {},
   "outputs": [],
   "source": [
    "df_parties.info()"
   ]
  },
  {
   "cell_type": "code",
   "execution_count": null,
   "id": "043028aa",
   "metadata": {},
   "outputs": [],
   "source": [
    "camino = path.join(\"Chile\",\"2018\", \"parties_additionalIdentifiers.csv\")\n",
    "df_parties_add = pd.read_csv(camino, sep=\",\")\n",
    "df_parties_add.head()"
   ]
  },
  {
   "cell_type": "code",
   "execution_count": null,
   "id": "58fc1f6d",
   "metadata": {},
   "outputs": [],
   "source": [
    "df_parties_add.iloc[3][\"uri\"]"
   ]
  },
  {
   "cell_type": "markdown",
   "id": "c55ed6be",
   "metadata": {},
   "source": [
    "No se realizará merge, puesto que no tiene información adicional que sea relevante y no se puede utilizar"
   ]
  },
  {
   "cell_type": "code",
   "execution_count": null,
   "id": "d9084d22",
   "metadata": {},
   "outputs": [],
   "source": [
    "camino = path.join(\"Chile\",\"2018\", \"tender_items.csv\")\n",
    "df_tender_item = pd.read_csv(camino, sep=\",\")\n",
    "df_tender_item.head()"
   ]
  },
  {
   "cell_type": "markdown",
   "id": "8f522add",
   "metadata": {},
   "source": [
    "No se utilizara este dataframe en un merge, porque ya se tiene un dataframe más completo para obtenerla información que no se tiene en el df_filtrado   "
   ]
  },
  {
   "cell_type": "code",
   "execution_count": null,
   "id": "39a71902",
   "metadata": {},
   "outputs": [],
   "source": [
    "camino = path.join(\"Chile\",\"2018\", \"tender_tenderers.csv\")\n",
    "df_tender_tenderers = pd.read_csv(camino, sep=\",\")"
   ]
  },
  {
   "cell_type": "code",
   "execution_count": null,
   "id": "e4b7cfa0",
   "metadata": {},
   "outputs": [],
   "source": [
    "df_tender_tenderers.head()"
   ]
  },
  {
   "cell_type": "code",
   "execution_count": null,
   "id": "4f2b9ad4",
   "metadata": {},
   "outputs": [],
   "source": [
    "df_tender_tenderers.info()"
   ]
  },
  {
   "cell_type": "markdown",
   "id": "31615858",
   "metadata": {},
   "source": [
    "No se utilizará este dataframe, puesto que ya se tiene toda la información que entrega"
   ]
  },
  {
   "cell_type": "code",
   "execution_count": null,
   "id": "9038253b",
   "metadata": {},
   "outputs": [],
   "source": [
    "df_clasificaciones = pd.read_excel(\"unspcs-clasificador-de-bienes-y-servicios-de-naciones-unidas-en-espanol.xlsx\", skiprows=5)\n",
    "df_clasificaciones.head(10)"
   ]
  },
  {
   "cell_type": "markdown",
   "id": "f53b60b9",
   "metadata": {},
   "source": [
    "El dataframe df_clasificaciones corresponde a un conjunto de datos que posee el significado de cada objeto solicitados según la codificación UNSPSC, por lo que se hara merge con el df_main para saber que se esta comprando en cada licitación, se desecharán algunas de las columnas de df_clasificaciones para esto."
   ]
  },
  {
   "cell_type": "code",
   "execution_count": null,
   "id": "be3a72e7",
   "metadata": {},
   "outputs": [],
   "source": [
    "df_clasificaciones.drop(columns=[\"Código segmento\",\"Código Familia\",\"Nombre Familia\",\"Nombre Clase\",\"Código Clase\"], inplace=True)"
   ]
  },
  {
   "cell_type": "code",
   "execution_count": null,
   "id": "907504a7",
   "metadata": {},
   "outputs": [],
   "source": [
    "# df_main = df_main.merge(df_clasificaciones, left_on=\"classification_id\", right_on=\"Código Producto\")"
   ]
  },
  {
   "cell_type": "code",
   "execution_count": null,
   "id": "b46addf8",
   "metadata": {},
   "outputs": [],
   "source": []
  },
  {
   "cell_type": "code",
   "execution_count": null,
   "id": "bb0b672c",
   "metadata": {},
   "outputs": [],
   "source": []
  }
 ],
 "metadata": {
  "kernelspec": {
   "display_name": "base",
   "language": "python",
   "name": "python3"
  },
  "language_info": {
   "codemirror_mode": {
    "name": "ipython",
    "version": 3
   },
   "file_extension": ".py",
   "mimetype": "text/x-python",
   "name": "python",
   "nbconvert_exporter": "python",
   "pygments_lexer": "ipython3",
   "version": "3.12.4"
  }
 },
 "nbformat": 4,
 "nbformat_minor": 5
}
