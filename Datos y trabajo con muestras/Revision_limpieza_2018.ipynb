{
 "cells": [
  {
   "cell_type": "markdown",
   "id": "431979e9-220d-4a69-9a3a-f1e3ba884633",
   "metadata": {},
   "source": [
    "# Revisión de datos de los archivos csv de Open Contracting Partnership. Data Set del 2018."
   ]
  },
  {
   "cell_type": "markdown",
   "id": "2a9e2f7f-d9e7-49d1-a599-bd9d10167221",
   "metadata": {},
   "source": [
    "Usando el buscador de OpenContracting se buscaron datos sobre Chile (buscador: https://data.open-contracting.org/es/search/). Se decidió descargarlos archivos de los años 2018 y 2021, para tener una muestra de datos que contenga información sobre licitaciones en un rango de tiempo cercano a estas fechas."
   ]
  },
  {
   "cell_type": "code",
   "execution_count": 1,
   "id": "ce4d796d",
   "metadata": {},
   "outputs": [],
   "source": [
    "import pandas as pd\n",
    "import numpy as np\n",
    "import datetime\n",
    "from os import path"
   ]
  },
  {
   "cell_type": "code",
   "execution_count": 2,
   "id": "611fd2cb-ec81-41c0-9e36-df07f432203b",
   "metadata": {},
   "outputs": [
    {
     "name": "stdout",
     "output_type": "stream",
     "text": [
      "c:\\Users\\camil\\OneDrive\\Documentos\\GitHub\\Proyecto-IMT-2200-1-Grupo-14\\Datos y trabajo con muestras\\Chile\n",
      "c:\\Users\\camil\\OneDrive\\Documentos\\GitHub\\Proyecto-IMT-2200-1-Grupo-14\\Datos y trabajo con muestras\\Chile\\2018\n",
      " El volumen de la unidad C no tiene etiqueta.\n",
      " El n�mero de serie del volumen es: 82E3-D5B2\n",
      "\n",
      " Directorio de c:\\Users\\camil\\OneDrive\\Documentos\\GitHub\\Proyecto-IMT-2200-1-Grupo-14\\Datos y trabajo con muestras\\Chile\\2018\n",
      "\n",
      "22-11-2024  23:56    <DIR>          .\n",
      "23-11-2024  19:18    <DIR>          ..\n",
      "22-11-2024  18:54        64.521.477 awards.csv\n",
      "18-11-2024  15:29       137.878.898 awards_documents.csv\n",
      "18-11-2024  15:29       172.974.592 awards_items.csv\n",
      "22-11-2024  21:23        30.901.082 awards_suppliers.csv\n",
      "19-08-2024  11:45       165.869.422 main.csv\n",
      "22-11-2024  20:30       370.411.787 parties.csv\n",
      "22-11-2024  23:33       243.498.032 parties_additionalIdentifiers.csv\n",
      "18-11-2024  15:30       287.507.728 tender_items.csv\n",
      "18-11-2024  15:27       103.927.462 tender_tenderers.csv\n",
      "               9 archivos  1.577.490.480 bytes\n",
      "               2 dirs  67.647.492.096 bytes libres\n",
      "c:\\Users\\camil\\OneDrive\\Documentos\\GitHub\\Proyecto-IMT-2200-1-Grupo-14\\Datos y trabajo con muestras\\Chile\n",
      "c:\\Users\\camil\\OneDrive\\Documentos\\GitHub\\Proyecto-IMT-2200-1-Grupo-14\\Datos y trabajo con muestras\n"
     ]
    }
   ],
   "source": [
    "%cd Chile\n",
    "%cd 2018\n",
    "%ls\n",
    "%cd ..\n",
    "%cd .."
   ]
  },
  {
   "cell_type": "markdown",
   "id": "9830d178",
   "metadata": {},
   "source": [
    "## Revision de main.csv"
   ]
  },
  {
   "cell_type": "code",
   "execution_count": 3,
   "id": "628dde2b-0089-492a-9c8f-11d720dc769e",
   "metadata": {},
   "outputs": [],
   "source": [
    "camino = path.join(\"Chile\",\"2018\",\"main.csv\")\n",
    "df_main = pd.read_csv(camino, sep=\",\",low_memory=False)"
   ]
  },
  {
   "cell_type": "code",
   "execution_count": 4,
   "id": "57afc959",
   "metadata": {},
   "outputs": [],
   "source": [
    "df_respaldo = df_main"
   ]
  },
  {
   "cell_type": "code",
   "execution_count": 5,
   "id": "f6ef6b40",
   "metadata": {},
   "outputs": [
    {
     "data": {
      "text/html": [
       "<div>\n",
       "<style scoped>\n",
       "    .dataframe tbody tr th:only-of-type {\n",
       "        vertical-align: middle;\n",
       "    }\n",
       "\n",
       "    .dataframe tbody tr th {\n",
       "        vertical-align: top;\n",
       "    }\n",
       "\n",
       "    .dataframe thead th {\n",
       "        text-align: right;\n",
       "    }\n",
       "</style>\n",
       "<table border=\"1\" class=\"dataframe\">\n",
       "  <thead>\n",
       "    <tr style=\"text-align: right;\">\n",
       "      <th></th>\n",
       "      <th>_link</th>\n",
       "      <th>id</th>\n",
       "      <th>tag</th>\n",
       "      <th>date</th>\n",
       "      <th>ocid</th>\n",
       "      <th>language</th>\n",
       "      <th>initiationType</th>\n",
       "      <th>buyer_id</th>\n",
       "      <th>buyer_name</th>\n",
       "      <th>tender_id</th>\n",
       "      <th>...</th>\n",
       "      <th>tender_tenderPeriod_startDate</th>\n",
       "      <th>tender_tenderPeriod_durationInDays</th>\n",
       "      <th>tender_enquiryPeriod_endDate</th>\n",
       "      <th>tender_enquiryPeriod_startDate</th>\n",
       "      <th>tender_enquiryPeriod_durationInDays</th>\n",
       "      <th>tender_procuringEntity_id</th>\n",
       "      <th>tender_procuringEntity_name</th>\n",
       "      <th>tender_value_amount</th>\n",
       "      <th>tender_value_currency</th>\n",
       "      <th>tender_value_unitOfAccount</th>\n",
       "    </tr>\n",
       "  </thead>\n",
       "  <tbody>\n",
       "    <tr>\n",
       "      <th>0</th>\n",
       "      <td>id-0.0</td>\n",
       "      <td>ocds-70d2nz-4548-142-L117-2018-12-31T11:27:18Z</td>\n",
       "      <td>compiled</td>\n",
       "      <td>2018-12-31T11:27:18Z</td>\n",
       "      <td>ocds-70d2nz-4548-142-L117</td>\n",
       "      <td>es</td>\n",
       "      <td>tender</td>\n",
       "      <td>CL-MP-5464</td>\n",
       "      <td>Ilustre Municipalidad de Quintero | UNIDAD NORMAL</td>\n",
       "      <td>4548-142-L117</td>\n",
       "      <td>...</td>\n",
       "      <td>2017-12-07T16:17:35Z</td>\n",
       "      <td>6.0</td>\n",
       "      <td>2017-12-10T20:04:00Z</td>\n",
       "      <td>2017-12-07T20:04:00Z</td>\n",
       "      <td>3.0</td>\n",
       "      <td>CL-MP-5464</td>\n",
       "      <td>Ilustre Municipalidad de Quintero | UNIDAD NORMAL</td>\n",
       "      <td>NaN</td>\n",
       "      <td>NaN</td>\n",
       "      <td>NaN</td>\n",
       "    </tr>\n",
       "    <tr>\n",
       "      <th>1</th>\n",
       "      <td>id-0.1</td>\n",
       "      <td>ocds-70d2nz-2409-1129-L117-2018-12-31T11:28:26Z</td>\n",
       "      <td>compiled</td>\n",
       "      <td>2018-12-31T11:28:26Z</td>\n",
       "      <td>ocds-70d2nz-2409-1129-L117</td>\n",
       "      <td>es</td>\n",
       "      <td>tender</td>\n",
       "      <td>CL-MP-3401</td>\n",
       "      <td>Municipalidad de Los Angeles | MUNICIPALIDAD D...</td>\n",
       "      <td>2409-1129-L117</td>\n",
       "      <td>...</td>\n",
       "      <td>2017-12-18T17:58:24Z</td>\n",
       "      <td>8.0</td>\n",
       "      <td>2017-12-20T14:30:00Z</td>\n",
       "      <td>2017-12-18T19:01:00Z</td>\n",
       "      <td>2.0</td>\n",
       "      <td>CL-MP-3401</td>\n",
       "      <td>Municipalidad de Los Angeles | MUNICIPALIDAD D...</td>\n",
       "      <td>300000.0</td>\n",
       "      <td>CLP</td>\n",
       "      <td>NaN</td>\n",
       "    </tr>\n",
       "    <tr>\n",
       "      <th>2</th>\n",
       "      <td>id-0.2</td>\n",
       "      <td>ocds-70d2nz-2961-811-L117-2018-12-31T11:29:05Z</td>\n",
       "      <td>compiled</td>\n",
       "      <td>2018-12-31T11:29:05Z</td>\n",
       "      <td>ocds-70d2nz-2961-811-L117</td>\n",
       "      <td>es</td>\n",
       "      <td>tender</td>\n",
       "      <td>CL-MP-3939</td>\n",
       "      <td>ILUSTRE MUNICIPALIDAD DE LA GRANJA | Adquisici...</td>\n",
       "      <td>2961-811-L117</td>\n",
       "      <td>...</td>\n",
       "      <td>2017-12-19T13:02:43Z</td>\n",
       "      <td>14.0</td>\n",
       "      <td>2017-12-28T17:00:00Z</td>\n",
       "      <td>2017-12-20T09:00:00Z</td>\n",
       "      <td>8.0</td>\n",
       "      <td>CL-MP-3939</td>\n",
       "      <td>ILUSTRE MUNICIPALIDAD DE LA GRANJA | Adquisici...</td>\n",
       "      <td>1452000.0</td>\n",
       "      <td>CLP</td>\n",
       "      <td>NaN</td>\n",
       "    </tr>\n",
       "    <tr>\n",
       "      <th>3</th>\n",
       "      <td>id-0.3</td>\n",
       "      <td>ocds-70d2nz-4858-195-L117-2018-12-31T11:21:15Z</td>\n",
       "      <td>compiled</td>\n",
       "      <td>2018-12-31T11:21:15Z</td>\n",
       "      <td>ocds-70d2nz-4858-195-L117</td>\n",
       "      <td>es</td>\n",
       "      <td>tender</td>\n",
       "      <td>CL-MP-5772</td>\n",
       "      <td>Municipalidad de Tirúa | Ilustre Municipalidad...</td>\n",
       "      <td>4858-195-L117</td>\n",
       "      <td>...</td>\n",
       "      <td>2017-12-15T12:23:25Z</td>\n",
       "      <td>6.0</td>\n",
       "      <td>2017-12-18T15:01:00Z</td>\n",
       "      <td>2017-12-15T15:52:00Z</td>\n",
       "      <td>3.0</td>\n",
       "      <td>CL-MP-5772</td>\n",
       "      <td>Municipalidad de Tirúa | Ilustre Municipalidad...</td>\n",
       "      <td>900000.0</td>\n",
       "      <td>CLP</td>\n",
       "      <td>NaN</td>\n",
       "    </tr>\n",
       "    <tr>\n",
       "      <th>4</th>\n",
       "      <td>id-0.4</td>\n",
       "      <td>ocds-70d2nz-2409-975-LE17-2018-12-31T11:20:54Z</td>\n",
       "      <td>compiled</td>\n",
       "      <td>2018-12-31T11:20:54Z</td>\n",
       "      <td>ocds-70d2nz-2409-975-LE17</td>\n",
       "      <td>es</td>\n",
       "      <td>tender</td>\n",
       "      <td>CL-MP-3401</td>\n",
       "      <td>Municipalidad de Los Angeles | MUNICIPALIDAD D...</td>\n",
       "      <td>2409-975-LE17</td>\n",
       "      <td>...</td>\n",
       "      <td>2017-12-05T17:11:36Z</td>\n",
       "      <td>6.0</td>\n",
       "      <td>2017-12-06T17:30:00Z</td>\n",
       "      <td>2017-12-05T17:15:00Z</td>\n",
       "      <td>1.0</td>\n",
       "      <td>CL-MP-3401</td>\n",
       "      <td>Municipalidad de Los Angeles | MUNICIPALIDAD D...</td>\n",
       "      <td>6000000.0</td>\n",
       "      <td>CLP</td>\n",
       "      <td>NaN</td>\n",
       "    </tr>\n",
       "  </tbody>\n",
       "</table>\n",
       "<p>5 rows × 30 columns</p>\n",
       "</div>"
      ],
      "text/plain": [
       "    _link                                               id       tag  \\\n",
       "0  id-0.0   ocds-70d2nz-4548-142-L117-2018-12-31T11:27:18Z  compiled   \n",
       "1  id-0.1  ocds-70d2nz-2409-1129-L117-2018-12-31T11:28:26Z  compiled   \n",
       "2  id-0.2   ocds-70d2nz-2961-811-L117-2018-12-31T11:29:05Z  compiled   \n",
       "3  id-0.3   ocds-70d2nz-4858-195-L117-2018-12-31T11:21:15Z  compiled   \n",
       "4  id-0.4   ocds-70d2nz-2409-975-LE17-2018-12-31T11:20:54Z  compiled   \n",
       "\n",
       "                   date                        ocid language initiationType  \\\n",
       "0  2018-12-31T11:27:18Z   ocds-70d2nz-4548-142-L117       es         tender   \n",
       "1  2018-12-31T11:28:26Z  ocds-70d2nz-2409-1129-L117       es         tender   \n",
       "2  2018-12-31T11:29:05Z   ocds-70d2nz-2961-811-L117       es         tender   \n",
       "3  2018-12-31T11:21:15Z   ocds-70d2nz-4858-195-L117       es         tender   \n",
       "4  2018-12-31T11:20:54Z   ocds-70d2nz-2409-975-LE17       es         tender   \n",
       "\n",
       "     buyer_id                                         buyer_name  \\\n",
       "0  CL-MP-5464  Ilustre Municipalidad de Quintero | UNIDAD NORMAL   \n",
       "1  CL-MP-3401  Municipalidad de Los Angeles | MUNICIPALIDAD D...   \n",
       "2  CL-MP-3939  ILUSTRE MUNICIPALIDAD DE LA GRANJA | Adquisici...   \n",
       "3  CL-MP-5772  Municipalidad de Tirúa | Ilustre Municipalidad...   \n",
       "4  CL-MP-3401  Municipalidad de Los Angeles | MUNICIPALIDAD D...   \n",
       "\n",
       "        tender_id  ... tender_tenderPeriod_startDate  \\\n",
       "0   4548-142-L117  ...          2017-12-07T16:17:35Z   \n",
       "1  2409-1129-L117  ...          2017-12-18T17:58:24Z   \n",
       "2   2961-811-L117  ...          2017-12-19T13:02:43Z   \n",
       "3   4858-195-L117  ...          2017-12-15T12:23:25Z   \n",
       "4   2409-975-LE17  ...          2017-12-05T17:11:36Z   \n",
       "\n",
       "  tender_tenderPeriod_durationInDays tender_enquiryPeriod_endDate  \\\n",
       "0                                6.0         2017-12-10T20:04:00Z   \n",
       "1                                8.0         2017-12-20T14:30:00Z   \n",
       "2                               14.0         2017-12-28T17:00:00Z   \n",
       "3                                6.0         2017-12-18T15:01:00Z   \n",
       "4                                6.0         2017-12-06T17:30:00Z   \n",
       "\n",
       "  tender_enquiryPeriod_startDate  tender_enquiryPeriod_durationInDays  \\\n",
       "0           2017-12-07T20:04:00Z                                  3.0   \n",
       "1           2017-12-18T19:01:00Z                                  2.0   \n",
       "2           2017-12-20T09:00:00Z                                  8.0   \n",
       "3           2017-12-15T15:52:00Z                                  3.0   \n",
       "4           2017-12-05T17:15:00Z                                  1.0   \n",
       "\n",
       "  tender_procuringEntity_id  \\\n",
       "0                CL-MP-5464   \n",
       "1                CL-MP-3401   \n",
       "2                CL-MP-3939   \n",
       "3                CL-MP-5772   \n",
       "4                CL-MP-3401   \n",
       "\n",
       "                         tender_procuringEntity_name tender_value_amount  \\\n",
       "0  Ilustre Municipalidad de Quintero | UNIDAD NORMAL                 NaN   \n",
       "1  Municipalidad de Los Angeles | MUNICIPALIDAD D...            300000.0   \n",
       "2  ILUSTRE MUNICIPALIDAD DE LA GRANJA | Adquisici...           1452000.0   \n",
       "3  Municipalidad de Tirúa | Ilustre Municipalidad...            900000.0   \n",
       "4  Municipalidad de Los Angeles | MUNICIPALIDAD D...           6000000.0   \n",
       "\n",
       "   tender_value_currency tender_value_unitOfAccount  \n",
       "0                    NaN                        NaN  \n",
       "1                    CLP                        NaN  \n",
       "2                    CLP                        NaN  \n",
       "3                    CLP                        NaN  \n",
       "4                    CLP                        NaN  \n",
       "\n",
       "[5 rows x 30 columns]"
      ]
     },
     "execution_count": 5,
     "metadata": {},
     "output_type": "execute_result"
    }
   ],
   "source": [
    "df_main.head()"
   ]
  },
  {
   "cell_type": "code",
   "execution_count": 6,
   "id": "406ec81c",
   "metadata": {},
   "outputs": [
    {
     "name": "stdout",
     "output_type": "stream",
     "text": [
      "<class 'pandas.core.frame.DataFrame'>\n",
      "RangeIndex: 244874 entries, 0 to 244873\n",
      "Data columns (total 30 columns):\n",
      " #   Column                               Non-Null Count   Dtype  \n",
      "---  ------                               --------------   -----  \n",
      " 0   _link                                244874 non-null  object \n",
      " 1   id                                   244874 non-null  object \n",
      " 2   tag                                  244874 non-null  object \n",
      " 3   date                                 244874 non-null  object \n",
      " 4   ocid                                 244874 non-null  object \n",
      " 5   language                             244874 non-null  object \n",
      " 6   initiationType                       244874 non-null  object \n",
      " 7   buyer_id                             244874 non-null  object \n",
      " 8   buyer_name                           244874 non-null  object \n",
      " 9   tender_id                            244874 non-null  object \n",
      " 10  tender_procurementMethodDetails      244874 non-null  object \n",
      " 11  tender_title                         244874 non-null  object \n",
      " 12  tender_status                        244874 non-null  object \n",
      " 13  tender_procurementMethod             244874 non-null  object \n",
      " 14  tender_hasEnquiries                  244874 non-null  bool   \n",
      " 15  tender_description                   244874 non-null  object \n",
      " 16  tender_awardPeriod_endDate           244864 non-null  object \n",
      " 17  tender_awardPeriod_startDate         244864 non-null  object \n",
      " 18  tender_awardPeriod_durationInDays    236380 non-null  float64\n",
      " 19  tender_tenderPeriod_endDate          244864 non-null  object \n",
      " 20  tender_tenderPeriod_startDate        244874 non-null  object \n",
      " 21  tender_tenderPeriod_durationInDays   244866 non-null  float64\n",
      " 22  tender_enquiryPeriod_endDate         244864 non-null  object \n",
      " 23  tender_enquiryPeriod_startDate       244864 non-null  object \n",
      " 24  tender_enquiryPeriod_durationInDays  244700 non-null  float64\n",
      " 25  tender_procuringEntity_id            244874 non-null  object \n",
      " 26  tender_procuringEntity_name          244874 non-null  object \n",
      " 27  tender_value_amount                  97869 non-null   float64\n",
      " 28  tender_value_currency                97850 non-null   object \n",
      " 29  tender_value_unitOfAccount           19 non-null      object \n",
      "dtypes: bool(1), float64(4), object(25)\n",
      "memory usage: 54.4+ MB\n"
     ]
    }
   ],
   "source": [
    "df_main.info()"
   ]
  },
  {
   "cell_type": "code",
   "execution_count": 7,
   "id": "372f365c",
   "metadata": {},
   "outputs": [
    {
     "data": {
      "text/plain": [
       "Index(['_link', 'id', 'tag', 'date', 'ocid', 'language', 'initiationType',\n",
       "       'buyer_id', 'buyer_name', 'tender_id',\n",
       "       'tender_procurementMethodDetails', 'tender_title', 'tender_status',\n",
       "       'tender_procurementMethod', 'tender_hasEnquiries', 'tender_description',\n",
       "       'tender_awardPeriod_endDate', 'tender_awardPeriod_startDate',\n",
       "       'tender_awardPeriod_durationInDays', 'tender_tenderPeriod_endDate',\n",
       "       'tender_tenderPeriod_startDate', 'tender_tenderPeriod_durationInDays',\n",
       "       'tender_enquiryPeriod_endDate', 'tender_enquiryPeriod_startDate',\n",
       "       'tender_enquiryPeriod_durationInDays', 'tender_procuringEntity_id',\n",
       "       'tender_procuringEntity_name', 'tender_value_amount',\n",
       "       'tender_value_currency', 'tender_value_unitOfAccount'],\n",
       "      dtype='object')"
      ]
     },
     "execution_count": 7,
     "metadata": {},
     "output_type": "execute_result"
    }
   ],
   "source": [
    "df_main.columns"
   ]
  },
  {
   "cell_type": "code",
   "execution_count": 8,
   "id": "31f7ca01",
   "metadata": {},
   "outputs": [
    {
     "data": {
      "text/plain": [
       "array(['Licitación Pública Menor a 100 UTM (L1)',\n",
       "       'Licitación Pública Entre 100 y 1000 UTM (LE)',\n",
       "       'Licitación Pública Mayor 1000 UTM (LP)',\n",
       "       'Licitación Pública Mayor a 5000 (LR)',\n",
       "       'Licitación Pública entre a 2000 y 5000 UTM (LQ)',\n",
       "       'Licitación Privada Mayor a 5000 (I2)',\n",
       "       'Licitación Privada Menor a 100 UTM.',\n",
       "       'Licitación Privada Mayor a 1000 UTM',\n",
       "       'Licitación Privada entre 100 y 1000 UTM.',\n",
       "       'Licitación Privada entre a 2000 y 5000 UTM (H2)',\n",
       "       'Licitación Pública Servicios personales especializados (LS)'],\n",
       "      dtype=object)"
      ]
     },
     "execution_count": 8,
     "metadata": {},
     "output_type": "execute_result"
    }
   ],
   "source": [
    "df_main[\"tender_procurementMethodDetails\"].unique()"
   ]
  },
  {
   "cell_type": "markdown",
   "id": "7accc393",
   "metadata": {},
   "source": [
    "Se utilizan la pagina <<https://api.mercadopublico.cl/modules/Licitacion.aspx>> para crear el diccionario."
   ]
  },
  {
   "cell_type": "code",
   "execution_count": 9,
   "id": "51dbf92f",
   "metadata": {},
   "outputs": [],
   "source": [
    "\n",
    "tipos_licitaciones ={'Licitación Pública Menor a 100 UTM (L1)': \"L1\",\n",
    "       'Licitación Pública Entre 100 y 1000 UTM (LE)': \"LE\",\n",
    "       'Licitación Pública Mayor 1000 UTM (LP)': \"LP\",\n",
    "       'Licitación Pública entre a 2000 y 5000 UTM (LQ)':\"LQ\",\n",
    "       'Licitación Pública Mayor a 5000 (LR)' :\"LR\",\n",
    "       'Licitación Privada entre a 2000 y 5000 UTM (H2)':\"H2\",\n",
    "       'Licitación Pública Servicios personales especializados (LS)':\"LS\",\n",
    "       \"Licitación Privada por Licitación Pública anterior sin oferentes (A1)\" : \"A1\",\n",
    "       \"Licitación Privada por Remanente de Contrato anterior (B1)\": \"B1\",\n",
    "       \"Licitación Privada por Convenios con Personas Jurídicas Extranjeras fuera del Territorio Nacional (E1)\": \"E1\",\n",
    "       \"Licitación Privada por Servicios de Naturaleza Confidencial (F1)\": \"F1\",\n",
    "       \"Licitación Privada por otras causales, excluidas de la ley de Compras (J1)\": \"J1\",\n",
    "       \"Licitación Privada entre 100 y 1000 UTM\" :\"CO\", \"Licitación Privada Mayor a 1000 UTM\": \"B2\",\n",
    "       \"Trato Directo por Producto de Licitación Privada anterior sin oferentes o desierta\": \"A2\",\n",
    "       \"Trato Directo por Proveedor Único (D1)\": \"D1\",\"Licitación Privada Menor a 100 UTM\" : \"E2\", \"Trato Directo (Cotización) (C2)\" : \"C2\",\n",
    "       \"Compra Directa (Orden de compra) (C1)\" : \"C1\", \"Trato Directo (Cotización) (F2)\" :\"F2\", \"Compra Directa (Orden de compra) (F3)\" : \"F3\",\n",
    "       \"Directo (Cotización) (G2)\" : \"G2\", \"Compra Directa (Orden de compra) (G1)\" : \"G1\",\n",
    "       \"Orden de Compra menor a 3 UTM (R1)\" : \"R1\", \"Orden de Compra sin Resolución (CA)\" : \"CA\", \n",
    "       \"Orden de Compra proveniente de adquisición sin emisión automática de OC (SE)\" : \"SE\"}\n",
    "\n",
    "\n",
    "df_main[\"tender_procurementMethodDetails\"] = df_main[\"tender_procurementMethodDetails\"].map(tipos_licitaciones)\n",
    "df_main[\"tender_procurementMethodDetails\"] = df_main[\"tender_procurementMethodDetails\"].astype(\"category\")"
   ]
  },
  {
   "cell_type": "code",
   "execution_count": 10,
   "id": "4ed5fcdc",
   "metadata": {},
   "outputs": [
    {
     "data": {
      "text/plain": [
       "0           CL-MP-5464\n",
       "1           CL-MP-3401\n",
       "2           CL-MP-3939\n",
       "3           CL-MP-5772\n",
       "4           CL-MP-3401\n",
       "              ...     \n",
       "244869    CL-MP-572923\n",
       "244870      CL-MP-4543\n",
       "244871      CL-MP-1321\n",
       "244872      CL-MP-4482\n",
       "244873      CL-MP-3301\n",
       "Name: buyer_id, Length: 244874, dtype: object"
      ]
     },
     "execution_count": 10,
     "metadata": {},
     "output_type": "execute_result"
    }
   ],
   "source": [
    "df_main[\"buyer_id\"]"
   ]
  },
  {
   "cell_type": "code",
   "execution_count": 11,
   "id": "d58cffdd",
   "metadata": {},
   "outputs": [],
   "source": [
    "def dejar_rut(texto:str) -> str:\n",
    "    return int(texto.split(\"-\")[2])\n",
    "\n",
    "df_main[\"buyer_id\"] = df_main[\"buyer_id\"].apply(dejar_rut)"
   ]
  },
  {
   "cell_type": "code",
   "execution_count": 12,
   "id": "406e9f14",
   "metadata": {},
   "outputs": [
    {
     "data": {
      "text/plain": [
       "0           5464\n",
       "1           3401\n",
       "2           3939\n",
       "3           5772\n",
       "4           3401\n",
       "           ...  \n",
       "244869    572923\n",
       "244870      4543\n",
       "244871      1321\n",
       "244872      4482\n",
       "244873      3301\n",
       "Name: buyer_id, Length: 244874, dtype: int64"
      ]
     },
     "execution_count": 12,
     "metadata": {},
     "output_type": "execute_result"
    }
   ],
   "source": [
    "df_main[\"buyer_id\"]"
   ]
  },
  {
   "cell_type": "code",
   "execution_count": 13,
   "id": "b1f1e7c8",
   "metadata": {},
   "outputs": [],
   "source": [
    "df_main.drop(columns=['id', 'tag', 'date', 'ocid', 'language', 'buyer_name', 'tender_title', 'tender_description', 'tender_procuringEntity_id'], inplace=True)"
   ]
  },
  {
   "cell_type": "code",
   "execution_count": 14,
   "id": "ec60748d",
   "metadata": {},
   "outputs": [
    {
     "data": {
      "text/html": [
       "<div>\n",
       "<style scoped>\n",
       "    .dataframe tbody tr th:only-of-type {\n",
       "        vertical-align: middle;\n",
       "    }\n",
       "\n",
       "    .dataframe tbody tr th {\n",
       "        vertical-align: top;\n",
       "    }\n",
       "\n",
       "    .dataframe thead th {\n",
       "        text-align: right;\n",
       "    }\n",
       "</style>\n",
       "<table border=\"1\" class=\"dataframe\">\n",
       "  <thead>\n",
       "    <tr style=\"text-align: right;\">\n",
       "      <th></th>\n",
       "      <th>_link</th>\n",
       "      <th>initiationType</th>\n",
       "      <th>buyer_id</th>\n",
       "      <th>tender_id</th>\n",
       "      <th>tender_procurementMethodDetails</th>\n",
       "      <th>tender_status</th>\n",
       "      <th>tender_procurementMethod</th>\n",
       "      <th>tender_hasEnquiries</th>\n",
       "      <th>tender_awardPeriod_endDate</th>\n",
       "      <th>tender_awardPeriod_startDate</th>\n",
       "      <th>...</th>\n",
       "      <th>tender_tenderPeriod_endDate</th>\n",
       "      <th>tender_tenderPeriod_startDate</th>\n",
       "      <th>tender_tenderPeriod_durationInDays</th>\n",
       "      <th>tender_enquiryPeriod_endDate</th>\n",
       "      <th>tender_enquiryPeriod_startDate</th>\n",
       "      <th>tender_enquiryPeriod_durationInDays</th>\n",
       "      <th>tender_procuringEntity_name</th>\n",
       "      <th>tender_value_amount</th>\n",
       "      <th>tender_value_currency</th>\n",
       "      <th>tender_value_unitOfAccount</th>\n",
       "    </tr>\n",
       "  </thead>\n",
       "  <tbody>\n",
       "  </tbody>\n",
       "</table>\n",
       "<p>0 rows × 21 columns</p>\n",
       "</div>"
      ],
      "text/plain": [
       "Empty DataFrame\n",
       "Columns: [_link, initiationType, buyer_id, tender_id, tender_procurementMethodDetails, tender_status, tender_procurementMethod, tender_hasEnquiries, tender_awardPeriod_endDate, tender_awardPeriod_startDate, tender_awardPeriod_durationInDays, tender_tenderPeriod_endDate, tender_tenderPeriod_startDate, tender_tenderPeriod_durationInDays, tender_enquiryPeriod_endDate, tender_enquiryPeriod_startDate, tender_enquiryPeriod_durationInDays, tender_procuringEntity_name, tender_value_amount, tender_value_currency, tender_value_unitOfAccount]\n",
       "Index: []\n",
       "\n",
       "[0 rows x 21 columns]"
      ]
     },
     "execution_count": 14,
     "metadata": {},
     "output_type": "execute_result"
    }
   ],
   "source": [
    "df_main.loc[df_main['tender_enquiryPeriod_startDate'] == \"3\"]"
   ]
  },
  {
   "cell_type": "markdown",
   "id": "774543f1",
   "metadata": {},
   "source": [
    "### Transformación de datos."
   ]
  },
  {
   "cell_type": "code",
   "execution_count": 15,
   "id": "e1727713",
   "metadata": {},
   "outputs": [],
   "source": [
    "df_main[\"tender_enquiryPeriod_startDate\"] = pd.to_datetime(df_main['tender_enquiryPeriod_startDate'], format='%Y-%m-%dT%H:%M:%SZ')\n",
    "df_main[\"tender_enquiryPeriod_endDate\"] = pd.to_datetime(df_main['tender_enquiryPeriod_endDate'], format='%Y-%m-%dT%H:%M:%SZ')\n",
    "df_main['tender_tenderPeriod_startDate'] = pd.to_datetime(df_main['tender_tenderPeriod_startDate'], format='%Y-%m-%dT%H:%M:%SZ')"
   ]
  },
  {
   "cell_type": "markdown",
   "id": "4382eae1",
   "metadata": {},
   "source": [
    "Al parecer hay un error, una de las filas tiene por valor a en esta columna, eliminemosla."
   ]
  },
  {
   "cell_type": "code",
   "execution_count": 16,
   "id": "8ff97196",
   "metadata": {},
   "outputs": [],
   "source": [
    "df_main = df_main.drop(df_main[df_main[\"tender_tenderPeriod_endDate\"] == \"a\"].index)\n",
    "df_main[\"tender_tenderPeriod_endDate\"] = pd.to_datetime(df_main['tender_tenderPeriod_endDate'], format='%Y-%m-%dT%H:%M:%SZ')\n",
    "df_main['tender_awardPeriod_startDate'] = pd.to_datetime(df_main['tender_awardPeriod_startDate'], format='%Y-%m-%dT%H:%M:%SZ')"
   ]
  },
  {
   "cell_type": "markdown",
   "id": "a38e1288",
   "metadata": {},
   "source": [
    "Hay un error en el formato de una fila con contenido <5017-05-05T17:00:00Z>, se eliminará."
   ]
  },
  {
   "cell_type": "code",
   "execution_count": 17,
   "id": "fd592ac4",
   "metadata": {},
   "outputs": [],
   "source": [
    "df_main.drop(df_main[df_main[\"tender_awardPeriod_endDate\"] == \"5017-05-05T17:00:00Z\"].index, axis=0, inplace=True)\n",
    "df_main['tender_awardPeriod_endDate'] = pd.to_datetime(df_main['tender_awardPeriod_endDate'], format='%Y-%m-%dT%H:%M:%SZ')\n",
    "df_main['tender_enquiryPeriod_durationInDays'] = df_main['tender_enquiryPeriod_endDate'] - df_main['tender_enquiryPeriod_startDate']\n",
    "df_main['tender_awardPeriod_durationInDays'] = df_main['tender_awardPeriod_endDate'] - df_main['tender_awardPeriod_startDate']\n",
    "df_main['tender_tenderPeriod_durationInDays'] = df_main['tender_tenderPeriod_endDate'] - df_main['tender_tenderPeriod_startDate']"
   ]
  },
  {
   "cell_type": "markdown",
   "id": "f1bcaf8c",
   "metadata": {},
   "source": [
    "### Filtro según fecha"
   ]
  },
  {
   "cell_type": "markdown",
   "id": "d0026a0b",
   "metadata": {},
   "source": [
    "Aqui realizaremos un filtro de las licitaciones en base a cuando se iniciaron y cuando terminaron respecto a lo relacionado al 2018. En este caso seleccionaremos las licitaciones cuyo periodo de envio de aplicaciones para determinar la adjudicación comenzó despúes que el 01/09/2017 y la finalización del proceso de adjudicación antes del 01/01/2019."
   ]
  },
  {
   "cell_type": "code",
   "execution_count": 18,
   "id": "8101dfb3",
   "metadata": {},
   "outputs": [],
   "source": [
    "fecha_filtro = '2017-09-01'\n",
    "df_filtrado = df_main.loc[df_main['tender_tenderPeriod_startDate'] >= fecha_filtro]\n",
    "fecha_filtro = '2019-01-01'\n",
    "df_filtrado = df_filtrado.loc[df_filtrado['tender_awardPeriod_endDate'] < fecha_filtro]"
   ]
  },
  {
   "cell_type": "code",
   "execution_count": 19,
   "id": "d502e865",
   "metadata": {},
   "outputs": [],
   "source": [
    "df_filtrado.reset_index(drop=True, inplace=True)\n",
    "df_filtrado.rename(columns={\"tender_value_amount\":\"estimated_cost\", \"tender_value_currency\": \"estimated_cost_currency\", \"tender_value_unitOfAccount\": \"estimated_cost_unitOfAccount\"}, inplace=True )\n",
    "df_filtrado[\"estimated_cost_currency\"] = df_filtrado[\"estimated_cost_currency\"].replace(np.nan, \"No\")"
   ]
  },
  {
   "cell_type": "code",
   "execution_count": 20,
   "id": "e794f9ef",
   "metadata": {},
   "outputs": [],
   "source": [
    "def crear_unit_value_monetary_unit(indice:int, comparador=\"No\") -> str:\n",
    "    if df_filtrado.iloc[indice][\"estimated_cost_currency\"] == comparador:\n",
    "        return df_filtrado.iloc[indice][\"estimated_cost_unitOfAccount\"]\n",
    "    return df_filtrado.iloc[indice][\"estimated_cost_currency\"]\n",
    "\n",
    "df_filtrado[\"estimated_cost_monetary_unit\"] = df_filtrado.index.map(crear_unit_value_monetary_unit)"
   ]
  },
  {
   "cell_type": "code",
   "execution_count": 21,
   "id": "99acdb97",
   "metadata": {},
   "outputs": [
    {
     "data": {
      "text/plain": [
       "array([nan, 'CLP', 'CLF', 'USD', 'UTM', 'EUR'], dtype=object)"
      ]
     },
     "execution_count": 21,
     "metadata": {},
     "output_type": "execute_result"
    }
   ],
   "source": [
    "df_filtrado[\"estimated_cost_monetary_unit\"].unique()"
   ]
  },
  {
   "cell_type": "code",
   "execution_count": 22,
   "id": "c2d4fb7f",
   "metadata": {},
   "outputs": [
    {
     "name": "stdout",
     "output_type": "stream",
     "text": [
      "<class 'pandas.core.frame.DataFrame'>\n",
      "RangeIndex: 31068 entries, 0 to 31067\n",
      "Data columns (total 20 columns):\n",
      " #   Column                               Non-Null Count  Dtype          \n",
      "---  ------                               --------------  -----          \n",
      " 0   _link                                31068 non-null  object         \n",
      " 1   initiationType                       31068 non-null  object         \n",
      " 2   buyer_id                             31068 non-null  int64          \n",
      " 3   tender_id                            31068 non-null  object         \n",
      " 4   tender_procurementMethodDetails      30763 non-null  category       \n",
      " 5   tender_status                        31068 non-null  object         \n",
      " 6   tender_procurementMethod             31068 non-null  object         \n",
      " 7   tender_hasEnquiries                  31068 non-null  bool           \n",
      " 8   tender_awardPeriod_endDate           31068 non-null  datetime64[ns] \n",
      " 9   tender_awardPeriod_startDate         31068 non-null  datetime64[ns] \n",
      " 10  tender_awardPeriod_durationInDays    31068 non-null  timedelta64[ns]\n",
      " 11  tender_tenderPeriod_endDate          31068 non-null  datetime64[ns] \n",
      " 12  tender_tenderPeriod_startDate        31068 non-null  datetime64[ns] \n",
      " 13  tender_tenderPeriod_durationInDays   31068 non-null  timedelta64[ns]\n",
      " 14  tender_enquiryPeriod_endDate         31068 non-null  datetime64[ns] \n",
      " 15  tender_enquiryPeriod_startDate       31068 non-null  datetime64[ns] \n",
      " 16  tender_enquiryPeriod_durationInDays  31068 non-null  timedelta64[ns]\n",
      " 17  tender_procuringEntity_name          31068 non-null  object         \n",
      " 18  estimated_cost                       13825 non-null  float64        \n",
      " 19  estimated_cost_monetary_unit         13825 non-null  object         \n",
      "dtypes: bool(1), category(1), datetime64[ns](6), float64(1), int64(1), object(7), timedelta64[ns](3)\n",
      "memory usage: 4.3+ MB\n"
     ]
    }
   ],
   "source": [
    "df_filtrado.drop(columns=[\"estimated_cost_currency\",\"estimated_cost_unitOfAccount\"],inplace=True)\n",
    "df_filtrado.info()"
   ]
  },
  {
   "cell_type": "markdown",
   "id": "52755cce",
   "metadata": {},
   "source": [
    "## Revision awards.csv"
   ]
  },
  {
   "cell_type": "code",
   "execution_count": 23,
   "id": "5bd79981",
   "metadata": {},
   "outputs": [],
   "source": [
    "camino = path.join(\"Chile\",\"2018\",\"awards.csv\")\n",
    "df_awards = pd.read_csv(camino, sep=\",\")"
   ]
  },
  {
   "cell_type": "code",
   "execution_count": 24,
   "id": "49a136b9",
   "metadata": {},
   "outputs": [
    {
     "data": {
      "text/html": [
       "<div>\n",
       "<style scoped>\n",
       "    .dataframe tbody tr th:only-of-type {\n",
       "        vertical-align: middle;\n",
       "    }\n",
       "\n",
       "    .dataframe tbody tr th {\n",
       "        vertical-align: top;\n",
       "    }\n",
       "\n",
       "    .dataframe thead th {\n",
       "        text-align: right;\n",
       "    }\n",
       "</style>\n",
       "<table border=\"1\" class=\"dataframe\">\n",
       "  <thead>\n",
       "    <tr style=\"text-align: right;\">\n",
       "      <th></th>\n",
       "      <th>_link</th>\n",
       "      <th>_link_main</th>\n",
       "      <th>id</th>\n",
       "      <th>date</th>\n",
       "      <th>description</th>\n",
       "      <th>title</th>\n",
       "      <th>status</th>\n",
       "      <th>value_amount</th>\n",
       "      <th>value_currency</th>\n",
       "      <th>value_unitOfAccount</th>\n",
       "    </tr>\n",
       "  </thead>\n",
       "  <tbody>\n",
       "    <tr>\n",
       "      <th>0</th>\n",
       "      <td>id-0.0.awards.0</td>\n",
       "      <td>id-0.0</td>\n",
       "      <td>8270925</td>\n",
       "      <td>2017-12-23T13:23:24Z</td>\n",
       "      <td>DIDECO - NAVIDAD COMUNAL - JUEGOS INFLABLES CO...</td>\n",
       "      <td>DIDECO - NAVIDAD COMUNAL - JUEGOS INFLABLES</td>\n",
       "      <td>active</td>\n",
       "      <td>690000.0</td>\n",
       "      <td>CLP</td>\n",
       "      <td>NaN</td>\n",
       "    </tr>\n",
       "    <tr>\n",
       "      <th>1</th>\n",
       "      <td>id-0.1.awards.0</td>\n",
       "      <td>id-0.1</td>\n",
       "      <td>8274205</td>\n",
       "      <td>NaN</td>\n",
       "      <td>CONFECCIÓN E INSTALACIÓN DE PROTECCIONES METAL...</td>\n",
       "      <td>CONFECCIÓN E INSTALACIÓN DE PROTECCIONES METÁL...</td>\n",
       "      <td>unsuccessful</td>\n",
       "      <td>NaN</td>\n",
       "      <td>NaN</td>\n",
       "      <td>NaN</td>\n",
       "    </tr>\n",
       "    <tr>\n",
       "      <th>2</th>\n",
       "      <td>id-0.2.awards.0</td>\n",
       "      <td>id-0.2</td>\n",
       "      <td>8275841</td>\n",
       "      <td>2018-02-02T11:16:54Z</td>\n",
       "      <td>sm80 sp3565 servicios generales</td>\n",
       "      <td>Reparacion de mamparas</td>\n",
       "      <td>active</td>\n",
       "      <td>870000.0</td>\n",
       "      <td>CLP</td>\n",
       "      <td>NaN</td>\n",
       "    </tr>\n",
       "    <tr>\n",
       "      <th>3</th>\n",
       "      <td>id-0.3.awards.0</td>\n",
       "      <td>id-0.3</td>\n",
       "      <td>8254526</td>\n",
       "      <td>2017-12-26T18:19:33Z</td>\n",
       "      <td>VISITA A HUERTO ORGANICO DE BERRIES HUBICADO E...</td>\n",
       "      <td>VISTA A HUERTO ORGANICO DE BERRIES HUBICADO EN...</td>\n",
       "      <td>unsuccessful</td>\n",
       "      <td>NaN</td>\n",
       "      <td>NaN</td>\n",
       "      <td>NaN</td>\n",
       "    </tr>\n",
       "    <tr>\n",
       "      <th>4</th>\n",
       "      <td>id-0.4.awards.0</td>\n",
       "      <td>id-0.4</td>\n",
       "      <td>8253535</td>\n",
       "      <td>2017-12-21T18:17:23Z</td>\n",
       "      <td>CAPACITACIÓN PARA DOCENTES DE LA ESC. F-929 - ...</td>\n",
       "      <td>CAPACITACIÓN PARA DOCENTES DE LA ESC. F-929 - ...</td>\n",
       "      <td>active</td>\n",
       "      <td>6000000.0</td>\n",
       "      <td>CLP</td>\n",
       "      <td>NaN</td>\n",
       "    </tr>\n",
       "    <tr>\n",
       "      <th>5</th>\n",
       "      <td>id-0.5.awards.0</td>\n",
       "      <td>id-0.5</td>\n",
       "      <td>8277247</td>\n",
       "      <td>2018-01-16T10:56:54Z</td>\n",
       "      <td>Adquisicion requerida por el Sr. Juan Pablo Re...</td>\n",
       "      <td>Adquisición programa rehabilitación integral e...</td>\n",
       "      <td>active</td>\n",
       "      <td>347043.0</td>\n",
       "      <td>CLP</td>\n",
       "      <td>NaN</td>\n",
       "    </tr>\n",
       "    <tr>\n",
       "      <th>6</th>\n",
       "      <td>id-0.6.awards.0</td>\n",
       "      <td>id-0.6</td>\n",
       "      <td>8274542</td>\n",
       "      <td>2017-12-28T21:54:24Z</td>\n",
       "      <td>SE REQUIERE LA ADQUISICION DE REACTIVOS PARA L...</td>\n",
       "      <td>REACTIVOS PARA LABORATORIO</td>\n",
       "      <td>active</td>\n",
       "      <td>12219604.0</td>\n",
       "      <td>CLP</td>\n",
       "      <td>NaN</td>\n",
       "    </tr>\n",
       "    <tr>\n",
       "      <th>7</th>\n",
       "      <td>id-0.7.awards.0</td>\n",
       "      <td>id-0.7</td>\n",
       "      <td>8271070</td>\n",
       "      <td>2017-12-29T11:54:57Z</td>\n",
       "      <td>PROGRAMA ATENCIÓN INTEGRAL FAMILIAR 24 HORAS</td>\n",
       "      <td>TERMO-VENTILADOR Y ESTUFA A GAS (N°1017) COM.S...</td>\n",
       "      <td>active</td>\n",
       "      <td>191241.0</td>\n",
       "      <td>CLP</td>\n",
       "      <td>NaN</td>\n",
       "    </tr>\n",
       "  </tbody>\n",
       "</table>\n",
       "</div>"
      ],
      "text/plain": [
       "             _link _link_main       id                  date  \\\n",
       "0  id-0.0.awards.0     id-0.0  8270925  2017-12-23T13:23:24Z   \n",
       "1  id-0.1.awards.0     id-0.1  8274205                   NaN   \n",
       "2  id-0.2.awards.0     id-0.2  8275841  2018-02-02T11:16:54Z   \n",
       "3  id-0.3.awards.0     id-0.3  8254526  2017-12-26T18:19:33Z   \n",
       "4  id-0.4.awards.0     id-0.4  8253535  2017-12-21T18:17:23Z   \n",
       "5  id-0.5.awards.0     id-0.5  8277247  2018-01-16T10:56:54Z   \n",
       "6  id-0.6.awards.0     id-0.6  8274542  2017-12-28T21:54:24Z   \n",
       "7  id-0.7.awards.0     id-0.7  8271070  2017-12-29T11:54:57Z   \n",
       "\n",
       "                                         description  \\\n",
       "0  DIDECO - NAVIDAD COMUNAL - JUEGOS INFLABLES CO...   \n",
       "1  CONFECCIÓN E INSTALACIÓN DE PROTECCIONES METAL...   \n",
       "2                    sm80 sp3565 servicios generales   \n",
       "3  VISITA A HUERTO ORGANICO DE BERRIES HUBICADO E...   \n",
       "4  CAPACITACIÓN PARA DOCENTES DE LA ESC. F-929 - ...   \n",
       "5  Adquisicion requerida por el Sr. Juan Pablo Re...   \n",
       "6  SE REQUIERE LA ADQUISICION DE REACTIVOS PARA L...   \n",
       "7       PROGRAMA ATENCIÓN INTEGRAL FAMILIAR 24 HORAS   \n",
       "\n",
       "                                               title        status  \\\n",
       "0        DIDECO - NAVIDAD COMUNAL - JUEGOS INFLABLES        active   \n",
       "1  CONFECCIÓN E INSTALACIÓN DE PROTECCIONES METÁL...  unsuccessful   \n",
       "2                             Reparacion de mamparas        active   \n",
       "3  VISTA A HUERTO ORGANICO DE BERRIES HUBICADO EN...  unsuccessful   \n",
       "4  CAPACITACIÓN PARA DOCENTES DE LA ESC. F-929 - ...        active   \n",
       "5  Adquisición programa rehabilitación integral e...        active   \n",
       "6                         REACTIVOS PARA LABORATORIO        active   \n",
       "7  TERMO-VENTILADOR Y ESTUFA A GAS (N°1017) COM.S...        active   \n",
       "\n",
       "   value_amount value_currency value_unitOfAccount  \n",
       "0      690000.0            CLP                 NaN  \n",
       "1           NaN            NaN                 NaN  \n",
       "2      870000.0            CLP                 NaN  \n",
       "3           NaN            NaN                 NaN  \n",
       "4     6000000.0            CLP                 NaN  \n",
       "5      347043.0            CLP                 NaN  \n",
       "6    12219604.0            CLP                 NaN  \n",
       "7      191241.0            CLP                 NaN  "
      ]
     },
     "execution_count": 24,
     "metadata": {},
     "output_type": "execute_result"
    }
   ],
   "source": [
    "df_awards.head(8)"
   ]
  },
  {
   "cell_type": "code",
   "execution_count": 25,
   "id": "0d15b39f",
   "metadata": {},
   "outputs": [],
   "source": [
    "df_no_nan_un_ac = df_awards.dropna(subset=[\"value_unitOfAccount\"])[[\"value_currency\", \"value_unitOfAccount\", \"status\"]]\n",
    "df_unit_of_account = df_no_nan_un_ac.loc[df_no_nan_un_ac[\"value_currency\"].isna()]"
   ]
  },
  {
   "cell_type": "code",
   "execution_count": 26,
   "id": "05f36158",
   "metadata": {},
   "outputs": [
    {
     "data": {
      "text/plain": [
       "count      83\n",
       "unique      1\n",
       "top       UTM\n",
       "freq       83\n",
       "Name: value_unitOfAccount, dtype: object"
      ]
     },
     "execution_count": 26,
     "metadata": {},
     "output_type": "execute_result"
    }
   ],
   "source": [
    "df_unit_of_account[\"value_unitOfAccount\"].describe()"
   ]
  },
  {
   "cell_type": "code",
   "execution_count": 27,
   "id": "98512222",
   "metadata": {},
   "outputs": [
    {
     "data": {
      "text/plain": [
       "count      84\n",
       "unique      2\n",
       "top       UTM\n",
       "freq       83\n",
       "Name: value_unitOfAccount, dtype: object"
      ]
     },
     "execution_count": 27,
     "metadata": {},
     "output_type": "execute_result"
    }
   ],
   "source": [
    "df_no_nan_un_ac[\"value_unitOfAccount\"].describe()"
   ]
  },
  {
   "cell_type": "code",
   "execution_count": 28,
   "id": "de85db5a",
   "metadata": {},
   "outputs": [],
   "source": [
    "df_awards[\"value_currency\"] = df_awards[\"value_currency\"].replace(np.nan, \"No\")"
   ]
  },
  {
   "cell_type": "code",
   "execution_count": 29,
   "id": "c7c9e58f",
   "metadata": {},
   "outputs": [],
   "source": [
    "def crear_unit_value_monetary_unit(indice:int, comparador=\"No\") -> str:\n",
    "    if df_awards.iloc[indice][\"value_currency\"] == comparador:\n",
    "        return df_awards.iloc[indice][\"value_unitOfAccount\"]\n",
    "    return df_awards.iloc[indice][\"value_currency\"]\n",
    "\n",
    "df_awards[\"value_monetary_unit\"] = df_awards.index.map(crear_unit_value_monetary_unit)"
   ]
  },
  {
   "cell_type": "code",
   "execution_count": 30,
   "id": "437b829b",
   "metadata": {},
   "outputs": [
    {
     "data": {
      "text/plain": [
       "array(['CLP', nan, 'CLF', 'USD', 'UTM', 'EUR'], dtype=object)"
      ]
     },
     "execution_count": 30,
     "metadata": {},
     "output_type": "execute_result"
    }
   ],
   "source": [
    "df_awards[\"value_monetary_unit\"].unique()"
   ]
  },
  {
   "cell_type": "code",
   "execution_count": 31,
   "id": "f61ce30b",
   "metadata": {},
   "outputs": [],
   "source": [
    "df_awards.drop(columns=['id', 'description', 'title', \"value_unitOfAccount\", \"value_currency\",\"value_unitOfAccount\"],inplace=True)"
   ]
  },
  {
   "cell_type": "code",
   "execution_count": 32,
   "id": "7711db42",
   "metadata": {},
   "outputs": [
    {
     "name": "stdout",
     "output_type": "stream",
     "text": [
      "<class 'pandas.core.frame.DataFrame'>\n",
      "RangeIndex: 240021 entries, 0 to 240020\n",
      "Data columns (total 6 columns):\n",
      " #   Column               Non-Null Count   Dtype  \n",
      "---  ------               --------------   -----  \n",
      " 0   _link                240021 non-null  object \n",
      " 1   _link_main           240021 non-null  object \n",
      " 2   date                 210324 non-null  object \n",
      " 3   status               240021 non-null  object \n",
      " 4   value_amount         177451 non-null  float64\n",
      " 5   value_monetary_unit  177451 non-null  object \n",
      "dtypes: float64(1), object(5)\n",
      "memory usage: 11.0+ MB\n"
     ]
    }
   ],
   "source": [
    "df_awards.info()"
   ]
  },
  {
   "cell_type": "markdown",
   "id": "bbb18c56",
   "metadata": {},
   "source": [
    "## Revisión de awards_items.csv"
   ]
  },
  {
   "cell_type": "code",
   "execution_count": 33,
   "id": "0a387db4",
   "metadata": {},
   "outputs": [],
   "source": [
    "camino = path.join(\"Chile\",\"2018\",\"awards_items.csv\") \n",
    "df_awards_items = pd.read_csv(camino, sep=\",\")"
   ]
  },
  {
   "cell_type": "code",
   "execution_count": 34,
   "id": "26bb95a8",
   "metadata": {},
   "outputs": [
    {
     "data": {
      "text/plain": [
       "Index(['_link', '_link_awards', '_link_main', 'id', 'description', 'quantity',\n",
       "       'unit_name', 'unit_value_amount', 'unit_value_currency',\n",
       "       'classification_id', 'classification_uri', 'classification_scheme',\n",
       "       'unit_value_unitOfAccount'],\n",
       "      dtype='object')"
      ]
     },
     "execution_count": 34,
     "metadata": {},
     "output_type": "execute_result"
    }
   ],
   "source": [
    "df_awards_items.columns"
   ]
  },
  {
   "cell_type": "code",
   "execution_count": 35,
   "id": "8030c12a",
   "metadata": {},
   "outputs": [
    {
     "name": "stdout",
     "output_type": "stream",
     "text": [
      "<class 'pandas.core.frame.DataFrame'>\n",
      "RangeIndex: 695151 entries, 0 to 695150\n",
      "Data columns (total 13 columns):\n",
      " #   Column                    Non-Null Count   Dtype  \n",
      "---  ------                    --------------   -----  \n",
      " 0   _link                     695151 non-null  object \n",
      " 1   _link_awards              695151 non-null  object \n",
      " 2   _link_main                695151 non-null  object \n",
      " 3   id                        695151 non-null  int64  \n",
      " 4   description               693046 non-null  object \n",
      " 5   quantity                  695151 non-null  float64\n",
      " 6   unit_name                 695151 non-null  object \n",
      " 7   unit_value_amount         695151 non-null  float64\n",
      " 8   unit_value_currency       695022 non-null  object \n",
      " 9   classification_id         695151 non-null  int64  \n",
      " 10  classification_uri        695151 non-null  object \n",
      " 11  classification_scheme     695151 non-null  object \n",
      " 12  unit_value_unitOfAccount  129 non-null     object \n",
      "dtypes: float64(2), int64(2), object(9)\n",
      "memory usage: 68.9+ MB\n"
     ]
    }
   ],
   "source": [
    "df_awards_items.info()"
   ]
  },
  {
   "cell_type": "code",
   "execution_count": 36,
   "id": "af40986c",
   "metadata": {},
   "outputs": [
    {
     "data": {
      "text/plain": [
       "count     129\n",
       "unique      1\n",
       "top       UTM\n",
       "freq      129\n",
       "Name: unit_value_unitOfAccount, dtype: object"
      ]
     },
     "execution_count": 36,
     "metadata": {},
     "output_type": "execute_result"
    }
   ],
   "source": [
    "df_awards_items[\"unit_value_unitOfAccount\"].describe()"
   ]
  },
  {
   "cell_type": "code",
   "execution_count": 37,
   "id": "b3eabf59",
   "metadata": {},
   "outputs": [
    {
     "data": {
      "text/plain": [
       "count     129\n",
       "unique      1\n",
       "top       UTM\n",
       "freq      129\n",
       "Name: unit_value_unitOfAccount, dtype: object"
      ]
     },
     "execution_count": 37,
     "metadata": {},
     "output_type": "execute_result"
    }
   ],
   "source": [
    "df_awards_items.loc[df_awards_items[\"unit_value_currency\"].isna()][\"unit_value_unitOfAccount\"].describe()"
   ]
  },
  {
   "cell_type": "markdown",
   "id": "812fdd63",
   "metadata": {},
   "source": [
    "Podemos observar que para los valores de <unit_value_currency> que son NaN existe un dato en <unit_value_unitOfAccount>, por lo que crearemos una nueva columna llamada <unit_value_monetary_unit> que tenga los valores de ambas columna según correspondan."
   ]
  },
  {
   "cell_type": "code",
   "execution_count": 38,
   "id": "3ee44778",
   "metadata": {},
   "outputs": [],
   "source": [
    "df_awards_items[\"unit_value_currency\"] = df_awards_items[\"unit_value_currency\"].replace(np.nan, \"No\")"
   ]
  },
  {
   "cell_type": "code",
   "execution_count": 39,
   "id": "6f42e57d",
   "metadata": {},
   "outputs": [
    {
     "ename": "KeyboardInterrupt",
     "evalue": "",
     "output_type": "error",
     "traceback": [
      "\u001b[1;31m---------------------------------------------------------------------------\u001b[0m",
      "\u001b[1;31mKeyboardInterrupt\u001b[0m                         Traceback (most recent call last)",
      "Cell \u001b[1;32mIn[39], line 6\u001b[0m\n\u001b[0;32m      3\u001b[0m         \u001b[38;5;28;01mreturn\u001b[39;00m df_awards_items\u001b[38;5;241m.\u001b[39miloc[indice][\u001b[38;5;124m\"\u001b[39m\u001b[38;5;124munit_value_unitOfAccount\u001b[39m\u001b[38;5;124m\"\u001b[39m]\n\u001b[0;32m      4\u001b[0m     \u001b[38;5;28;01mreturn\u001b[39;00m df_awards_items\u001b[38;5;241m.\u001b[39miloc[indice][\u001b[38;5;124m\"\u001b[39m\u001b[38;5;124munit_value_currency\u001b[39m\u001b[38;5;124m\"\u001b[39m]\n\u001b[1;32m----> 6\u001b[0m df_awards_items[\u001b[38;5;124m\"\u001b[39m\u001b[38;5;124munit_value_monetary_unit\u001b[39m\u001b[38;5;124m\"\u001b[39m] \u001b[38;5;241m=\u001b[39m df_awards_items\u001b[38;5;241m.\u001b[39mindex\u001b[38;5;241m.\u001b[39mmap(crear_unit_value_monetary_unit)\n",
      "File \u001b[1;32mc:\\Users\\camil\\anaconda3\\Lib\\site-packages\\pandas\\core\\indexes\\base.py:6491\u001b[0m, in \u001b[0;36mIndex.map\u001b[1;34m(self, mapper, na_action)\u001b[0m\n\u001b[0;32m   6455\u001b[0m \u001b[38;5;250m\u001b[39m\u001b[38;5;124;03m\"\"\"\u001b[39;00m\n\u001b[0;32m   6456\u001b[0m \u001b[38;5;124;03mMap values using an input mapping or function.\u001b[39;00m\n\u001b[0;32m   6457\u001b[0m \n\u001b[1;32m   (...)\u001b[0m\n\u001b[0;32m   6487\u001b[0m \u001b[38;5;124;03mIndex(['A', 'B', 'C'], dtype='object')\u001b[39;00m\n\u001b[0;32m   6488\u001b[0m \u001b[38;5;124;03m\"\"\"\u001b[39;00m\n\u001b[0;32m   6489\u001b[0m \u001b[38;5;28;01mfrom\u001b[39;00m \u001b[38;5;21;01mpandas\u001b[39;00m\u001b[38;5;21;01m.\u001b[39;00m\u001b[38;5;21;01mcore\u001b[39;00m\u001b[38;5;21;01m.\u001b[39;00m\u001b[38;5;21;01mindexes\u001b[39;00m\u001b[38;5;21;01m.\u001b[39;00m\u001b[38;5;21;01mmulti\u001b[39;00m \u001b[38;5;28;01mimport\u001b[39;00m MultiIndex\n\u001b[1;32m-> 6491\u001b[0m new_values \u001b[38;5;241m=\u001b[39m \u001b[38;5;28mself\u001b[39m\u001b[38;5;241m.\u001b[39m_map_values(mapper, na_action\u001b[38;5;241m=\u001b[39mna_action)\n\u001b[0;32m   6493\u001b[0m \u001b[38;5;66;03m# we can return a MultiIndex\u001b[39;00m\n\u001b[0;32m   6494\u001b[0m \u001b[38;5;28;01mif\u001b[39;00m new_values\u001b[38;5;241m.\u001b[39msize \u001b[38;5;129;01mand\u001b[39;00m \u001b[38;5;28misinstance\u001b[39m(new_values[\u001b[38;5;241m0\u001b[39m], \u001b[38;5;28mtuple\u001b[39m):\n",
      "File \u001b[1;32mc:\\Users\\camil\\anaconda3\\Lib\\site-packages\\pandas\\core\\base.py:921\u001b[0m, in \u001b[0;36mIndexOpsMixin._map_values\u001b[1;34m(self, mapper, na_action, convert)\u001b[0m\n\u001b[0;32m    918\u001b[0m \u001b[38;5;28;01mif\u001b[39;00m \u001b[38;5;28misinstance\u001b[39m(arr, ExtensionArray):\n\u001b[0;32m    919\u001b[0m     \u001b[38;5;28;01mreturn\u001b[39;00m arr\u001b[38;5;241m.\u001b[39mmap(mapper, na_action\u001b[38;5;241m=\u001b[39mna_action)\n\u001b[1;32m--> 921\u001b[0m \u001b[38;5;28;01mreturn\u001b[39;00m algorithms\u001b[38;5;241m.\u001b[39mmap_array(arr, mapper, na_action\u001b[38;5;241m=\u001b[39mna_action, convert\u001b[38;5;241m=\u001b[39mconvert)\n",
      "File \u001b[1;32mc:\\Users\\camil\\anaconda3\\Lib\\site-packages\\pandas\\core\\algorithms.py:1743\u001b[0m, in \u001b[0;36mmap_array\u001b[1;34m(arr, mapper, na_action, convert)\u001b[0m\n\u001b[0;32m   1741\u001b[0m values \u001b[38;5;241m=\u001b[39m arr\u001b[38;5;241m.\u001b[39mastype(\u001b[38;5;28mobject\u001b[39m, copy\u001b[38;5;241m=\u001b[39m\u001b[38;5;28;01mFalse\u001b[39;00m)\n\u001b[0;32m   1742\u001b[0m \u001b[38;5;28;01mif\u001b[39;00m na_action \u001b[38;5;129;01mis\u001b[39;00m \u001b[38;5;28;01mNone\u001b[39;00m:\n\u001b[1;32m-> 1743\u001b[0m     \u001b[38;5;28;01mreturn\u001b[39;00m lib\u001b[38;5;241m.\u001b[39mmap_infer(values, mapper, convert\u001b[38;5;241m=\u001b[39mconvert)\n\u001b[0;32m   1744\u001b[0m \u001b[38;5;28;01melse\u001b[39;00m:\n\u001b[0;32m   1745\u001b[0m     \u001b[38;5;28;01mreturn\u001b[39;00m lib\u001b[38;5;241m.\u001b[39mmap_infer_mask(\n\u001b[0;32m   1746\u001b[0m         values, mapper, mask\u001b[38;5;241m=\u001b[39misna(values)\u001b[38;5;241m.\u001b[39mview(np\u001b[38;5;241m.\u001b[39muint8), convert\u001b[38;5;241m=\u001b[39mconvert\n\u001b[0;32m   1747\u001b[0m     )\n",
      "File \u001b[1;32mlib.pyx:2972\u001b[0m, in \u001b[0;36mpandas._libs.lib.map_infer\u001b[1;34m()\u001b[0m\n",
      "Cell \u001b[1;32mIn[39], line 4\u001b[0m, in \u001b[0;36mcrear_unit_value_monetary_unit\u001b[1;34m(indice, comparador)\u001b[0m\n\u001b[0;32m      2\u001b[0m \u001b[38;5;28;01mif\u001b[39;00m df_awards_items\u001b[38;5;241m.\u001b[39miloc[indice][\u001b[38;5;124m\"\u001b[39m\u001b[38;5;124munit_value_currency\u001b[39m\u001b[38;5;124m\"\u001b[39m] \u001b[38;5;241m==\u001b[39m comparador:\n\u001b[0;32m      3\u001b[0m     \u001b[38;5;28;01mreturn\u001b[39;00m df_awards_items\u001b[38;5;241m.\u001b[39miloc[indice][\u001b[38;5;124m\"\u001b[39m\u001b[38;5;124munit_value_unitOfAccount\u001b[39m\u001b[38;5;124m\"\u001b[39m]\n\u001b[1;32m----> 4\u001b[0m \u001b[38;5;28;01mreturn\u001b[39;00m df_awards_items\u001b[38;5;241m.\u001b[39miloc[indice][\u001b[38;5;124m\"\u001b[39m\u001b[38;5;124munit_value_currency\u001b[39m\u001b[38;5;124m\"\u001b[39m]\n",
      "File \u001b[1;32mc:\\Users\\camil\\anaconda3\\Lib\\site-packages\\pandas\\core\\indexing.py:1191\u001b[0m, in \u001b[0;36m_LocationIndexer.__getitem__\u001b[1;34m(self, key)\u001b[0m\n\u001b[0;32m   1189\u001b[0m maybe_callable \u001b[38;5;241m=\u001b[39m com\u001b[38;5;241m.\u001b[39mapply_if_callable(key, \u001b[38;5;28mself\u001b[39m\u001b[38;5;241m.\u001b[39mobj)\n\u001b[0;32m   1190\u001b[0m maybe_callable \u001b[38;5;241m=\u001b[39m \u001b[38;5;28mself\u001b[39m\u001b[38;5;241m.\u001b[39m_check_deprecated_callable_usage(key, maybe_callable)\n\u001b[1;32m-> 1191\u001b[0m \u001b[38;5;28;01mreturn\u001b[39;00m \u001b[38;5;28mself\u001b[39m\u001b[38;5;241m.\u001b[39m_getitem_axis(maybe_callable, axis\u001b[38;5;241m=\u001b[39maxis)\n",
      "File \u001b[1;32mc:\\Users\\camil\\anaconda3\\Lib\\site-packages\\pandas\\core\\indexing.py:1754\u001b[0m, in \u001b[0;36m_iLocIndexer._getitem_axis\u001b[1;34m(self, key, axis)\u001b[0m\n\u001b[0;32m   1751\u001b[0m \u001b[38;5;66;03m# validate the location\u001b[39;00m\n\u001b[0;32m   1752\u001b[0m \u001b[38;5;28mself\u001b[39m\u001b[38;5;241m.\u001b[39m_validate_integer(key, axis)\n\u001b[1;32m-> 1754\u001b[0m \u001b[38;5;28;01mreturn\u001b[39;00m \u001b[38;5;28mself\u001b[39m\u001b[38;5;241m.\u001b[39mobj\u001b[38;5;241m.\u001b[39m_ixs(key, axis\u001b[38;5;241m=\u001b[39maxis)\n",
      "File \u001b[1;32mc:\\Users\\camil\\anaconda3\\Lib\\site-packages\\pandas\\core\\frame.py:3996\u001b[0m, in \u001b[0;36mDataFrame._ixs\u001b[1;34m(self, i, axis)\u001b[0m\n\u001b[0;32m   3994\u001b[0m \u001b[38;5;66;03m# irow\u001b[39;00m\n\u001b[0;32m   3995\u001b[0m \u001b[38;5;28;01mif\u001b[39;00m axis \u001b[38;5;241m==\u001b[39m \u001b[38;5;241m0\u001b[39m:\n\u001b[1;32m-> 3996\u001b[0m     new_mgr \u001b[38;5;241m=\u001b[39m \u001b[38;5;28mself\u001b[39m\u001b[38;5;241m.\u001b[39m_mgr\u001b[38;5;241m.\u001b[39mfast_xs(i)\n\u001b[0;32m   3998\u001b[0m     \u001b[38;5;66;03m# if we are a copy, mark as such\u001b[39;00m\n\u001b[0;32m   3999\u001b[0m     copy \u001b[38;5;241m=\u001b[39m \u001b[38;5;28misinstance\u001b[39m(new_mgr\u001b[38;5;241m.\u001b[39marray, np\u001b[38;5;241m.\u001b[39mndarray) \u001b[38;5;129;01mand\u001b[39;00m new_mgr\u001b[38;5;241m.\u001b[39marray\u001b[38;5;241m.\u001b[39mbase \u001b[38;5;129;01mis\u001b[39;00m \u001b[38;5;28;01mNone\u001b[39;00m\n",
      "File \u001b[1;32mc:\\Users\\camil\\anaconda3\\Lib\\site-packages\\pandas\\core\\internals\\managers.py:986\u001b[0m, in \u001b[0;36mBlockManager.fast_xs\u001b[1;34m(self, loc)\u001b[0m\n\u001b[0;32m    982\u001b[0m     \u001b[38;5;28;01mreturn\u001b[39;00m SingleBlockManager(block, \u001b[38;5;28mself\u001b[39m\u001b[38;5;241m.\u001b[39maxes[\u001b[38;5;241m0\u001b[39m])\n\u001b[0;32m    984\u001b[0m dtype \u001b[38;5;241m=\u001b[39m interleaved_dtype([blk\u001b[38;5;241m.\u001b[39mdtype \u001b[38;5;28;01mfor\u001b[39;00m blk \u001b[38;5;129;01min\u001b[39;00m \u001b[38;5;28mself\u001b[39m\u001b[38;5;241m.\u001b[39mblocks])\n\u001b[1;32m--> 986\u001b[0m n \u001b[38;5;241m=\u001b[39m \u001b[38;5;28mlen\u001b[39m(\u001b[38;5;28mself\u001b[39m)\n\u001b[0;32m    988\u001b[0m \u001b[38;5;28;01mif\u001b[39;00m \u001b[38;5;28misinstance\u001b[39m(dtype, ExtensionDtype):\n\u001b[0;32m    989\u001b[0m     \u001b[38;5;66;03m# TODO: use object dtype as workaround for non-performant\u001b[39;00m\n\u001b[0;32m    990\u001b[0m     \u001b[38;5;66;03m#  EA.__setitem__ methods. (primarily ArrowExtensionArray.__setitem__\u001b[39;00m\n\u001b[0;32m    991\u001b[0m     \u001b[38;5;66;03m#  when iteratively setting individual values)\u001b[39;00m\n\u001b[0;32m    992\u001b[0m     \u001b[38;5;66;03m#  https://github.com/pandas-dev/pandas/pull/54508#issuecomment-1675827918\u001b[39;00m\n\u001b[0;32m    993\u001b[0m     result \u001b[38;5;241m=\u001b[39m np\u001b[38;5;241m.\u001b[39mempty(n, dtype\u001b[38;5;241m=\u001b[39m\u001b[38;5;28mobject\u001b[39m)\n",
      "File \u001b[1;32mc:\\Users\\camil\\anaconda3\\Lib\\site-packages\\pandas\\core\\internals\\base.py:74\u001b[0m, in \u001b[0;36mDataManager.__len__\u001b[1;34m(self)\u001b[0m\n\u001b[0;32m     70\u001b[0m \u001b[38;5;129m@property\u001b[39m\n\u001b[0;32m     71\u001b[0m \u001b[38;5;28;01mdef\u001b[39;00m \u001b[38;5;21mitems\u001b[39m(\u001b[38;5;28mself\u001b[39m) \u001b[38;5;241m-\u001b[39m\u001b[38;5;241m>\u001b[39m Index:\n\u001b[0;32m     72\u001b[0m     \u001b[38;5;28;01mraise\u001b[39;00m AbstractMethodError(\u001b[38;5;28mself\u001b[39m)\n\u001b[1;32m---> 74\u001b[0m \u001b[38;5;129m@final\u001b[39m\n\u001b[0;32m     75\u001b[0m \u001b[38;5;28;01mdef\u001b[39;00m \u001b[38;5;21m__len__\u001b[39m(\u001b[38;5;28mself\u001b[39m) \u001b[38;5;241m-\u001b[39m\u001b[38;5;241m>\u001b[39m \u001b[38;5;28mint\u001b[39m:\n\u001b[0;32m     76\u001b[0m     \u001b[38;5;28;01mreturn\u001b[39;00m \u001b[38;5;28mlen\u001b[39m(\u001b[38;5;28mself\u001b[39m\u001b[38;5;241m.\u001b[39mitems)\n\u001b[0;32m     78\u001b[0m \u001b[38;5;129m@property\u001b[39m\n\u001b[0;32m     79\u001b[0m \u001b[38;5;28;01mdef\u001b[39;00m \u001b[38;5;21mndim\u001b[39m(\u001b[38;5;28mself\u001b[39m) \u001b[38;5;241m-\u001b[39m\u001b[38;5;241m>\u001b[39m \u001b[38;5;28mint\u001b[39m:\n",
      "\u001b[1;31mKeyboardInterrupt\u001b[0m: "
     ]
    }
   ],
   "source": [
    "def crear_unit_value_monetary_unit(indice:int, comparador=\"No\") -> str:\n",
    "    if df_awards_items.iloc[indice][\"unit_value_currency\"] == comparador:\n",
    "        return df_awards_items.iloc[indice][\"unit_value_unitOfAccount\"]\n",
    "    return df_awards_items.iloc[indice][\"unit_value_currency\"]\n",
    "\n",
    "df_awards_items[\"unit_value_monetary_unit\"] = df_awards_items.index.map(crear_unit_value_monetary_unit)"
   ]
  },
  {
   "cell_type": "code",
   "execution_count": null,
   "id": "92b39190",
   "metadata": {},
   "outputs": [],
   "source": [
    "df_awards_items[\"unit_value_monetary_unit\"].unique()"
   ]
  },
  {
   "cell_type": "code",
   "execution_count": null,
   "id": "c22475c8",
   "metadata": {},
   "outputs": [],
   "source": [
    "df_awards_items.drop(columns=['classification_uri', 'classification_scheme','unit_value_unitOfAccount', \"unit_value_currency\", \"description\"], inplace=True)"
   ]
  },
  {
   "cell_type": "markdown",
   "id": "e200b90f",
   "metadata": {},
   "source": [
    "## Revisión de awards_suppliers.csv"
   ]
  },
  {
   "cell_type": "code",
   "execution_count": null,
   "id": "341330f0",
   "metadata": {},
   "outputs": [],
   "source": [
    "camino = path.join(\"Chile\",\"2018\",\"awards_suppliers.csv\")\n",
    "df_awards_supplier = pd.read_csv(camino, sep=\",\")"
   ]
  },
  {
   "cell_type": "code",
   "execution_count": null,
   "id": "a21b8632",
   "metadata": {},
   "outputs": [],
   "source": [
    "df_awards_supplier.info()"
   ]
  },
  {
   "cell_type": "code",
   "execution_count": null,
   "id": "3ef8656b",
   "metadata": {},
   "outputs": [],
   "source": [
    "df_awards_supplier.head()"
   ]
  },
  {
   "cell_type": "code",
   "execution_count": null,
   "id": "3efc71c6",
   "metadata": {},
   "outputs": [],
   "source": [
    "def dejar_rut(texto:str) -> str:\n",
    "    return int(texto.split(\"-\")[2])"
   ]
  },
  {
   "cell_type": "code",
   "execution_count": null,
   "id": "76604a64",
   "metadata": {},
   "outputs": [],
   "source": [
    "df_awards_supplier[\"id\"] = df_awards_supplier[\"id\"].apply(dejar_rut)"
   ]
  },
  {
   "cell_type": "code",
   "execution_count": null,
   "id": "e6cb0090",
   "metadata": {},
   "outputs": [],
   "source": [
    "df_awards_supplier.info()"
   ]
  },
  {
   "cell_type": "markdown",
   "id": "ea0aa99c",
   "metadata": {},
   "source": [
    "## Revisión de awards_documents.csv"
   ]
  },
  {
   "cell_type": "code",
   "execution_count": null,
   "id": "312114a9",
   "metadata": {},
   "outputs": [],
   "source": [
    "camino = path.join(\"Chile\",\"2018\", \"awards_documents.csv\")\n",
    "df_award_documents = pd.read_csv(camino, sep=\",\")\n",
    "df_award_documents.head()"
   ]
  },
  {
   "cell_type": "code",
   "execution_count": null,
   "id": "13c3fb91",
   "metadata": {},
   "outputs": [],
   "source": [
    "df_award_documents.info()"
   ]
  },
  {
   "cell_type": "markdown",
   "id": "af711985",
   "metadata": {},
   "source": [
    "No se utilizará este DataFrame, puesto que no contiene información relevante para lo que se busca resolver."
   ]
  },
  {
   "cell_type": "markdown",
   "id": "4678c0dc",
   "metadata": {},
   "source": [
    "## Revisión de parties.csv"
   ]
  },
  {
   "cell_type": "code",
   "execution_count": null,
   "id": "42bc6bc8",
   "metadata": {},
   "outputs": [],
   "source": [
    "camino = path.join(\"Chile\",\"2018\", \"parties.csv\")\n",
    "df_parties = pd.read_csv(camino, sep=\",\")\n",
    "df_parties.head()"
   ]
  },
  {
   "cell_type": "code",
   "execution_count": null,
   "id": "c20862c3",
   "metadata": {},
   "outputs": [],
   "source": [
    "df_parties.info()"
   ]
  },
  {
   "cell_type": "code",
   "execution_count": null,
   "id": "f37d9deb",
   "metadata": {},
   "outputs": [],
   "source": [
    "df_parties.drop(columns=['address_streetAddress' \"id\", 'identifier_scheme','identifier_legalName', 'contactPoint_name', 'contactPoint_email','contactPoint_telephone', 'contactPoint_faxNumber'], inplace=True)"
   ]
  },
  {
   "cell_type": "code",
   "execution_count": null,
   "id": "7c93910a",
   "metadata": {},
   "outputs": [],
   "source": [
    "df_parties.info()"
   ]
  },
  {
   "cell_type": "markdown",
   "id": "62143ca9",
   "metadata": {},
   "source": [
    "Se eliminan estas columnas porque ofrecen información que no es de interes, ni se puede utilizar para obtener información en alguna de las paginas relacionadas al dataset."
   ]
  },
  {
   "cell_type": "code",
   "execution_count": null,
   "id": "b6c1eaa8",
   "metadata": {},
   "outputs": [],
   "source": [
    "df_parties[\"roles\"].unique()"
   ]
  },
  {
   "cell_type": "code",
   "execution_count": null,
   "id": "ccb051d6",
   "metadata": {},
   "outputs": [],
   "source": [
    "def separar_roles(texto:str) -> list:\n",
    "    if \",\" in texto:\n",
    "        return texto.split(\",\")\n",
    "    else:\n",
    "        return [texto, np.nan]\n",
    "    \n",
    "df_parties[\"roles\"] = df_parties[\"roles\"].apply(separar_roles)"
   ]
  },
  {
   "cell_type": "code",
   "execution_count": null,
   "id": "29388ab6",
   "metadata": {},
   "outputs": [],
   "source": [
    "df_parties[\"rol 1\"] = df_parties.index.map(lambda x: df_parties.loc[x][\"roles\"][0])"
   ]
  },
  {
   "cell_type": "code",
   "execution_count": null,
   "id": "167ebcd5",
   "metadata": {},
   "outputs": [],
   "source": [
    "df_parties[\"rol 2\"] = df_parties.index.map(lambda x: df_parties.loc[x][\"roles\"][1])"
   ]
  },
  {
   "cell_type": "code",
   "execution_count": null,
   "id": "ba73dd06",
   "metadata": {},
   "outputs": [],
   "source": [
    "df_parties.head()"
   ]
  },
  {
   "cell_type": "code",
   "execution_count": null,
   "id": "d5b43c79",
   "metadata": {},
   "outputs": [],
   "source": [
    "df_G = df_parties.dropna(subset=[\"address_region\"])\n",
    "df_G = df_G[df_G[\"address_countryName\"].isna()]"
   ]
  },
  {
   "cell_type": "code",
   "execution_count": null,
   "id": "0cf694a5",
   "metadata": {},
   "outputs": [],
   "source": [
    "df_G[\"address_region\"].unique()"
   ]
  },
  {
   "cell_type": "code",
   "execution_count": null,
   "id": "65cb8257",
   "metadata": {},
   "outputs": [],
   "source": [
    "df_parties[\"address_countryName\"] = df_parties[\"address_countryName\"].replace(np.nan, \"no\")\n",
    "df_parties[\"address_region\"] = df_parties[\"address_region\"].replace(np.nan, \"no\")"
   ]
  },
  {
   "cell_type": "code",
   "execution_count": null,
   "id": "881beb73",
   "metadata": {},
   "outputs": [],
   "source": [
    "def dar_pais_segun_region(indice:int, comparador=\"no\") -> str:\n",
    "    if df_parties.iloc[indice][\"address_countryName\"] == comparador:\n",
    "        if df_parties.iloc[indice][\"address_region\"] in set(['Región de Valparaíso ', 'Región del Biobío ','Región Metropolitana de Santiago','Región de Magallanes y de la Antártica','Región del Libertador General Bernardo O´Higgins','Región de Atacama ', 'Región de Coquimbo ',\n",
    "       'Región de la Araucanía ', 'Región de los Lagos ','Región del Maule ', 'Región de Los Ríos','Región de Antofagasta ', 'Región de Tarapacá  ','Región de Arica y Parinacota','Región Aysén del General Carlos Ibáñez del Campo']):\n",
    "            return (\"Chile\")\n",
    "        else:\n",
    "            return (\"no\")\n",
    "    else:\n",
    "        return df_parties.iloc[indice][\"address_countryName\"]"
   ]
  },
  {
   "cell_type": "code",
   "execution_count": null,
   "id": "c369d2e7",
   "metadata": {},
   "outputs": [],
   "source": [
    "def dar_region_segun_pais(indice:int, comparador=\"no\") -> str:\n",
    "    if df_parties.iloc[indice][\"address_region\"] == comparador:\n",
    "        if df_parties.iloc[indice][\"address_countryName\"] != \"Chile\" and df_parties.iloc[indice][\"address_countryName\"] != \"no\":\n",
    "            return(\"Extranjero\")\n",
    "        else:\n",
    "            return np.nan\n",
    "    else:\n",
    "        return df_parties.iloc[indice][\"address_region\"]"
   ]
  },
  {
   "cell_type": "code",
   "execution_count": null,
   "id": "5d7d4597",
   "metadata": {},
   "outputs": [],
   "source": [
    "df_parties[\"address_countryName\"] = df_parties.index.map(dar_pais_segun_region)"
   ]
  },
  {
   "cell_type": "code",
   "execution_count": null,
   "id": "f46915ba",
   "metadata": {},
   "outputs": [],
   "source": [
    "df_parties[\"address_region\"] = df_parties.index.map(dar_region_segun_pais)"
   ]
  },
  {
   "cell_type": "code",
   "execution_count": null,
   "id": "1dbc5db8",
   "metadata": {},
   "outputs": [],
   "source": [
    "df_parties[\"address_region\"].unique()"
   ]
  },
  {
   "cell_type": "code",
   "execution_count": null,
   "id": "e54cf7a1",
   "metadata": {},
   "outputs": [],
   "source": [
    "df_parties[\"address_countryName\"].replace(\"no\", np.nan, inplace=True)\n",
    "df_parties[\"address_countryName\"].unique()"
   ]
  },
  {
   "cell_type": "code",
   "execution_count": null,
   "id": "4fd0fb21",
   "metadata": {},
   "outputs": [],
   "source": [
    "df_parties.info()"
   ]
  },
  {
   "cell_type": "code",
   "execution_count": null,
   "id": "2287f2b3",
   "metadata": {},
   "outputs": [],
   "source": [
    "df_parties.drop(columns=[\"roles\"], inplace=True)"
   ]
  },
  {
   "cell_type": "markdown",
   "id": "5f95fd59",
   "metadata": {},
   "source": [
    "## Revisión de parties_additionalIdentifiers.csv"
   ]
  },
  {
   "cell_type": "code",
   "execution_count": null,
   "id": "4421483a",
   "metadata": {},
   "outputs": [],
   "source": [
    "camino = path.join(\"Chile\",\"2018\", \"parties_additionalIdentifiers.csv\")\n",
    "df_parties_add = pd.read_csv(camino, sep=\",\")\n",
    "df_parties_add.head()"
   ]
  },
  {
   "cell_type": "code",
   "execution_count": null,
   "id": "e7c1416b",
   "metadata": {},
   "outputs": [],
   "source": [
    "df_parties_add.info()"
   ]
  },
  {
   "cell_type": "code",
   "execution_count": null,
   "id": "ed64799e",
   "metadata": {},
   "outputs": [],
   "source": [
    "df_parties_add.iloc[3][\"uri\"]"
   ]
  },
  {
   "cell_type": "markdown",
   "id": "44762f00",
   "metadata": {},
   "source": [
    "Los links de uri no aportan información extra, por lo no se mantendran."
   ]
  },
  {
   "cell_type": "code",
   "execution_count": null,
   "id": "01681108",
   "metadata": {},
   "outputs": [],
   "source": [
    "df_parties_add.drop(columns=[\"uri\", \"scheme\", \"_link_main\"],inplace=True)"
   ]
  },
  {
   "cell_type": "markdown",
   "id": "fea66160",
   "metadata": {},
   "source": [
    "### Revisión de tender_items.csv"
   ]
  },
  {
   "cell_type": "code",
   "execution_count": null,
   "id": "adb9fd52",
   "metadata": {},
   "outputs": [],
   "source": [
    "camino = path.join(\"Chile\",\"2018\", \"tender_items.csv\")\n",
    "df_tender_item = pd.read_csv(camino, sep=\",\")\n",
    "df_tender_item.head()"
   ]
  },
  {
   "cell_type": "code",
   "execution_count": null,
   "id": "eba2b7a5",
   "metadata": {},
   "outputs": [],
   "source": [
    "df_tender_item.info()"
   ]
  },
  {
   "cell_type": "code",
   "execution_count": null,
   "id": "fcf77bf8",
   "metadata": {},
   "outputs": [],
   "source": [
    "df_tender_item.drop(columns=[\"classification_uri\"], inplace=True)"
   ]
  },
  {
   "cell_type": "code",
   "execution_count": null,
   "id": "2a0c1b1b",
   "metadata": {},
   "outputs": [],
   "source": [
    "df_tender_item.info()"
   ]
  },
  {
   "cell_type": "markdown",
   "id": "ee67b401",
   "metadata": {},
   "source": [
    "### Revisión de tender_tenderers.csv"
   ]
  },
  {
   "cell_type": "code",
   "execution_count": null,
   "id": "b108eded",
   "metadata": {},
   "outputs": [],
   "source": [
    "camino = path.join(\"Chile\",\"2018\", \"tender_tenderers.csv\")\n",
    "df_tender_tenderers = pd.read_csv(camino, sep=\",\")"
   ]
  },
  {
   "cell_type": "code",
   "execution_count": null,
   "id": "be014b0f",
   "metadata": {},
   "outputs": [],
   "source": [
    "df_tender_tenderers.head()"
   ]
  },
  {
   "cell_type": "code",
   "execution_count": null,
   "id": "092b5c32",
   "metadata": {},
   "outputs": [],
   "source": [
    "df_tender_tenderers.info()"
   ]
  },
  {
   "cell_type": "code",
   "execution_count": null,
   "id": "6d2f6b1f",
   "metadata": {},
   "outputs": [],
   "source": [
    "df_tender_tenderers[\"id\"] = df_tender_tenderers[\"id\"].apply(dejar_rut)"
   ]
  },
  {
   "cell_type": "code",
   "execution_count": null,
   "id": "e85cb147",
   "metadata": {},
   "outputs": [],
   "source": [
    "df_tender_tenderers.info()"
   ]
  },
  {
   "cell_type": "markdown",
   "id": "de95fa3f",
   "metadata": {},
   "source": [
    "### Clasificación con UNSPCS."
   ]
  },
  {
   "cell_type": "code",
   "execution_count": null,
   "id": "9223ed12",
   "metadata": {},
   "outputs": [],
   "source": [
    "df_clasificaciones = pd.read_excel(\"unspcs-clasificador-de-bienes-y-servicios-de-naciones-unidas-en-espanol.xlsx\", skiprows=5)\n",
    "df_clasificaciones.head(10)"
   ]
  },
  {
   "cell_type": "markdown",
   "id": "13e1714e",
   "metadata": {},
   "source": [
    "El dataframe df_clasificaciones corresponde a un conjunto de datos que posee el significado de cada objeto solicitados según la codificación UNSPSC, por lo que se hara merge con el df_main para saber que se esta comprando en cada licitación, se desecharán algunas de las columnas de df_clasificaciones para esto."
   ]
  },
  {
   "cell_type": "code",
   "execution_count": null,
   "id": "ee363d9f",
   "metadata": {},
   "outputs": [],
   "source": [
    "df_clasificaciones.drop(columns=[\"Código segmento\",\"Código Familia\",\"Nombre Familia\",\"Nombre Clase\",\"Código Clase\"], inplace=True)"
   ]
  },
  {
   "cell_type": "markdown",
   "id": "c12ff8fa",
   "metadata": {},
   "source": [
    "### Instituciones que realizan licitaciones. "
   ]
  },
  {
   "cell_type": "markdown",
   "id": "57bc30bd",
   "metadata": {},
   "source": [
    "Se obtuvo unb dataset con información de los organismos que han realizado lictaciones historicamente desde <https://datos-abiertos.chilecompra.cl/descargas/complementos>, se utilizará para determinar el sector del comprador."
   ]
  },
  {
   "cell_type": "code",
   "execution_count": null,
   "id": "e59eea95",
   "metadata": {},
   "outputs": [],
   "source": [
    "camino = path.join(\"Chile\",\"Instituciones_compradoras.csv\")\n",
    "df_instituciones_compradoras = pd.read_csv(camino, sep=\";\", encoding=\"UTF-8\")"
   ]
  },
  {
   "cell_type": "code",
   "execution_count": null,
   "id": "d6e81933",
   "metadata": {},
   "outputs": [
    {
     "data": {
      "text/html": [
       "<div>\n",
       "<style scoped>\n",
       "    .dataframe tbody tr th:only-of-type {\n",
       "        vertical-align: middle;\n",
       "    }\n",
       "\n",
       "    .dataframe tbody tr th {\n",
       "        vertical-align: top;\n",
       "    }\n",
       "\n",
       "    .dataframe thead th {\n",
       "        text-align: right;\n",
       "    }\n",
       "</style>\n",
       "<table border=\"1\" class=\"dataframe\">\n",
       "  <thead>\n",
       "    <tr style=\"text-align: right;\">\n",
       "      <th></th>\n",
       "      <th>sector</th>\n",
       "      <th>Instituci�n</th>\n",
       "      <th>C�digo Instituci�n</th>\n",
       "      <th>RUT Unidad de Compra</th>\n",
       "      <th>C�digo Unidad de Compra</th>\n",
       "      <th>Unidad de Compra</th>\n",
       "      <th>Regi�n Unidad de Compra</th>\n",
       "    </tr>\n",
       "  </thead>\n",
       "  <tbody>\n",
       "    <tr>\n",
       "      <th>0</th>\n",
       "      <td>MUNICIPALIDADES</td>\n",
       "      <td>I MUNICIPALIDAD DE AYSEN</td>\n",
       "      <td>100049</td>\n",
       "      <td>69.240.100-K</td>\n",
       "      <td>3701</td>\n",
       "      <td>I.MUNICIPALIDAD AYSEN-DIRECCION DE EDUCACION</td>\n",
       "      <td>Ays�n</td>\n",
       "    </tr>\n",
       "    <tr>\n",
       "      <th>1</th>\n",
       "      <td>MUNICIPALIDADES</td>\n",
       "      <td>I MUNICIPALIDAD DE AYSEN</td>\n",
       "      <td>100049</td>\n",
       "      <td>69.240.100-K</td>\n",
       "      <td>3702</td>\n",
       "      <td>I.MUNICIPALIDAD AYSEN-ADQUISICIONES</td>\n",
       "      <td>Ays�n</td>\n",
       "    </tr>\n",
       "    <tr>\n",
       "      <th>2</th>\n",
       "      <td>MUNICIPALIDADES</td>\n",
       "      <td>I MUNICIPALIDAD DE AYSEN</td>\n",
       "      <td>100049</td>\n",
       "      <td>60.920.753-1</td>\n",
       "      <td>3703</td>\n",
       "      <td>I.MUNICIPALIDAD AYSEN-LICEO POLITECNICO</td>\n",
       "      <td>Ays�n</td>\n",
       "    </tr>\n",
       "    <tr>\n",
       "      <th>3</th>\n",
       "      <td>MUNICIPALIDADES</td>\n",
       "      <td>I MUNICIPALIDAD DE PIRQUE</td>\n",
       "      <td>100072</td>\n",
       "      <td>69.072.200-3</td>\n",
       "      <td>3704</td>\n",
       "      <td>MUNICIPALIDAD DE PIRQUE - DAF</td>\n",
       "      <td>Metropolitana</td>\n",
       "    </tr>\n",
       "    <tr>\n",
       "      <th>4</th>\n",
       "      <td>MUNICIPALIDADES</td>\n",
       "      <td>I MUNICIPALIDAD DE PIRQUE</td>\n",
       "      <td>100072</td>\n",
       "      <td>69.072.200-3</td>\n",
       "      <td>3705</td>\n",
       "      <td>MUNICIPALIDAD DE PIRQUE - DOM</td>\n",
       "      <td>Metropolitana</td>\n",
       "    </tr>\n",
       "  </tbody>\n",
       "</table>\n",
       "</div>"
      ],
      "text/plain": [
       "            sector                Instituci�n  C�digo Instituci�n  \\\n",
       "0  MUNICIPALIDADES   I MUNICIPALIDAD DE AYSEN              100049   \n",
       "1  MUNICIPALIDADES   I MUNICIPALIDAD DE AYSEN              100049   \n",
       "2  MUNICIPALIDADES   I MUNICIPALIDAD DE AYSEN              100049   \n",
       "3  MUNICIPALIDADES  I MUNICIPALIDAD DE PIRQUE              100072   \n",
       "4  MUNICIPALIDADES  I MUNICIPALIDAD DE PIRQUE              100072   \n",
       "\n",
       "  RUT Unidad de Compra  C�digo Unidad de Compra  \\\n",
       "0         69.240.100-K                     3701   \n",
       "1         69.240.100-K                     3702   \n",
       "2         60.920.753-1                     3703   \n",
       "3         69.072.200-3                     3704   \n",
       "4         69.072.200-3                     3705   \n",
       "\n",
       "                               Unidad de Compra Regi�n Unidad de Compra  \n",
       "0  I.MUNICIPALIDAD AYSEN-DIRECCION DE EDUCACION                   Ays�n  \n",
       "1           I.MUNICIPALIDAD AYSEN-ADQUISICIONES                   Ays�n  \n",
       "2       I.MUNICIPALIDAD AYSEN-LICEO POLITECNICO                   Ays�n  \n",
       "3                 MUNICIPALIDAD DE PIRQUE - DAF           Metropolitana  \n",
       "4                 MUNICIPALIDAD DE PIRQUE - DOM           Metropolitana  "
      ]
     },
     "execution_count": 11,
     "metadata": {},
     "output_type": "execute_result"
    }
   ],
   "source": [
    "df_instituciones_compradoras.head()"
   ]
  },
  {
   "cell_type": "code",
   "execution_count": null,
   "id": "80bb62d1",
   "metadata": {},
   "outputs": [
    {
     "data": {
      "text/html": [
       "<div>\n",
       "<style scoped>\n",
       "    .dataframe tbody tr th:only-of-type {\n",
       "        vertical-align: middle;\n",
       "    }\n",
       "\n",
       "    .dataframe tbody tr th {\n",
       "        vertical-align: top;\n",
       "    }\n",
       "\n",
       "    .dataframe thead th {\n",
       "        text-align: right;\n",
       "    }\n",
       "</style>\n",
       "<table border=\"1\" class=\"dataframe\">\n",
       "  <thead>\n",
       "    <tr style=\"text-align: right;\">\n",
       "      <th></th>\n",
       "      <th>sector</th>\n",
       "      <th>Instituci�n</th>\n",
       "      <th>C�digo Instituci�n</th>\n",
       "      <th>RUT Unidad de Compra</th>\n",
       "      <th>C�digo Unidad de Compra</th>\n",
       "      <th>Unidad de Compra</th>\n",
       "      <th>Regi�n Unidad de Compra</th>\n",
       "    </tr>\n",
       "  </thead>\n",
       "  <tbody>\n",
       "    <tr>\n",
       "      <th>2446</th>\n",
       "      <td>MUNICIPALIDADES</td>\n",
       "      <td>I MUNICIPALIDAD DE TIRUA</td>\n",
       "      <td>183037</td>\n",
       "      <td>69.160.700-3</td>\n",
       "      <td>5772</td>\n",
       "      <td>FINANZAS</td>\n",
       "      <td>B�o-B�o</td>\n",
       "    </tr>\n",
       "  </tbody>\n",
       "</table>\n",
       "</div>"
      ],
      "text/plain": [
       "               sector               Instituci�n  C�digo Instituci�n  \\\n",
       "2446  MUNICIPALIDADES  I MUNICIPALIDAD DE TIRUA              183037   \n",
       "\n",
       "     RUT Unidad de Compra  C�digo Unidad de Compra Unidad de Compra  \\\n",
       "2446         69.160.700-3                     5772         FINANZAS   \n",
       "\n",
       "     Regi�n Unidad de Compra  \n",
       "2446                 B�o-B�o  "
      ]
     },
     "execution_count": 17,
     "metadata": {},
     "output_type": "execute_result"
    }
   ],
   "source": [
    "df_instituciones_compradoras.loc[df_instituciones_compradoras[\"C�digo Unidad de Compra\"] == 5772]"
   ]
  },
  {
   "cell_type": "code",
   "execution_count": null,
   "id": "af1203ac",
   "metadata": {},
   "outputs": [
    {
     "data": {
      "text/html": [
       "<div>\n",
       "<style scoped>\n",
       "    .dataframe tbody tr th:only-of-type {\n",
       "        vertical-align: middle;\n",
       "    }\n",
       "\n",
       "    .dataframe tbody tr th {\n",
       "        vertical-align: top;\n",
       "    }\n",
       "\n",
       "    .dataframe thead th {\n",
       "        text-align: right;\n",
       "    }\n",
       "</style>\n",
       "<table border=\"1\" class=\"dataframe\">\n",
       "  <thead>\n",
       "    <tr style=\"text-align: right;\">\n",
       "      <th></th>\n",
       "      <th>sector</th>\n",
       "      <th>C�digo Unidad de Compra</th>\n",
       "      <th>Unidad de Compra</th>\n",
       "    </tr>\n",
       "  </thead>\n",
       "  <tbody>\n",
       "    <tr>\n",
       "      <th>0</th>\n",
       "      <td>MUNICIPALIDADES</td>\n",
       "      <td>3701</td>\n",
       "      <td>I.MUNICIPALIDAD AYSEN-DIRECCION DE EDUCACION</td>\n",
       "    </tr>\n",
       "    <tr>\n",
       "      <th>1</th>\n",
       "      <td>MUNICIPALIDADES</td>\n",
       "      <td>3702</td>\n",
       "      <td>I.MUNICIPALIDAD AYSEN-ADQUISICIONES</td>\n",
       "    </tr>\n",
       "    <tr>\n",
       "      <th>2</th>\n",
       "      <td>MUNICIPALIDADES</td>\n",
       "      <td>3703</td>\n",
       "      <td>I.MUNICIPALIDAD AYSEN-LICEO POLITECNICO</td>\n",
       "    </tr>\n",
       "    <tr>\n",
       "      <th>3</th>\n",
       "      <td>MUNICIPALIDADES</td>\n",
       "      <td>3704</td>\n",
       "      <td>MUNICIPALIDAD DE PIRQUE - DAF</td>\n",
       "    </tr>\n",
       "    <tr>\n",
       "      <th>4</th>\n",
       "      <td>MUNICIPALIDADES</td>\n",
       "      <td>3705</td>\n",
       "      <td>MUNICIPALIDAD DE PIRQUE - DOM</td>\n",
       "    </tr>\n",
       "  </tbody>\n",
       "</table>\n",
       "</div>"
      ],
      "text/plain": [
       "            sector  C�digo Unidad de Compra  \\\n",
       "0  MUNICIPALIDADES                     3701   \n",
       "1  MUNICIPALIDADES                     3702   \n",
       "2  MUNICIPALIDADES                     3703   \n",
       "3  MUNICIPALIDADES                     3704   \n",
       "4  MUNICIPALIDADES                     3705   \n",
       "\n",
       "                               Unidad de Compra  \n",
       "0  I.MUNICIPALIDAD AYSEN-DIRECCION DE EDUCACION  \n",
       "1           I.MUNICIPALIDAD AYSEN-ADQUISICIONES  \n",
       "2       I.MUNICIPALIDAD AYSEN-LICEO POLITECNICO  \n",
       "3                 MUNICIPALIDAD DE PIRQUE - DAF  \n",
       "4                 MUNICIPALIDAD DE PIRQUE - DOM  "
      ]
     },
     "execution_count": 18,
     "metadata": {},
     "output_type": "execute_result"
    }
   ],
   "source": [
    "df_instituciones_compradoras.drop(columns=[\"Instituci�n\",\"Regi�n Unidad de Compra\", \"RUT Unidad de Compra\", \"C�digo Instituci�n\"], inplace=True)\n",
    "df_instituciones_compradoras.rename(columns={\"C�digo Unidad de Compra\":\"Codigo Unidad de Compra\"}, inplace=True)\n",
    "df_instituciones_compradoras.head()"
   ]
  },
  {
   "cell_type": "markdown",
   "id": "c9f6eaa2",
   "metadata": {},
   "source": [
    "### Unión de dataframes."
   ]
  },
  {
   "cell_type": "code",
   "execution_count": null,
   "id": "c5f8dbfb",
   "metadata": {},
   "outputs": [],
   "source": [
    "df_filtrado.info()"
   ]
  },
  {
   "cell_type": "code",
   "execution_count": null,
   "id": "35dd3f48",
   "metadata": {},
   "outputs": [],
   "source": [
    "df_awards.info()"
   ]
  },
  {
   "cell_type": "code",
   "execution_count": null,
   "id": "fb914f2a",
   "metadata": {},
   "outputs": [],
   "source": [
    "df_awards_items.info()"
   ]
  },
  {
   "cell_type": "code",
   "execution_count": null,
   "id": "79569463",
   "metadata": {},
   "outputs": [],
   "source": [
    "df_awards_supplier.info()"
   ]
  },
  {
   "cell_type": "code",
   "execution_count": null,
   "id": "000c9847",
   "metadata": {},
   "outputs": [],
   "source": [
    "df_parties.info()"
   ]
  },
  {
   "cell_type": "code",
   "execution_count": null,
   "id": "233d287a",
   "metadata": {},
   "outputs": [],
   "source": [
    "df_parties_add.info()"
   ]
  },
  {
   "cell_type": "code",
   "execution_count": null,
   "id": "ce4ccda8",
   "metadata": {},
   "outputs": [],
   "source": [
    "df_tender_item.info()"
   ]
  },
  {
   "cell_type": "code",
   "execution_count": null,
   "id": "0091d9f6",
   "metadata": {},
   "outputs": [],
   "source": [
    "df_tender_tenderers.info()"
   ]
  },
  {
   "cell_type": "code",
   "execution_count": null,
   "id": "2e5fab96",
   "metadata": {},
   "outputs": [],
   "source": [
    "df_clasificaciones.info()"
   ]
  },
  {
   "cell_type": "markdown",
   "id": "c5c2b0eb",
   "metadata": {},
   "source": [
    "### Award_items y clasificaciones."
   ]
  },
  {
   "cell_type": "code",
   "execution_count": null,
   "id": "e42c8972",
   "metadata": {},
   "outputs": [],
   "source": [
    "df_award_item_clasifi = df_awards_items.merge(df_clasificaciones, left_on=\"classification_id\",right_on=\"Código Producto\")\n",
    "df_award_item_clasifi.drop(columns=[ \"_link\"], inplace=True)\n",
    "df_award_item_clasifi.head()"
   ]
  },
  {
   "cell_type": "markdown",
   "id": "3fc44eaf",
   "metadata": {},
   "source": [
    "### Awards y Awards_items"
   ]
  },
  {
   "cell_type": "code",
   "execution_count": null,
   "id": "24aea760",
   "metadata": {},
   "outputs": [],
   "source": [
    "df_award_and_items = df_awards.merge(df_award_item_clasifi, left_on=\"_link\", right_on=\"_link_awards\")\n",
    "df_award_and_items.head()"
   ]
  },
  {
   "cell_type": "code",
   "execution_count": null,
   "id": "f72da1c4",
   "metadata": {},
   "outputs": [],
   "source": [
    "df_award_and_items.drop(columns=[\"_link_main_y\", \"_link_awards\"],inplace=True)"
   ]
  },
  {
   "cell_type": "code",
   "execution_count": null,
   "id": "cb8be610",
   "metadata": {},
   "outputs": [],
   "source": [
    "df_igualdad = pd.DataFrame(df_award_and_items[\"value_monetary_unit\"] == df_award_and_items[\"unit_value_monetary_unit\"])\n",
    "indice = df_igualdad.loc[df_igualdad[0] == False].index"
   ]
  },
  {
   "cell_type": "code",
   "execution_count": null,
   "id": "637d5a95",
   "metadata": {},
   "outputs": [],
   "source": [
    "df_award_and_items.iloc[indice]"
   ]
  },
  {
   "cell_type": "code",
   "execution_count": null,
   "id": "b74fc1d0",
   "metadata": {},
   "outputs": [],
   "source": [
    "df_award_and_items.drop(indice, inplace=True)"
   ]
  },
  {
   "cell_type": "code",
   "execution_count": null,
   "id": "5fb63462",
   "metadata": {},
   "outputs": [],
   "source": [
    "df_award_and_items.rename({\"_link_main_x\":\"_link_main\"},inplace=True)"
   ]
  },
  {
   "cell_type": "code",
   "execution_count": null,
   "id": "d43e985b",
   "metadata": {},
   "outputs": [],
   "source": [
    "df_award_and_items.columns"
   ]
  },
  {
   "cell_type": "markdown",
   "id": "dc7bc6ec",
   "metadata": {},
   "source": [
    "### Awards y Awards_supplier"
   ]
  },
  {
   "cell_type": "code",
   "execution_count": null,
   "id": "eca25325",
   "metadata": {},
   "outputs": [],
   "source": [
    "df_award_and_supplier = df_awards.merge(df_awards_supplier, left_on=\"_link\", right_on=\"_link_awards\")\n",
    "df_award_and_supplier.drop(columns=[\"_link_awards\", \"_link_main_y\", \"_link_y\"], inplace=True)\n",
    "df_award_and_supplier.head()"
   ]
  },
  {
   "cell_type": "code",
   "execution_count": null,
   "id": "8b767a52",
   "metadata": {},
   "outputs": [],
   "source": [
    "df_award_and_supplier.info()"
   ]
  },
  {
   "cell_type": "markdown",
   "id": "41ed227f",
   "metadata": {},
   "source": [
    "#### Tender_items y Clasificaciones."
   ]
  },
  {
   "cell_type": "code",
   "execution_count": null,
   "id": "54d596d7",
   "metadata": {},
   "outputs": [],
   "source": [
    "df_tender_item = df_tender_item.merge(df_clasificaciones, left_on=\"classification_id\",right_on=\"Código Producto\")\n",
    "df_tender_item.drop(columns=[\"classification_scheme\", \"classification_id\"], inplace=True)\n",
    "df_tender_item.head()"
   ]
  },
  {
   "cell_type": "markdown",
   "id": "bda58736",
   "metadata": {},
   "source": [
    "### Awards y Tender_items_clasificaciones."
   ]
  },
  {
   "cell_type": "code",
   "execution_count": null,
   "id": "30cca5dd",
   "metadata": {},
   "outputs": [],
   "source": [
    "df_items_tender_awards = df_award_and_items.merge(df_tender_item, left_on=[\"_link_main_x\",\"classification_id\",\"unit_name\"], right_on=[\"_link_main\",\"Código Producto\",\"unit_name\"], how=\"left\")"
   ]
  },
  {
   "cell_type": "code",
   "execution_count": null,
   "id": "f5771a75",
   "metadata": {},
   "outputs": [],
   "source": [
    "df_items_tender_awards.head()"
   ]
  },
  {
   "cell_type": "code",
   "execution_count": null,
   "id": "54592457",
   "metadata": {},
   "outputs": [],
   "source": [
    "df_items_tender_awards.columns"
   ]
  },
  {
   "cell_type": "code",
   "execution_count": null,
   "id": "cc34dae1",
   "metadata": {},
   "outputs": [],
   "source": [
    "df_items_tender_awards.drop(columns=['_link', '_link_main','quantity_x', 'classification_id', \"id_x\"], inplace=True)\n",
    "df_items_tender_awards.rename(columns={'_link_x':\"_link_awards\", '_link_main_x':\"_link_main\", 'date':\"date_award\", 'status':\"award_status\",'quantity_x':\"quantity\", 'unit_name_x':\"unit_name\", \"id_y\":\"award_id\"}, inplace=True)\n",
    "df_items_tender_awards.head()"
   ]
  },
  {
   "cell_type": "markdown",
   "id": "51e6f0a3",
   "metadata": {},
   "source": [
    "### Parties y Parties_additional_identifiers."
   ]
  },
  {
   "cell_type": "code",
   "execution_count": null,
   "id": "e382db4f",
   "metadata": {},
   "outputs": [],
   "source": [
    "df_parties_and_add = df_parties.merge(df_parties_add, left_on=[\"_link\",\"id\"], right_on=[\"_link_parties\", \"id\"], how=\"left\")\n",
    "df_parties_and_add.head()"
   ]
  },
  {
   "cell_type": "code",
   "execution_count": null,
   "id": "9f6db0db",
   "metadata": {},
   "outputs": [],
   "source": [
    "df_parties_and_add.drop(columns=[\"_link_y\", \"_link_parties\"], inplace=True)\n",
    "df_parties_and_add.head()"
   ]
  },
  {
   "cell_type": "code",
   "execution_count": null,
   "id": "d6ab2945",
   "metadata": {},
   "outputs": [],
   "source": [
    "df_parties_and_add.info()"
   ]
  },
  {
   "cell_type": "markdown",
   "id": "0ff59ed0",
   "metadata": {},
   "source": [
    "### Union de awards_supplier y parties."
   ]
  },
  {
   "cell_type": "code",
   "execution_count": null,
   "id": "1b3960de",
   "metadata": {},
   "outputs": [],
   "source": [
    "df_supplier_additional_info = df_award_and_supplier.merge(df_parties_and_add, left_on=[\"_link_main_x\", \"name\"], right_on=[\"_link_main\", \"name\"])\n",
    "df_supplier_additional_info.info()"
   ]
  },
  {
   "cell_type": "code",
   "execution_count": null,
   "id": "fde39325",
   "metadata": {},
   "outputs": [],
   "source": [
    "df_supplier_additional_info.head()"
   ]
  },
  {
   "cell_type": "code",
   "execution_count": null,
   "id": "f9a680e8",
   "metadata": {},
   "outputs": [],
   "source": [
    "df_supplier_additional_info.drop(columns=[\"id_y\", \"_link_main\", \"_link_x_y\"], inplace=True)\n",
    "df_supplier_additional_info.rename(columns={\"_link_main_x\":\"_link_main\", \"_link_x_x\":\"_link_awards\", \"id_x\":\"supplier_id\"}, inplace=True)\n",
    "df_supplier_additional_info.head()"
   ]
  },
  {
   "cell_type": "markdown",
   "id": "02fc4dd6",
   "metadata": {},
   "source": [
    "## Unión de main con otros dataframes."
   ]
  },
  {
   "cell_type": "code",
   "execution_count": null,
   "id": "2ffc960f",
   "metadata": {},
   "outputs": [],
   "source": [
    "df_main_buyer_info = df_filtrado.merge(df_parties_and_add, right_on=[\"id\",\"_link_main\"], left_on=[\"buyer_id\",\"_link\"], how=\"left\")\n",
    "df_main_buyer_info.info()"
   ]
  },
  {
   "cell_type": "code",
   "execution_count": null,
   "id": "9e338e3c",
   "metadata": {},
   "outputs": [],
   "source": [
    "df_main_buyer_info.head()"
   ]
  },
  {
   "cell_type": "code",
   "execution_count": null,
   "id": "995f7688",
   "metadata": {},
   "outputs": [],
   "source": [
    "df_main_buyer_info.drop(columns=[\"buyer_id\", \"tender_procuringEntity_name\", \"_link_main\",\"rol 1\" ,\"rol 2\",\"_link_x\", \"address_countryName\",\"_link_x\", \"_link_main\"], inplace=True)\n",
    "df_main_buyer_info.rename(columns={\"address_region\":\"buyer_region\", \"name\":\"buyer_name\", \"id\":\"buyer_id\", \"legalName\":\"buyer_legalName\", \"tender_procurementMethodDetails\":\"procurement_details\", \"tender_procurementMethod\":\"procurementMethod\", \"address_countryName\":\"buyer_country\"},inplace=True)\n",
    "df_main_buyer_info.head()"
   ]
  },
  {
   "cell_type": "markdown",
   "id": "5c226e2f",
   "metadata": {},
   "source": [
    "####  Merge de df_main_buyer con df_supplier_additional_info y df_awards"
   ]
  },
  {
   "cell_type": "code",
   "execution_count": null,
   "id": "495b0cc4",
   "metadata": {},
   "outputs": [],
   "source": [
    "df_main_buyer_suplier = df_main_buyer_info.merge(df_supplier_additional_info, left_on=\"_link\", right_on=\"_link_main\", suffixes=(\"main_\", \"_supplier\"), how=\"left\")\n",
    "df_main_buyer_suplier.head()"
   ]
  },
  {
   "cell_type": "code",
   "execution_count": null,
   "id": "a0798512",
   "metadata": {},
   "outputs": [],
   "source": [
    "df_main_buyer_suplier.columns"
   ]
  },
  {
   "cell_type": "code",
   "execution_count": null,
   "id": "8a1f424a",
   "metadata": {},
   "outputs": [],
   "source": [
    "df_main_buyer_suplier[['estimated_cost_monetary_unit', 'buyer_id', 'buyer_name','buyer_region', 'buyer_legalName', '_link_awards', '_link_main', 'date','status', 'value_amount', 'value_monetary_unit', 'supplier_id', 'name','address_region', 'address_countryName', 'rol 1', 'rol 2', 'legalName']].head()"
   ]
  },
  {
   "cell_type": "code",
   "execution_count": null,
   "id": "654bfde9",
   "metadata": {},
   "outputs": [],
   "source": [
    "df_main_buyer_suplier.rename(columns={'date':\"date_award\",'status':\"award_status\", 'value_amount':\"tender_value\", 'value_monetary_unit':\"tender_monetary_unit\", 'name':\"supplier_name\",'address_region':\"supplier_region\", 'address_countryName':\"supplier_country\", 'legalName':\"supplier_legal_name\"}, inplace=True)\n",
    "df_main_buyer_suplier.head()"
   ]
  },
  {
   "cell_type": "code",
   "execution_count": null,
   "id": "e9c13536",
   "metadata": {},
   "outputs": [],
   "source": [
    "df_main_buyer_suplier.drop(columns=['rol 1', 'rol 2', '_link_awards', '_link_main'], inplace=True)"
   ]
  },
  {
   "cell_type": "code",
   "execution_count": null,
   "id": "5a8385e5",
   "metadata": {},
   "outputs": [],
   "source": [
    "df_main_buyer_suplier.head()"
   ]
  },
  {
   "cell_type": "code",
   "execution_count": null,
   "id": "2c48bf7b",
   "metadata": {},
   "outputs": [],
   "source": [
    "df_main_award = df_main_buyer_info.merge(df_tender_item, left_on=\"_link\", right_on=\"_link_main\", how=\"left\")\n",
    "df_main_award.head()"
   ]
  },
  {
   "cell_type": "markdown",
   "id": "805c222e",
   "metadata": {},
   "source": [
    "### main_buyer y df_awards."
   ]
  },
  {
   "cell_type": "code",
   "execution_count": null,
   "id": "6553d445",
   "metadata": {},
   "outputs": [],
   "source": [
    "df_main_buyer_award = df_main_buyer_info.merge(df_award_item_clasifi[[\"_link_awards\",]])"
   ]
  },
  {
   "cell_type": "code",
   "execution_count": null,
   "id": "3ad0c406",
   "metadata": {},
   "outputs": [],
   "source": []
  },
  {
   "cell_type": "code",
   "execution_count": null,
   "id": "7ac47f14",
   "metadata": {},
   "outputs": [],
   "source": []
  },
  {
   "cell_type": "markdown",
   "id": "47d4e5a7",
   "metadata": {},
   "source": [
    "### main_buyer, awards y tenderers."
   ]
  },
  {
   "cell_type": "code",
   "execution_count": null,
   "id": "9c9d6558",
   "metadata": {},
   "outputs": [],
   "source": [
    "df_tenderers = df_tender_tenderers.merge(df_parties_and_add, left_on=[\"_link_main\",\"id\"], right_on=[\"_link_main\", \"id\"], how=\"left\")\n",
    "df_tenderers.head()"
   ]
  },
  {
   "cell_type": "code",
   "execution_count": null,
   "id": "409c901e",
   "metadata": {},
   "outputs": [],
   "source": [
    "df_main_buyer_award= df_main_buyer_info.merge()"
   ]
  },
  {
   "cell_type": "code",
   "execution_count": null,
   "id": "7d9107d7",
   "metadata": {},
   "outputs": [],
   "source": [
    "df_main_tenderers = df_main_buyer_info.merge(df_tenderers, left_on=\"_link\", right_on = \"_link_main\", how=\"left\")\n"
   ]
  },
  {
   "cell_type": "code",
   "execution_count": null,
   "id": "2b7a99c8",
   "metadata": {},
   "outputs": [],
   "source": [
    "df_main_tenderers.head()"
   ]
  },
  {
   "cell_type": "code",
   "execution_count": null,
   "id": "5623cd98",
   "metadata": {},
   "outputs": [],
   "source": [
    "df_main_tenderers.columns"
   ]
  },
  {
   "cell_type": "code",
   "execution_count": null,
   "id": "af02ac6e",
   "metadata": {},
   "outputs": [],
   "source": [
    "df_main_tenderers[\"Has_tender\"] = df_main_tenderers.index.map(lambda x: 1 if df_main_tenderers.loc[x][\"rol 1\"] == \"tenderer\" else 0)\n",
    "df_main_tenderers[\"is_supplier\"] = df_main_tenderers.index.map(lambda x: 1 if df_main_tenderers.loc[x][\"rol 2\"] == \"supplier\" else 0)\n"
   ]
  },
  {
   "cell_type": "code",
   "execution_count": null,
   "id": "2eebe363",
   "metadata": {},
   "outputs": [],
   "source": [
    "df_main_tenderers.drop(columns=[\"_link_main\", \"_link_y\",\"name_x\"],inplace=True)"
   ]
  },
  {
   "cell_type": "code",
   "execution_count": null,
   "id": "78aa2e3f",
   "metadata": {},
   "outputs": [],
   "source": [
    "df_main_tenderers.rename(columns={\"_link_x\":\"_link\", \"name_y\":\"tender_name\", \"address_region\":\"tenderer_region\", \"address_countryName\":\"tenderer_country\",\"legalName\":\"tenderer_legalName\"},inplace=True)\n",
    "df_main_tenderers.head()"
   ]
  },
  {
   "cell_type": "code",
   "execution_count": null,
   "id": "0353b8a8",
   "metadata": {},
   "outputs": [],
   "source": [
    "df_main_tenderers.groupby(by='tenderer_region').agg({'Has_tender':'sum'}).reset_index()"
   ]
  },
  {
   "cell_type": "code",
   "execution_count": null,
   "id": "91eb34df",
   "metadata": {},
   "outputs": [],
   "source": [
    "df_main_tenderers.groupby(by='tenderer_legalName').agg({'Has_tender':'sum'}).sort_values(by=\"Has_tender\", ascending=False)"
   ]
  },
  {
   "cell_type": "code",
   "execution_count": null,
   "id": "fba23bf4",
   "metadata": {},
   "outputs": [],
   "source": [
    "df_main_tenderers.groupby(by='tenderer_legalName').agg({'is_supplier':'sum'}).sort_values(by=\"is_supplier\", ascending=False)"
   ]
  },
  {
   "cell_type": "code",
   "execution_count": null,
   "id": "29c869cc",
   "metadata": {},
   "outputs": [],
   "source": [
    "df_main_tenderers.groupby(by='tenderer_region').agg({'is_supplier':'sum'}).sort_values(by=\"is_supplier\", ascending=False)"
   ]
  }
 ],
 "metadata": {
  "kernelspec": {
   "display_name": "base",
   "language": "python",
   "name": "python3"
  },
  "language_info": {
   "codemirror_mode": {
    "name": "ipython",
    "version": 3
   },
   "file_extension": ".py",
   "mimetype": "text/x-python",
   "name": "python",
   "nbconvert_exporter": "python",
   "pygments_lexer": "ipython3",
   "version": "3.12.4"
  }
 },
 "nbformat": 4,
 "nbformat_minor": 5
}
