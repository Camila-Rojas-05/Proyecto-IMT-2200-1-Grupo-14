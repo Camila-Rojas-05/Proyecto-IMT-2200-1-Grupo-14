{
 "cells": [
  {
   "cell_type": "markdown",
   "id": "431979e9-220d-4a69-9a3a-f1e3ba884633",
   "metadata": {},
   "source": [
    "# Revisión de datos de los archivos csv de Open Contracting Partnership. Data Set del 2018."
   ]
  },
  {
   "cell_type": "markdown",
   "id": "2a9e2f7f-d9e7-49d1-a599-bd9d10167221",
   "metadata": {},
   "source": [
    "Usando el buscador de OpenContracting se buscaron datos sobre Chile (buscador: https://data.open-contracting.org/es/search/). Se decidió descargarlos archivos de los años 2018 y 2021, para tener una muestra de datos que contenga información sobre licitaciones en un rango de tiempo cercano a estas fechas."
   ]
  },
  {
   "cell_type": "code",
   "execution_count": 1,
   "id": "ce4d796d",
   "metadata": {},
   "outputs": [],
   "source": [
    "import pandas as pd\n",
    "import numpy as np\n",
    "import datetime\n",
    "from os import path"
   ]
  },
  {
   "cell_type": "code",
   "execution_count": 2,
   "id": "611fd2cb-ec81-41c0-9e36-df07f432203b",
   "metadata": {},
   "outputs": [
    {
     "name": "stdout",
     "output_type": "stream",
     "text": [
      "c:\\Users\\camil\\OneDrive\\Documentos\\GitHub\\Proyecto-IMT-2200-1-Grupo-14\\Datos y trabajo con muestras\\Chile\n",
      "c:\\Users\\camil\\OneDrive\\Documentos\\GitHub\\Proyecto-IMT-2200-1-Grupo-14\\Datos y trabajo con muestras\\Chile\\2018\n"
     ]
    },
    {
     "name": "stderr",
     "output_type": "stream",
     "text": [
      "c:\\Users\\camil\\AppData\\Local\\Programs\\Python\\Python312\\Lib\\site-packages\\IPython\\core\\magics\\osm.py:417: UserWarning: This is now an optional IPython functionality, setting dhist requires you to install the `pickleshare` library.\n",
      "  self.shell.db['dhist'] = compress_dhist(dhist)[-100:]\n"
     ]
    },
    {
     "name": "stdout",
     "output_type": "stream",
     "text": [
      " El volumen de la unidad C es OS\n",
      " El n�mero de serie del volumen es: 240D-CD63\n",
      "\n",
      " Directorio de c:\\Users\\camil\\OneDrive\\Documentos\\GitHub\\Proyecto-IMT-2200-1-Grupo-14\\Datos y trabajo con muestras\\Chile\\2018\n",
      "\n",
      "22-11-2024  16:25    <DIR>          .\n",
      "18-11-2024  15:05    <DIR>          ..\n",
      "22-11-2024  18:54        64.521.477 awards.csv\n",
      "18-11-2024  15:29       137.878.898 awards_documents.csv\n",
      "18-11-2024  15:29       172.974.592 awards_items.csv\n",
      "18-11-2024  15:26        30.901.082 awards_suppliers.csv\n",
      "22-11-2024  18:54       165.817.453 main.csv\n",
      "18-11-2024  15:31       370.417.597 parties.csv\n",
      "18-11-2024  15:30       243.504.970 parties_additionalIdentifiers.csv\n",
      "18-11-2024  15:30       287.507.728 tender_items.csv\n",
      "18-11-2024  15:27       103.927.462 tender_tenderers.csv\n",
      "               9 archivos  1.577.451.259 bytes\n",
      "               2 dirs  252.843.134.976 bytes libres\n",
      "c:\\Users\\camil\\OneDrive\\Documentos\\GitHub\\Proyecto-IMT-2200-1-Grupo-14\\Datos y trabajo con muestras\\Chile\n",
      "c:\\Users\\camil\\OneDrive\\Documentos\\GitHub\\Proyecto-IMT-2200-1-Grupo-14\\Datos y trabajo con muestras\n"
     ]
    }
   ],
   "source": [
    "%cd Chile\n",
    "%cd 2018\n",
    "%ls\n",
    "%cd ..\n",
    "%cd .."
   ]
  },
  {
   "cell_type": "markdown",
   "id": "9830d178",
   "metadata": {},
   "source": [
    "## Revision de main.csv"
   ]
  },
  {
   "cell_type": "code",
   "execution_count": 4,
   "id": "628dde2b-0089-492a-9c8f-11d720dc769e",
   "metadata": {},
   "outputs": [],
   "source": [
    "camino = path.join(\"Chile\",\"2018\",\"main.csv\")\n",
    "df_main = pd.read_csv(camino, sep=\",\",low_memory=False)"
   ]
  },
  {
   "cell_type": "code",
   "execution_count": 5,
   "id": "57afc959",
   "metadata": {},
   "outputs": [],
   "source": [
    "df_respaldo = df_main"
   ]
  },
  {
   "cell_type": "code",
   "execution_count": 6,
   "id": "f6ef6b40",
   "metadata": {},
   "outputs": [
    {
     "data": {
      "text/html": [
       "<div>\n",
       "<style scoped>\n",
       "    .dataframe tbody tr th:only-of-type {\n",
       "        vertical-align: middle;\n",
       "    }\n",
       "\n",
       "    .dataframe tbody tr th {\n",
       "        vertical-align: top;\n",
       "    }\n",
       "\n",
       "    .dataframe thead th {\n",
       "        text-align: right;\n",
       "    }\n",
       "</style>\n",
       "<table border=\"1\" class=\"dataframe\">\n",
       "  <thead>\n",
       "    <tr style=\"text-align: right;\">\n",
       "      <th></th>\n",
       "      <th>_link</th>\n",
       "      <th>id</th>\n",
       "      <th>tag</th>\n",
       "      <th>date</th>\n",
       "      <th>ocid</th>\n",
       "      <th>language</th>\n",
       "      <th>initiationType</th>\n",
       "      <th>buyer_id</th>\n",
       "      <th>buyer_name</th>\n",
       "      <th>tender_id</th>\n",
       "      <th>...</th>\n",
       "      <th>tender_tenderPeriod_startDate</th>\n",
       "      <th>tender_tenderPeriod_durationInDays</th>\n",
       "      <th>tender_enquiryPeriod_endDate</th>\n",
       "      <th>tender_enquiryPeriod_startDate</th>\n",
       "      <th>tender_enquiryPeriod_durationInDays</th>\n",
       "      <th>tender_procuringEntity_id</th>\n",
       "      <th>tender_procuringEntity_name</th>\n",
       "      <th>tender_value_amount</th>\n",
       "      <th>tender_value_currency</th>\n",
       "      <th>tender_value_unitOfAccount</th>\n",
       "    </tr>\n",
       "  </thead>\n",
       "  <tbody>\n",
       "    <tr>\n",
       "      <th>0</th>\n",
       "      <td>id-0.0</td>\n",
       "      <td>ocds-70d2nz-4548-142-L117-2018-12-31T11:27:18Z</td>\n",
       "      <td>compiled</td>\n",
       "      <td>2018-12-31T11:27:18Z</td>\n",
       "      <td>ocds-70d2nz-4548-142-L117</td>\n",
       "      <td>es</td>\n",
       "      <td>tender</td>\n",
       "      <td>CL-MP-5464</td>\n",
       "      <td>Ilustre Municipalidad de Quintero | UNIDAD NORMAL</td>\n",
       "      <td>4548-142-L117</td>\n",
       "      <td>...</td>\n",
       "      <td>2017-12-07T16:17:35Z</td>\n",
       "      <td>6</td>\n",
       "      <td>2017-12-10T20:04:00Z</td>\n",
       "      <td>2017-12-07T20:04:00Z</td>\n",
       "      <td>3</td>\n",
       "      <td>CL-MP-5464</td>\n",
       "      <td>Ilustre Municipalidad de Quintero | UNIDAD NORMAL</td>\n",
       "      <td>NaN</td>\n",
       "      <td>NaN</td>\n",
       "      <td>NaN</td>\n",
       "    </tr>\n",
       "    <tr>\n",
       "      <th>1</th>\n",
       "      <td>id-0.1</td>\n",
       "      <td>ocds-70d2nz-2409-1129-L117-2018-12-31T11:28:26Z</td>\n",
       "      <td>compiled</td>\n",
       "      <td>2018-12-31T11:28:26Z</td>\n",
       "      <td>ocds-70d2nz-2409-1129-L117</td>\n",
       "      <td>es</td>\n",
       "      <td>tender</td>\n",
       "      <td>CL-MP-3401</td>\n",
       "      <td>Municipalidad de Los Angeles | MUNICIPALIDAD D...</td>\n",
       "      <td>2409-1129-L117</td>\n",
       "      <td>...</td>\n",
       "      <td>2017-12-18T17:58:24Z</td>\n",
       "      <td>8</td>\n",
       "      <td>2017-12-20T14:30:00Z</td>\n",
       "      <td>2017-12-18T19:01:00Z</td>\n",
       "      <td>2</td>\n",
       "      <td>CL-MP-3401</td>\n",
       "      <td>Municipalidad de Los Angeles | MUNICIPALIDAD D...</td>\n",
       "      <td>300000.0</td>\n",
       "      <td>CLP</td>\n",
       "      <td>NaN</td>\n",
       "    </tr>\n",
       "    <tr>\n",
       "      <th>2</th>\n",
       "      <td>id-0.2</td>\n",
       "      <td>ocds-70d2nz-2961-811-L117-2018-12-31T11:29:05Z</td>\n",
       "      <td>compiled</td>\n",
       "      <td>2018-12-31T11:29:05Z</td>\n",
       "      <td>ocds-70d2nz-2961-811-L117</td>\n",
       "      <td>es</td>\n",
       "      <td>tender</td>\n",
       "      <td>CL-MP-3939</td>\n",
       "      <td>ILUSTRE MUNICIPALIDAD DE LA GRANJA | Adquisici...</td>\n",
       "      <td>2961-811-L117</td>\n",
       "      <td>...</td>\n",
       "      <td>2017-12-19T13:02:43Z</td>\n",
       "      <td>14</td>\n",
       "      <td>2017-12-28T17:00:00Z</td>\n",
       "      <td>2017-12-20T09:00:00Z</td>\n",
       "      <td>8</td>\n",
       "      <td>CL-MP-3939</td>\n",
       "      <td>ILUSTRE MUNICIPALIDAD DE LA GRANJA | Adquisici...</td>\n",
       "      <td>1452000.0</td>\n",
       "      <td>CLP</td>\n",
       "      <td>NaN</td>\n",
       "    </tr>\n",
       "    <tr>\n",
       "      <th>3</th>\n",
       "      <td>id-0.3</td>\n",
       "      <td>ocds-70d2nz-4858-195-L117-2018-12-31T11:21:15Z</td>\n",
       "      <td>compiled</td>\n",
       "      <td>2018-12-31T11:21:15Z</td>\n",
       "      <td>ocds-70d2nz-4858-195-L117</td>\n",
       "      <td>es</td>\n",
       "      <td>tender</td>\n",
       "      <td>CL-MP-5772</td>\n",
       "      <td>Municipalidad de Tirúa | Ilustre Municipalidad...</td>\n",
       "      <td>4858-195-L117</td>\n",
       "      <td>...</td>\n",
       "      <td>2017-12-15T12:23:25Z</td>\n",
       "      <td>6</td>\n",
       "      <td>2017-12-18T15:01:00Z</td>\n",
       "      <td>2017-12-15T15:52:00Z</td>\n",
       "      <td>3</td>\n",
       "      <td>CL-MP-5772</td>\n",
       "      <td>Municipalidad de Tirúa | Ilustre Municipalidad...</td>\n",
       "      <td>900000.0</td>\n",
       "      <td>CLP</td>\n",
       "      <td>NaN</td>\n",
       "    </tr>\n",
       "    <tr>\n",
       "      <th>4</th>\n",
       "      <td>id-0.4</td>\n",
       "      <td>ocds-70d2nz-2409-975-LE17-2018-12-31T11:20:54Z</td>\n",
       "      <td>compiled</td>\n",
       "      <td>2018-12-31T11:20:54Z</td>\n",
       "      <td>ocds-70d2nz-2409-975-LE17</td>\n",
       "      <td>es</td>\n",
       "      <td>tender</td>\n",
       "      <td>CL-MP-3401</td>\n",
       "      <td>Municipalidad de Los Angeles | MUNICIPALIDAD D...</td>\n",
       "      <td>2409-975-LE17</td>\n",
       "      <td>...</td>\n",
       "      <td>2017-12-05T17:11:36Z</td>\n",
       "      <td>6</td>\n",
       "      <td>2017-12-06T17:30:00Z</td>\n",
       "      <td>2017-12-05T17:15:00Z</td>\n",
       "      <td>1</td>\n",
       "      <td>CL-MP-3401</td>\n",
       "      <td>Municipalidad de Los Angeles | MUNICIPALIDAD D...</td>\n",
       "      <td>6000000.0</td>\n",
       "      <td>CLP</td>\n",
       "      <td>NaN</td>\n",
       "    </tr>\n",
       "  </tbody>\n",
       "</table>\n",
       "<p>5 rows × 30 columns</p>\n",
       "</div>"
      ],
      "text/plain": [
       "    _link                                               id       tag  \\\n",
       "0  id-0.0   ocds-70d2nz-4548-142-L117-2018-12-31T11:27:18Z  compiled   \n",
       "1  id-0.1  ocds-70d2nz-2409-1129-L117-2018-12-31T11:28:26Z  compiled   \n",
       "2  id-0.2   ocds-70d2nz-2961-811-L117-2018-12-31T11:29:05Z  compiled   \n",
       "3  id-0.3   ocds-70d2nz-4858-195-L117-2018-12-31T11:21:15Z  compiled   \n",
       "4  id-0.4   ocds-70d2nz-2409-975-LE17-2018-12-31T11:20:54Z  compiled   \n",
       "\n",
       "                   date                        ocid language initiationType  \\\n",
       "0  2018-12-31T11:27:18Z   ocds-70d2nz-4548-142-L117       es         tender   \n",
       "1  2018-12-31T11:28:26Z  ocds-70d2nz-2409-1129-L117       es         tender   \n",
       "2  2018-12-31T11:29:05Z   ocds-70d2nz-2961-811-L117       es         tender   \n",
       "3  2018-12-31T11:21:15Z   ocds-70d2nz-4858-195-L117       es         tender   \n",
       "4  2018-12-31T11:20:54Z   ocds-70d2nz-2409-975-LE17       es         tender   \n",
       "\n",
       "     buyer_id                                         buyer_name  \\\n",
       "0  CL-MP-5464  Ilustre Municipalidad de Quintero | UNIDAD NORMAL   \n",
       "1  CL-MP-3401  Municipalidad de Los Angeles | MUNICIPALIDAD D...   \n",
       "2  CL-MP-3939  ILUSTRE MUNICIPALIDAD DE LA GRANJA | Adquisici...   \n",
       "3  CL-MP-5772  Municipalidad de Tirúa | Ilustre Municipalidad...   \n",
       "4  CL-MP-3401  Municipalidad de Los Angeles | MUNICIPALIDAD D...   \n",
       "\n",
       "        tender_id  ... tender_tenderPeriod_startDate  \\\n",
       "0   4548-142-L117  ...          2017-12-07T16:17:35Z   \n",
       "1  2409-1129-L117  ...          2017-12-18T17:58:24Z   \n",
       "2   2961-811-L117  ...          2017-12-19T13:02:43Z   \n",
       "3   4858-195-L117  ...          2017-12-15T12:23:25Z   \n",
       "4   2409-975-LE17  ...          2017-12-05T17:11:36Z   \n",
       "\n",
       "  tender_tenderPeriod_durationInDays tender_enquiryPeriod_endDate  \\\n",
       "0                                  6         2017-12-10T20:04:00Z   \n",
       "1                                  8         2017-12-20T14:30:00Z   \n",
       "2                                 14         2017-12-28T17:00:00Z   \n",
       "3                                  6         2017-12-18T15:01:00Z   \n",
       "4                                  6         2017-12-06T17:30:00Z   \n",
       "\n",
       "  tender_enquiryPeriod_startDate tender_enquiryPeriod_durationInDays  \\\n",
       "0           2017-12-07T20:04:00Z                                   3   \n",
       "1           2017-12-18T19:01:00Z                                   2   \n",
       "2           2017-12-20T09:00:00Z                                   8   \n",
       "3           2017-12-15T15:52:00Z                                   3   \n",
       "4           2017-12-05T17:15:00Z                                   1   \n",
       "\n",
       "  tender_procuringEntity_id  \\\n",
       "0                CL-MP-5464   \n",
       "1                CL-MP-3401   \n",
       "2                CL-MP-3939   \n",
       "3                CL-MP-5772   \n",
       "4                CL-MP-3401   \n",
       "\n",
       "                         tender_procuringEntity_name tender_value_amount  \\\n",
       "0  Ilustre Municipalidad de Quintero | UNIDAD NORMAL                 NaN   \n",
       "1  Municipalidad de Los Angeles | MUNICIPALIDAD D...            300000.0   \n",
       "2  ILUSTRE MUNICIPALIDAD DE LA GRANJA | Adquisici...           1452000.0   \n",
       "3  Municipalidad de Tirúa | Ilustre Municipalidad...            900000.0   \n",
       "4  Municipalidad de Los Angeles | MUNICIPALIDAD D...           6000000.0   \n",
       "\n",
       "  tender_value_currency tender_value_unitOfAccount  \n",
       "0                   NaN                        NaN  \n",
       "1                   CLP                        NaN  \n",
       "2                   CLP                        NaN  \n",
       "3                   CLP                        NaN  \n",
       "4                   CLP                        NaN  \n",
       "\n",
       "[5 rows x 30 columns]"
      ]
     },
     "execution_count": 6,
     "metadata": {},
     "output_type": "execute_result"
    }
   ],
   "source": [
    "df_main.head()"
   ]
  },
  {
   "cell_type": "code",
   "execution_count": 7,
   "id": "406ec81c",
   "metadata": {},
   "outputs": [
    {
     "name": "stdout",
     "output_type": "stream",
     "text": [
      "<class 'pandas.core.frame.DataFrame'>\n",
      "RangeIndex: 244873 entries, 0 to 244872\n",
      "Data columns (total 30 columns):\n",
      " #   Column                               Non-Null Count   Dtype  \n",
      "---  ------                               --------------   -----  \n",
      " 0   _link                                244873 non-null  object \n",
      " 1   id                                   244873 non-null  object \n",
      " 2   tag                                  244873 non-null  object \n",
      " 3   date                                 244873 non-null  object \n",
      " 4   ocid                                 244873 non-null  object \n",
      " 5   language                             244873 non-null  object \n",
      " 6   initiationType                       244873 non-null  object \n",
      " 7   buyer_id                             244873 non-null  object \n",
      " 8   buyer_name                           244873 non-null  object \n",
      " 9   tender_id                            244873 non-null  object \n",
      " 10  tender_procurementMethodDetails      244873 non-null  object \n",
      " 11  tender_title                         244873 non-null  object \n",
      " 12  tender_status                        244873 non-null  object \n",
      " 13  tender_procurementMethod             244873 non-null  object \n",
      " 14  tender_hasEnquiries                  244873 non-null  object \n",
      " 15  tender_description                   244873 non-null  object \n",
      " 16  tender_awardPeriod_endDate           244863 non-null  object \n",
      " 17  tender_awardPeriod_startDate         244863 non-null  object \n",
      " 18  tender_awardPeriod_durationInDays    236379 non-null  object \n",
      " 19  tender_tenderPeriod_endDate          244863 non-null  object \n",
      " 20  tender_tenderPeriod_startDate        244873 non-null  object \n",
      " 21  tender_tenderPeriod_durationInDays   244865 non-null  object \n",
      " 22  tender_enquiryPeriod_endDate         244863 non-null  object \n",
      " 23  tender_enquiryPeriod_startDate       244863 non-null  object \n",
      " 24  tender_enquiryPeriod_durationInDays  244699 non-null  object \n",
      " 25  tender_procuringEntity_id            244873 non-null  object \n",
      " 26  tender_procuringEntity_name          244872 non-null  object \n",
      " 27  tender_value_amount                  97869 non-null   float64\n",
      " 28  tender_value_currency                97850 non-null   object \n",
      " 29  tender_value_unitOfAccount           20 non-null      object \n",
      "dtypes: float64(1), object(29)\n",
      "memory usage: 56.0+ MB\n"
     ]
    }
   ],
   "source": [
    "df_main.info()"
   ]
  },
  {
   "cell_type": "code",
   "execution_count": null,
   "id": "372f365c",
   "metadata": {},
   "outputs": [],
   "source": [
    "df_main.columns"
   ]
  },
  {
   "cell_type": "code",
   "execution_count": null,
   "id": "31f7ca01",
   "metadata": {},
   "outputs": [],
   "source": [
    "df_main[\"tender_procurementMethodDetails\"].unique()"
   ]
  },
  {
   "cell_type": "markdown",
   "id": "7accc393",
   "metadata": {},
   "source": [
    "Se utilizan la pagina <<https://api.mercadopublico.cl/modules/Licitacion.aspx>> para crear el diccionario."
   ]
  },
  {
   "cell_type": "code",
   "execution_count": null,
   "id": "51dbf92f",
   "metadata": {},
   "outputs": [],
   "source": [
    "\n",
    "tipos_licitaciones ={'Licitación Pública Menor a 100 UTM (L1)': \"L1\",\n",
    "       'Licitación Pública Entre 100 y 1000 UTM (LE)': \"LE\",\n",
    "       'Licitación Pública Mayor 1000 UTM (LP)': \"LP\",\n",
    "       'Licitación Pública entre a 2000 y 5000 UTM (LQ)':\"LQ\",\n",
    "       'Licitación Pública Mayor a 5000 (LR)' :\"LR\",\n",
    "       'Licitación Privada entre a 2000 y 5000 UTM (H2)':\"H2\",\n",
    "       'Licitación Pública Servicios personales especializados (LS)':\"LS\",\n",
    "       \"Licitación Privada por Licitación Pública anterior sin oferentes (A1)\" : \"A1\",\n",
    "       \"Licitación Privada por Remanente de Contrato anterior (B1)\": \"B1\",\n",
    "       \"Licitación Privada por Convenios con Personas Jurídicas Extranjeras fuera del Territorio Nacional (E1)\": \"E1\",\n",
    "       \"Licitación Privada por Servicios de Naturaleza Confidencial (F1)\": \"F1\",\n",
    "       \"Licitación Privada por otras causales, excluidas de la ley de Compras (J1)\": \"J1\",\n",
    "       \"Licitación Privada entre 100 y 1000 UTM\" :\"CO\", \"Licitación Privada Mayor a 1000 UTM\": \"B2\",\n",
    "       \"Trato Directo por Producto de Licitación Privada anterior sin oferentes o desierta\": \"A2\",\n",
    "       \"Trato Directo por Proveedor Único (D1)\": \"D1\",\"Licitación Privada Menor a 100 UTM\" : \"E2\", \"Trato Directo (Cotización) (C2)\" : \"C2\",\n",
    "       \"Compra Directa (Orden de compra) (C1)\" : \"C1\", \"Trato Directo (Cotización) (F2)\" :\"F2\", \"Compra Directa (Orden de compra) (F3)\" : \"F3\",\n",
    "       \"Directo (Cotización) (G2)\" : \"G2\", \"Compra Directa (Orden de compra) (G1)\" : \"G1\",\n",
    "       \"Orden de Compra menor a 3 UTM (R1)\" : \"R1\", \"Orden de Compra sin Resolución (CA)\" : \"CA\", \n",
    "       \"Orden de Compra proveniente de adquisición sin emisión automática de OC (SE)\" : \"SE\"}\n",
    "\n",
    "\n",
    "df_main[\"tender_procurementMethodDetails\"] = df_main[\"tender_procurementMethodDetails\"].map(tipos_licitaciones)\n",
    "df_main[\"tender_procurementMethodDetails\"] = df_main[\"tender_procurementMethodDetails\"].astype(\"category\")"
   ]
  },
  {
   "cell_type": "code",
   "execution_count": null,
   "id": "4ed5fcdc",
   "metadata": {},
   "outputs": [],
   "source": [
    "df_main[\"buyer_id\"]"
   ]
  },
  {
   "cell_type": "code",
   "execution_count": null,
   "id": "d58cffdd",
   "metadata": {},
   "outputs": [],
   "source": [
    "def dejar_rut(texto:str) -> str:\n",
    "    return int(texto.split(\"-\")[2])\n",
    "\n",
    "df_main[\"buyer_id\"] = df_main[\"buyer_id\"].apply(dejar_rut)"
   ]
  },
  {
   "cell_type": "code",
   "execution_count": null,
   "id": "406e9f14",
   "metadata": {},
   "outputs": [],
   "source": [
    "df_main[\"buyer_id\"]"
   ]
  },
  {
   "cell_type": "code",
   "execution_count": null,
   "id": "b1f1e7c8",
   "metadata": {},
   "outputs": [],
   "source": [
    "df_main.drop(columns=['id', 'tag', 'date', 'ocid', 'language', 'buyer_name', 'tender_title', 'tender_description', 'tender_procuringEntity_id'], inplace=True)"
   ]
  },
  {
   "cell_type": "markdown",
   "id": "774543f1",
   "metadata": {},
   "source": [
    "### Transformación de datos."
   ]
  },
  {
   "cell_type": "code",
   "execution_count": null,
   "id": "e1727713",
   "metadata": {},
   "outputs": [],
   "source": [
    "df_main[\"tender_enquiryPeriod_startDate\"] = pd.to_datetime(df_main['tender_enquiryPeriod_startDate'], format='%Y-%m-%dT%H:%M:%SZ')\n",
    "df_main[\"tender_enquiryPeriod_endDate\"] = pd.to_datetime(df_main['tender_enquiryPeriod_endDate'], format='%Y-%m-%dT%H:%M:%SZ')\n",
    "df_main['tender_tenderPeriod_startDate'] = pd.to_datetime(df_main['tender_tenderPeriod_startDate'], format='%Y-%m-%dT%H:%M:%SZ')"
   ]
  },
  {
   "cell_type": "markdown",
   "id": "4382eae1",
   "metadata": {},
   "source": [
    "Al parecer hay un error, una de las filas tiene por valor a en esta columna, eliminemosla."
   ]
  },
  {
   "cell_type": "code",
   "execution_count": null,
   "id": "8ff97196",
   "metadata": {},
   "outputs": [],
   "source": [
    "df_main = df_main.drop(df_main[df_main[\"tender_tenderPeriod_endDate\"] == \"a\"].index)\n",
    "df_main[\"tender_tenderPeriod_endDate\"] = pd.to_datetime(df_main['tender_tenderPeriod_endDate'], format='%Y-%m-%dT%H:%M:%SZ')\n",
    "df_main['tender_awardPeriod_startDate'] = pd.to_datetime(df_main['tender_awardPeriod_startDate'], format='%Y-%m-%dT%H:%M:%SZ')"
   ]
  },
  {
   "cell_type": "markdown",
   "id": "a38e1288",
   "metadata": {},
   "source": [
    "Hay un error en el formato de una fila con contenido <5017-05-05T17:00:00Z>, se eliminará."
   ]
  },
  {
   "cell_type": "code",
   "execution_count": null,
   "id": "fd592ac4",
   "metadata": {},
   "outputs": [],
   "source": [
    "df_main.drop(df_main[df_main[\"tender_awardPeriod_endDate\"] == \"5017-05-05T17:00:00Z\"].index, axis=0, inplace=True)\n",
    "df_main['tender_awardPeriod_endDate'] = pd.to_datetime(df_main['tender_awardPeriod_endDate'], format='%Y-%m-%dT%H:%M:%SZ')\n",
    "df_main['tender_enquiryPeriod_durationInDays'] = df_main['tender_enquiryPeriod_endDate'] - df_main['tender_enquiryPeriod_startDate']\n",
    "df_main['tender_awardPeriod_durationInDays'] = df_main['tender_awardPeriod_endDate'] - df_main['tender_awardPeriod_startDate']\n",
    "df_main['tender_tenderPeriod_durationInDays'] = df_main['tender_tenderPeriod_endDate'] - df_main['tender_tenderPeriod_startDate']"
   ]
  },
  {
   "cell_type": "markdown",
   "id": "f1bcaf8c",
   "metadata": {},
   "source": [
    "### Filtro según fecha"
   ]
  },
  {
   "cell_type": "markdown",
   "id": "d0026a0b",
   "metadata": {},
   "source": [
    "Aqui realizaremos un filtro de las licitaciones en base a cuando se iniciaron y cuando terminaron respecto a lo relacionado al 2018. En este caso seleccionaremos las licitaciones cuyo periodo de envio de aplicaciones para determinar la adjudicación comenzó despúes que el 01/09/2017 y la finalización del proceso de adjudicación antes del 01/01/2019."
   ]
  },
  {
   "cell_type": "code",
   "execution_count": null,
   "id": "8101dfb3",
   "metadata": {},
   "outputs": [],
   "source": [
    "fecha_filtro = '2017-09-01'\n",
    "df_filtrado = df_main.loc[df_main['tender_tenderPeriod_startDate'] >= fecha_filtro]\n",
    "fecha_filtro = '2019-01-01'\n",
    "df_filtrado = df_filtrado.loc[df_filtrado['tender_awardPeriod_endDate'] < fecha_filtro]"
   ]
  },
  {
   "cell_type": "code",
   "execution_count": null,
   "id": "d502e865",
   "metadata": {},
   "outputs": [],
   "source": [
    "df_filtrado.reset_index(drop=True, inplace=True)\n",
    "df_filtrado.rename(columns={\"tender_value_amount\":\"estimated_cost\", \"tender_value_currency\": \"estimated_cost_currency\", \"tender_value_unitOfAccount\": \"estimated_cost_unitOfAccount\"}, inplace=True )\n",
    "df_filtrado[\"estimated_cost_currency\"] = df_filtrado[\"estimated_cost_currency\"].replace(np.nan, \"No\")"
   ]
  },
  {
   "cell_type": "code",
   "execution_count": null,
   "id": "e794f9ef",
   "metadata": {},
   "outputs": [],
   "source": [
    "def crear_unit_value_monetary_unit(indice:int, comparador=\"No\") -> str:\n",
    "    if df_filtrado.iloc[indice][\"estimated_cost_currency\"] == comparador:\n",
    "        return df_filtrado.iloc[indice][\"estimated_cost_unitOfAccount\"]\n",
    "    return df_filtrado.iloc[indice][\"estimated_cost_currency\"]\n",
    "\n",
    "df_filtrado[\"estimated_cost_monetary_unit\"] = df_filtrado.index.map(crear_unit_value_monetary_unit)"
   ]
  },
  {
   "cell_type": "code",
   "execution_count": null,
   "id": "99acdb97",
   "metadata": {},
   "outputs": [],
   "source": [
    "df_filtrado[\"estimated_cost_monetary_unit\"].unique()"
   ]
  },
  {
   "cell_type": "code",
   "execution_count": null,
   "id": "c2d4fb7f",
   "metadata": {},
   "outputs": [],
   "source": [
    "df_filtrado.drop(columns=[\"estimated_cost_currency\",\"estimated_cost_unitOfAccount\"],inplace=True)\n",
    "df_filtrado.info()"
   ]
  },
  {
   "cell_type": "markdown",
   "id": "52755cce",
   "metadata": {},
   "source": [
    "## Revision awards.csv"
   ]
  },
  {
   "cell_type": "code",
   "execution_count": null,
   "id": "5bd79981",
   "metadata": {},
   "outputs": [],
   "source": [
    "camino = path.join(\"Chile\",\"2018\",\"awards.csv\")\n",
    "df_awards = pd.read_csv(camino, sep=\",\")"
   ]
  },
  {
   "cell_type": "code",
   "execution_count": null,
   "id": "49a136b9",
   "metadata": {},
   "outputs": [],
   "source": [
    "df_awards.head(8)"
   ]
  },
  {
   "cell_type": "code",
   "execution_count": null,
   "id": "0d15b39f",
   "metadata": {},
   "outputs": [],
   "source": [
    "df_no_nan_un_ac = df_awards.dropna(subset=[\"value_unitOfAccount\"])[[\"value_currency\", \"value_unitOfAccount\", \"status\"]]\n",
    "df_unit_of_account = df_no_nan_un_ac.loc[df_no_nan_un_ac[\"value_currency\"].isna()]"
   ]
  },
  {
   "cell_type": "code",
   "execution_count": null,
   "id": "05f36158",
   "metadata": {},
   "outputs": [],
   "source": [
    "df_unit_of_account[\"value_unitOfAccount\"].describe()"
   ]
  },
  {
   "cell_type": "code",
   "execution_count": null,
   "id": "98512222",
   "metadata": {},
   "outputs": [],
   "source": [
    "df_no_nan_un_ac[\"value_unitOfAccount\"].describe()"
   ]
  },
  {
   "cell_type": "code",
   "execution_count": null,
   "id": "de85db5a",
   "metadata": {},
   "outputs": [],
   "source": [
    "df_awards[\"value_currency\"] = df_awards[\"value_currency\"].replace(np.nan, \"No\")"
   ]
  },
  {
   "cell_type": "code",
   "execution_count": null,
   "id": "c7c9e58f",
   "metadata": {},
   "outputs": [],
   "source": [
    "def crear_unit_value_monetary_unit(indice:int, comparador=\"No\") -> str:\n",
    "    if df_awards.iloc[indice][\"value_currency\"] == comparador:\n",
    "        return df_awards.iloc[indice][\"value_unitOfAccount\"]\n",
    "    return df_awards.iloc[indice][\"value_currency\"]\n",
    "\n",
    "df_awards[\"value_monetary_unit\"] = df_awards.index.map(crear_unit_value_monetary_unit)"
   ]
  },
  {
   "cell_type": "code",
   "execution_count": null,
   "id": "437b829b",
   "metadata": {},
   "outputs": [],
   "source": [
    "df_awards[\"value_monetary_unit\"].unique()"
   ]
  },
  {
   "cell_type": "code",
   "execution_count": null,
   "id": "f61ce30b",
   "metadata": {},
   "outputs": [],
   "source": [
    "df_awards.drop(columns=['id', 'description', 'title', \"value_unitOfAccount\", \"value_currency\",\"value_unitOfAccount\"],inplace=True)"
   ]
  },
  {
   "cell_type": "code",
   "execution_count": null,
   "id": "7711db42",
   "metadata": {},
   "outputs": [],
   "source": [
    "df_awards.info()"
   ]
  },
  {
   "cell_type": "markdown",
   "id": "bbb18c56",
   "metadata": {},
   "source": [
    "## Revisión de awards_items.csv"
   ]
  },
  {
   "cell_type": "code",
   "execution_count": null,
   "id": "0a387db4",
   "metadata": {},
   "outputs": [],
   "source": [
    "camino = path.join(\"Chile\",\"2018\",\"awards_items.csv\") \n",
    "df_awards_items = pd.read_csv(camino, sep=\",\")"
   ]
  },
  {
   "cell_type": "code",
   "execution_count": null,
   "id": "26bb95a8",
   "metadata": {},
   "outputs": [],
   "source": [
    "df_awards_items.columns"
   ]
  },
  {
   "cell_type": "code",
   "execution_count": null,
   "id": "8030c12a",
   "metadata": {},
   "outputs": [],
   "source": [
    "df_awards_items.info()"
   ]
  },
  {
   "cell_type": "code",
   "execution_count": null,
   "id": "af40986c",
   "metadata": {},
   "outputs": [],
   "source": [
    "df_awards_items[\"unit_value_unitOfAccount\"].describe()"
   ]
  },
  {
   "cell_type": "code",
   "execution_count": null,
   "id": "b3eabf59",
   "metadata": {},
   "outputs": [],
   "source": [
    "df_awards_items.loc[df_awards_items[\"unit_value_currency\"].isna()][\"unit_value_unitOfAccount\"].describe()"
   ]
  },
  {
   "cell_type": "markdown",
   "id": "812fdd63",
   "metadata": {},
   "source": [
    "Podemos observar que para los valores de <unit_value_currency> que son NaN existe un dato en <unit_value_unitOfAccount>, por lo que crearemos una nueva columna llamada <unit_value_monetary_unit> que tenga los valores de ambas columna según correspondan."
   ]
  },
  {
   "cell_type": "code",
   "execution_count": null,
   "id": "3ee44778",
   "metadata": {},
   "outputs": [],
   "source": [
    "df_awards_items[\"unit_value_currency\"] = df_awards_items[\"unit_value_currency\"].replace(np.nan, \"No\")"
   ]
  },
  {
   "cell_type": "code",
   "execution_count": null,
   "id": "6f42e57d",
   "metadata": {},
   "outputs": [],
   "source": [
    "def crear_unit_value_monetary_unit(indice:int, comparador=\"No\") -> str:\n",
    "    if df_awards_items.iloc[indice][\"unit_value_currency\"] == comparador:\n",
    "        return df_awards_items.iloc[indice][\"unit_value_unitOfAccount\"]\n",
    "    return df_awards_items.iloc[indice][\"unit_value_currency\"]\n",
    "\n",
    "df_awards_items[\"unit_value_monetary_unit\"] = df_awards_items.index.map(crear_unit_value_monetary_unit)"
   ]
  },
  {
   "cell_type": "code",
   "execution_count": null,
   "id": "92b39190",
   "metadata": {},
   "outputs": [],
   "source": [
    "df_awards_items[\"unit_value_monetary_unit\"].unique()"
   ]
  },
  {
   "cell_type": "code",
   "execution_count": null,
   "id": "c22475c8",
   "metadata": {},
   "outputs": [],
   "source": [
    "df_awards_items.drop(columns=['classification_uri', 'classification_scheme','unit_value_unitOfAccount', \"unit_value_currency\" ], inplace=True)"
   ]
  },
  {
   "cell_type": "markdown",
   "id": "e200b90f",
   "metadata": {},
   "source": [
    "## Revisión de awards_suppliers.csv"
   ]
  },
  {
   "cell_type": "code",
   "execution_count": null,
   "id": "341330f0",
   "metadata": {},
   "outputs": [],
   "source": [
    "camino = path.join(\"Chile\",\"2018\",\"awards_suppliers.csv\")\n",
    "df_awards_supplier = pd.read_csv(camino, sep=\",\")"
   ]
  },
  {
   "cell_type": "code",
   "execution_count": null,
   "id": "a21b8632",
   "metadata": {},
   "outputs": [],
   "source": [
    "df_awards_supplier.info()"
   ]
  },
  {
   "cell_type": "code",
   "execution_count": null,
   "id": "3ef8656b",
   "metadata": {},
   "outputs": [],
   "source": [
    "df_awards_supplier.head()"
   ]
  },
  {
   "cell_type": "code",
   "execution_count": null,
   "id": "3efc71c6",
   "metadata": {},
   "outputs": [],
   "source": [
    "def dejar_rut(texto:str) -> str:\n",
    "    return int(texto.split(\"-\")[2])"
   ]
  },
  {
   "cell_type": "code",
   "execution_count": null,
   "id": "76604a64",
   "metadata": {},
   "outputs": [],
   "source": [
    "df_awards_supplier[\"id\"] = df_awards_supplier[\"id\"].apply(dejar_rut)"
   ]
  },
  {
   "cell_type": "code",
   "execution_count": null,
   "id": "e6cb0090",
   "metadata": {},
   "outputs": [],
   "source": [
    "df_awards_supplier.info()"
   ]
  },
  {
   "cell_type": "markdown",
   "id": "ea0aa99c",
   "metadata": {},
   "source": [
    "## Revisión de awards_documents.csv"
   ]
  },
  {
   "cell_type": "code",
   "execution_count": null,
   "id": "312114a9",
   "metadata": {},
   "outputs": [],
   "source": [
    "camino = path.join(\"Chile\",\"2018\", \"awards_documents.csv\")\n",
    "df_award_documents = pd.read_csv(camino, sep=\",\")\n",
    "df_award_documents.head()"
   ]
  },
  {
   "cell_type": "code",
   "execution_count": null,
   "id": "13c3fb91",
   "metadata": {},
   "outputs": [],
   "source": [
    "df_award_documents.info()"
   ]
  },
  {
   "cell_type": "markdown",
   "id": "af711985",
   "metadata": {},
   "source": [
    "No se utilizará este DataFrame, puesto que no contiene información relevante para lo que se busca resolver."
   ]
  },
  {
   "cell_type": "markdown",
   "id": "4678c0dc",
   "metadata": {},
   "source": [
    "## Revisión de parties.csv"
   ]
  },
  {
   "cell_type": "code",
   "execution_count": null,
   "id": "42bc6bc8",
   "metadata": {},
   "outputs": [],
   "source": [
    "camino = path.join(\"Chile\",\"2018\", \"parties.csv\")\n",
    "df_parties = pd.read_csv(camino, sep=\",\")\n",
    "df_parties.head()"
   ]
  },
  {
   "cell_type": "code",
   "execution_count": null,
   "id": "c20862c3",
   "metadata": {},
   "outputs": [],
   "source": [
    "df_parties.info()"
   ]
  },
  {
   "cell_type": "code",
   "execution_count": null,
   "id": "f37d9deb",
   "metadata": {},
   "outputs": [],
   "source": [
    "df_parties.drop(columns=['address_streetAddress', \"identifier_id\", 'identifier_scheme','identifier_legalName', 'contactPoint_name', 'contactPoint_email','contactPoint_telephone', 'contactPoint_faxNumber'], inplace=True)"
   ]
  },
  {
   "cell_type": "code",
   "execution_count": null,
   "id": "7c93910a",
   "metadata": {},
   "outputs": [],
   "source": [
    "df_parties.info()"
   ]
  },
  {
   "cell_type": "markdown",
   "id": "62143ca9",
   "metadata": {},
   "source": [
    "Se eliminan estas columnas porque ofrecen información que no es de interes, ni se puede utilizar para obtener información en alguna de las paginas relacionadas al dataset."
   ]
  },
  {
   "cell_type": "code",
   "execution_count": null,
   "id": "b6c1eaa8",
   "metadata": {},
   "outputs": [],
   "source": [
    "df_parties[\"roles\"].unique()"
   ]
  },
  {
   "cell_type": "code",
   "execution_count": null,
   "id": "ccb051d6",
   "metadata": {},
   "outputs": [],
   "source": [
    "def separar_roles(texto:str) -> list:\n",
    "    if \",\" in texto:\n",
    "        return texto.split(\",\")\n",
    "    else:\n",
    "        return [texto, np.nan]\n",
    "    \n",
    "df_parties[\"roles\"] = df_parties[\"roles\"].apply(separar_roles)"
   ]
  },
  {
   "cell_type": "code",
   "execution_count": null,
   "id": "29388ab6",
   "metadata": {},
   "outputs": [],
   "source": [
    "df_parties[\"rol 1\"] = df_parties.index.map(lambda x: df_parties.loc[x][\"roles\"][0])"
   ]
  },
  {
   "cell_type": "code",
   "execution_count": null,
   "id": "167ebcd5",
   "metadata": {},
   "outputs": [],
   "source": [
    "df_parties[\"rol 2\"] = df_parties.index.map(lambda x: df_parties.loc[x][\"roles\"][1])"
   ]
  },
  {
   "cell_type": "code",
   "execution_count": null,
   "id": "ba73dd06",
   "metadata": {},
   "outputs": [],
   "source": [
    "df_parties.head()"
   ]
  },
  {
   "cell_type": "code",
   "execution_count": null,
   "id": "d5b43c79",
   "metadata": {},
   "outputs": [],
   "source": [
    "df_G = df_parties.dropna(subset=[\"address_region\"])\n",
    "df_G = df_G[df_G[\"address_countryName\"].isna()]"
   ]
  },
  {
   "cell_type": "code",
   "execution_count": null,
   "id": "0cf694a5",
   "metadata": {},
   "outputs": [],
   "source": [
    "df_G[\"address_region\"].unique()"
   ]
  },
  {
   "cell_type": "code",
   "execution_count": null,
   "id": "65cb8257",
   "metadata": {},
   "outputs": [],
   "source": [
    "df_parties[\"address_countryName\"] = df_parties[\"address_countryName\"].replace(np.nan, \"no\")"
   ]
  },
  {
   "cell_type": "code",
   "execution_count": null,
   "id": "881beb73",
   "metadata": {},
   "outputs": [],
   "source": [
    "def dar_pais_segun_region(indice:int, comparador=\"no\") -> str:\n",
    "    if df_parties.iloc[indice][\"address_countryName\"] == comparador:\n",
    "        if df_parties.iloc[indice][\"address_region\"] in set(['Región de Valparaíso ', 'Región del Biobío ','Región Metropolitana de Santiago','Región de Magallanes y de la Antártica','Región del Libertador General Bernardo O´Higgins','Región de Atacama ', 'Región de Coquimbo ',\n",
    "       'Región de la Araucanía ', 'Región de los Lagos ','Región del Maule ', 'Región de Los Ríos','Región de Antofagasta ', 'Región de Tarapacá  ','Región de Arica y Parinacota','Región Aysén del General Carlos Ibáñez del Campo']):\n",
    "            return (\"Chile\")\n",
    "        else:\n",
    "            return np.nan\n",
    "    else:\n",
    "        return df_parties.iloc[indice][\"address_countryName\"]"
   ]
  },
  {
   "cell_type": "code",
   "execution_count": null,
   "id": "5d7d4597",
   "metadata": {},
   "outputs": [],
   "source": [
    "df_parties[\"address_countryName\"] = df_parties.index.map(dar_pais_segun_region)"
   ]
  },
  {
   "cell_type": "code",
   "execution_count": null,
   "id": "d786fad1",
   "metadata": {},
   "outputs": [],
   "source": [
    "df_parties[\"address_countryName\"].unique()"
   ]
  },
  {
   "cell_type": "code",
   "execution_count": null,
   "id": "7ed6c408",
   "metadata": {},
   "outputs": [],
   "source": [
    "def dejar_rut(texto:str) -> str:\n",
    "    try:\n",
    "        return int(texto.split(\"-\")[2])\n",
    "    except IndexError:\n",
    "        return np.nan"
   ]
  },
  {
   "cell_type": "code",
   "execution_count": null,
   "id": "5a2afd68",
   "metadata": {},
   "outputs": [],
   "source": [
    "df_parties[\"id\"] = df_parties[\"id\"].apply(dejar_rut)"
   ]
  },
  {
   "cell_type": "code",
   "execution_count": null,
   "id": "4fd0fb21",
   "metadata": {},
   "outputs": [],
   "source": [
    "df_parties.info()"
   ]
  },
  {
   "cell_type": "code",
   "execution_count": null,
   "id": "2287f2b3",
   "metadata": {},
   "outputs": [],
   "source": [
    "df_parties.drop(columns=[\"roles\"], inplace=True)"
   ]
  },
  {
   "cell_type": "markdown",
   "id": "5f95fd59",
   "metadata": {},
   "source": [
    "## Revisión de parties_additionalIdentifiers.csv"
   ]
  },
  {
   "cell_type": "code",
   "execution_count": null,
   "id": "4421483a",
   "metadata": {},
   "outputs": [],
   "source": [
    "camino = path.join(\"Chile\",\"2018\", \"parties_additionalIdentifiers.csv\")\n",
    "df_parties_add = pd.read_csv(camino, sep=\",\")\n",
    "df_parties_add.head()"
   ]
  },
  {
   "cell_type": "code",
   "execution_count": null,
   "id": "e7c1416b",
   "metadata": {},
   "outputs": [],
   "source": [
    "df_parties_add.info()"
   ]
  },
  {
   "cell_type": "code",
   "execution_count": null,
   "id": "ed64799e",
   "metadata": {},
   "outputs": [],
   "source": [
    "df_parties_add.iloc[3][\"uri\"]"
   ]
  },
  {
   "cell_type": "markdown",
   "id": "44762f00",
   "metadata": {},
   "source": [
    "Los links de uri no aportan información extra, por lo no se mantendran."
   ]
  },
  {
   "cell_type": "code",
   "execution_count": null,
   "id": "01681108",
   "metadata": {},
   "outputs": [],
   "source": [
    "df_parties_add.drop(columns=[\"uri\", \"scheme\", \"_link_main\"],inplace=True)"
   ]
  },
  {
   "cell_type": "markdown",
   "id": "fea66160",
   "metadata": {},
   "source": [
    "### Revisión de tender_items.csv"
   ]
  },
  {
   "cell_type": "code",
   "execution_count": null,
   "id": "adb9fd52",
   "metadata": {},
   "outputs": [],
   "source": [
    "camino = path.join(\"Chile\",\"2018\", \"tender_items.csv\")\n",
    "df_tender_item = pd.read_csv(camino, sep=\",\")\n",
    "df_tender_item.head()"
   ]
  },
  {
   "cell_type": "code",
   "execution_count": null,
   "id": "eba2b7a5",
   "metadata": {},
   "outputs": [],
   "source": [
    "df_tender_item.info()"
   ]
  },
  {
   "cell_type": "code",
   "execution_count": null,
   "id": "fcf77bf8",
   "metadata": {},
   "outputs": [],
   "source": [
    "df_tender_item.drop(columns=[\"classification_uri\"], inplace=True)"
   ]
  },
  {
   "cell_type": "code",
   "execution_count": null,
   "id": "2a0c1b1b",
   "metadata": {},
   "outputs": [],
   "source": [
    "df_tender_item.info()"
   ]
  },
  {
   "cell_type": "markdown",
   "id": "ee67b401",
   "metadata": {},
   "source": [
    "### Revisión de tender_tenderers.csv"
   ]
  },
  {
   "cell_type": "code",
   "execution_count": null,
   "id": "b108eded",
   "metadata": {},
   "outputs": [],
   "source": [
    "camino = path.join(\"Chile\",\"2018\", \"tender_tenderers.csv\")\n",
    "df_tender_tenderers = pd.read_csv(camino, sep=\",\")"
   ]
  },
  {
   "cell_type": "code",
   "execution_count": null,
   "id": "be014b0f",
   "metadata": {},
   "outputs": [],
   "source": [
    "df_tender_tenderers.head()"
   ]
  },
  {
   "cell_type": "code",
   "execution_count": null,
   "id": "092b5c32",
   "metadata": {},
   "outputs": [],
   "source": [
    "df_tender_tenderers.info()"
   ]
  },
  {
   "cell_type": "code",
   "execution_count": null,
   "id": "6d2f6b1f",
   "metadata": {},
   "outputs": [],
   "source": [
    "df_tender_tenderers[\"id\"] = df_tender_tenderers[\"id\"].apply(dejar_rut)"
   ]
  },
  {
   "cell_type": "code",
   "execution_count": null,
   "id": "e85cb147",
   "metadata": {},
   "outputs": [],
   "source": [
    "df_tender_tenderers.info()"
   ]
  },
  {
   "cell_type": "markdown",
   "id": "de95fa3f",
   "metadata": {},
   "source": [
    "### Clasificación con UNSPCS."
   ]
  },
  {
   "cell_type": "code",
   "execution_count": null,
   "id": "9223ed12",
   "metadata": {},
   "outputs": [],
   "source": [
    "df_clasificaciones = pd.read_excel(\"unspcs-clasificador-de-bienes-y-servicios-de-naciones-unidas-en-espanol.xlsx\", skiprows=5)\n",
    "df_clasificaciones.head(10)"
   ]
  },
  {
   "cell_type": "markdown",
   "id": "13e1714e",
   "metadata": {},
   "source": [
    "El dataframe df_clasificaciones corresponde a un conjunto de datos que posee el significado de cada objeto solicitados según la codificación UNSPSC, por lo que se hara merge con el df_main para saber que se esta comprando en cada licitación, se desecharán algunas de las columnas de df_clasificaciones para esto."
   ]
  },
  {
   "cell_type": "code",
   "execution_count": null,
   "id": "ee363d9f",
   "metadata": {},
   "outputs": [],
   "source": [
    "df_clasificaciones.drop(columns=[\"Código segmento\",\"Código Familia\",\"Nombre Familia\",\"Nombre Clase\",\"Código Clase\"], inplace=True)"
   ]
  },
  {
   "cell_type": "markdown",
   "id": "c9f6eaa2",
   "metadata": {},
   "source": [
    "### Unión de dataframes."
   ]
  },
  {
   "cell_type": "code",
   "execution_count": null,
   "id": "c5f8dbfb",
   "metadata": {},
   "outputs": [],
   "source": [
    "df_filtrado.info()"
   ]
  },
  {
   "cell_type": "code",
   "execution_count": null,
   "id": "35dd3f48",
   "metadata": {},
   "outputs": [],
   "source": [
    "df_awards.info()"
   ]
  },
  {
   "cell_type": "code",
   "execution_count": null,
   "id": "fb914f2a",
   "metadata": {},
   "outputs": [],
   "source": [
    "df_awards_items.info()"
   ]
  },
  {
   "cell_type": "code",
   "execution_count": null,
   "id": "79569463",
   "metadata": {},
   "outputs": [],
   "source": [
    "df_awards_supplier.info()"
   ]
  },
  {
   "cell_type": "code",
   "execution_count": null,
   "id": "000c9847",
   "metadata": {},
   "outputs": [],
   "source": [
    "df_parties.info()"
   ]
  },
  {
   "cell_type": "code",
   "execution_count": null,
   "id": "233d287a",
   "metadata": {},
   "outputs": [],
   "source": [
    "df_parties_add.info()"
   ]
  },
  {
   "cell_type": "code",
   "execution_count": null,
   "id": "ce4ccda8",
   "metadata": {},
   "outputs": [],
   "source": [
    "df_tender_item.info()"
   ]
  },
  {
   "cell_type": "code",
   "execution_count": null,
   "id": "0091d9f6",
   "metadata": {},
   "outputs": [],
   "source": [
    "df_tender_tenderers.info()"
   ]
  },
  {
   "cell_type": "code",
   "execution_count": null,
   "id": "2e5fab96",
   "metadata": {},
   "outputs": [],
   "source": [
    "df_clasificaciones.info()"
   ]
  },
  {
   "cell_type": "markdown",
   "id": "3fc44eaf",
   "metadata": {},
   "source": [
    "#### Awards y Awards_items"
   ]
  },
  {
   "cell_type": "code",
   "execution_count": null,
   "id": "24aea760",
   "metadata": {},
   "outputs": [],
   "source": [
    "df_award_and_items = df_awards.merge(df_awards_items, left_on=\"_link\", right_on=\"_link_awards\")\n",
    "df_award_and_items.drop(columns=[\"_link_y\", \"_link_main_y\", \"description\", \"_link_awards\"],inplace=True)\n",
    "df_award_and_items.head()"
   ]
  },
  {
   "cell_type": "code",
   "execution_count": null,
   "id": "cb8be610",
   "metadata": {},
   "outputs": [],
   "source": [
    "df_igualdad = pd.DataFrame(df_award_and_items[\"value_monetary_unit\"] == df_award_and_items[\"unit_value_monetary_unit\"])\n",
    "indice = df_igualdad.loc[df_igualdad[0] == False].index"
   ]
  },
  {
   "cell_type": "code",
   "execution_count": null,
   "id": "637d5a95",
   "metadata": {},
   "outputs": [],
   "source": [
    "df_award_and_items.iloc[indice]"
   ]
  },
  {
   "cell_type": "code",
   "execution_count": null,
   "id": "b74fc1d0",
   "metadata": {},
   "outputs": [],
   "source": [
    "df_award_and_items.drop(indice, inplace=True)"
   ]
  },
  {
   "cell_type": "markdown",
   "id": "dc7bc6ec",
   "metadata": {},
   "source": [
    "#### Awards y Awards_supplier"
   ]
  },
  {
   "cell_type": "code",
   "execution_count": null,
   "id": "eca25325",
   "metadata": {},
   "outputs": [],
   "source": [
    "df_award_and_supplier = df_awards.merge(df_awards_supplier, left_on=\"_link\", right_on=\"_link_awards\")\n",
    "df_award_and_supplier.drop(columns=[\"_link_awards\", \"_link_main_y\", \"_link_y\"], inplace=True)\n",
    "df_award_and_supplier.head()"
   ]
  },
  {
   "cell_type": "markdown",
   "id": "41ed227f",
   "metadata": {},
   "source": [
    "#### Tender_items y Clasificaciones."
   ]
  },
  {
   "cell_type": "code",
   "execution_count": null,
   "id": "54d596d7",
   "metadata": {},
   "outputs": [],
   "source": [
    "df_tender_item = df_tender_item.merge(df_clasificaciones, left_on=\"classification_id\",right_on=\"Código Producto\")\n",
    "df_tender_item.drop(columns=[\"classification_scheme\", \"classification_id\"], inplace=True)\n",
    "df_tender_item.head()"
   ]
  },
  {
   "cell_type": "code",
   "execution_count": null,
   "id": "602d6af2",
   "metadata": {},
   "outputs": [],
   "source": [
    "df_tender_item.drop(columns=[\"description\"], inplace=True)"
   ]
  },
  {
   "cell_type": "markdown",
   "id": "bda58736",
   "metadata": {},
   "source": [
    "#### Awards y Tender_items_clasificaciones."
   ]
  },
  {
   "cell_type": "code",
   "execution_count": null,
   "id": "30cca5dd",
   "metadata": {},
   "outputs": [],
   "source": [
    "df_items_tender_awards = df_award_and_items.merge(df_tender_item, left_on=[\"_link_main_x\",\"classification_id\",\"unit_name\"], right_on=[\"_link_main\",\"Código Producto\",\"unit_name\"], how=\"left\")"
   ]
  },
  {
   "cell_type": "code",
   "execution_count": null,
   "id": "f5771a75",
   "metadata": {},
   "outputs": [],
   "source": [
    "df_items_tender_awards.head()"
   ]
  },
  {
   "cell_type": "code",
   "execution_count": null,
   "id": "54592457",
   "metadata": {},
   "outputs": [],
   "source": [
    "df_items_tender_awards.columns"
   ]
  },
  {
   "cell_type": "code",
   "execution_count": null,
   "id": "cc34dae1",
   "metadata": {},
   "outputs": [],
   "source": [
    "df_items_tender_awards.drop(columns=['_link', '_link_main','quantity_x', 'classification_id', \"id_x\"], inplace=True)\n",
    "df_items_tender_awards.rename(columns={'_link_x':\"_link_awards\", '_link_main_x':\"_link_main\", 'date':\"date_award\", 'status':\"award_status\",'quantity_x':\"quantity\", 'unit_name_x':\"unit_name\", \"id_y\":\"award_id\"}, inplace=True)\n",
    "df_items_tender_awards.head()"
   ]
  },
  {
   "cell_type": "markdown",
   "id": "0e4a48d1",
   "metadata": {},
   "source": [
    "### Previo Dataframe con supplier."
   ]
  },
  {
   "cell_type": "code",
   "execution_count": null,
   "id": "f0f6ac8c",
   "metadata": {},
   "outputs": [],
   "source": []
  },
  {
   "cell_type": "code",
   "execution_count": null,
   "id": "a5a47472",
   "metadata": {},
   "outputs": [],
   "source": []
  },
  {
   "cell_type": "markdown",
   "id": "51e6f0a3",
   "metadata": {},
   "source": [
    "#### Parties y Parties_additional_identifiers."
   ]
  },
  {
   "cell_type": "code",
   "execution_count": null,
   "id": "e382db4f",
   "metadata": {},
   "outputs": [],
   "source": [
    "df_parties_and_add = df_parties.merge(df_parties_add, left_on=[\"_link\",\"id\"], right_on=[\"_link_parties\", \"id\"], how=\"left\")"
   ]
  },
  {
   "cell_type": "markdown",
   "id": "02fc4dd6",
   "metadata": {},
   "source": [
    "### Unión de main con otros dataframes."
   ]
  },
  {
   "cell_type": "code",
   "execution_count": null,
   "id": "2ffc960f",
   "metadata": {},
   "outputs": [],
   "source": [
    "df_main_buyer_info = df_filtrado.merge(df_parties_and_add, right_on=[\"id_y\",\"_link_main\"], left_on=[\"buyer_id\",\"_link\"], how=\"left\")\n",
    "df_main_buyer_info.info()"
   ]
  },
  {
   "cell_type": "code",
   "execution_count": null,
   "id": "9e338e3c",
   "metadata": {},
   "outputs": [],
   "source": [
    "df_main_buyer_info.head()"
   ]
  },
  {
   "cell_type": "code",
   "execution_count": null,
   "id": "995f7688",
   "metadata": {},
   "outputs": [],
   "source": [
    "df_main_buyer_info.drop(columns=[\"buyer_id\", \"tender_procuringEntity_name\", \"_link_main\",\"rol 1\" ,\"rol 2\",\"_link_x\", \"address_countryName\"], inplace=True)\n",
    "df_main_buyer_info.rename(columns={\"address_region\":\"buyer_region\", \"name\":\"buyer_name\", \"id_y\":\"buyer_id\", \"legalName\":\"buyer_legalName\", \"tender_procurementMethodDetails\":\"procurement_details\", \"tender_procurementMethod\":\"procurementMethod\"})\n",
    "df_main_buyer_info.head()"
   ]
  },
  {
   "cell_type": "code",
   "execution_count": null,
   "id": "2f367727",
   "metadata": {},
   "outputs": [],
   "source": []
  },
  {
   "cell_type": "code",
   "execution_count": null,
   "id": "e2a54eaf",
   "metadata": {},
   "outputs": [],
   "source": []
  },
  {
   "cell_type": "code",
   "execution_count": null,
   "id": "6bc23690",
   "metadata": {},
   "outputs": [],
   "source": []
  },
  {
   "cell_type": "code",
   "execution_count": null,
   "id": "dec93e7b",
   "metadata": {},
   "outputs": [],
   "source": []
  },
  {
   "cell_type": "code",
   "execution_count": null,
   "id": "1e47a243",
   "metadata": {},
   "outputs": [],
   "source": []
  },
  {
   "cell_type": "code",
   "execution_count": null,
   "id": "00a5528a",
   "metadata": {},
   "outputs": [],
   "source": []
  },
  {
   "cell_type": "code",
   "execution_count": null,
   "id": "495b0cc4",
   "metadata": {},
   "outputs": [],
   "source": []
  }
 ],
 "metadata": {
  "kernelspec": {
   "display_name": "Python 3",
   "language": "python",
   "name": "python3"
  },
  "language_info": {
   "codemirror_mode": {
    "name": "ipython",
    "version": 3
   },
   "file_extension": ".py",
   "mimetype": "text/x-python",
   "name": "python",
   "nbconvert_exporter": "python",
   "pygments_lexer": "ipython3",
   "version": "3.12.4"
  }
 },
 "nbformat": 4,
 "nbformat_minor": 5
}
