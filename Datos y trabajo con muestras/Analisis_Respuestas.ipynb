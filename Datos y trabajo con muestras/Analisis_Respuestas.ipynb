{
 "cells": [
  {
   "cell_type": "markdown",
   "metadata": {},
   "source": [
    "# Preparativos\n",
    "\n",
    "Primero cargamos los datos y los guardamos en una variable secundaria, cosa que no tengamos que volverlos a cargar"
   ]
  },
  {
   "cell_type": "code",
   "execution_count": 10,
   "metadata": {},
   "outputs": [],
   "source": [
    "import pandas as pd\n",
    "import numpy as np\n",
    "import datetime\n",
    "from os import path\n",
    "import seaborn as sns\n",
    "import matplotlib.pyplot as plt"
   ]
  },
  {
   "cell_type": "code",
   "execution_count": 3,
   "metadata": {},
   "outputs": [],
   "source": [
    "df = pd.read_excel('tenderers_2018.xlsx')"
   ]
  },
  {
   "cell_type": "code",
   "execution_count": null,
   "metadata": {},
   "outputs": [],
   "source": [
    "#Checkpoint\n",
    "Tender_df = df"
   ]
  },
  {
   "cell_type": "code",
   "execution_count": 8,
   "metadata": {},
   "outputs": [],
   "source": [
    "df2 = pd.read_excel('awards_2018.xlsx')"
   ]
  },
  {
   "cell_type": "code",
   "execution_count": 9,
   "metadata": {},
   "outputs": [],
   "source": [
    "Award_df = df2"
   ]
  },
  {
   "cell_type": "markdown",
   "metadata": {},
   "source": [
    "# Preguntas\n",
    "\n",
    "1.- ¿Existe una correlación entre el monto adjudicado y el tipo de procedimiento de contratación utilizado?\n",
    "\n",
    "2.- ¿Qué factores influyen en la duración de los procesos de adjudicación de licitaciones?\n",
    "\n",
    "3.- ¿Es posible predecir qué tipo de empresa (por tamaño) gana más contratos en ciertos sectores?\n",
    "\n",
    "4.- ¿Qué categorías de licitaciones muestran similitudes en cuanto a montos y tiempos de adjudicación?\n",
    "\n",
    "5.- ¿Cómo se distribuyen geográficamente las contrataciones públicas según el tipo de proveedor?"
   ]
  },
  {
   "cell_type": "markdown",
   "metadata": {},
   "source": [
    "### Segunda pregunta\n",
    "\n",
    "Para responder a esta pregunta haremos un grafico de correlación entre las siguientes columnas y sus respectivas justificaciones acerca de porque las usamos:\n",
    "\n",
    "- tender_enquiryPeriod_durationInDays: Debido a que esta es la columna que muestra la duración de la licitación en días.\n",
    "- estimated_cost: El costo es muy importante, ya que se relaciona con la cantidad y para que se utilizó.\n",
    "- quantity: La cantidad del producto.\n",
    "- Nombre Segmento: Esta es una columna que representa de manera mas general la licitación. (El para que se utilizó).\n",
    "- tender_hasEnquiries: Esta columna contiene booleanos, cuales representan si es que hubieron consultas o no durante la licitacion (de esta manera aumentando su duración).\n",
    "- buyer_legalName: La entidad detras de la licitación."
   ]
  },
  {
   "cell_type": "code",
   "execution_count": 30,
   "metadata": {},
   "outputs": [],
   "source": [
    "df_cor = Award_df[[\"tender_enquiryPeriod_durationInDays\", \"estimated_cost\", \"quantity\", \"Nombre Segmento\", \"tender_hasEnquiries\", \"buyer_legalName\"]]\n",
    "df_cor = pd.get_dummies(df_cor, drop_first=True)"
   ]
  },
  {
   "cell_type": "code",
   "execution_count": null,
   "metadata": {},
   "outputs": [],
   "source": [
    "#2\n",
    "\n",
    "correlacion = df_cor.corr()\n",
    "\n",
    "# Crear un mapa de calor\n",
    "plt.figure(figsize=(6, 4))\n",
    "sns.heatmap(correlacion, annot=True, cmap='coolwarm', fmt=\".2f\")\n",
    "plt.title('Mapa de Calor de Correlación')\n",
    "plt.show()"
   ]
  },
  {
   "cell_type": "code",
   "execution_count": null,
   "metadata": {},
   "outputs": [],
   "source": []
  }
 ],
 "metadata": {
  "kernelspec": {
   "display_name": "base",
   "language": "python",
   "name": "python3"
  },
  "language_info": {
   "codemirror_mode": {
    "name": "ipython",
    "version": 3
   },
   "file_extension": ".py",
   "mimetype": "text/x-python",
   "name": "python",
   "nbconvert_exporter": "python",
   "pygments_lexer": "ipython3",
   "version": "3.12.4"
  }
 },
 "nbformat": 4,
 "nbformat_minor": 2
}
