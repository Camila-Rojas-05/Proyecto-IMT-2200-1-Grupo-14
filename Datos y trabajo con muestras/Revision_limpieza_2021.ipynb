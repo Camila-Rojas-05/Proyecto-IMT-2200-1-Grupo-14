{
 "cells": [
  {
   "cell_type": "markdown",
   "id": "431979e9-220d-4a69-9a3a-f1e3ba884633",
   "metadata": {},
   "source": [
    "# Revisión de datos de los archivos csv de Open Contracting Partnership. Data Set del 2018."
   ]
  },
  {
   "cell_type": "markdown",
   "id": "2a9e2f7f-d9e7-49d1-a599-bd9d10167221",
   "metadata": {},
   "source": [
    "Usando el buscador de OpenContracting se buscaron datos sobre Chile (buscador: https://data.open-contracting.org/es/search/). Se decidió descargarlos archivos de los años 2018 y 2021, para tener una muestra de datos que contenga información sobre licitaciones en un rango de tiempo cercano a estas fechas."
   ]
  },
  {
   "cell_type": "code",
   "execution_count": null,
   "id": "ce4d796d",
   "metadata": {},
   "outputs": [],
   "source": [
    "import pandas as pd\n",
    "import numpy as np\n",
    "import datetime"
   ]
  },
  {
   "cell_type": "code",
   "execution_count": null,
   "id": "628dde2b-0089-492a-9c8f-11d720dc769e",
   "metadata": {},
   "outputs": [],
   "source": [
    "from os import path\n",
    "import pandas as pd\n",
    "\n",
    "lista_doc = [\"main.csv\",\"awards.csv\", \"awards_items.csv\", \"awards_suppliers.csv\"]\n",
    "contador = 0\n",
    "for documento in lista_doc:\n",
    "    print(documento)\n",
    "    camino = path.join(\"Chile\",\"2021\",documento)\n",
    "    if contador == 0:\n",
    "        df_main = pd.read_csv(camino, delimiter=\",\")\n",
    "        \n",
    "    elif contador == 1:\n",
    "        df_e = pd.read_csv(camino, delimiter=\",\")\n",
    "        lista_columnas = list(df_e.columns.values)\n",
    "        \n",
    "        if \"description\" in lista_columnas :\n",
    "            df_e.rename(columns={'description': f'description_{documento}'}, inplace=True)\n",
    "            \n",
    "        df_e.rename(columns={'id': f'id_{documento}', \"_link\": f\"_link_{documento}\"}, inplace=True)\n",
    "        df_main = df_main.merge(df_e, left_on=\"_link\", right_on=\"_link_main\")\n",
    "        \n",
    "    else:\n",
    "        df_e = pd.read_csv(camino, delimiter=\",\")\n",
    "        lista_columnas =  list(df_e.columns.values)\n",
    "        if \"description\" in lista_columnas:\n",
    "            df_e.rename(columns={'id': f'id_{documento}', \"_link\": f\"_link_{documento}\"}, inplace=True)\n",
    "            \n",
    "        df_e.rename(columns={'id': f'id_{documento}'}, inplace=True)\n",
    "        df_main = df_main.merge(df_e, left_on=\"_link_awards.csv\", right_on=\"_link_awards\")\n",
    "    contador += 1\n",
    "    \n",
    "df_main.info()"
   ]
  },
  {
   "cell_type": "markdown",
   "id": "b7116cd1",
   "metadata": {},
   "source": [
    "Se cargan los documentos main, awards, award_items y award_suppliers, a un DataFrame, se limpiaran los datos haciendo drop de columnas irrelevantes y/o repetidas."
   ]
  },
  {
   "cell_type": "code",
   "execution_count": null,
   "id": "80b05fc9",
   "metadata": {},
   "outputs": [],
   "source": [
    "df_2021 = df_main"
   ]
  },
  {
   "cell_type": "code",
   "execution_count": null,
   "id": "d5aef537-d068-4319-9555-3ed88113cb23",
   "metadata": {},
   "outputs": [],
   "source": [
    "df_2021.drop(columns=[\"id\",\"ocid\",\"tender_procuringEntity_id\", \"_link_awards_items.csv\",\"id_awards_items.csv\", \"tender_id\", \"buyer_id\", \"_link_awards_x\", \"_link_awards_y\"], inplace=True)\n",
    "df_2021.drop(columns=[\"classification_uri\", \"_link_awards.csv\", \"id_awards.csv\", \"id_awards_suppliers.csv\", \"unit_value_unitOfAccount\", \"value_unitOfAccount\", \"language\" ], inplace=True)\n",
    "df_2021.columns"
   ]
  },
  {
   "cell_type": "markdown",
   "id": "de23485d",
   "metadata": {},
   "source": [
    "Se eliminan las columnas con datos que permiten la identificación dentro del sistema del que se originan, puesto que no son pertinentes para los analisis a realizarse."
   ]
  },
  {
   "cell_type": "code",
   "execution_count": null,
   "id": "bf8f8abd",
   "metadata": {},
   "outputs": [],
   "source": [
    "df_2021['date_x'] = pd.to_datetime(df_2021[\"date_x\"])"
   ]
  },
  {
   "cell_type": "code",
   "execution_count": null,
   "id": "d8f3be32",
   "metadata": {},
   "outputs": [],
   "source": [
    "df_2021['date_y'] = pd.to_datetime(df_2021['date_y'])"
   ]
  },
  {
   "cell_type": "code",
   "execution_count": null,
   "id": "c85e9862",
   "metadata": {},
   "outputs": [],
   "source": [
    "df_2021['date_y']"
   ]
  },
  {
   "cell_type": "code",
   "execution_count": null,
   "id": "45fe2acb-9de5-4b43-b19d-17b8591b5f2d",
   "metadata": {},
   "outputs": [],
   "source": [
    "df_2021[[\"_link_y\", \"_link_main_y\", \"_link_main_x\", \"_link_x\"]]"
   ]
  },
  {
   "cell_type": "markdown",
   "id": "247d9e6e",
   "metadata": {},
   "source": [
    "Se revisa el contenido de las columnas \"_link_main\", \"_link_y\", \"_link_main_y\", \"_link_main_x\", \"_link_x y se observa que _link_main y las columnas derivadas de este nombre son identicas entre ellas y con la columna _link_x, se eliminaran todas excepto main, ademas la columna _link_y no es relevancia para el DataFrame, puesto que es identica a la columna _link_main."
   ]
  },
  {
   "cell_type": "code",
   "execution_count": null,
   "id": "48de1dd0-2c44-4268-91d4-f6968ae7941a",
   "metadata": {},
   "outputs": [],
   "source": [
    "df_2021.drop(columns=[\"_link_y\", \"_link_main_y\", \"_link_main_x\", \"_link_main\", \"tag\",\"classification_id\", \"classification_scheme\", \"tender_title\", \"description\", \"tender_status\", \"status\", \"initiationType\", \"tender_value_unitOfAccount\", \"description_awards.csv\", \"title\", \"tender_description\"], inplace=True)\n",
    "df_main.head()\n",
    "df_2021.info()"
   ]
  },
  {
   "cell_type": "code",
   "execution_count": null,
   "id": "83a78d2f-8422-4915-b436-e8be6729a347",
   "metadata": {},
   "outputs": [],
   "source": [
    "df_2021[[\"date_y\", \"date_x\"]]"
   ]
  },
  {
   "cell_type": "markdown",
   "id": "860bba2a",
   "metadata": {},
   "source": [
    "Se comparan _date_y y _date_x y se observa que son distintas por lo que se mantienen, pero se cambia el nombre."
   ]
  },
  {
   "cell_type": "code",
   "execution_count": null,
   "id": "6840642c-9fc6-4048-99ed-6c674dd96813",
   "metadata": {},
   "outputs": [],
   "source": [
    "df_2021.rename(columns={\"name\": \"Award_supplier_name\", 'date_y': 'date_award', \"date_x\": 'date_main'}, inplace= True)"
   ]
  },
  {
   "cell_type": "markdown",
   "id": "dea99784",
   "metadata": {},
   "source": [
    "Se revisarán que las filas no posean solo un dato, si sucede, se eliminarán. (Se ignorarán las filas que evidentemente poseen más de un dato)."
   ]
  },
  {
   "cell_type": "code",
   "execution_count": null,
   "id": "139e2343",
   "metadata": {},
   "outputs": [],
   "source": [
    "for columna in df_2021.columns:\n",
    "    print(columna, df_2021[columna].unique())"
   ]
  },
  {
   "cell_type": "code",
   "execution_count": null,
   "id": "0492687b",
   "metadata": {},
   "outputs": [],
   "source": [
    "df_iguales = pd.DataFrame(df_2021[\"tender_value_amount\"] == df_2021[\"value_amount\"])\n",
    "df_iguales.head()"
   ]
  },
  {
   "cell_type": "code",
   "execution_count": null,
   "id": "e456c1b6",
   "metadata": {},
   "outputs": [],
   "source": [
    "df_iguales.rename(columns={0: \"tender_value_amount == value_amount\"}, inplace=True)"
   ]
  },
  {
   "cell_type": "code",
   "execution_count": null,
   "id": "89b163a3",
   "metadata": {},
   "outputs": [],
   "source": [
    "df_iguales[\"tender_value_amount == unit_value_amount\"] = df_2021[\"tender_value_amount\"] == df_2021[\"unit_value_amount\"]\n",
    "df_iguales[\"value_amount == unit_value_amount\"] = df_2021[\"value_amount\"] == df_2021[\"unit_value_amount\"]\n",
    "\n",
    "df_iguales[\"tender_value_currency == value_currency\"] = df_2021[\"tender_value_currency\"] == df_2021[\"value_currency\"]\n",
    "df_iguales[\"tender_value_currency == unit_value_currency\"] = df_2021[\"tender_value_currency\"] == df_2021[\"unit_value_currency\"]\n",
    "df_iguales[\"unit_value_currency == value_currency\"] = df_2021[\"unit_value_currency\"] == df_2021[\"value_currency\"]\n",
    "df_iguales[\"buyer == procuring_entity\"] = df_2021[\"buyer_name\"] == df_2021[\"tender_procuringEntity_name\"]"
   ]
  },
  {
   "cell_type": "code",
   "execution_count": null,
   "id": "d6091532",
   "metadata": {},
   "outputs": [],
   "source": [
    "for columna in df_iguales.columns:\n",
    "    print(columna, df_iguales[columna].unique())"
   ]
  },
  {
   "cell_type": "markdown",
   "id": "b83fe6c4",
   "metadata": {},
   "source": [
    "Se observa que solo las columnas buyer y procuring_entity son iguales entre si, por lo que se eliminará buyer_name."
   ]
  },
  {
   "cell_type": "code",
   "execution_count": null,
   "id": "9b611093",
   "metadata": {},
   "outputs": [],
   "source": []
  },
  {
   "cell_type": "code",
   "execution_count": null,
   "id": "ca4c3d1f",
   "metadata": {},
   "outputs": [],
   "source": [
    "duplicates = df_2021.duplicated(keep=False)\n",
    "dups = df_2021[duplicates]\n",
    "dups.head(10)"
   ]
  },
  {
   "cell_type": "markdown",
   "id": "81a210df",
   "metadata": {},
   "source": [
    "Volviendo a revisar tenemos que no hay dato NaN en los datos de 2021, pero si hay datos duplicados"
   ]
  },
  {
   "cell_type": "code",
   "execution_count": null,
   "id": "64f90994",
   "metadata": {},
   "outputs": [],
   "source": [
    "df_2021.dropna()"
   ]
  },
  {
   "cell_type": "code",
   "execution_count": null,
   "id": "fca70f69",
   "metadata": {},
   "outputs": [],
   "source": [
    "df_2021 = df_2021.drop_duplicates()"
   ]
  },
  {
   "cell_type": "code",
   "execution_count": null,
   "id": "78fe33f4",
   "metadata": {},
   "outputs": [],
   "source": [
    "df_2021.drop_duplicates()"
   ]
  },
  {
   "cell_type": "code",
   "execution_count": null,
   "id": "76b92281",
   "metadata": {},
   "outputs": [],
   "source": [
    "df_2021.duplicated().unique()"
   ]
  },
  {
   "cell_type": "markdown",
   "id": "3ad74c9d",
   "metadata": {},
   "source": [
    "Con esto corroboramos de que efectivamente no existe fila repetida alguna"
   ]
  },
  {
   "cell_type": "code",
   "execution_count": null,
   "id": "0bda7453",
   "metadata": {},
   "outputs": [],
   "source": [
    "columnas_nan_full = df_2021.columns[df_2021.isna().all()]\n",
    "columnas_nan_full"
   ]
  },
  {
   "cell_type": "code",
   "execution_count": null,
   "id": "700a358a",
   "metadata": {},
   "outputs": [],
   "source": [
    "df_2021 = df_2021[['date_main', 'tender_procurementMethodDetails',\n",
    "       'tender_procurementMethod', 'tender_hasEnquiries',\n",
    "       'tender_awardPeriod_endDate', 'tender_awardPeriod_startDate',\n",
    "       'tender_awardPeriod_durationInDays', 'tender_tenderPeriod_endDate',\n",
    "       'tender_tenderPeriod_startDate', 'tender_tenderPeriod_durationInDays',\n",
    "       'tender_enquiryPeriod_endDate', 'tender_enquiryPeriod_startDate',\n",
    "       'tender_enquiryPeriod_durationInDays', 'tender_procuringEntity_name',\n",
    "       'tender_value_amount', 'tender_value_currency', 'buyer_name',\n",
    "       'planning_budget_id', 'planning_budget_description',\n",
    "       'planning_budget_amount_amount', 'planning_budget_amount_currency', 'date_award', 'value_amount',\n",
    "       'value_currency', 'quantity', 'unit_name', 'unit_value_amount',\n",
    "       'unit_value_currency', '_link_main', 'Award_supplier_name']]"
   ]
  },
  {
   "cell_type": "markdown",
   "id": "342088ee",
   "metadata": {},
   "source": [
    "Verificamos que todo este correcto"
   ]
  },
  {
   "cell_type": "code",
   "execution_count": null,
   "id": "34e99c2e",
   "metadata": {},
   "outputs": [],
   "source": [
    "verify = df_2021.columns[df_2021.isna().all()]\n",
    "verify"
   ]
  },
  {
   "cell_type": "markdown",
   "id": "07db062c",
   "metadata": {},
   "source": [
    "Ahora buscaremos tener solo las filas con las que quedamos del notebook anterior (2018)"
   ]
  },
  {
   "cell_type": "code",
   "execution_count": null,
   "id": "bbb1ac80",
   "metadata": {},
   "outputs": [],
   "source": [
    "df_2021 = df_2021[['date_main', 'buyer_name', 'tender_procurementMethodDetails',\n",
    "       'tender_procurementMethod', 'tender_hasEnquiries',\n",
    "       'tender_awardPeriod_endDate', 'tender_awardPeriod_startDate',\n",
    "       'tender_awardPeriod_durationInDays', 'tender_tenderPeriod_endDate',\n",
    "       'tender_tenderPeriod_startDate', 'tender_tenderPeriod_durationInDays',\n",
    "       'tender_enquiryPeriod_endDate', 'tender_enquiryPeriod_startDate',\n",
    "       'tender_enquiryPeriod_durationInDays', 'tender_procuringEntity_name',\n",
    "       'tender_value_amount', 'tender_value_currency', 'date_award',\n",
    "       'value_amount', 'value_currency', 'quantity',\n",
    "       'unit_name', 'unit_value_amount', 'unit_value_currency', '_link_main',\n",
    "       'Award_supplier_name']]"
   ]
  },
  {
   "cell_type": "code",
   "execution_count": null,
   "id": "30e4d748",
   "metadata": {},
   "outputs": [],
   "source": [
    "df_2021.info()"
   ]
  },
  {
   "cell_type": "markdown",
   "id": "81a88cda",
   "metadata": {},
   "source": [
    "## Camino a eliminar/reemplazar los datos NaN"
   ]
  },
  {
   "cell_type": "code",
   "execution_count": null,
   "id": "224c20b2",
   "metadata": {},
   "outputs": [],
   "source": [
    "\n",
    "tipos_licitaciones ={'Licitación Pública Menor a 100 UTM (L1)': \"L1\",\n",
    "       'Licitación Pública Entre 100 y 1000 UTM (LE)': \"LE\",\n",
    "       'Licitación Pública Mayor 1000 UTM (LP)': \"LP\",\n",
    "       'Licitación Pública entre a 2000 y 5000 UTM (LQ)':\"LQ\",\n",
    "       'Licitación Pública Mayor a 5000 (LR)' :\"LR\",\n",
    "       'Licitación Privada entre a 2000 y 5000 UTM (H2)':\"H2\",\n",
    "       'Licitación Pública Servicios personales especializados (LS)':\"LS\",\n",
    "       \"Licitación Privada por Licitación Pública anterior sin oferentes (A1)\" : \"A1\",\n",
    "       \"Licitación Privada por Remanente de Contrato anterior (B1)\": \"B1\",\n",
    "       \"Licitación Privada por Convenios con Personas Jurídicas Extranjeras fuera del Territorio Nacional (E1)\": \"E1\",\n",
    "       \"Licitación Privada por Servicios de Naturaleza Confidencial (F1)\": \"F1\",\n",
    "       \"Licitación Privada por otras causales, excluidas de la ley de Compras (J1)\": \"J1\",\n",
    "       \"Licitación Privada entre 100 y 1000 UTM\" :\"CO\", \"Licitación Privada Mayor a 1000 UTM\": \"B2\",\n",
    "       \"Trato Directo por Producto de Licitación Privada anterior sin oferentes o desierta\": \"A2\",\n",
    "       \"Trato Directo por Proveedor Único (D1)\": \"D1\",\"Licitación Privada Menor a 100 UTM\" : \"E2\", \"Trato Directo (Cotización) (C2)\" : \"C2\",\n",
    "       \"Compra Directa (Orden de compra) (C1)\" : \"C1\", \"Trato Directo (Cotización) (F2)\" :\"F2\", \"Compra Directa (Orden de compra) (F3)\" : \"F3\",\n",
    "       \"Directo (Cotización) (G2)\" : \"G2\", \"Compra Directa (Orden de compra) (G1)\" : \"G1\",\n",
    "       \"Orden de Compra menor a 3 UTM (R1)\" : \"R1\", \"Orden de Compra sin Resolución (CA)\" : \"CA\", \n",
    "       \"Orden de Compra proveniente de adquisición sin emisión automática de OC (SE)\" : \"SE\"}\n",
    "\n",
    "\n",
    "df_2021[\"tender_procurementMethodDetails\"] = df_2021[\"tender_procurementMethodDetails\"].map(tipos_licitaciones)\n",
    "df_2021[\"tender_procurementMethodDetails\"] = df_2021[\"tender_procurementMethodDetails\"].astype(\"category\")"
   ]
  },
  {
   "cell_type": "code",
   "execution_count": null,
   "id": "043fe055",
   "metadata": {},
   "outputs": [],
   "source": [
    "df_2021[\"unit_value_currency\"].isna().unique()"
   ]
  },
  {
   "cell_type": "code",
   "execution_count": null,
   "id": "e190973e",
   "metadata": {},
   "outputs": [],
   "source": [
    "df_2021[\"date_main\"] = pd.to_datetime(df_2021['date_main'])\n",
    "df_2021[\"date_award\"] = pd.to_datetime(df_2021['date_award'])\n",
    "df_2021[\"tender_enquiryPeriod_startDate\"] = pd.to_datetime(df_2021['tender_enquiryPeriod_startDate'])\n",
    "df_2021[\"tender_enquiryPeriod_endDate\"] = pd.to_datetime(df_2021['tender_enquiryPeriod_endDate'])\n",
    "df_2021['tender_tenderPeriod_startDate'] = pd.to_datetime(df_2021['tender_tenderPeriod_startDate'])\n",
    "df_2021[\"tender_tenderPeriod_endDate\"] = pd.to_datetime(df_2021['tender_tenderPeriod_endDate'])\n",
    "df_2021['tender_awardPeriod_startDate'] = pd.to_datetime(df_2021['tender_awardPeriod_startDate'])"
   ]
  },
  {
   "cell_type": "markdown",
   "id": "1515f386",
   "metadata": {},
   "source": [
    "Notamos un error grave en la fila '703633', cual que tiene una fecha en 'tender_awardPeriod_endDate' de 2999-03-15T12:17:00Z. Al no poder 'inventarnos' alguna flecha y reemplazar ese valor optaremos por eliminarla"
   ]
  },
  {
   "cell_type": "code",
   "execution_count": null,
   "id": "7fca263f",
   "metadata": {},
   "outputs": [],
   "source": [
    "df_2021.drop(df_2021[df_2021[\"tender_awardPeriod_endDate\"] == \"2999-03-15T12:17:00Z\"].index, axis=0, inplace=True)"
   ]
  },
  {
   "cell_type": "code",
   "execution_count": null,
   "id": "a6ac3c36",
   "metadata": {},
   "outputs": [],
   "source": [
    "df_2021['tender_awardPeriod_endDate'] = pd.to_datetime(df_2021['tender_awardPeriod_endDate'])\n",
    "df_2021['tender_enquiryPeriod_durationInDays'] = df_2021['tender_enquiryPeriod_endDate'] - df_2021['tender_enquiryPeriod_startDate'] \n",
    "df_2021['tender_awardPeriod_durationInDays'] = df_2021['tender_awardPeriod_endDate'] - df_2021['tender_awardPeriod_startDate']\n",
    "df_2021['tender_tenderPeriod_durationInDays'] = df_2021['tender_tenderPeriod_endDate'] - df_2021['tender_tenderPeriod_startDate']"
   ]
  },
  {
   "cell_type": "markdown",
   "id": "0d350f27",
   "metadata": {},
   "source": [
    "# Filtrado por fecha\n",
    "Así como en el notebook del 2018, filtraremos las fechas, de forma que queden solo entre (2020-09-01) y (2021-12-31)."
   ]
  },
  {
   "cell_type": "code",
   "execution_count": null,
   "id": "cf298009",
   "metadata": {},
   "outputs": [],
   "source": [
    "fecha_lim_menor = '2020-09-01'\n",
    "df_filtrado = df_2021.loc[df_2021['tender_tenderPeriod_startDate'] >= fecha_lim_menor]\n",
    "\n",
    "fecha_lim_mayor = '2021-12-31'\n",
    "df_filtrado = df_filtrado.loc[df_filtrado['tender_awardPeriod_endDate'] <= fecha_lim_mayor]"
   ]
  },
  {
   "cell_type": "code",
   "execution_count": null,
   "id": "731fb0ad",
   "metadata": {},
   "outputs": [],
   "source": [
    "df_filtrado"
   ]
  },
  {
   "cell_type": "code",
   "execution_count": null,
   "id": "01231c91",
   "metadata": {},
   "outputs": [],
   "source": [
    "df_filtrado.reset_index(drop=True, inplace=True)"
   ]
  },
  {
   "cell_type": "markdown",
   "id": "d16550ef",
   "metadata": {},
   "source": [
    "# Filtrado respecto a NaN\n",
    "Aplicaremos la misma logica vista en 2018 para eliminar todos los datos POSIBLES NaN. Remarcamos posibles debido a que dependiendo del contexto podemos igualmente usarlos y reemplazarlos con un \"No aplica\""
   ]
  },
  {
   "cell_type": "code",
   "execution_count": null,
   "id": "7dea6c84",
   "metadata": {},
   "outputs": [],
   "source": [
    "Datos_with_NaN = df_filtrado.loc[:, df_filtrado.isna().any()]\n",
    "print(f\"La cantidad de datos NaN es de: {len(Datos_with_NaN[Datos_with_NaN.isna().any(axis=1)])} en todo el dataframe de {len(df_filtrado)}\")"
   ]
  },
  {
   "cell_type": "code",
   "execution_count": null,
   "id": "1584e6e6",
   "metadata": {},
   "outputs": [],
   "source": [
    "nan_tender_v = df_filtrado[df_filtrado['value_currency'].isna()]\n",
    "nan_tender_v[[\"value_currency\", \"value_amount\",\"unit_value_currency\", \"unit_value_amount\",\"tender_value_amount\", \"tender_value_currency\", \"tender_hasEnquiries\"]]"
   ]
  },
  {
   "cell_type": "code",
   "execution_count": null,
   "id": "46668ae5",
   "metadata": {},
   "outputs": [],
   "source": [
    "df_filtrado[\"value_currency\"] = df_filtrado[\"value_currency\"].replace(np.nan, \"No aplica\")\n",
    "df_filtrado[\"unit_value_currency\"] = df_filtrado[\"unit_value_currency\"].replace(np.nan, \"No aplica\")\n",
    "df_filtrado[\"unit_value_amount\"] = df_filtrado[\"unit_value_amount\"].replace(np.nan, \"No aplica\")\n",
    "df_filtrado[\"value_amount\"] = df_filtrado[\"value_amount\"].replace(np.nan, \"No aplica\")\n",
    "df_filtrado[\"tender_value_currency\"] = df_filtrado[\"tender_value_currency\"].replace(np.nan, \"No aplica\")\n",
    "df_filtrado[\"tender_value_amount\"] = df_filtrado[\"tender_value_amount\"].replace(np.nan, \"No aplica\")"
   ]
  },
  {
   "cell_type": "code",
   "execution_count": null,
   "id": "fca1aafe",
   "metadata": {},
   "outputs": [],
   "source": [
    "df_filtrado[[\"tender_tenderPeriod_durationInDays\", \"tender_awardPeriod_durationInDays\", \"tender_enquiryPeriod_durationInDays\"]].info()"
   ]
  },
  {
   "cell_type": "code",
   "execution_count": null,
   "id": "aae50c8c",
   "metadata": {},
   "outputs": [],
   "source": [
    "df_filtrado.info()"
   ]
  },
  {
   "cell_type": "code",
   "execution_count": null,
   "id": "f05e7aba",
   "metadata": {},
   "outputs": [],
   "source": [
    "df_2021 = df_filtrado"
   ]
  },
  {
   "cell_type": "code",
   "execution_count": null,
   "id": "f10d621f",
   "metadata": {},
   "outputs": [],
   "source": [
    "df_ver = df_2021[['buyer_name', 'tender_procuringEntity_name']]"
   ]
  },
  {
   "cell_type": "code",
   "execution_count": null,
   "id": "f8e49206",
   "metadata": {},
   "outputs": [],
   "source": [
    "df_2021['buyer_name'] = df_2021['tender_procuringEntity_name']"
   ]
  },
  {
   "cell_type": "code",
   "execution_count": null,
   "id": "a1d31e3d",
   "metadata": {},
   "outputs": [],
   "source": [
    "df_2021 = df_2021[['date_main', 'buyer_name', 'tender_procurementMethodDetails',\n",
    "       'tender_procurementMethod', 'tender_hasEnquiries',\n",
    "       'tender_awardPeriod_endDate', 'tender_awardPeriod_startDate',\n",
    "       'tender_awardPeriod_durationInDays', 'tender_tenderPeriod_endDate',\n",
    "       'tender_tenderPeriod_startDate', 'tender_tenderPeriod_durationInDays',\n",
    "       'tender_enquiryPeriod_endDate', 'tender_enquiryPeriod_startDate',\n",
    "       'tender_enquiryPeriod_durationInDays',\n",
    "       'tender_value_amount', 'tender_value_currency', 'date_award',\n",
    "       'value_amount', 'value_currency', 'quantity', 'unit_name',\n",
    "       'unit_value_amount', 'unit_value_currency', '_link_main',\n",
    "       'Award_supplier_name']]"
   ]
  },
  {
   "cell_type": "code",
   "execution_count": null,
   "id": "eb8c956a",
   "metadata": {},
   "outputs": [],
   "source": [
    "df_2021.info()"
   ]
  },
  {
   "cell_type": "code",
   "execution_count": null,
   "id": "bdb57271",
   "metadata": {},
   "outputs": [],
   "source": []
  }
 ],
 "metadata": {
  "kernelspec": {
   "display_name": "base",
   "language": "python",
   "name": "python3"
  },
  "language_info": {
   "codemirror_mode": {
    "name": "ipython",
    "version": 3
   },
   "file_extension": ".py",
   "mimetype": "text/x-python",
   "name": "python",
   "nbconvert_exporter": "python",
   "pygments_lexer": "ipython3",
   "version": "3.12.4"
  }
 },
 "nbformat": 4,
 "nbformat_minor": 5
}
