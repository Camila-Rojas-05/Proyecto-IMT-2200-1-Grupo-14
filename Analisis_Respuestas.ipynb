{
 "cells": [
  {
   "cell_type": "markdown",
   "metadata": {},
   "source": [
    "# Preparativos\n",
    "\n",
    "Primero cargamos los datos y los guardamos en una variable secundaria, cosa que no tengamos que volverlos a cargar"
   ]
  },
  {
   "cell_type": "code",
   "execution_count": null,
   "metadata": {},
   "outputs": [],
   "source": [
    "import pandas as pd\n",
    "import numpy as np\n",
    "import datetime\n",
    "from os import path\n",
    "import seaborn as sns\n",
    "import matplotlib.pyplot as plt\n",
    "from sklearn.preprocessing import LabelEncoder\n",
    "import os.path as path"
   ]
  },
  {
   "cell_type": "code",
   "execution_count": null,
   "metadata": {},
   "outputs": [],
   "source": [
    "camino_tender_2018 = path.join(\"Datos y trabajo con muestras\",'tenderers_2018.xlsx')\n",
    "df_tenderer_2018 = pd.read_excel(camino_tender_2018)\n",
    "camino_tenderer_2021 = path.join(\"Datos y trabajo con muestras\",'tenderers_2021.xlsx')\n",
    "df_tenderer_2021 = pd.read_excel(camino_tenderer_2021)\n"
   ]
  },
  {
   "cell_type": "code",
   "execution_count": null,
   "metadata": {},
   "outputs": [],
   "source": [
    "camino_award_2018 = path.join(\"Datos y trabajo con muestras\",'awards_2018.xlsx')\n",
    "df_award_2018 =pd.read_excel(camino_award_2018)\n",
    "camino_award_2021 = path.join(\"Datos y trabajo con muestras\",'awards_2021.xlsx')\n",
    "df_award_2021 = pd.read_excel(camino_award_2021)"
   ]
  },
  {
   "cell_type": "code",
   "execution_count": null,
   "metadata": {},
   "outputs": [
    {
     "name": "stdout",
     "output_type": "stream",
     "text": [
      "<class 'pandas.core.frame.DataFrame'>\n",
      "RangeIndex: 69587 entries, 0 to 69586\n",
      "Data columns (total 41 columns):\n",
      " #   Column                               Non-Null Count  Dtype         \n",
      "---  ------                               --------------  -----         \n",
      " 0   _link_x                              69587 non-null  object        \n",
      " 1   initiationType                       69587 non-null  object        \n",
      " 2   tender_id                            69587 non-null  object        \n",
      " 3   procurement_details                  69188 non-null  object        \n",
      " 4   tender_status                        69587 non-null  object        \n",
      " 5   procurementMethod                    69587 non-null  object        \n",
      " 6   tender_hasEnquiries                  69587 non-null  bool          \n",
      " 7   tender_awardPeriod_endDate           69587 non-null  datetime64[ns]\n",
      " 8   tender_awardPeriod_startDate         69587 non-null  datetime64[ns]\n",
      " 9   tender_awardPeriod_durationInDays    69587 non-null  float64       \n",
      " 10  tender_tenderPeriod_endDate          69587 non-null  datetime64[ns]\n",
      " 11  tender_tenderPeriod_startDate        69587 non-null  datetime64[ns]\n",
      " 12  tender_tenderPeriod_durationInDays   69587 non-null  float64       \n",
      " 13  tender_enquiryPeriod_endDate         69587 non-null  datetime64[ns]\n",
      " 14  tender_enquiryPeriod_startDate       69587 non-null  datetime64[ns]\n",
      " 15  tender_enquiryPeriod_durationInDays  69587 non-null  float64       \n",
      " 16  estimated_cost                       29324 non-null  float64       \n",
      " 17  estimated_cost_monetary_unit         29324 non-null  object        \n",
      " 18  buyer_id                             69587 non-null  int64         \n",
      " 19  buyer_name                           69587 non-null  object        \n",
      " 20  buyer_region                         69583 non-null  object        \n",
      " 21  identifier_id                        69579 non-null  object        \n",
      " 22  buyer_legalName                      69554 non-null  object        \n",
      " 23  sector                               69587 non-null  object        \n",
      " 24  Codigo Unidad de Compra              69587 non-null  int64         \n",
      " 25  Unidad de Compra                     69587 non-null  object        \n",
      " 26  _link_y                              56895 non-null  object        \n",
      " 27  _link_main_x                         56895 non-null  object        \n",
      " 28  date                                 56838 non-null  object        \n",
      " 29  status                               56895 non-null  object        \n",
      " 30  value_amount                         56895 non-null  float64       \n",
      " 31  value_monetary_unit                  56895 non-null  object        \n",
      " 32  id                                   56895 non-null  float64       \n",
      " 33  quantity                             56895 non-null  float64       \n",
      " 34  unit_name                            56895 non-null  object        \n",
      " 35  unit_value_amount                    56895 non-null  float64       \n",
      " 36  classification_id                    56895 non-null  float64       \n",
      " 37  unit_value_monetary_unit             56895 non-null  object        \n",
      " 38  Nombre Segmento                      56895 non-null  object        \n",
      " 39  Código Producto                      56895 non-null  float64       \n",
      " 40  Nombre Producto                      56895 non-null  object        \n",
      "dtypes: bool(1), datetime64[ns](6), float64(10), int64(2), object(22)\n",
      "memory usage: 21.3+ MB\n"
     ]
    }
   ],
   "source": [
    "df_award_2018.info()"
   ]
  },
  {
   "cell_type": "code",
   "execution_count": null,
   "metadata": {},
   "outputs": [],
   "source": [
    "df_award_2018[\"procurementMethod\"] =df_award_2018[\"procurementMethod\"].astype(\"category\")\n",
    "df_award_2018[\"tender_status\"] =df_award_2018[\"tender_status\"].astype(\"category\")\n",
    "df_award_2018[\"initiationType\"] =df_award_2018[\"initiationType\"].astype(\"category\")\n",
    "df_award_2018[\"buyer_region\"] =df_award_2018[\"buyer_region\"].astype(\"category\")"
   ]
  },
  {
   "cell_type": "code",
   "execution_count": null,
   "metadata": {},
   "outputs": [
    {
     "name": "stdout",
     "output_type": "stream",
     "text": [
      "<class 'pandas.core.frame.DataFrame'>\n",
      "RangeIndex: 278419 entries, 0 to 278418\n",
      "Data columns (total 43 columns):\n",
      " #   Column                               Non-Null Count   Dtype         \n",
      "---  ------                               --------------   -----         \n",
      " 0   _link_x                              278419 non-null  object        \n",
      " 1   tender_id                            278419 non-null  object        \n",
      " 2   initiationType                       278419 non-null  object        \n",
      " 3   tender_id.1                          278419 non-null  object        \n",
      " 4   procurement_details                  277084 non-null  object        \n",
      " 5   tender_status                        278419 non-null  object        \n",
      " 6   procurementMethod                    278419 non-null  object        \n",
      " 7   tender_hasEnquiries                  278419 non-null  bool          \n",
      " 8   tender_awardPeriod_endDate           278419 non-null  datetime64[ns]\n",
      " 9   tender_awardPeriod_startDate         278419 non-null  datetime64[ns]\n",
      " 10  tender_awardPeriod_durationInDays    278419 non-null  float64       \n",
      " 11  tender_tenderPeriod_endDate          278419 non-null  datetime64[ns]\n",
      " 12  tender_tenderPeriod_startDate        278419 non-null  datetime64[ns]\n",
      " 13  tender_tenderPeriod_durationInDays   278419 non-null  float64       \n",
      " 14  tender_enquiryPeriod_endDate         278419 non-null  datetime64[ns]\n",
      " 15  tender_enquiryPeriod_startDate       278419 non-null  datetime64[ns]\n",
      " 16  tender_enquiryPeriod_durationInDays  278419 non-null  float64       \n",
      " 17  estimated_cost                       128781 non-null  float64       \n",
      " 18  buyer_name                           86528 non-null   object        \n",
      " 19  estimated_cost_monetary_unit         128781 non-null  object        \n",
      " 20  buyer_id                             278419 non-null  int64         \n",
      " 21  buyer_name.1                         278419 non-null  object        \n",
      " 22  buyer_region                         278419 non-null  object        \n",
      " 23  identifier_id                        278409 non-null  object        \n",
      " 24  buyer_legalName                      278272 non-null  object        \n",
      " 25  sector                               278419 non-null  object        \n",
      " 26  Codigo Unidad de Compra              278419 non-null  int64         \n",
      " 27  Unidad de Compra                     278419 non-null  object        \n",
      " 28  _link_y                              211062 non-null  object        \n",
      " 29  _link_main_x                         211062 non-null  object        \n",
      " 30  date                                 208456 non-null  object        \n",
      " 31  status                               211062 non-null  object        \n",
      " 32  value_amount                         211062 non-null  float64       \n",
      " 33  value_monetary_unit                  211062 non-null  object        \n",
      " 34  id                                   211062 non-null  float64       \n",
      " 35  quantity                             211062 non-null  float64       \n",
      " 36  unit_name                            211062 non-null  object        \n",
      " 37  unit_value_amount                    211062 non-null  float64       \n",
      " 38  classification_id                    211062 non-null  float64       \n",
      " 39  unit_value_monetary_unit             211062 non-null  object        \n",
      " 40  Nombre Segmento                      211062 non-null  object        \n",
      " 41  Código Producto                      211062 non-null  float64       \n",
      " 42  Nombre Producto                      211062 non-null  object        \n",
      "dtypes: bool(1), datetime64[ns](6), float64(10), int64(2), object(24)\n",
      "memory usage: 89.5+ MB\n"
     ]
    }
   ],
   "source": [
    "df_award_2021.info()"
   ]
  },
  {
   "cell_type": "code",
   "execution_count": null,
   "metadata": {},
   "outputs": [],
   "source": [
    "df_award_2021.drop(columns=[\"_link_y\", \"_link_main_x\"], inplace=True)"
   ]
  },
  {
   "cell_type": "code",
   "execution_count": null,
   "metadata": {},
   "outputs": [],
   "source": [
    "df_award_2021[\"procurementMethod\"] =df_award_2021[\"procurementMethod\"].astype(\"category\")\n",
    "df_award_2021[\"tender_status\"] =df_award_2021[\"tender_status\"].astype(\"category\")\n",
    "df_award_2021[\"initiationType\"] =df_award_2021[\"initiationType\"].astype(\"category\")\n",
    "df_award_2021[\"buyer_region\"] =df_award_2021[\"buyer_region\"].astype(\"category\")"
   ]
  },
  {
   "cell_type": "code",
   "execution_count": null,
   "metadata": {},
   "outputs": [
    {
     "name": "stdout",
     "output_type": "stream",
     "text": [
      "<class 'pandas.core.frame.DataFrame'>\n",
      "RangeIndex: 110996 entries, 0 to 110995\n",
      "Data columns (total 35 columns):\n",
      " #   Column                               Non-Null Count   Dtype         \n",
      "---  ------                               --------------   -----         \n",
      " 0   initiationType                       110996 non-null  object        \n",
      " 1   tender_id                            110996 non-null  object        \n",
      " 2   procurement_details                  110618 non-null  object        \n",
      " 3   tender_status                        110996 non-null  object        \n",
      " 4   procurementMethod                    110996 non-null  object        \n",
      " 5   tender_hasEnquiries                  110996 non-null  bool          \n",
      " 6   tender_awardPeriod_endDate           110996 non-null  datetime64[ns]\n",
      " 7   tender_awardPeriod_startDate         110996 non-null  datetime64[ns]\n",
      " 8   tender_awardPeriod_durationInDays    110996 non-null  float64       \n",
      " 9   tender_tenderPeriod_endDate          110996 non-null  datetime64[ns]\n",
      " 10  tender_tenderPeriod_startDate        110996 non-null  datetime64[ns]\n",
      " 11  tender_tenderPeriod_durationInDays   110996 non-null  float64       \n",
      " 12  tender_enquiryPeriod_endDate         110996 non-null  datetime64[ns]\n",
      " 13  tender_enquiryPeriod_startDate       110996 non-null  datetime64[ns]\n",
      " 14  tender_enquiryPeriod_durationInDays  110996 non-null  float64       \n",
      " 15  estimated_cost                       46049 non-null   float64       \n",
      " 16  estimated_cost_monetary_unit         46049 non-null   object        \n",
      " 17  buyer_id                             110996 non-null  int64         \n",
      " 18  buyer_name                           110996 non-null  object        \n",
      " 19  buyer_region                         110995 non-null  object        \n",
      " 20  buyer_identifier                     110981 non-null  object        \n",
      " 21  buyer_legalName                      110955 non-null  object        \n",
      " 22  sector                               110996 non-null  object        \n",
      " 23  Codigo Unidad de Compra              110996 non-null  int64         \n",
      " 24  Unidad de Compra                     110996 non-null  object        \n",
      " 25  id                                   107245 non-null  float64       \n",
      " 26  tender_name                          107245 non-null  object        \n",
      " 27  tenderer_region                      105022 non-null  object        \n",
      " 28  tenderer_identifier                  107183 non-null  object        \n",
      " 29  tenderer_country                     105022 non-null  object        \n",
      " 30  rol 1                                107245 non-null  object        \n",
      " 31  rol 2                                27421 non-null   object        \n",
      " 32  tenderer_legalName                   107188 non-null  object        \n",
      " 33  Has_tender                           110996 non-null  int64         \n",
      " 34  is_supplier                          110996 non-null  int64         \n",
      "dtypes: bool(1), datetime64[ns](6), float64(5), int64(4), object(19)\n",
      "memory usage: 28.9+ MB\n"
     ]
    }
   ],
   "source": [
    "df_tenderer_2018.info()"
   ]
  },
  {
   "cell_type": "code",
   "execution_count": null,
   "metadata": {},
   "outputs": [],
   "source": [
    "df_tenderer_2018[\"procurementMethod\"] =df_tenderer_2018[\"procurementMethod\"].astype(\"category\")\n",
    "df_tenderer_2018[\"sector\"] =df_tenderer_2018[\"sector\"].astype(\"category\")\n",
    "df_tenderer_2018[\"tender_status\"] =df_tenderer_2018[\"tender_status\"].astype(\"category\")\n",
    "df_tenderer_2018[\"procurement_details\"] =df_tenderer_2018[\"procurement_details\"].astype(\"category\")\n",
    "df_tenderer_2018[\"initiationType\"] =df_tenderer_2018[\"initiationType\"].astype(\"category\")"
   ]
  },
  {
   "cell_type": "code",
   "execution_count": null,
   "metadata": {},
   "outputs": [
    {
     "name": "stdout",
     "output_type": "stream",
     "text": [
      "<class 'pandas.core.frame.DataFrame'>\n",
      "RangeIndex: 439674 entries, 0 to 439673\n",
      "Data columns (total 41 columns):\n",
      " #   Column                               Non-Null Count   Dtype         \n",
      "---  ------                               --------------   -----         \n",
      " 0   _link                                439674 non-null  object        \n",
      " 1   tender_id                            439674 non-null  object        \n",
      " 2   initiationType                       439674 non-null  object        \n",
      " 3   tender_id.1                          439674 non-null  object        \n",
      " 4   procurement_details                  438259 non-null  object        \n",
      " 5   tender_status                        439674 non-null  object        \n",
      " 6   procurementMethod                    439674 non-null  object        \n",
      " 7   tender_hasEnquiries                  439674 non-null  bool          \n",
      " 8   tender_awardPeriod_endDate           439674 non-null  datetime64[ns]\n",
      " 9   tender_awardPeriod_startDate         439674 non-null  datetime64[ns]\n",
      " 10  tender_awardPeriod_durationInDays    439674 non-null  float64       \n",
      " 11  tender_tenderPeriod_endDate          439674 non-null  datetime64[ns]\n",
      " 12  tender_tenderPeriod_startDate        439674 non-null  datetime64[ns]\n",
      " 13  tender_tenderPeriod_durationInDays   439674 non-null  float64       \n",
      " 14  tender_enquiryPeriod_endDate         439674 non-null  datetime64[ns]\n",
      " 15  tender_enquiryPeriod_startDate       439674 non-null  datetime64[ns]\n",
      " 16  tender_enquiryPeriod_durationInDays  439674 non-null  float64       \n",
      " 17  estimated_cost                       221099 non-null  float64       \n",
      " 18  buyer_name                           121542 non-null  object        \n",
      " 19  estimated_cost_monetary_unit         221099 non-null  object        \n",
      " 20  buyer_id                             439674 non-null  int64         \n",
      " 21  buyer_name.1                         439674 non-null  object        \n",
      " 22  buyer_region                         439674 non-null  object        \n",
      " 23  buyer_identifier                     439663 non-null  object        \n",
      " 24  buyer_legalName                      439500 non-null  object        \n",
      " 25  sector                               439674 non-null  object        \n",
      " 26  Codigo Unidad de Compra              439674 non-null  int64         \n",
      " 27  Unidad de Compra                     439674 non-null  object        \n",
      " 28  _link_y                              427479 non-null  object        \n",
      " 29  _link_main                           427479 non-null  object        \n",
      " 30  id                                   427479 non-null  float64       \n",
      " 31  _link.1                              427479 non-null  object        \n",
      " 32  tender_name                          427479 non-null  object        \n",
      " 33  tenderer_region                      419720 non-null  object        \n",
      " 34  tenderer_country                     419720 non-null  object        \n",
      " 35  tenderer_identifier                  427054 non-null  object        \n",
      " 36  rol 1                                427479 non-null  object        \n",
      " 37  rol 2                                126691 non-null  object        \n",
      " 38  tenderer_legalName                   427392 non-null  object        \n",
      " 39  Has_tender                           439674 non-null  int64         \n",
      " 40  is_supplier                          439674 non-null  int64         \n",
      "dtypes: bool(1), datetime64[ns](6), float64(5), int64(4), object(25)\n",
      "memory usage: 134.6+ MB\n"
     ]
    }
   ],
   "source": [
    "df_tenderer_2021.info()"
   ]
  },
  {
   "cell_type": "code",
   "execution_count": null,
   "metadata": {},
   "outputs": [],
   "source": [
    "df_tenderer_2021[\"procurementMethod\"] =df_tenderer_2021[\"procurementMethod\"].astype(\"category\")\n",
    "df_tenderer_2021[\"sector\"] =df_tenderer_2021[\"sector\"].astype(\"category\")\n",
    "df_tenderer_2021[\"tender_status\"] =df_tenderer_2021[\"tender_status\"].astype(\"category\")\n",
    "df_tenderer_2021[\"procurement_details\"] =df_tenderer_2021[\"procurement_details\"].astype(\"category\")\n",
    "df_tenderer_2021[\"initiationType\"] =df_tenderer_2021[\"initiationType\"].astype(\"category\")"
   ]
  },
  {
   "cell_type": "code",
   "execution_count": null,
   "metadata": {},
   "outputs": [],
   "source": [
    "award_2018 =df_award_2018\n",
    "award_2021 = df_award_2021\n",
    "tenderer_2018 = df_tenderer_2018\n",
    "tenderer_2021 = df_tenderer_2021"
   ]
  },
  {
   "cell_type": "markdown",
   "metadata": {},
   "source": [
    "# Preguntas\n",
    "\n",
    "1.- ¿Existe una correlación entre el monto adjudicado y el tipo de procedimiento de licitación utilizado?\n",
    "\n",
    "2.- ¿Hay factores que afectan la cantidad de oferentes en una licitación?, ¿Cuáles son?\n",
    "\n",
    "3.- ¿Qué tipo de servicio estatal tiene mejor respuesta del mercado frente a sus licitaciones?\n",
    "\n",
    "4.- ¿Qué tipo de area estatal muestran similitudes en cuanto a montos, cantidad de ofertas, y fechas de las licitaciones que realiza?\n",
    "\n",
    "5.- ¿Cómo se distribuyen geográficamente las contrataciones públicas según el tipo de licitación?"
   ]
  },
  {
   "cell_type": "markdown",
   "metadata": {},
   "source": [
    "### Primera pregunta.\n",
    "\n",
    "Para responder esta pregunta se debe usarán los dataframes awards, la columna \"procurementMethod\" como tipo de procedimiento de licitación, no se utilizará \"procurement_details\" puesto que esta columna tiene una directa relación con el monto adjudicado, como monto se utilizará \"value_amount\" de las licitaciones en CLP, para ver si existe una relción entre ambos valores se procederá a realizar pairplots."
   ]
  },
  {
   "cell_type": "code",
   "execution_count": null,
   "metadata": {},
   "outputs": [],
   "source": [
    "df_p1_2018 = award_2018[[\"procurementMethod\", \"value_amount\"]]\n",
    "sns.pairplot(df_p1_2018)"
   ]
  },
  {
   "cell_type": "code",
   "execution_count": null,
   "metadata": {},
   "outputs": [],
   "source": [
    "df_p1_2021 = award_2021[[\"procurementMethod\", \"value_amount\"]]\n",
    "sns.pairplot(df_p1_2021)"
   ]
  },
  {
   "cell_type": "code",
   "execution_count": null,
   "metadata": {},
   "outputs": [],
   "source": [
    "df_p1 = pd.concat([df_p1_2021, df_p1_2018])"
   ]
  },
  {
   "cell_type": "markdown",
   "metadata": {},
   "source": [
    "### Segunda pregunta\n",
    "\n",
    "Para responder a esta pregunta haremos un pair plot para cada variable de los dataframes awards y tenderers, exceptuando is_supplier puesto que este valor depende de si hay o no ofertante y las columnas comunes entre los dataframe que se utilizarán solo una vez, y observaremos si hay alguna relación tentativa, en base a estas observaciones crearemos una matríz de correlación que graficaremos en un heatmap y teniendo esta información intentaremos plantear un predictor de duración de licitaciones."
   ]
  },
  {
   "cell_type": "code",
   "execution_count": null,
   "metadata": {},
   "outputs": [],
   "source": []
  },
  {
   "cell_type": "code",
   "execution_count": null,
   "metadata": {},
   "outputs": [],
   "source": []
  },
  {
   "cell_type": "code",
   "execution_count": null,
   "metadata": {},
   "outputs": [],
   "source": []
  },
  {
   "cell_type": "markdown",
   "metadata": {},
   "source": [
    "### Tercera Pregunta\n",
    "\n",
    "Para responder esta pregunta se usara la información de tenderers, como valor de servicio estatal se utilizará la columna <sector> y como indicador de respuesta, la cantidad de tenderers <Has_tender> y la cantidad de suppliers <is_supplier> ,la cantidad de licitaciones del tipo selective en <procurementMethod> y el tipo en <procurement_details>, puesto que según el reglamento de la ley 19886 articulo 10, las licitaciones de tipo privada/selective ocurren cuando no sepresentan concursantes al llamado de licitación pública/open, se utilizarán countplots y tablas de datos agrupados para cada valor a revisarse, se revisaran los valores para cada año, y se buscará establecer una generalidad para ambos, en caso de no ser posible se entregarán respuestas por cada año."
   ]
  },
  {
   "cell_type": "code",
   "execution_count": null,
   "metadata": {},
   "outputs": [],
   "source": []
  },
  {
   "cell_type": "code",
   "execution_count": null,
   "metadata": {},
   "outputs": [],
   "source": []
  },
  {
   "cell_type": "code",
   "execution_count": null,
   "metadata": {},
   "outputs": [],
   "source": []
  },
  {
   "cell_type": "code",
   "execution_count": null,
   "metadata": {},
   "outputs": [],
   "source": []
  },
  {
   "cell_type": "code",
   "execution_count": null,
   "metadata": {},
   "outputs": [],
   "source": []
  },
  {
   "cell_type": "markdown",
   "metadata": {},
   "source": [
    "### Cuarta Pregunta\n",
    "\n",
    "Se utilizarán la columna \"sector\", para determinar el área estatal de cada licitación, \"tender_tenderPeriod_startDate\" para la fecha de inicio de la licitación y \"value_amount\" como monto, se utilizará groupby y counplots/barplots para revisar patrones, se buscará plantear una respuesta general para los años revisados, en caso de no ser posible se dará una respuesta para cada año y un contraste entre los patrones."
   ]
  },
  {
   "cell_type": "code",
   "execution_count": null,
   "metadata": {},
   "outputs": [
    {
     "data": {
      "text/html": [
       "<div>\n",
       "<style scoped>\n",
       "    .dataframe tbody tr th:only-of-type {\n",
       "        vertical-align: middle;\n",
       "    }\n",
       "\n",
       "    .dataframe tbody tr th {\n",
       "        vertical-align: top;\n",
       "    }\n",
       "\n",
       "    .dataframe thead th {\n",
       "        text-align: right;\n",
       "    }\n",
       "</style>\n",
       "<table border=\"1\" class=\"dataframe\">\n",
       "  <thead>\n",
       "    <tr style=\"text-align: right;\">\n",
       "      <th></th>\n",
       "      <th>_link_x</th>\n",
       "      <th>initiationType</th>\n",
       "      <th>tender_id</th>\n",
       "      <th>procurement_details</th>\n",
       "      <th>tender_status</th>\n",
       "      <th>procurementMethod</th>\n",
       "      <th>tender_hasEnquiries</th>\n",
       "      <th>tender_awardPeriod_endDate</th>\n",
       "      <th>tender_awardPeriod_startDate</th>\n",
       "      <th>tender_awardPeriod_durationInDays</th>\n",
       "      <th>...</th>\n",
       "      <th>value_monetary_unit</th>\n",
       "      <th>id</th>\n",
       "      <th>quantity</th>\n",
       "      <th>unit_name</th>\n",
       "      <th>unit_value_amount</th>\n",
       "      <th>classification_id</th>\n",
       "      <th>unit_value_monetary_unit</th>\n",
       "      <th>Nombre Segmento</th>\n",
       "      <th>Código Producto</th>\n",
       "      <th>Nombre Producto</th>\n",
       "    </tr>\n",
       "  </thead>\n",
       "  <tbody>\n",
       "    <tr>\n",
       "      <th>0</th>\n",
       "      <td>id-0.0</td>\n",
       "      <td>tender</td>\n",
       "      <td>4548-142-L117</td>\n",
       "      <td>L1</td>\n",
       "      <td>complete</td>\n",
       "      <td>open</td>\n",
       "      <td>False</td>\n",
       "      <td>2017-12-15 18:05:00</td>\n",
       "      <td>2017-12-13 09:03:00</td>\n",
       "      <td>2.376389</td>\n",
       "      <td>...</td>\n",
       "      <td>CLP</td>\n",
       "      <td>36425198.0</td>\n",
       "      <td>1.0</td>\n",
       "      <td>Unidad</td>\n",
       "      <td>690000.0</td>\n",
       "      <td>60141012.0</td>\n",
       "      <td>CLP</td>\n",
       "      <td>Instrumentos Musicales, Juegos, Juguetes, Arte...</td>\n",
       "      <td>60141012.0</td>\n",
       "      <td>Juguetes inflables</td>\n",
       "    </tr>\n",
       "    <tr>\n",
       "      <th>1</th>\n",
       "      <td>id-0.1</td>\n",
       "      <td>tender</td>\n",
       "      <td>2409-1129-L117</td>\n",
       "      <td>L1</td>\n",
       "      <td>unsuccessful</td>\n",
       "      <td>open</td>\n",
       "      <td>False</td>\n",
       "      <td>2018-01-25 11:35:00</td>\n",
       "      <td>2017-12-26 15:31:00</td>\n",
       "      <td>29.836111</td>\n",
       "      <td>...</td>\n",
       "      <td>NaN</td>\n",
       "      <td>NaN</td>\n",
       "      <td>NaN</td>\n",
       "      <td>NaN</td>\n",
       "      <td>NaN</td>\n",
       "      <td>NaN</td>\n",
       "      <td>NaN</td>\n",
       "      <td>NaN</td>\n",
       "      <td>NaN</td>\n",
       "      <td>NaN</td>\n",
       "    </tr>\n",
       "    <tr>\n",
       "      <th>2</th>\n",
       "      <td>id-0.2</td>\n",
       "      <td>tender</td>\n",
       "      <td>2961-811-L117</td>\n",
       "      <td>L1</td>\n",
       "      <td>complete</td>\n",
       "      <td>open</td>\n",
       "      <td>False</td>\n",
       "      <td>2018-02-02 19:38:00</td>\n",
       "      <td>2018-01-02 17:00:00</td>\n",
       "      <td>31.109722</td>\n",
       "      <td>...</td>\n",
       "      <td>CLP</td>\n",
       "      <td>36451829.0</td>\n",
       "      <td>1.0</td>\n",
       "      <td>Unidad</td>\n",
       "      <td>870000.0</td>\n",
       "      <td>30171501.0</td>\n",
       "      <td>CLP</td>\n",
       "      <td>Componentes y Suministros para Estructuras, Ed...</td>\n",
       "      <td>30171501.0</td>\n",
       "      <td>Puertas de cristal</td>\n",
       "    </tr>\n",
       "    <tr>\n",
       "      <th>3</th>\n",
       "      <td>id-0.3</td>\n",
       "      <td>tender</td>\n",
       "      <td>4858-195-L117</td>\n",
       "      <td>L1</td>\n",
       "      <td>unsuccessful</td>\n",
       "      <td>open</td>\n",
       "      <td>False</td>\n",
       "      <td>2017-12-26 15:53:00</td>\n",
       "      <td>2017-12-21 10:03:00</td>\n",
       "      <td>5.243056</td>\n",
       "      <td>...</td>\n",
       "      <td>NaN</td>\n",
       "      <td>NaN</td>\n",
       "      <td>NaN</td>\n",
       "      <td>NaN</td>\n",
       "      <td>NaN</td>\n",
       "      <td>NaN</td>\n",
       "      <td>NaN</td>\n",
       "      <td>NaN</td>\n",
       "      <td>NaN</td>\n",
       "      <td>NaN</td>\n",
       "    </tr>\n",
       "    <tr>\n",
       "      <th>4</th>\n",
       "      <td>id-0.4</td>\n",
       "      <td>tender</td>\n",
       "      <td>2409-975-LE17</td>\n",
       "      <td>LE</td>\n",
       "      <td>complete</td>\n",
       "      <td>open</td>\n",
       "      <td>True</td>\n",
       "      <td>2017-12-14 16:55:00</td>\n",
       "      <td>2017-12-11 16:30:00</td>\n",
       "      <td>3.017361</td>\n",
       "      <td>...</td>\n",
       "      <td>CLP</td>\n",
       "      <td>36342031.0</td>\n",
       "      <td>1.0</td>\n",
       "      <td>Unidad</td>\n",
       "      <td>6000000.0</td>\n",
       "      <td>86141501.0</td>\n",
       "      <td>CLP</td>\n",
       "      <td>Servicios Educativos y de Formación</td>\n",
       "      <td>86141501.0</td>\n",
       "      <td>Servicios de asesorías educativas</td>\n",
       "    </tr>\n",
       "    <tr>\n",
       "      <th>5</th>\n",
       "      <td>id-0.5</td>\n",
       "      <td>tender</td>\n",
       "      <td>4834-32-L117</td>\n",
       "      <td>L1</td>\n",
       "      <td>complete</td>\n",
       "      <td>open</td>\n",
       "      <td>True</td>\n",
       "      <td>2017-12-29 16:00:00</td>\n",
       "      <td>2017-12-28 12:02:00</td>\n",
       "      <td>1.165278</td>\n",
       "      <td>...</td>\n",
       "      <td>CLP</td>\n",
       "      <td>36460630.0</td>\n",
       "      <td>4.0</td>\n",
       "      <td>Unidad</td>\n",
       "      <td>4995.0</td>\n",
       "      <td>30102201.0</td>\n",
       "      <td>CLP</td>\n",
       "      <td>Componentes y Suministros para Estructuras, Ed...</td>\n",
       "      <td>30102201.0</td>\n",
       "      <td>Placa de aleación ferrosa</td>\n",
       "    </tr>\n",
       "    <tr>\n",
       "      <th>6</th>\n",
       "      <td>id-0.5</td>\n",
       "      <td>tender</td>\n",
       "      <td>4834-32-L117</td>\n",
       "      <td>L1</td>\n",
       "      <td>complete</td>\n",
       "      <td>open</td>\n",
       "      <td>True</td>\n",
       "      <td>2017-12-29 16:00:00</td>\n",
       "      <td>2017-12-28 12:02:00</td>\n",
       "      <td>1.165278</td>\n",
       "      <td>...</td>\n",
       "      <td>CLP</td>\n",
       "      <td>36460632.0</td>\n",
       "      <td>4.0</td>\n",
       "      <td>Kit</td>\n",
       "      <td>4538.0</td>\n",
       "      <td>49161604.0</td>\n",
       "      <td>CLP</td>\n",
       "      <td>Equipos, Suministros y Accesorios para Deporte...</td>\n",
       "      <td>49161604.0</td>\n",
       "      <td>Pelotas de tenis</td>\n",
       "    </tr>\n",
       "  </tbody>\n",
       "</table>\n",
       "<p>7 rows × 41 columns</p>\n",
       "</div>"
      ],
      "text/plain": [
       "  _link_x initiationType       tender_id procurement_details tender_status  \\\n",
       "0  id-0.0         tender   4548-142-L117                  L1      complete   \n",
       "1  id-0.1         tender  2409-1129-L117                  L1  unsuccessful   \n",
       "2  id-0.2         tender   2961-811-L117                  L1      complete   \n",
       "3  id-0.3         tender   4858-195-L117                  L1  unsuccessful   \n",
       "4  id-0.4         tender   2409-975-LE17                  LE      complete   \n",
       "5  id-0.5         tender    4834-32-L117                  L1      complete   \n",
       "6  id-0.5         tender    4834-32-L117                  L1      complete   \n",
       "\n",
       "  procurementMethod  tender_hasEnquiries tender_awardPeriod_endDate  \\\n",
       "0              open                False        2017-12-15 18:05:00   \n",
       "1              open                False        2018-01-25 11:35:00   \n",
       "2              open                False        2018-02-02 19:38:00   \n",
       "3              open                False        2017-12-26 15:53:00   \n",
       "4              open                 True        2017-12-14 16:55:00   \n",
       "5              open                 True        2017-12-29 16:00:00   \n",
       "6              open                 True        2017-12-29 16:00:00   \n",
       "\n",
       "  tender_awardPeriod_startDate  tender_awardPeriod_durationInDays  ...  \\\n",
       "0          2017-12-13 09:03:00                           2.376389  ...   \n",
       "1          2017-12-26 15:31:00                          29.836111  ...   \n",
       "2          2018-01-02 17:00:00                          31.109722  ...   \n",
       "3          2017-12-21 10:03:00                           5.243056  ...   \n",
       "4          2017-12-11 16:30:00                           3.017361  ...   \n",
       "5          2017-12-28 12:02:00                           1.165278  ...   \n",
       "6          2017-12-28 12:02:00                           1.165278  ...   \n",
       "\n",
       "  value_monetary_unit          id  quantity unit_name unit_value_amount  \\\n",
       "0                 CLP  36425198.0       1.0    Unidad          690000.0   \n",
       "1                 NaN         NaN       NaN       NaN               NaN   \n",
       "2                 CLP  36451829.0       1.0    Unidad          870000.0   \n",
       "3                 NaN         NaN       NaN       NaN               NaN   \n",
       "4                 CLP  36342031.0       1.0    Unidad         6000000.0   \n",
       "5                 CLP  36460630.0       4.0    Unidad            4995.0   \n",
       "6                 CLP  36460632.0       4.0       Kit            4538.0   \n",
       "\n",
       "   classification_id  unit_value_monetary_unit  \\\n",
       "0         60141012.0                       CLP   \n",
       "1                NaN                       NaN   \n",
       "2         30171501.0                       CLP   \n",
       "3                NaN                       NaN   \n",
       "4         86141501.0                       CLP   \n",
       "5         30102201.0                       CLP   \n",
       "6         49161604.0                       CLP   \n",
       "\n",
       "                                     Nombre Segmento  Código Producto  \\\n",
       "0  Instrumentos Musicales, Juegos, Juguetes, Arte...       60141012.0   \n",
       "1                                                NaN              NaN   \n",
       "2  Componentes y Suministros para Estructuras, Ed...       30171501.0   \n",
       "3                                                NaN              NaN   \n",
       "4                Servicios Educativos y de Formación       86141501.0   \n",
       "5  Componentes y Suministros para Estructuras, Ed...       30102201.0   \n",
       "6  Equipos, Suministros y Accesorios para Deporte...       49161604.0   \n",
       "\n",
       "                      Nombre Producto  \n",
       "0                  Juguetes inflables  \n",
       "1                                 NaN  \n",
       "2                  Puertas de cristal  \n",
       "3                                 NaN  \n",
       "4  Servicios de asesorías educativas   \n",
       "5           Placa de aleación ferrosa  \n",
       "6                    Pelotas de tenis  \n",
       "\n",
       "[7 rows x 41 columns]"
      ]
     },
     "execution_count": 39,
     "metadata": {},
     "output_type": "execute_result"
    }
   ],
   "source": [
    "award_2018.head(7)"
   ]
  },
  {
   "cell_type": "code",
   "execution_count": null,
   "metadata": {},
   "outputs": [
    {
     "data": {
      "text/plain": [
       "Index(['_link_x', 'initiationType', 'tender_id', 'procurement_details',\n",
       "       'tender_status', 'procurementMethod', 'tender_hasEnquiries',\n",
       "       'tender_awardPeriod_endDate', 'tender_awardPeriod_startDate',\n",
       "       'tender_awardPeriod_durationInDays', 'tender_tenderPeriod_endDate',\n",
       "       'tender_tenderPeriod_startDate', 'tender_tenderPeriod_durationInDays',\n",
       "       'tender_enquiryPeriod_endDate', 'tender_enquiryPeriod_startDate',\n",
       "       'tender_enquiryPeriod_durationInDays', 'estimated_cost',\n",
       "       'estimated_cost_monetary_unit', 'buyer_id', 'buyer_name',\n",
       "       'buyer_region', 'identifier_id', 'buyer_legalName', 'sector',\n",
       "       'Codigo Unidad de Compra', 'Unidad de Compra', '_link_y',\n",
       "       '_link_main_x', 'date', 'status', 'value_amount', 'value_monetary_unit',\n",
       "       'id', 'quantity', 'unit_name', 'unit_value_amount', 'classification_id',\n",
       "       'unit_value_monetary_unit', 'Nombre Segmento', 'Código Producto',\n",
       "       'Nombre Producto'],\n",
       "      dtype='object')"
      ]
     },
     "execution_count": 40,
     "metadata": {},
     "output_type": "execute_result"
    }
   ],
   "source": [
    "award_2018.columns"
   ]
  },
  {
   "cell_type": "code",
   "execution_count": null,
   "metadata": {},
   "outputs": [
    {
     "data": {
      "text/plain": [
       "array([  690000.,   870000.,  6000000., ..., 92418000.,  1245050.,\n",
       "         441071.])"
      ]
     },
     "execution_count": 65,
     "metadata": {},
     "output_type": "execute_result"
    }
   ],
   "source": [
    "df_necesario_monto = award_2018[['tender_id', 'value_amount','unit_value_monetary_unit',\"sector\"]]\n",
    "df_necesario_monto = df_necesario_monto.loc[df_necesario_monto['unit_value_monetary_unit'] == \"CLP\"]\n",
    "df_necesario_monto.drop_duplicates(keep=\"first\", inplace=True)\n",
    "df_necesario_monto.dropna(inplace=True)"
   ]
  },
  {
   "cell_type": "code",
   "execution_count": null,
   "metadata": {},
   "outputs": [],
   "source": [
    "df_sector_2018_monto_total = df_necesario_monto.groupby(by=\"sector\").agg({\"value_amount\":\"sum\"}).reset_index()\n",
    "df_sector_2018_monto_total.rename(columns={\"value_amount\": \"amount_total_2018\"}, inplace=True)"
   ]
  },
  {
   "cell_type": "code",
   "execution_count": null,
   "metadata": {},
   "outputs": [],
   "source": [
    "df_sector_2018_monto_media = df_necesario_monto.groupby(by=\"sector\").agg({\"value_amount\":\"mean\"}).reset_index()\n",
    "df_sector_2018_monto_media.rename(columns={\"value_amount\": \"amount_2018_media\"}, inplace=True)"
   ]
  },
  {
   "cell_type": "code",
   "execution_count": null,
   "metadata": {},
   "outputs": [],
   "source": [
    "df_necesario_monto_21 = award_2021[['tender_id', 'value_amount','unit_value_monetary_unit',\"sector\"]]\n",
    "df_necesario_monto_21 = df_necesario_monto_21.loc[df_necesario_monto_21['unit_value_monetary_unit'] == \"CLP\"]\n",
    "df_necesario_monto_21.drop_duplicates(keep=\"first\", inplace=True)\n",
    "df_necesario_monto_21.dropna(inplace=True)"
   ]
  },
  {
   "cell_type": "code",
   "execution_count": null,
   "metadata": {},
   "outputs": [],
   "source": [
    "df_sector_2021_monto_total = df_necesario_monto_21.groupby(by=\"sector\").agg({\"value_amount\":\"sum\"}).reset_index()\n",
    "df_sector_2021_monto_total.rename(columns={\"value_amount\": \"amount_total_2021\"}, inplace=True)"
   ]
  },
  {
   "cell_type": "code",
   "execution_count": null,
   "metadata": {},
   "outputs": [],
   "source": [
    "df_sector_2021_monto_media = df_necesario_monto_21.groupby(by=\"sector\").agg({\"value_amount\":\"mean\"}).reset_index()\n",
    "df_sector_2021_monto_media.rename(columns={\"value_amount\": \"amount_2021_media\"}, inplace=True)"
   ]
  },
  {
   "cell_type": "code",
   "execution_count": null,
   "metadata": {},
   "outputs": [],
   "source": [
    "df_monto_sector_media = df_sector_2018_monto_media.merge(df_sector_2021_monto_media, on=\"sector\")\n",
    "df_monto_sector_total = df_sector_2018_monto_total.merge(df_sector_2021_monto_total, on=\"sector\")\n",
    "df_sector_monto = df_monto_sector_media.merge(df_monto_sector_total, on=\"sector\")\n",
    "df_sector_monto[\"amount_2018_media\"] = df_sector_monto[\"amount_2018_media\"].astype(\"float\")\n",
    "df_sector_monto[\"amount_2021_media\"] = df_sector_monto[\"amount_2021_media\"].astype(\"float\")\n",
    "df_sector_monto[\"amount_total_2018\"] = df_sector_monto[\"amount_total_2018\"].astype(\"float\")\n",
    "df_sector_monto[\"amount_total_2021\"] = df_sector_monto[\"amount_total_2021\"].astype(\"float\")"
   ]
  },
  {
   "cell_type": "code",
   "execution_count": null,
   "metadata": {},
   "outputs": [
    {
     "data": {
      "text/html": [
       "<div>\n",
       "<style scoped>\n",
       "    .dataframe tbody tr th:only-of-type {\n",
       "        vertical-align: middle;\n",
       "    }\n",
       "\n",
       "    .dataframe tbody tr th {\n",
       "        vertical-align: top;\n",
       "    }\n",
       "\n",
       "    .dataframe thead th {\n",
       "        text-align: right;\n",
       "    }\n",
       "</style>\n",
       "<table border=\"1\" class=\"dataframe\">\n",
       "  <thead>\n",
       "    <tr style=\"text-align: right;\">\n",
       "      <th></th>\n",
       "      <th>sector</th>\n",
       "      <th>amount_2018_media</th>\n",
       "      <th>amount_2021_media</th>\n",
       "      <th>amount_total_2018</th>\n",
       "      <th>amount_total_2021</th>\n",
       "    </tr>\n",
       "  </thead>\n",
       "  <tbody>\n",
       "    <tr>\n",
       "      <th>0</th>\n",
       "      <td>FFAA</td>\n",
       "      <td>8.305159e+06</td>\n",
       "      <td>3.357472e+12</td>\n",
       "      <td>1.078010e+10</td>\n",
       "      <td>1.542087e+16</td>\n",
       "    </tr>\n",
       "    <tr>\n",
       "      <th>1</th>\n",
       "      <td>GOB. CENTRAL, UNIVERSIDADES</td>\n",
       "      <td>2.134754e+12</td>\n",
       "      <td>3.910448e+10</td>\n",
       "      <td>4.192657e+15</td>\n",
       "      <td>2.787759e+14</td>\n",
       "    </tr>\n",
       "    <tr>\n",
       "      <th>2</th>\n",
       "      <td>LEGISLATIVO Y JUDICIAL</td>\n",
       "      <td>1.118787e+07</td>\n",
       "      <td>9.059095e+06</td>\n",
       "      <td>1.857186e+09</td>\n",
       "      <td>2.074533e+09</td>\n",
       "    </tr>\n",
       "    <tr>\n",
       "      <th>3</th>\n",
       "      <td>MUNICIPALIDADES</td>\n",
       "      <td>1.074644e+10</td>\n",
       "      <td>1.510406e+11</td>\n",
       "      <td>1.174156e+14</td>\n",
       "      <td>3.780093e+15</td>\n",
       "    </tr>\n",
       "    <tr>\n",
       "      <th>4</th>\n",
       "      <td>OBRAS P�BLICAS</td>\n",
       "      <td>6.708189e+07</td>\n",
       "      <td>9.115376e+07</td>\n",
       "      <td>3.669379e+10</td>\n",
       "      <td>1.602483e+11</td>\n",
       "    </tr>\n",
       "    <tr>\n",
       "      <th>5</th>\n",
       "      <td>OTROS</td>\n",
       "      <td>1.107623e+07</td>\n",
       "      <td>1.995570e+08</td>\n",
       "      <td>2.248474e+09</td>\n",
       "      <td>8.441259e+10</td>\n",
       "    </tr>\n",
       "    <tr>\n",
       "      <th>6</th>\n",
       "      <td>SALUD</td>\n",
       "      <td>4.156408e+07</td>\n",
       "      <td>3.320780e+07</td>\n",
       "      <td>1.025801e+11</td>\n",
       "      <td>3.172673e+11</td>\n",
       "    </tr>\n",
       "  </tbody>\n",
       "</table>\n",
       "</div>"
      ],
      "text/plain": [
       "                        sector  amount_2018_media  amount_2021_media  \\\n",
       "0                         FFAA       8.305159e+06       3.357472e+12   \n",
       "1  GOB. CENTRAL, UNIVERSIDADES       2.134754e+12       3.910448e+10   \n",
       "2       LEGISLATIVO Y JUDICIAL       1.118787e+07       9.059095e+06   \n",
       "3              MUNICIPALIDADES       1.074644e+10       1.510406e+11   \n",
       "4               OBRAS P�BLICAS       6.708189e+07       9.115376e+07   \n",
       "5                        OTROS       1.107623e+07       1.995570e+08   \n",
       "6                        SALUD       4.156408e+07       3.320780e+07   \n",
       "\n",
       "   amount_total_2018  amount_total_2021  \n",
       "0       1.078010e+10       1.542087e+16  \n",
       "1       4.192657e+15       2.787759e+14  \n",
       "2       1.857186e+09       2.074533e+09  \n",
       "3       1.174156e+14       3.780093e+15  \n",
       "4       3.669379e+10       1.602483e+11  \n",
       "5       2.248474e+09       8.441259e+10  \n",
       "6       1.025801e+11       3.172673e+11  "
      ]
     },
     "execution_count": 67,
     "metadata": {},
     "output_type": "execute_result"
    }
   ],
   "source": [
    "df_sector_monto"
   ]
  },
  {
   "cell_type": "code",
   "execution_count": null,
   "metadata": {},
   "outputs": [],
   "source": []
  },
  {
   "cell_type": "code",
   "execution_count": null,
   "metadata": {},
   "outputs": [],
   "source": []
  },
  {
   "cell_type": "code",
   "execution_count": null,
   "metadata": {},
   "outputs": [],
   "source": []
  },
  {
   "cell_type": "markdown",
   "metadata": {},
   "source": [
    "### Quinta pregunta\n",
    "\n",
    "Se utilizarán datos de <https://www.bcn.cl/siit/mapas_vectoriales/index_html> para armar mapas de calor de la cantidad de licitaciones de los tipos presentes en <procurement_details> realizadas por región de Chile <buyer_region> según cada año y en conjunto."
   ]
  },
  {
   "cell_type": "code",
   "execution_count": null,
   "metadata": {},
   "outputs": [],
   "source": [
    "import geopandas as gp"
   ]
  },
  {
   "cell_type": "code",
   "execution_count": null,
   "metadata": {},
   "outputs": [
    {
     "data": {
      "text/html": [
       "<div>\n",
       "<style scoped>\n",
       "    .dataframe tbody tr th:only-of-type {\n",
       "        vertical-align: middle;\n",
       "    }\n",
       "\n",
       "    .dataframe tbody tr th {\n",
       "        vertical-align: top;\n",
       "    }\n",
       "\n",
       "    .dataframe thead th {\n",
       "        text-align: right;\n",
       "    }\n",
       "</style>\n",
       "<table border=\"1\" class=\"dataframe\">\n",
       "  <thead>\n",
       "    <tr style=\"text-align: right;\">\n",
       "      <th></th>\n",
       "      <th>objectid</th>\n",
       "      <th>cir_sena</th>\n",
       "      <th>codregion</th>\n",
       "      <th>area_km</th>\n",
       "      <th>st_area_sh</th>\n",
       "      <th>st_length_</th>\n",
       "      <th>Region</th>\n",
       "      <th>geometry</th>\n",
       "    </tr>\n",
       "  </thead>\n",
       "  <tbody>\n",
       "    <tr>\n",
       "      <th>0</th>\n",
       "      <td>1084</td>\n",
       "      <td>1</td>\n",
       "      <td>15</td>\n",
       "      <td>16866.819844</td>\n",
       "      <td>1.886869e+10</td>\n",
       "      <td>7.505296e+05</td>\n",
       "      <td>Región de Arica y Parinacota</td>\n",
       "      <td>POLYGON ((-7727277.278 -1997230.768, -7726464....</td>\n",
       "    </tr>\n",
       "    <tr>\n",
       "      <th>1</th>\n",
       "      <td>1085</td>\n",
       "      <td>2</td>\n",
       "      <td>1</td>\n",
       "      <td>42284.567484</td>\n",
       "      <td>4.830637e+10</td>\n",
       "      <td>1.213713e+06</td>\n",
       "      <td>Región de Tarapacá</td>\n",
       "      <td>MULTIPOLYGON (((-7810213.515 -2298008.280, -78...</td>\n",
       "    </tr>\n",
       "    <tr>\n",
       "      <th>2</th>\n",
       "      <td>1086</td>\n",
       "      <td>3</td>\n",
       "      <td>2</td>\n",
       "      <td>126071.431981</td>\n",
       "      <td>1.508452e+11</td>\n",
       "      <td>2.516112e+06</td>\n",
       "      <td>Región de Antofagasta</td>\n",
       "      <td>MULTIPOLYGON (((-7870470.961 -2985679.186, -78...</td>\n",
       "    </tr>\n",
       "    <tr>\n",
       "      <th>3</th>\n",
       "      <td>1087</td>\n",
       "      <td>15</td>\n",
       "      <td>12</td>\n",
       "      <td>133053.142345</td>\n",
       "      <td>3.581316e+11</td>\n",
       "      <td>9.049830e+07</td>\n",
       "      <td>Región de Magallanes y Antártica Chilena</td>\n",
       "      <td>MULTIPOLYGON (((-7494057.535 -7542535.383, -74...</td>\n",
       "    </tr>\n",
       "    <tr>\n",
       "      <th>4</th>\n",
       "      <td>1088</td>\n",
       "      <td>14</td>\n",
       "      <td>11</td>\n",
       "      <td>106703.377369</td>\n",
       "      <td>2.242743e+11</td>\n",
       "      <td>4.144481e+07</td>\n",
       "      <td>Región de Aysén del Gral.Ibañez del Campo</td>\n",
       "      <td>MULTIPOLYGON (((-8413517.696 -6234055.255, -84...</td>\n",
       "    </tr>\n",
       "    <tr>\n",
       "      <th>5</th>\n",
       "      <td>1089</td>\n",
       "      <td>4</td>\n",
       "      <td>3</td>\n",
       "      <td>75661.248635</td>\n",
       "      <td>9.643906e+10</td>\n",
       "      <td>2.401741e+06</td>\n",
       "      <td>Región de Atacama</td>\n",
       "      <td>MULTIPOLYGON (((-7932747.769 -3311218.615, -79...</td>\n",
       "    </tr>\n",
       "    <tr>\n",
       "      <th>6</th>\n",
       "      <td>1090</td>\n",
       "      <td>5</td>\n",
       "      <td>4</td>\n",
       "      <td>40575.901682</td>\n",
       "      <td>5.498082e+10</td>\n",
       "      <td>2.065933e+06</td>\n",
       "      <td>Región de Coquimbo</td>\n",
       "      <td>MULTIPOLYGON (((-7963268.900 -3784870.143, -79...</td>\n",
       "    </tr>\n",
       "    <tr>\n",
       "      <th>7</th>\n",
       "      <td>1091</td>\n",
       "      <td>6</td>\n",
       "      <td>5</td>\n",
       "      <td>16322.970393</td>\n",
       "      <td>2.301475e+10</td>\n",
       "      <td>1.679609e+06</td>\n",
       "      <td>Región de Valparaíso</td>\n",
       "      <td>MULTIPOLYGON (((-8991645.917 -3991821.789, -89...</td>\n",
       "    </tr>\n",
       "    <tr>\n",
       "      <th>8</th>\n",
       "      <td>1092</td>\n",
       "      <td>7</td>\n",
       "      <td>13</td>\n",
       "      <td>15392.030737</td>\n",
       "      <td>2.225204e+10</td>\n",
       "      <td>1.064253e+06</td>\n",
       "      <td>Región Metropolitana de Santiago</td>\n",
       "      <td>POLYGON ((-7873736.745 -3885505.642, -7873695....</td>\n",
       "    </tr>\n",
       "    <tr>\n",
       "      <th>9</th>\n",
       "      <td>1093</td>\n",
       "      <td>13</td>\n",
       "      <td>10</td>\n",
       "      <td>48408.371357</td>\n",
       "      <td>8.771834e+10</td>\n",
       "      <td>7.874158e+06</td>\n",
       "      <td>Región de Los Lagos</td>\n",
       "      <td>MULTIPOLYGON (((-8331768.181 -5403721.402, -83...</td>\n",
       "    </tr>\n",
       "    <tr>\n",
       "      <th>10</th>\n",
       "      <td>1094</td>\n",
       "      <td>12</td>\n",
       "      <td>14</td>\n",
       "      <td>18245.080563</td>\n",
       "      <td>3.108661e+10</td>\n",
       "      <td>1.844423e+06</td>\n",
       "      <td>Región de Los Ríos</td>\n",
       "      <td>MULTIPOLYGON (((-8206761.210 -4900095.562, -82...</td>\n",
       "    </tr>\n",
       "    <tr>\n",
       "      <th>11</th>\n",
       "      <td>1095</td>\n",
       "      <td>11</td>\n",
       "      <td>9</td>\n",
       "      <td>31837.567634</td>\n",
       "      <td>5.221507e+10</td>\n",
       "      <td>1.501025e+06</td>\n",
       "      <td>Región de La Araucanía</td>\n",
       "      <td>POLYGON ((-8101075.126 -4521676.016, -8101101....</td>\n",
       "    </tr>\n",
       "    <tr>\n",
       "      <th>12</th>\n",
       "      <td>1096</td>\n",
       "      <td>10</td>\n",
       "      <td>8</td>\n",
       "      <td>24021.621594</td>\n",
       "      <td>3.817612e+10</td>\n",
       "      <td>2.097147e+06</td>\n",
       "      <td>Región del Bío-Bío</td>\n",
       "      <td>MULTIPOLYGON (((-8231985.748 -4624218.142, -82...</td>\n",
       "    </tr>\n",
       "    <tr>\n",
       "      <th>13</th>\n",
       "      <td>1097</td>\n",
       "      <td>10</td>\n",
       "      <td>16</td>\n",
       "      <td>13104.413231</td>\n",
       "      <td>2.037630e+10</td>\n",
       "      <td>1.074094e+06</td>\n",
       "      <td>Región de Ñuble</td>\n",
       "      <td>POLYGON ((-8053806.540 -4431488.942, -8053866....</td>\n",
       "    </tr>\n",
       "    <tr>\n",
       "      <th>14</th>\n",
       "      <td>1098</td>\n",
       "      <td>9</td>\n",
       "      <td>7</td>\n",
       "      <td>30321.890658</td>\n",
       "      <td>4.596943e+10</td>\n",
       "      <td>1.388328e+06</td>\n",
       "      <td>Región del Maule</td>\n",
       "      <td>POLYGON ((-8018823.211 -4121471.456, -8018820....</td>\n",
       "    </tr>\n",
       "    <tr>\n",
       "      <th>15</th>\n",
       "      <td>1099</td>\n",
       "      <td>8</td>\n",
       "      <td>6</td>\n",
       "      <td>16349.029957</td>\n",
       "      <td>2.409028e+10</td>\n",
       "      <td>9.848526e+05</td>\n",
       "      <td>Región del Libertador Bernardo O'Higgins</td>\n",
       "      <td>MULTIPOLYGON (((-8002300.862 -4023671.372, -80...</td>\n",
       "    </tr>\n",
       "    <tr>\n",
       "      <th>16</th>\n",
       "      <td>1100</td>\n",
       "      <td>0</td>\n",
       "      <td>0</td>\n",
       "      <td>3937.432096</td>\n",
       "      <td>9.306245e+09</td>\n",
       "      <td>3.887224e+05</td>\n",
       "      <td>Zona sin demarcar</td>\n",
       "      <td>POLYGON ((-8197676.045 -6303383.769, -8112196....</td>\n",
       "    </tr>\n",
       "  </tbody>\n",
       "</table>\n",
       "</div>"
      ],
      "text/plain": [
       "    objectid  cir_sena  codregion        area_km    st_area_sh    st_length_  \\\n",
       "0       1084         1         15   16866.819844  1.886869e+10  7.505296e+05   \n",
       "1       1085         2          1   42284.567484  4.830637e+10  1.213713e+06   \n",
       "2       1086         3          2  126071.431981  1.508452e+11  2.516112e+06   \n",
       "3       1087        15         12  133053.142345  3.581316e+11  9.049830e+07   \n",
       "4       1088        14         11  106703.377369  2.242743e+11  4.144481e+07   \n",
       "5       1089         4          3   75661.248635  9.643906e+10  2.401741e+06   \n",
       "6       1090         5          4   40575.901682  5.498082e+10  2.065933e+06   \n",
       "7       1091         6          5   16322.970393  2.301475e+10  1.679609e+06   \n",
       "8       1092         7         13   15392.030737  2.225204e+10  1.064253e+06   \n",
       "9       1093        13         10   48408.371357  8.771834e+10  7.874158e+06   \n",
       "10      1094        12         14   18245.080563  3.108661e+10  1.844423e+06   \n",
       "11      1095        11          9   31837.567634  5.221507e+10  1.501025e+06   \n",
       "12      1096        10          8   24021.621594  3.817612e+10  2.097147e+06   \n",
       "13      1097        10         16   13104.413231  2.037630e+10  1.074094e+06   \n",
       "14      1098         9          7   30321.890658  4.596943e+10  1.388328e+06   \n",
       "15      1099         8          6   16349.029957  2.409028e+10  9.848526e+05   \n",
       "16      1100         0          0    3937.432096  9.306245e+09  3.887224e+05   \n",
       "\n",
       "                                       Region  \\\n",
       "0                Región de Arica y Parinacota   \n",
       "1                          Región de Tarapacá   \n",
       "2                       Región de Antofagasta   \n",
       "3    Región de Magallanes y Antártica Chilena   \n",
       "4   Región de Aysén del Gral.Ibañez del Campo   \n",
       "5                           Región de Atacama   \n",
       "6                          Región de Coquimbo   \n",
       "7                        Región de Valparaíso   \n",
       "8            Región Metropolitana de Santiago   \n",
       "9                         Región de Los Lagos   \n",
       "10                         Región de Los Ríos   \n",
       "11                     Región de La Araucanía   \n",
       "12                         Región del Bío-Bío   \n",
       "13                            Región de Ñuble   \n",
       "14                           Región del Maule   \n",
       "15   Región del Libertador Bernardo O'Higgins   \n",
       "16                          Zona sin demarcar   \n",
       "\n",
       "                                             geometry  \n",
       "0   POLYGON ((-7727277.278 -1997230.768, -7726464....  \n",
       "1   MULTIPOLYGON (((-7810213.515 -2298008.280, -78...  \n",
       "2   MULTIPOLYGON (((-7870470.961 -2985679.186, -78...  \n",
       "3   MULTIPOLYGON (((-7494057.535 -7542535.383, -74...  \n",
       "4   MULTIPOLYGON (((-8413517.696 -6234055.255, -84...  \n",
       "5   MULTIPOLYGON (((-7932747.769 -3311218.615, -79...  \n",
       "6   MULTIPOLYGON (((-7963268.900 -3784870.143, -79...  \n",
       "7   MULTIPOLYGON (((-8991645.917 -3991821.789, -89...  \n",
       "8   POLYGON ((-7873736.745 -3885505.642, -7873695....  \n",
       "9   MULTIPOLYGON (((-8331768.181 -5403721.402, -83...  \n",
       "10  MULTIPOLYGON (((-8206761.210 -4900095.562, -82...  \n",
       "11  POLYGON ((-8101075.126 -4521676.016, -8101101....  \n",
       "12  MULTIPOLYGON (((-8231985.748 -4624218.142, -82...  \n",
       "13  POLYGON ((-8053806.540 -4431488.942, -8053866....  \n",
       "14  POLYGON ((-8018823.211 -4121471.456, -8018820....  \n",
       "15  MULTIPOLYGON (((-8002300.862 -4023671.372, -80...  \n",
       "16  POLYGON ((-8197676.045 -6303383.769, -8112196....  "
      ]
     },
     "execution_count": 50,
     "metadata": {},
     "output_type": "execute_result"
    }
   ],
   "source": [
    "camino_comunas = path.join(\"Datos y trabajo con muestras\",\"regiones\", \"Regional.shp\")\n",
    "df_regiones = gp.read_file(camino_comunas, driver='SHP')\n",
    "df_regiones"
   ]
  },
  {
   "cell_type": "markdown",
   "metadata": {},
   "source": [
    "#### 2018"
   ]
  },
  {
   "cell_type": "code",
   "execution_count": null,
   "metadata": {},
   "outputs": [
    {
     "data": {
      "text/plain": [
       "array(['L1', 'LE', 'LP', 'LR', 'LQ', nan, 'B2', 'H2', 'LS'], dtype=object)"
      ]
     },
     "execution_count": 51,
     "metadata": {},
     "output_type": "execute_result"
    }
   ],
   "source": [
    "award_2018[\"procurement_details\"].unique()"
   ]
  },
  {
   "cell_type": "code",
   "execution_count": null,
   "metadata": {},
   "outputs": [],
   "source": [
    "award_2018[\"buyer_region\"] = award_2018[\"buyer_region\"].astype(\"string\")"
   ]
  },
  {
   "cell_type": "code",
   "execution_count": null,
   "metadata": {},
   "outputs": [
    {
     "data": {
      "text/plain": [
       "<StringArray>\n",
       "[                           'Región de Valparaíso ',\n",
       "                               'Región del Biobío ',\n",
       "                 'Región Metropolitana de Santiago',\n",
       "                             'Región de los Lagos ',\n",
       "                     'Región de Arica y Parinacota',\n",
       "           'Región de Magallanes y de la Antártica',\n",
       "                                'Región del Maule ',\n",
       "                               'Región de Los Ríos',\n",
       "                          'Región de la Araucanía ',\n",
       " 'Región del Libertador General Bernardo O´Higgins',\n",
       "                               'Región de Atacama ',\n",
       "                             'Región de Tarapacá  ',\n",
       " 'Región Aysén del General Carlos Ibáñez del Campo',\n",
       "                           'Región de Antofagasta ',\n",
       "                              'Región de Coquimbo ',\n",
       "                                               <NA>]\n",
       "Length: 16, dtype: string"
      ]
     },
     "execution_count": 53,
     "metadata": {},
     "output_type": "execute_result"
    }
   ],
   "source": [
    "award_2018[\"buyer_region\"].unique()"
   ]
  },
  {
   "cell_type": "code",
   "execution_count": null,
   "metadata": {},
   "outputs": [],
   "source": [
    "df_5_2018 = award_2018.dropna(subset=[\"procurement_details\", \"buyer_region\"])\n",
    "df_5_2021 = award_2021.dropna(subset=[\"procurement_details\", \"buyer_region\"])\n",
    "df_p5 = pd.concat([df_5_2018, df_5_2021])"
   ]
  },
  {
   "cell_type": "code",
   "execution_count": null,
   "metadata": {},
   "outputs": [],
   "source": [
    "dic_regiones ={'Región de Valparaíso ': 5,'Región del Biobío ':8, 'Región Metropolitana de Santiago':13,'Región de los Lagos ':10,'Región de Arica y Parinacota':15,'Región de Magallanes y de la Antártica':12, 'Región del Maule ':7,'Región de Los Ríos':14,'Región de la Araucanía ':9,'Región del Libertador General Bernardo O´Higgins':6,'Región de Atacama ':3,'Región de Tarapacá  ':1,'Región Aysén del General Carlos Ibáñez del Campo':11,\n",
    "                           'Región de Antofagasta ':2,'Región de Coquimbo ':4}\n",
    "\n",
    "df_L1_2018 = df_p5.loc[df_p5[\"procurement_details\"] == \"L1\"][[\"buyer_region\"]]\n",
    "df_L1_2018[\"numero_region\"] = df_L1_2018[\"buyer_region\"].map(dic_regiones)\n",
    "\n",
    "df_LE_2018 = df_p5.loc[df_p5[\"procurement_details\"] == \"LE\"][[\"buyer_region\"]]\n",
    "df_LE_2018[\"numero_region\"] = df_LE_2018[\"buyer_region\"].map(dic_regiones)\n",
    "\n",
    "df_LP_2018 = df_p5.loc[df_p5[\"procurement_details\"] == \"LP\"][[\"buyer_region\"]]\n",
    "df_LP_2018[\"numero_region\"] = df_LP_2018[\"buyer_region\"].map(dic_regiones)\n",
    "\n",
    "df_LR_2018 = df_p5.loc[df_p5[\"procurement_details\"] == \"LR\"][[\"buyer_region\"]]\n",
    "df_LR_2018[\"numero_region\"] = df_LR_2018[\"buyer_region\"].map(dic_regiones)\n",
    "\n",
    "df_LQ_2018 = df_p5.loc[df_p5[\"procurement_details\"] == \"LQ\"][[\"buyer_region\"]]\n",
    "df_LQ_2018[\"numero_region\"] = df_LQ_2018[\"buyer_region\"].map(dic_regiones)\n",
    "\n",
    "df_B2_2018 = df_p5.loc[df_p5[\"procurement_details\"] == \"B2\"][[\"buyer_region\"]]\n",
    "df_B2_2018[\"numero_region\"] = df_B2_2018[\"buyer_region\"].map(dic_regiones)\n",
    "\n",
    "df_H2_2018 = df_p5.loc[df_p5[\"procurement_details\"] == \"H2\"][[\"buyer_region\"]]\n",
    "df_H2_2018[\"numero_region\"] = df_H2_2018[\"buyer_region\"].map(dic_regiones)\n",
    "\n",
    "df_LS_2018 = df_p5.loc[df_p5[\"procurement_details\"] == \"LS\"][[\"buyer_region\"]]\n",
    "df_LS_2018[\"numero_region\"] = df_LS_2018[\"buyer_region\"].map(dic_regiones)"
   ]
  },
  {
   "cell_type": "code",
   "execution_count": null,
   "metadata": {},
   "outputs": [
    {
     "data": {
      "text/html": [
       "<div>\n",
       "<style scoped>\n",
       "    .dataframe tbody tr th:only-of-type {\n",
       "        vertical-align: middle;\n",
       "    }\n",
       "\n",
       "    .dataframe tbody tr th {\n",
       "        vertical-align: top;\n",
       "    }\n",
       "\n",
       "    .dataframe thead th {\n",
       "        text-align: right;\n",
       "    }\n",
       "</style>\n",
       "<table border=\"1\" class=\"dataframe\">\n",
       "  <thead>\n",
       "    <tr style=\"text-align: right;\">\n",
       "      <th></th>\n",
       "      <th>buyer_region</th>\n",
       "      <th>numero_region</th>\n",
       "    </tr>\n",
       "  </thead>\n",
       "  <tbody>\n",
       "    <tr>\n",
       "      <th>64</th>\n",
       "      <td>Región de Valparaíso</td>\n",
       "      <td>5</td>\n",
       "    </tr>\n",
       "    <tr>\n",
       "      <th>98</th>\n",
       "      <td>Región Metropolitana de Santiago</td>\n",
       "      <td>13</td>\n",
       "    </tr>\n",
       "    <tr>\n",
       "      <th>99</th>\n",
       "      <td>Región Metropolitana de Santiago</td>\n",
       "      <td>13</td>\n",
       "    </tr>\n",
       "    <tr>\n",
       "      <th>100</th>\n",
       "      <td>Región Metropolitana de Santiago</td>\n",
       "      <td>13</td>\n",
       "    </tr>\n",
       "    <tr>\n",
       "      <th>129</th>\n",
       "      <td>Región Metropolitana de Santiago</td>\n",
       "      <td>13</td>\n",
       "    </tr>\n",
       "    <tr>\n",
       "      <th>...</th>\n",
       "      <td>...</td>\n",
       "      <td>...</td>\n",
       "    </tr>\n",
       "    <tr>\n",
       "      <th>69101</th>\n",
       "      <td>Región de los Lagos</td>\n",
       "      <td>10</td>\n",
       "    </tr>\n",
       "    <tr>\n",
       "      <th>69106</th>\n",
       "      <td>Región del Biobío</td>\n",
       "      <td>8</td>\n",
       "    </tr>\n",
       "    <tr>\n",
       "      <th>69369</th>\n",
       "      <td>Región del Biobío</td>\n",
       "      <td>8</td>\n",
       "    </tr>\n",
       "    <tr>\n",
       "      <th>69520</th>\n",
       "      <td>Región Metropolitana de Santiago</td>\n",
       "      <td>13</td>\n",
       "    </tr>\n",
       "    <tr>\n",
       "      <th>69532</th>\n",
       "      <td>Región Metropolitana de Santiago</td>\n",
       "      <td>13</td>\n",
       "    </tr>\n",
       "  </tbody>\n",
       "</table>\n",
       "<p>3150 rows × 2 columns</p>\n",
       "</div>"
      ],
      "text/plain": [
       "                           buyer_region  numero_region\n",
       "64                Región de Valparaíso               5\n",
       "98     Región Metropolitana de Santiago             13\n",
       "99     Región Metropolitana de Santiago             13\n",
       "100    Región Metropolitana de Santiago             13\n",
       "129    Región Metropolitana de Santiago             13\n",
       "...                                 ...            ...\n",
       "69101              Región de los Lagos              10\n",
       "69106                Región del Biobío               8\n",
       "69369                Región del Biobío               8\n",
       "69520  Región Metropolitana de Santiago             13\n",
       "69532  Región Metropolitana de Santiago             13\n",
       "\n",
       "[3150 rows x 2 columns]"
      ]
     },
     "execution_count": 56,
     "metadata": {},
     "output_type": "execute_result"
    }
   ],
   "source": [
    "df_LQ_2018"
   ]
  },
  {
   "cell_type": "code",
   "execution_count": null,
   "metadata": {},
   "outputs": [],
   "source": [
    "l1_reg_18 = df_L1_2018.groupby(\"numero_region\").count().reset_index()\n",
    "le_reg_18 = df_LE_2018.groupby(\"numero_region\").count().reset_index()\n",
    "lp_reg_18 = df_LP_2018.groupby(\"numero_region\").count().reset_index()\n",
    "lr_reg_18 = df_LR_2018.groupby(\"numero_region\").count().reset_index()\n",
    "lq_reg_18 = df_LQ_2018.groupby(\"numero_region\").count().reset_index()\n",
    "b2_reg_18 = df_B2_2018.groupby(\"numero_region\").count().reset_index()\n",
    "h2_reg_18 = df_H2_2018.groupby(\"numero_region\").count().reset_index()\n",
    "ls_reg_18 = df_LS_2018.groupby(\"numero_region\").count().reset_index()"
   ]
  },
  {
   "cell_type": "code",
   "execution_count": null,
   "metadata": {},
   "outputs": [],
   "source": [
    "L1_2018 = df_regiones.merge(l1_reg_18, right_on=\"numero_region\", left_on=\"codregion\", how=\"left\")\n",
    "# reemplazar NaN por cero en la columna con cantidad.\n",
    "LE_2018 = df_regiones.merge(le_reg_18, right_on=\"numero_region\", left_on=\"codregion\", how=\"left\")\n",
    "LP_2018 = df_regiones.merge(lp_reg_18, right_on=\"numero_region\", left_on=\"codregion\", how=\"left\")\n",
    "LR_2018 = df_regiones.merge(lr_reg_18, right_on=\"numero_region\", left_on=\"codregion\", how=\"left\")\n",
    "LQ_2018 = df_regiones.merge(lq_reg_18, right_on=\"numero_region\", left_on=\"codregion\", how=\"left\")\n",
    "B2_2018 = df_regiones.merge(b2_reg_18, right_on=\"numero_region\", left_on=\"codregion\", how=\"left\")\n",
    "H2_2018 = df_regiones.merge(h2_reg_18, right_on=\"numero_region\", left_on=\"codregion\", how=\"left\")\n",
    "LS_2018 = df_regiones.merge(ls_reg_18, right_on=\"numero_region\", left_on=\"codregion\", how=\"left\")"
   ]
  },
  {
   "cell_type": "code",
   "execution_count": null,
   "metadata": {},
   "outputs": [],
   "source": [
    "L1_2018"
   ]
  },
  {
   "cell_type": "code",
   "execution_count": 59,
   "metadata": {},
   "outputs": [
    {
     "data": {
      "text/plain": [
       "<Axes: >"
      ]
     },
     "execution_count": 59,
     "metadata": {},
     "output_type": "execute_result"
    },
    {
     "data": {
      "image/png": "[encoded data removed]",
      "text/plain": [
       "<Figure size 400x400 with 2 Axes>"
      ]
     },
     "metadata": {},
     "output_type": "display_data"
    },
    {
     "data": {
      "image/png": "[encoded data removed]",
      "text/plain": [
       "<Figure size 400x400 with 2 Axes>"
      ]
     },
     "metadata": {},
     "output_type": "display_data"
    },
    {
     "data": {
      "image/png": "[encoded data removed]",
      "text/plain": [
       "<Figure size 400x400 with 2 Axes>"
      ]
     },
     "metadata": {},
     "output_type": "display_data"
    },
    {
     "data": {
      "image/png": "[encoded data removed]",
      "text/plain": [
       "<Figure size 400x400 with 2 Axes>"
      ]
     },
     "metadata": {},
     "output_type": "display_data"
    },
    {
     "data": {
      "image/png": "[encoded data removed]",
      "text/plain": [
       "<Figure size 400x400 with 2 Axes>"
      ]
     },
     "metadata": {},
     "output_type": "display_data"
    },
    {
     "data": {
      "image/png": "[encoded data removed]",
      "text/plain": [
       "<Figure size 400x400 with 2 Axes>"
      ]
     },
     "metadata": {},
     "output_type": "display_data"
    },
    {
     "data": {
      "image/png": "[encoded data removed]",
      "text/plain": [
       "<Figure size 400x400 with 2 Axes>"
      ]
     },
     "metadata": {},
     "output_type": "display_data"
    },
    {
     "data": {
      "image/png": "[encoded data removed]",
      "text/plain": [
       "<Figure size 400x400 with 2 Axes>"
      ]
     },
     "metadata": {},
     "output_type": "display_data"
    }
   ],
   "source": [
    "\n",
    "L1_2018 = L1_2018.set_index(\"objectid\")\n",
    "L1_2018.plot(figsize=(4,4), column='buyer_region', cmap='Greens', legend=True, legend_kwds={\"label\": \"Cantidad de licitaciones L1\"})\n",
    "LE_2018 = LE_2018.set_index(\"objectid\")\n",
    "LE_2018.plot(figsize=(4,4), column='buyer_region', cmap='Reds', legend=True,legend_kwds={\"label\": \"Cantidad de licitaciones LE\"})\n",
    "LP_2018 = LP_2018.set_index(\"objectid\")\n",
    "LP_2018.plot(figsize=(4,4), column='buyer_region', cmap='Grays', legend=True, legend_kwds={\"label\": \"Cantidad de licitaciones LR\"})\n",
    "LR_2018 = LR_2018.set_index(\"objectid\")\n",
    "LR_2018.plot(figsize=(4,4), column='buyer_region', cmap=\"YlGn\", legend=True, legend_kwds={\"label\": \"Cantidad de licitaciones LR\"})\n",
    "LQ_2018 = LQ_2018.set_index(\"objectid\")\n",
    "LQ_2018.plot(figsize=(4,4), column='buyer_region', cmap='Blues', legend=True, legend_kwds={\"label\": \"Cantidad de licitaciones LQ\"})\n",
    "B2_2018 = B2_2018.set_index(\"objectid\")\n",
    "B2_2018.plot(figsize=(4,4), column='buyer_region', cmap='Oranges', legend=True, legend_kwds={\"label\": \"Cantidad de licitaciones B2\"})\n",
    "H2_2018 = H2_2018.set_index(\"objectid\")\n",
    "H2_2018.plot(figsize=(4,4), column='buyer_region', cmap='Purples', legend=True, legend_kwds={\"label\": \"Cantidad de licitaciones H2\"})\n",
    "LS_2018 = LS_2018.set_index(\"objectid\")\n",
    "LS_2018.plot(figsize=(4,4), column='buyer_region', cmap='YlGn', legend=True, legend_kwds={\"label\": \"Cantidad de licitaciones LS\"})\n"
   ]
  },
  {
   "cell_type": "code",
   "execution_count": null,
   "metadata": {},
   "outputs": [],
   "source": []
  }
 ],
 "metadata": {
  "kernelspec": {
   "display_name": "base",
   "language": "python",
   "name": "python3"
  },
  "language_info": {
   "codemirror_mode": {
    "name": "ipython",
    "version": 3
   },
   "file_extension": ".py",
   "mimetype": "text/x-python",
   "name": "python",
   "nbconvert_exporter": "python",
   "pygments_lexer": "ipython3",
   "version": "3.12.4"
  }
 },
 "nbformat": 4,
 "nbformat_minor": 2
}
